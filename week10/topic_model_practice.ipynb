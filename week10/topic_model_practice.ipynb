{
 "cells": [
  {
   "cell_type": "markdown",
   "metadata": {},
   "source": [
    "## 第十週：主題模型（中文）\n",
    "Last modified: 蔡睿澤（2024/04/23） <br>\n",
    "\n",
    "本週課程為 **主題模型** ，學習如何將文本進行主題模型分析。<br>\n",
    "文件主題模型採用非監督式學習的方式，不事先人為做標籤與註解，訓練的資料是從資料文本得來，讓我們可以規模化給予大量文本，而訓練出主題模型，其中最為知名為LDA模型，也是本次課程主要的教學目標，本 jupyter notebook 是以中文文本為示範。<br>\n",
    "<br>\n",
    "這次課程分為7個部分：\n",
    "1. 介紹使用到的套件 \n",
    "2. 將資料進行前處理 \n",
    "3. lexicon-based 的主題模型\n",
    "4. LDA 主題模型 \n",
    "5. 視覺化主題模型 \n",
    "6. GuidedLDA\n",
    "7. 主題模型的應用"
   ]
  },
  {
   "cell_type": "markdown",
   "metadata": {},
   "source": [
    "## 1. 套件說明\n",
    "本次實作過程中使用到的相關套件，在課堂中我們將會簡單的展示這些套件的使用方式，關於各個套件的進階使用請同學參照其官網的說明。\n",
    "+ gensim: 主題模型函式庫\n",
    "+ pyLDAvis: 互動式LDA視覺化套件"
   ]
  },
  {
   "cell_type": "code",
   "execution_count": 1,
   "metadata": {},
   "outputs": [],
   "source": [
    "import time \n",
    "from functools import reduce\n",
    "from collections import Counter\n",
    "from pprint import pprint\n",
    "\n",
    "import numpy as np\n",
    "import pandas as pd\n",
    "import matplotlib.pyplot as plt\n",
    "import jieba\n",
    "from sklearn.feature_extraction.text import TfidfVectorizer, CountVectorizer\n",
    "from gensim.corpora import Dictionary\n",
    "from gensim.models import LdaModel, CoherenceModel\n",
    "from gensim.models.ldamulticore import LdaMulticore\n",
    "from gensim.matutils import corpus2csc, corpus2dense, Sparse2Corpus\n",
    "\n",
    "import pyLDAvis\n",
    "import pyLDAvis.gensim_models"
   ]
  },
  {
   "cell_type": "code",
   "execution_count": 2,
   "metadata": {},
   "outputs": [],
   "source": [
    "import logging\n",
    "logging.basicConfig(format='%(asctime)s : %(levelname)s : %(message)s', level=logging.INFO)"
   ]
  },
  {
   "cell_type": "code",
   "execution_count": 3,
   "metadata": {},
   "outputs": [],
   "source": [
    "# 設定中文字體\n",
    "plt.rcParams['font.sans-serif']=['Microsoft JhengHei']\n",
    "plt.rcParams['axes.unicode_minus']=False"
   ]
  },
  {
   "cell_type": "markdown",
   "metadata": {},
   "source": [
    "## 2. 資料前處理"
   ]
  },
  {
   "cell_type": "code",
   "execution_count": 4,
   "metadata": {},
   "outputs": [
    {
     "data": {
      "text/html": [
       "<div>\n",
       "<style scoped>\n",
       "    .dataframe tbody tr th:only-of-type {\n",
       "        vertical-align: middle;\n",
       "    }\n",
       "\n",
       "    .dataframe tbody tr th {\n",
       "        vertical-align: top;\n",
       "    }\n",
       "\n",
       "    .dataframe thead th {\n",
       "        text-align: right;\n",
       "    }\n",
       "</style>\n",
       "<table border=\"1\" class=\"dataframe\">\n",
       "  <thead>\n",
       "    <tr style=\"text-align: right;\">\n",
       "      <th></th>\n",
       "      <th>system_id</th>\n",
       "      <th>artCatagory</th>\n",
       "      <th>artTitle</th>\n",
       "      <th>dataSource</th>\n",
       "      <th>artUrl</th>\n",
       "      <th>artDate</th>\n",
       "      <th>artContent</th>\n",
       "    </tr>\n",
       "  </thead>\n",
       "  <tbody>\n",
       "    <tr>\n",
       "      <th>0</th>\n",
       "      <td>1</td>\n",
       "      <td>娛樂</td>\n",
       "      <td>專訪／從月賺3千到60萬！台灣首位千萬YTR奇軒 親曝漲粉秘訣｜東森新聞</td>\n",
       "      <td>EBC</td>\n",
       "      <td>https://news.ebc.net.tw/news/article/412111</td>\n",
       "      <td>2024-04-16 10:11:00</td>\n",
       "      <td>「我曾經每個月只有賺3千元！」YouTuber奇軒（本名吳奇軒）從武打演員到月收入60萬，不...</td>\n",
       "    </tr>\n",
       "    <tr>\n",
       "      <th>1</th>\n",
       "      <td>2</td>\n",
       "      <td>娛樂</td>\n",
       "      <td>韓韶禧驚爆感情爭議「丟2代言」？ 品牌方說話了｜東森新聞</td>\n",
       "      <td>EBC</td>\n",
       "      <td>https://news.ebc.net.tw/news/article/412908</td>\n",
       "      <td>2024-04-01 07:59:00</td>\n",
       "      <td>南韓女星韓韶禧在被拍到與柳俊烈共同到夏威夷旅遊後，火速認愛。不過，男方前女友惠利的一句「真有...</td>\n",
       "    </tr>\n",
       "    <tr>\n",
       "      <th>2</th>\n",
       "      <td>3</td>\n",
       "      <td>娛樂</td>\n",
       "      <td>李天怡抓野生動物當臨演 非洲人都看不下去全說了｜東森新聞</td>\n",
       "      <td>EBC</td>\n",
       "      <td>https://news.ebc.net.tw/news/article/412918</td>\n",
       "      <td>2024-04-01 08:20:00</td>\n",
       "      <td>知名主播李天怡受三立老闆張榮華委託，替頑皮世界動物園赴非洲購買野生動物，卻浮報價格上億元，涉...</td>\n",
       "    </tr>\n",
       "  </tbody>\n",
       "</table>\n",
       "</div>"
      ],
      "text/plain": [
       "   system_id artCatagory                              artTitle dataSource  \\\n",
       "0          1          娛樂  專訪／從月賺3千到60萬！台灣首位千萬YTR奇軒 親曝漲粉秘訣｜東森新聞        EBC   \n",
       "1          2          娛樂          韓韶禧驚爆感情爭議「丟2代言」？ 品牌方說話了｜東森新聞        EBC   \n",
       "2          3          娛樂          李天怡抓野生動物當臨演 非洲人都看不下去全說了｜東森新聞        EBC   \n",
       "\n",
       "                                        artUrl              artDate  \\\n",
       "0  https://news.ebc.net.tw/news/article/412111  2024-04-16 10:11:00   \n",
       "1  https://news.ebc.net.tw/news/article/412908  2024-04-01 07:59:00   \n",
       "2  https://news.ebc.net.tw/news/article/412918  2024-04-01 08:20:00   \n",
       "\n",
       "                                          artContent  \n",
       "0  「我曾經每個月只有賺3千元！」YouTuber奇軒（本名吳奇軒）從武打演員到月收入60萬，不...  \n",
       "1  南韓女星韓韶禧在被拍到與柳俊烈共同到夏威夷旅遊後，火速認愛。不過，男方前女友惠利的一句「真有...  \n",
       "2  知名主播李天怡受三立老闆張榮華委託，替頑皮世界動物園赴非洲購買野生動物，卻浮報價格上億元，涉...  "
      ]
     },
     "execution_count": 4,
     "metadata": {},
     "output_type": "execute_result"
    }
   ],
   "source": [
    "udn = pd.read_csv(\"raw_data/ebc_2024_04.csv\")  # 匯資料\n",
    "udn.head(3)"
   ]
  },
  {
   "cell_type": "code",
   "execution_count": 5,
   "metadata": {},
   "outputs": [
    {
     "data": {
      "text/html": [
       "<div>\n",
       "<style scoped>\n",
       "    .dataframe tbody tr th:only-of-type {\n",
       "        vertical-align: middle;\n",
       "    }\n",
       "\n",
       "    .dataframe tbody tr th {\n",
       "        vertical-align: top;\n",
       "    }\n",
       "\n",
       "    .dataframe thead th {\n",
       "        text-align: right;\n",
       "    }\n",
       "</style>\n",
       "<table border=\"1\" class=\"dataframe\">\n",
       "  <thead>\n",
       "    <tr style=\"text-align: right;\">\n",
       "      <th></th>\n",
       "      <th>content</th>\n",
       "      <th>artUrl</th>\n",
       "      <th>artCatagory</th>\n",
       "      <th>artDate</th>\n",
       "    </tr>\n",
       "  </thead>\n",
       "  <tbody>\n",
       "    <tr>\n",
       "      <th>0</th>\n",
       "      <td>我曾經每個月只有賺千元奇軒本名吳奇軒從武打演員到月收入萬不靠著腥羶色炒話題更成為台灣首位千萬...</td>\n",
       "      <td>https://news.ebc.net.tw/news/article/412111</td>\n",
       "      <td>娛樂</td>\n",
       "      <td>2024-04-16 10:11:00</td>\n",
       "    </tr>\n",
       "    <tr>\n",
       "      <th>1</th>\n",
       "      <td>南韓女星韓韶禧在被拍到與柳俊烈共同到夏威夷旅遊後火速認愛不過男方前女友惠利的一句真有趣卻意外...</td>\n",
       "      <td>https://news.ebc.net.tw/news/article/412908</td>\n",
       "      <td>娛樂</td>\n",
       "      <td>2024-04-01 07:59:00</td>\n",
       "    </tr>\n",
       "    <tr>\n",
       "      <th>2</th>\n",
       "      <td>知名主播李天怡受三立老闆張榮華委託替頑皮世界動物園赴非洲購買野生動物卻浮報價格上億元涉背信罪...</td>\n",
       "      <td>https://news.ebc.net.tw/news/article/412918</td>\n",
       "      <td>娛樂</td>\n",
       "      <td>2024-04-01 08:20:00</td>\n",
       "    </tr>\n",
       "  </tbody>\n",
       "</table>\n",
       "</div>"
      ],
      "text/plain": [
       "                                             content  \\\n",
       "0  我曾經每個月只有賺千元奇軒本名吳奇軒從武打演員到月收入萬不靠著腥羶色炒話題更成為台灣首位千萬...   \n",
       "1  南韓女星韓韶禧在被拍到與柳俊烈共同到夏威夷旅遊後火速認愛不過男方前女友惠利的一句真有趣卻意外...   \n",
       "2  知名主播李天怡受三立老闆張榮華委託替頑皮世界動物園赴非洲購買野生動物卻浮報價格上億元涉背信罪...   \n",
       "\n",
       "                                        artUrl artCatagory  \\\n",
       "0  https://news.ebc.net.tw/news/article/412111          娛樂   \n",
       "1  https://news.ebc.net.tw/news/article/412908          娛樂   \n",
       "2  https://news.ebc.net.tw/news/article/412918          娛樂   \n",
       "\n",
       "               artDate  \n",
       "0  2024-04-16 10:11:00  \n",
       "1  2024-04-01 07:59:00  \n",
       "2  2024-04-01 08:20:00  "
      ]
     },
     "execution_count": 5,
     "metadata": {},
     "output_type": "execute_result"
    }
   ],
   "source": [
    "# 移除網址格式\n",
    "# 只留下中文字\n",
    "udn[\"artContent\"] = udn[\"artContent\"].str.replace(\"(http|https)://.*\", \"\", regex=True)\n",
    "udn[\"artTitle\"] = udn[\"artTitle\"].str.replace(\"(http|https)://.*\", \"\", regex=True)\n",
    "udn[\"artContent\"] = udn[\"artContent\"].str.replace(\"[^\\u4e00-\\u9fa5]+\", \"\", regex=True)\n",
    "udn[\"artTitle\"] = udn[\"artTitle\"].str.replace(\"[^\\u4e00-\\u9fa5]+\", \"\", regex=True)\n",
    "udn['content'] = udn['artContent']\n",
    "\n",
    "\n",
    "udn = udn.loc[:,[\"content\", \"artUrl\", \"artCatagory\", 'artDate']]  # 文章內容 文章連結\n",
    "udn.head(3)"
   ]
  },
  {
   "cell_type": "code",
   "execution_count": 6,
   "metadata": {},
   "outputs": [
    {
     "name": "stderr",
     "output_type": "stream",
     "text": [
      "Building prefix dict from c:\\Nicole\\NSYU\\社群媒體分析\\Practice\\Social-Media-Analysis\\week10\\dict\\dict.txt.big ...\n",
      "2024-05-06 15:03:28,733 : DEBUG : Building prefix dict from c:\\Nicole\\NSYU\\社群媒體分析\\Practice\\Social-Media-Analysis\\week10\\dict\\dict.txt.big ...\n",
      "Loading model from cache C:\\Users\\giyak\\AppData\\Local\\Temp\\jieba.ue82dc224860194dd853ddcbe8365d890.cache\n",
      "2024-05-06 15:03:28,735 : DEBUG : Loading model from cache C:\\Users\\giyak\\AppData\\Local\\Temp\\jieba.ue82dc224860194dd853ddcbe8365d890.cache\n",
      "Loading model cost 0.843 seconds.\n",
      "2024-05-06 15:03:29,577 : DEBUG : Loading model cost 0.843 seconds.\n",
      "Prefix dict has been built successfully.\n",
      "2024-05-06 15:03:29,579 : DEBUG : Prefix dict has been built successfully.\n"
     ]
    },
    {
     "data": {
      "text/html": [
       "<div>\n",
       "<style scoped>\n",
       "    .dataframe tbody tr th:only-of-type {\n",
       "        vertical-align: middle;\n",
       "    }\n",
       "\n",
       "    .dataframe tbody tr th {\n",
       "        vertical-align: top;\n",
       "    }\n",
       "\n",
       "    .dataframe thead th {\n",
       "        text-align: right;\n",
       "    }\n",
       "</style>\n",
       "<table border=\"1\" class=\"dataframe\">\n",
       "  <thead>\n",
       "    <tr style=\"text-align: right;\">\n",
       "      <th></th>\n",
       "      <th>content</th>\n",
       "      <th>artUrl</th>\n",
       "      <th>artCatagory</th>\n",
       "      <th>artDate</th>\n",
       "      <th>words</th>\n",
       "    </tr>\n",
       "  </thead>\n",
       "  <tbody>\n",
       "    <tr>\n",
       "      <th>0</th>\n",
       "      <td>我曾經每個月只有賺千元奇軒本名吳奇軒從武打演員到月收入萬不靠著腥羶色炒話題更成為台灣首位千萬...</td>\n",
       "      <td>https://news.ebc.net.tw/news/article/412111</td>\n",
       "      <td>娛樂</td>\n",
       "      <td>2024-04-16 10:11:00</td>\n",
       "      <td>[曾經, 每個, 千元, 奇軒, 本名, 吳奇軒, 武打, 演員, 收入, 不靠, 腥羶, ...</td>\n",
       "    </tr>\n",
       "    <tr>\n",
       "      <th>1</th>\n",
       "      <td>南韓女星韓韶禧在被拍到與柳俊烈共同到夏威夷旅遊後火速認愛不過男方前女友惠利的一句真有趣卻意外...</td>\n",
       "      <td>https://news.ebc.net.tw/news/article/412908</td>\n",
       "      <td>娛樂</td>\n",
       "      <td>2024-04-01 07:59:00</td>\n",
       "      <td>[韓女星, 韓韶禧, 柳俊烈, 共同, 夏威夷, 旅遊, 火速, 認愛, 男方, 前女友, ...</td>\n",
       "    </tr>\n",
       "    <tr>\n",
       "      <th>2</th>\n",
       "      <td>知名主播李天怡受三立老闆張榮華委託替頑皮世界動物園赴非洲購買野生動物卻浮報價格上億元涉背信罪...</td>\n",
       "      <td>https://news.ebc.net.tw/news/article/412918</td>\n",
       "      <td>娛樂</td>\n",
       "      <td>2024-04-01 08:20:00</td>\n",
       "      <td>[知名, 主播, 李天怡, 受三立, 老闆, 榮華, 委託, 頑皮, 世界, 動物園, 非洲...</td>\n",
       "    </tr>\n",
       "    <tr>\n",
       "      <th>3</th>\n",
       "      <td>在大稻埕的預約制咖啡廳品嘗冰拿鐵知名日本藝術家村上隆引起現場一陣歡笑聲他表示好久沒有來台灣放...</td>\n",
       "      <td>https://news.ebc.net.tw/news/article/412950</td>\n",
       "      <td>娛樂</td>\n",
       "      <td>2024-04-01 10:43:00</td>\n",
       "      <td>[大稻, 預約, 咖啡廳, 品嘗冰, 知名, 日本, 藝術家, 村上, 引起, 現場, 一陣...</td>\n",
       "    </tr>\n",
       "    <tr>\n",
       "      <th>4</th>\n",
       "      <td>韓國人氣女團日前傳出在台灣進行秘密拍攝行程遭附近網友目擊後消息隨即在網路上傳開甚至連五月天阿...</td>\n",
       "      <td>https://news.ebc.net.tw/news/article/412951</td>\n",
       "      <td>娛樂</td>\n",
       "      <td>2024-04-01 10:51:00</td>\n",
       "      <td>[韓國, 人氣, 女團, 日前, 傳出, 台灣, 進行, 秘密, 拍攝, 行程, 附近, 網...</td>\n",
       "    </tr>\n",
       "  </tbody>\n",
       "</table>\n",
       "</div>"
      ],
      "text/plain": [
       "                                             content  \\\n",
       "0  我曾經每個月只有賺千元奇軒本名吳奇軒從武打演員到月收入萬不靠著腥羶色炒話題更成為台灣首位千萬...   \n",
       "1  南韓女星韓韶禧在被拍到與柳俊烈共同到夏威夷旅遊後火速認愛不過男方前女友惠利的一句真有趣卻意外...   \n",
       "2  知名主播李天怡受三立老闆張榮華委託替頑皮世界動物園赴非洲購買野生動物卻浮報價格上億元涉背信罪...   \n",
       "3  在大稻埕的預約制咖啡廳品嘗冰拿鐵知名日本藝術家村上隆引起現場一陣歡笑聲他表示好久沒有來台灣放...   \n",
       "4  韓國人氣女團日前傳出在台灣進行秘密拍攝行程遭附近網友目擊後消息隨即在網路上傳開甚至連五月天阿...   \n",
       "\n",
       "                                        artUrl artCatagory  \\\n",
       "0  https://news.ebc.net.tw/news/article/412111          娛樂   \n",
       "1  https://news.ebc.net.tw/news/article/412908          娛樂   \n",
       "2  https://news.ebc.net.tw/news/article/412918          娛樂   \n",
       "3  https://news.ebc.net.tw/news/article/412950          娛樂   \n",
       "4  https://news.ebc.net.tw/news/article/412951          娛樂   \n",
       "\n",
       "               artDate                                              words  \n",
       "0  2024-04-16 10:11:00  [曾經, 每個, 千元, 奇軒, 本名, 吳奇軒, 武打, 演員, 收入, 不靠, 腥羶, ...  \n",
       "1  2024-04-01 07:59:00  [韓女星, 韓韶禧, 柳俊烈, 共同, 夏威夷, 旅遊, 火速, 認愛, 男方, 前女友, ...  \n",
       "2  2024-04-01 08:20:00  [知名, 主播, 李天怡, 受三立, 老闆, 榮華, 委託, 頑皮, 世界, 動物園, 非洲...  \n",
       "3  2024-04-01 10:43:00  [大稻, 預約, 咖啡廳, 品嘗冰, 知名, 日本, 藝術家, 村上, 引起, 現場, 一陣...  \n",
       "4  2024-04-01 10:51:00  [韓國, 人氣, 女團, 日前, 傳出, 台灣, 進行, 秘密, 拍攝, 行程, 附近, 網...  "
      ]
     },
     "execution_count": 6,
     "metadata": {},
     "output_type": "execute_result"
    }
   ],
   "source": [
    "# 設定繁體中文詞庫\n",
    "jieba.set_dictionary(\"./dict/dict.txt.big\")\n",
    "\n",
    "# 新增stopwords\n",
    "# jieba.analyse.set_stop_words('./dict/stop_words.txt') #jieba.analyse.extract_tags才會作用\n",
    "with open(\"./dict/stop_words.txt\", encoding=\"utf-8\") as f:\n",
    "    stopWords = [line.strip() for line in f.readlines()]\n",
    "\n",
    "# 設定斷詞 function\n",
    "def getToken(row):\n",
    "    seg_list = jieba.cut(row, cut_all=False)\n",
    "    seg_list = [\n",
    "        w for w in seg_list if w not in stopWords and len(w) > 1\n",
    "    ]  # 篩選掉停用字與字元數大於1的詞彙\n",
    "    return seg_list\n",
    "\n",
    "udn[\"words\"] = udn[\"content\"].apply(getToken)\n",
    "udn.head()"
   ]
  },
  {
   "cell_type": "markdown",
   "metadata": {},
   "source": [
    "## 3. Lexicon-based / 人工給定主題的主題模型"
   ]
  },
  {
   "cell_type": "code",
   "execution_count": 7,
   "metadata": {},
   "outputs": [
    {
     "data": {
      "text/plain": [
       "array(['娛樂', '體育', '國際', '政治'], dtype=object)"
      ]
     },
     "execution_count": 7,
     "metadata": {},
     "output_type": "execute_result"
    }
   ],
   "source": [
    "udn['artCatagory'].unique()"
   ]
  },
  {
   "cell_type": "code",
   "execution_count": 8,
   "metadata": {},
   "outputs": [
    {
     "data": {
      "text/plain": [
       "Index(['大谷', '奧運', '道奇', '東森', '洋片', '聯盟', '水原', '直播', '時刻表', '今天', '比賽', '掌握',\n",
       "       '看東森', '李智凱', '翔平', '最新', '台灣', '表示', '全壘打', '美國', '投手', '已經', '賽事',\n",
       "       '教練', '最後', '職棒', '巴黎', '選手', '球員', '球迷', '日本', '球隊', '巨蛋', '棒球', '生涯',\n",
       "       '球團', '體操', '今年', '教士', '主播', '球星', '轉播', '公斤', '球場', '紀錄', '這場', '洛杉磯',\n",
       "       '進行', '這是', '一平', '本季', '獲得', '今日', '報導', '台北', '世界盃', '門票', '去年', '體育',\n",
       "       '攻城', '精彩', '時間', '現在', '最終', '擔任', '媒體', '檢方', '資格', '金牌', '指出', '亞運',\n",
       "       '宣布', '擊出', '動作', '真的', '希望', '投球', '機會', '中信', '二壘', '公司', '持續', '目前',\n",
       "       '松井', '東京', '強調', '銀牌', '支持', '戰神', '拿到', '這次', '認為', '先發', '敲出', '努力',\n",
       "       '無法', '運動', '燃燒', '確定', '鞍馬'],\n",
       "      dtype='object')"
      ]
     },
     "execution_count": 8,
     "metadata": {},
     "output_type": "execute_result"
    }
   ],
   "source": [
    "## 定義主題-體育\n",
    "sport_cnt = udn.loc[udn['artCatagory'] == '體育',:]['words'].explode().value_counts().head(100)\n",
    "sport_cnt.index"
   ]
  },
  {
   "cell_type": "code",
   "execution_count": 9,
   "metadata": {},
   "outputs": [
    {
     "name": "stdout",
     "output_type": "stream",
     "text": [
      "('黃子佼 表示 網友 粉絲 台灣 真的 藝人 未成年 影片 知道 發文 希望 節目 許多 現在 已經 看到 覺得 兩人 統神 透露 當時 認為 一起 '\n",
      " '演藝圈 媽媽 對此 少女 留言 工作 拍攝 發現 一直 直播 小姐 事情 去年 今日 臉書 公司 道歉 最後 報導 事件 分享 朋友 時間 照片 回應 '\n",
      " '吳卓源 山豬 女兒 發生 近日 沒想到 偷拍 這次 影像 相當 曝光 台北 紛紛 風波 過去 爆料 消息 網紅 成為 對方 日本 朱軒洋 之後 發聲 '\n",
      " '社群 今天 受害者 演唱會 應該 現場 活動 合作 性侵 購買 行為 演員 新聞 廣告 媒體 透過 無法 孟耿如 日前 繼續 演出 宣布 持有 感到 '\n",
      " '老婆 歌手 面對 身體 嚴重 起訴 明志 音樂 公開 生活 離開 關注 感情 提到 週刊 喜歡 爆出 引發 不斷 指出 目前 引起 要求 支持 強調 '\n",
      " '是否 完全 直接 貼文 歌迷 參加 女星 一下 告別式 男友 傳出 孫藝珍 社會 外界 決定 需要 問題 結婚 關係 交往 坦言 針對 美國 更是 '\n",
      " '張小燕 地震 韓國 香港 昨日 離婚 一定 機會 舉辦 接受 家人 有人 近期 內容 世界 準備 感覺 主持人 指控 兒少 再度 德州 經紀 似乎 中國 '\n",
      " '擁有 突然 出現 律師 合照 一名 寫下 獲得 所有 未來 進行 表演 結束 知名 疑似 好友 心情 擔心 一次 謝謝 成員 老公 想要 期待 討論 '\n",
      " '啦啦隊 分手 相關 女性')\n"
     ]
    }
   ],
   "source": [
    "## 定義主題-娛樂\n",
    "entertain_cnt = udn.loc[udn['artCatagory'] == '娛樂',:]['words'].explode().value_counts().head(200)\n",
    "pprint(\" \".join(entertain_cnt.index))"
   ]
  },
  {
   "cell_type": "code",
   "execution_count": 12,
   "metadata": {},
   "outputs": [
    {
     "name": "stdout",
     "output_type": "stream",
     "text": [
      "('美國 表示 台灣 發生 以色列 日本 伊朗 報導 中國 已經 民眾 地震 一名 當地 大陸 目前 進行 指出 出現 發現 全球 男子 警方 攻擊 時間 '\n",
      " '公司 總統 造成 事件 超過 網友 台幣 員工 女子 拜登 影響 調查 安全 國家 無人機 飛彈 導致 地區 看到 認為 當時 工作 包括 這是 現場 '\n",
      " '死亡 媒體 行為 宣布 有人 問題 今天 傳出 影片 引發 持續 正在 提供 軍事 一起 政府 受到 現在 遊客 國際 這起 這次 規模 裁員 畫面 '\n",
      " '不斷 透露 新聞 行動 情況 當局 孩子 最大 萬元 希望 過去 相關 澳洲 直接 原因 加州 小時 透過 發布 直升機 今年 許多 嚴重 真的 英國 '\n",
      " '經濟 法案 支持 人員 黃金 沒想到 去年 感到 遭到 意外 醫院 最後 特斯拉 億美元 強調 人民幣 消息 成為 合作 印度 總理 知道 未來 重要 '\n",
      " '附近 對此 位於 來自 主要 相當 之後 發射 無法 針對 接受 這名 學生 決定 機場 顯示 至少 晚間 官員 世界 部分 警報 要求 丈夫 對方 '\n",
      " '暴雨 近日 平台 準備 關係 居民 了解 以來 海上 突然 南海 公尺 進入 南韓 受傷 戰爭 杜拜 海嘯 參與 日圓 威脅 緊急 襲擊 表達 左右 '\n",
      " '使用 告訴 航班 應該 活動 俄羅斯 發動 穩定 危險 面臨 疑似 台海 今日 服務 兒子 巴勒斯坦 公里 外媒 餐廳 證實 所有 網路 協助 洪水 '\n",
      " '綜合 擁有')\n"
     ]
    }
   ],
   "source": [
    "## 定義主題-國際\n",
    "global_cnt = udn.loc[udn['artCatagory'] == '國際',:]['words'].explode().value_counts().head(200)\n",
    "pprint(\" \".join(global_cnt.index))"
   ]
  },
  {
   "cell_type": "code",
   "execution_count": 13,
   "metadata": {},
   "outputs": [
    {
     "name": "stdout",
     "output_type": "stream",
     "text": [
      "('立委 徐巧 國民黨 表示 市長 總統 民進黨 大姑 主委 賴清德 萬安 議員 部長 花蓮 台灣 民眾 台北 兩岸 家暴 卓榮泰 行政院 馬英九 問題 '\n",
      " '今天 目前 希望 人事 政府 未來 應該 內閣 強調 秘書長 已經 相關 出任 對此 地震 政治 今日 院長 國家 主席 發生 指出 現在 公布 媒體 '\n",
      " '真的 中國 詐騙 外界 行政院長 進行 時間 老公 認為 協助 接任 質疑 新北 擔任 針對 是否 工作 名單 台北市 接受 傳出 事情 國徐巧 藍營 '\n",
      " '公司 過去 能夠 知道 團隊 覺得 洗錢 中心 部分 綠營 溫朗東 需要 造成 事件 人員 調查 黃子佼 報導 持續 地方 劉世芳 安全 了解 社會 '\n",
      " '鄭麗君 案件 表決 發言人 人士 爭議 英文 劉彥 去年 習近平 繼續 提出 柯文 關係 討論 家人 宣布 面對 萬元 包含 提供 疑似 關注 選舉 '\n",
      " '臉書 一起 最後 和平 上午 國防部長 清德 環境 合作 之後 發現 文化部長 強震 國安會 大陸 提到 步槍 一定 記者 看到 兒子 中央 這次 '\n",
      " '總統府 清楚 韓國 外交部 透露 夫妻 行為 立法院 過程 高雄 國防部 第一 美國 大樓 下午 捷克 通報 無法 再度 爆料 應變 青年 活動 所有 '\n",
      " '發展 蕭美琴 報告 共同 透過 救災 政策 先生 規劃 呼籲 市府 家長 重要 委員 委員會 回應 曝光 顧立雄 風波 捲入 不斷 推動 成為 勞動 '\n",
      " '完全 涉入 舉辦 當時 包括 國安 災情 捐款 人選')\n"
     ]
    }
   ],
   "source": [
    "## 定義主題-政治\n",
    "politice_cnt = udn.loc[udn['artCatagory'] == '政治',:]['words'].explode().value_counts().head(200)\n",
    "pprint(\" \".join(politice_cnt.index))"
   ]
  },
  {
   "cell_type": "code",
   "execution_count": 14,
   "metadata": {},
   "outputs": [],
   "source": [
    "custom_topic_word = {\n",
    "    \"體育\": [\n",
    "        \"棒球\",\n",
    "        \"職棒\",\n",
    "        \"比賽\",\n",
    "        \"賽事\",\n",
    "        \"球員\",\n",
    "        \"預賽\",\n",
    "        \"投手\",\n",
    "        \"戰績\",\n",
    "        \"球隊\",\n",
    "        \"賽程\",\n",
    "        \"球迷\",\n",
    "        \"選手\",\n",
    "        \"大聯盟\",\n",
    "        \"春訓\",\n",
    "        \"分組\",\n",
    "        \"先發\",\n",
    "        \"比分\",\n",
    "        \"安打\",\n",
    "        \"大谷\",\n",
    "        \"大谷翔平\",\n",
    "        \"聯盟\",\n",
    "        \"冠軍\",\n",
    "        \"打擊\",\n",
    "        \"球團\",\n",
    "        \"籃球\",\n",
    "        \"NBA\",\n",
    "        \"勇士\",\n",
    "        \"主場\",\n",
    "        \"運動\",\n",
    "        \"熱身賽\",\n",
    "        \"籃板\", \n",
    "        \"奧運\",\n",
    "        \"三分球\",\n",
    "        \"籃板\",\n",
    "        \"助攻\",\n",
    "        \"得分\",\n",
    "        \"大三元\",\n",
    "        \"總教練\",\n",
    "        \"本季\",\n",
    "        \"球星\",\n",
    "    ],\n",
    "    \"娛樂\": [\n",
    "        \"黃子佼\",\n",
    "        \"演藝圈\",\n",
    "        \"朱軒洋\",\n",
    "        \"張小燕\",\n",
    "        \"藝人\",\n",
    "        \"粉絲\",\n",
    "        \"網友\",\n",
    "        \"統神\",\n",
    "        \"表演\",\n",
    "        \"知名\",\n",
    "        \"明志\",\n",
    "        \"音樂\",\n",
    "        \"孫藝珍\",\n",
    "        \"女性\",\n",
    "        \"山豬\",\n",
    "        \"吳卓源\",\n",
    "        \"孟耿如\",\n",
    "        \"主持人\",\n",
    "        \"演員\",\n",
    "        \"媒體\",\n",
    "        \"新聞媒體\",\n",
    "        \"網紅\",\n",
    "        \"社群\",\n",
    "        \"演出\",\n",
    "        \"活動\",\n",
    "    ],\n",
    "    \"政治\": [\n",
    "        \"立委\",\n",
    "        \"國民黨\",\n",
    "        \"民進黨\",\n",
    "        \"習近平\",\n",
    "        \"柯文哲\",\n",
    "        \"徐巧芯\",\n",
    "        \"蕭美琴\",\n",
    "        \"賴清德\",\n",
    "        \"總統\",\n",
    "        \"副總統\",\n",
    "        \"總統府\",\n",
    "        \"行政院\",\n",
    "        \"院長\",\n",
    "        \"立法院\",\n",
    "        \"韓國瑜\",\n",
    "        \"市府\",\n",
    "        \"政府\",\n",
    "        \"藍營\",\n",
    "        \"綠營\",\n",
    "        \"鄭麗君\",\n",
    "        \"發言人\",\n",
    "        \"國安會\",\n",
    "        \"委員會\",\n",
    "        \"馬英九\",\n",
    "        \"國防部\",\n",
    "        \"大陸\",\n",
    "        \"卓榮泰\",\n",
    "        \"蔡英文\",\n",
    "        \"政治\",\n",
    "        \"中國\",\n",
    "        \"國家\",\n",
    "        \"內閣\",\n",
    "        \"洗錢\",\n",
    "        \"外交部\",\n",
    "        \"外交\",\n",
    "        \"台海\",\n",
    "    ],\n",
    "    \"國際\": [\n",
    "        \"美國\",\n",
    "        \"香港\",\n",
    "        \"國際\",\n",
    "        \"俄羅斯\",\n",
    "        \"全球\",\n",
    "        \"世界\",\n",
    "        \"戰略\",\n",
    "        \"日本\",\n",
    "        \"攻擊\",\n",
    "        \"日圓\",\n",
    "        \"威脅\",\n",
    "        \"航班\",\n",
    "        \"台海\",\n",
    "    ],\n",
    "}"
   ]
  },
  {
   "cell_type": "code",
   "execution_count": 15,
   "metadata": {},
   "outputs": [],
   "source": [
    "vocabularies = np.unique(reduce(lambda x, y: x + y, custom_topic_word.values()))"
   ]
  },
  {
   "cell_type": "code",
   "execution_count": 16,
   "metadata": {},
   "outputs": [
    {
     "data": {
      "text/plain": [
       "array(['NBA', '三分球', '世界', '中國', '主場', '主持人', '俄羅斯', '先發', '內閣', '全球',\n",
       "       '冠軍', '分組', '副總統', '助攻', '勇士', '卓榮泰', '台海', '吳卓源', '國安會', '國家',\n",
       "       '國民黨', '國防部', '國際', '外交', '外交部', '大三元', '大聯盟', '大谷', '大谷翔平', '大陸',\n",
       "       '奧運', '女性', '委員會', '威脅', '媒體', '孟耿如', '孫藝珍', '安打', '山豬', '市府',\n",
       "       '張小燕', '徐巧芯', '得分', '戰略', '戰績', '打擊', '投手', '攻擊', '政府', '政治',\n",
       "       '新聞媒體', '日圓', '日本', '明志', '春訓', '本季', '朱軒洋', '柯文哲', '棒球', '比分',\n",
       "       '比賽', '民進黨', '洗錢', '活動', '演出', '演員', '演藝圈', '熱身賽', '球員', '球團',\n",
       "       '球星', '球迷', '球隊', '發言人', '知名', '社群', '立委', '立法院', '籃板', '籃球', '粉絲',\n",
       "       '統神', '綠營', '網友', '網紅', '總教練', '總統', '總統府', '美國', '習近平', '聯盟',\n",
       "       '職棒', '航班', '蔡英文', '蕭美琴', '藍營', '藝人', '行政院', '表演', '賴清德', '賽事',\n",
       "       '賽程', '運動', '選手', '鄭麗君', '院長', '韓國瑜', '音樂', '預賽', '香港', '馬英九',\n",
       "       '黃子佼'], dtype='<U4')"
      ]
     },
     "execution_count": 16,
     "metadata": {},
     "output_type": "execute_result"
    }
   ],
   "source": [
    "vocabularies"
   ]
  },
  {
   "cell_type": "markdown",
   "metadata": {},
   "source": [
    "利用 CountVectorizer 的 vocabulary 參數來篩選、製作 DTM"
   ]
  },
  {
   "cell_type": "code",
   "execution_count": 17,
   "metadata": {},
   "outputs": [
    {
     "name": "stderr",
     "output_type": "stream",
     "text": [
      "c:\\Nicole\\Python\\Python37\\lib\\site-packages\\sklearn\\feature_extraction\\text.py:1323: UserWarning: Upper case characters found in vocabulary while 'lowercase' is True. These entries will not be matched with any documents\n",
      "  \"Upper case characters found in\"\n"
     ]
    }
   ],
   "source": [
    "udn_corpus = udn['words'].map(\" \".join)\n",
    "vectorizer = CountVectorizer(vocabulary=vocabularies)\n",
    "udn_matrix = vectorizer.fit_transform(udn_corpus)\n",
    "\n",
    "udn_matrix = udn_matrix.toarray()\n",
    "feature_names = vectorizer.get_feature_names_out()"
   ]
  },
  {
   "cell_type": "code",
   "execution_count": 18,
   "metadata": {},
   "outputs": [
    {
     "data": {
      "text/plain": [
       "(1134, 112)"
      ]
     },
     "execution_count": 18,
     "metadata": {},
     "output_type": "execute_result"
    }
   ],
   "source": [
    "udn_matrix.shape"
   ]
  },
  {
   "cell_type": "code",
   "execution_count": 19,
   "metadata": {},
   "outputs": [
    {
     "data": {
      "text/html": [
       "<div>\n",
       "<style scoped>\n",
       "    .dataframe tbody tr th:only-of-type {\n",
       "        vertical-align: middle;\n",
       "    }\n",
       "\n",
       "    .dataframe tbody tr th {\n",
       "        vertical-align: top;\n",
       "    }\n",
       "\n",
       "    .dataframe thead th {\n",
       "        text-align: right;\n",
       "    }\n",
       "</style>\n",
       "<table border=\"1\" class=\"dataframe\">\n",
       "  <thead>\n",
       "    <tr style=\"text-align: right;\">\n",
       "      <th></th>\n",
       "      <th>topic_體育</th>\n",
       "      <th>topic_娛樂</th>\n",
       "      <th>topic_政治</th>\n",
       "      <th>topic_國際</th>\n",
       "    </tr>\n",
       "  </thead>\n",
       "  <tbody>\n",
       "    <tr>\n",
       "      <th>0</th>\n",
       "      <td>1</td>\n",
       "      <td>15</td>\n",
       "      <td>1</td>\n",
       "      <td>3</td>\n",
       "    </tr>\n",
       "    <tr>\n",
       "      <th>1</th>\n",
       "      <td>0</td>\n",
       "      <td>1</td>\n",
       "      <td>0</td>\n",
       "      <td>0</td>\n",
       "    </tr>\n",
       "    <tr>\n",
       "      <th>2</th>\n",
       "      <td>0</td>\n",
       "      <td>1</td>\n",
       "      <td>0</td>\n",
       "      <td>5</td>\n",
       "    </tr>\n",
       "    <tr>\n",
       "      <th>3</th>\n",
       "      <td>0</td>\n",
       "      <td>4</td>\n",
       "      <td>0</td>\n",
       "      <td>1</td>\n",
       "    </tr>\n",
       "    <tr>\n",
       "      <th>4</th>\n",
       "      <td>0</td>\n",
       "      <td>18</td>\n",
       "      <td>0</td>\n",
       "      <td>0</td>\n",
       "    </tr>\n",
       "    <tr>\n",
       "      <th>...</th>\n",
       "      <td>...</td>\n",
       "      <td>...</td>\n",
       "      <td>...</td>\n",
       "      <td>...</td>\n",
       "    </tr>\n",
       "    <tr>\n",
       "      <th>1129</th>\n",
       "      <td>1</td>\n",
       "      <td>1</td>\n",
       "      <td>48</td>\n",
       "      <td>0</td>\n",
       "    </tr>\n",
       "    <tr>\n",
       "      <th>1130</th>\n",
       "      <td>0</td>\n",
       "      <td>1</td>\n",
       "      <td>9</td>\n",
       "      <td>0</td>\n",
       "    </tr>\n",
       "    <tr>\n",
       "      <th>1131</th>\n",
       "      <td>0</td>\n",
       "      <td>0</td>\n",
       "      <td>28</td>\n",
       "      <td>0</td>\n",
       "    </tr>\n",
       "    <tr>\n",
       "      <th>1132</th>\n",
       "      <td>0</td>\n",
       "      <td>1</td>\n",
       "      <td>12</td>\n",
       "      <td>2</td>\n",
       "    </tr>\n",
       "    <tr>\n",
       "      <th>1133</th>\n",
       "      <td>0</td>\n",
       "      <td>0</td>\n",
       "      <td>2</td>\n",
       "      <td>0</td>\n",
       "    </tr>\n",
       "  </tbody>\n",
       "</table>\n",
       "<p>1134 rows × 4 columns</p>\n",
       "</div>"
      ],
      "text/plain": [
       "      topic_體育  topic_娛樂  topic_政治  topic_國際\n",
       "0            1        15         1         3\n",
       "1            0         1         0         0\n",
       "2            0         1         0         5\n",
       "3            0         4         0         1\n",
       "4            0        18         0         0\n",
       "...        ...       ...       ...       ...\n",
       "1129         1         1        48         0\n",
       "1130         0         1         9         0\n",
       "1131         0         0        28         0\n",
       "1132         0         1        12         2\n",
       "1133         0         0         2         0\n",
       "\n",
       "[1134 rows x 4 columns]"
      ]
     },
     "execution_count": 19,
     "metadata": {},
     "output_type": "execute_result"
    }
   ],
   "source": [
    "df_count = pd.DataFrame({})\n",
    "\n",
    "for k, v in custom_topic_word.items():\n",
    "    idx = np.isin(\n",
    "        feature_names,\n",
    "        v\n",
    "    )\n",
    "    df_count[f'topic_{k}'] = udn_matrix[:, idx].sum(axis=1)\n",
    "    \n",
    "df_count\n",
    "# 每篇文章中，在不同主題中出現相對的多少個詞 (e.g 第0篇文章中，出現運動主題有關的詞有19個，跟產業有關的有1個)"
   ]
  },
  {
   "cell_type": "code",
   "execution_count": 20,
   "metadata": {},
   "outputs": [
    {
     "data": {
      "text/html": [
       "<div>\n",
       "<style scoped>\n",
       "    .dataframe tbody tr th:only-of-type {\n",
       "        vertical-align: middle;\n",
       "    }\n",
       "\n",
       "    .dataframe tbody tr th {\n",
       "        vertical-align: top;\n",
       "    }\n",
       "\n",
       "    .dataframe thead th {\n",
       "        text-align: right;\n",
       "    }\n",
       "</style>\n",
       "<table border=\"1\" class=\"dataframe\">\n",
       "  <thead>\n",
       "    <tr style=\"text-align: right;\">\n",
       "      <th></th>\n",
       "      <th>topic_體育</th>\n",
       "      <th>topic_娛樂</th>\n",
       "      <th>topic_政治</th>\n",
       "      <th>topic_國際</th>\n",
       "    </tr>\n",
       "  </thead>\n",
       "  <tbody>\n",
       "    <tr>\n",
       "      <th>0</th>\n",
       "      <td>0.05</td>\n",
       "      <td>0.750000</td>\n",
       "      <td>0.05</td>\n",
       "      <td>0.150000</td>\n",
       "    </tr>\n",
       "    <tr>\n",
       "      <th>1</th>\n",
       "      <td>0.00</td>\n",
       "      <td>1.000000</td>\n",
       "      <td>0.00</td>\n",
       "      <td>0.000000</td>\n",
       "    </tr>\n",
       "    <tr>\n",
       "      <th>2</th>\n",
       "      <td>0.00</td>\n",
       "      <td>0.166667</td>\n",
       "      <td>0.00</td>\n",
       "      <td>0.833333</td>\n",
       "    </tr>\n",
       "    <tr>\n",
       "      <th>3</th>\n",
       "      <td>0.00</td>\n",
       "      <td>0.800000</td>\n",
       "      <td>0.00</td>\n",
       "      <td>0.200000</td>\n",
       "    </tr>\n",
       "    <tr>\n",
       "      <th>4</th>\n",
       "      <td>0.00</td>\n",
       "      <td>1.000000</td>\n",
       "      <td>0.00</td>\n",
       "      <td>0.000000</td>\n",
       "    </tr>\n",
       "  </tbody>\n",
       "</table>\n",
       "</div>"
      ],
      "text/plain": [
       "   topic_體育  topic_娛樂  topic_政治  topic_國際\n",
       "0      0.05  0.750000      0.05  0.150000\n",
       "1      0.00  1.000000      0.00  0.000000\n",
       "2      0.00  0.166667      0.00  0.833333\n",
       "3      0.00  0.800000      0.00  0.200000\n",
       "4      0.00  1.000000      0.00  0.000000"
      ]
     },
     "execution_count": 20,
     "metadata": {},
     "output_type": "execute_result"
    }
   ],
   "source": [
    "thetas = df_count.div(\n",
    "    df_count.sum(axis=1),\n",
    "    axis=0\n",
    ")\n",
    "thetas.head()"
   ]
  },
  {
   "cell_type": "markdown",
   "metadata": {},
   "source": [
    "## 4. LDA 主題模型\n",
    "Latent Dirichlet allocation 簡稱 LDA，是一種主題模型，他可以將資料集中每篇文檔的主題按照機率分佈，他是無監督學習法，訓練時不需要手動標註，只需要給文檔集、主題數，也可以根據一些參數(alpha、Beta)來改變模型訓練的結果，以下使用 gensim 套件來示範如何訓練 LDA 模型。"
   ]
  },
  {
   "cell_type": "markdown",
   "metadata": {},
   "source": [
    "簡單的範例說明 `gensim` bag of word 的方式"
   ]
  },
  {
   "cell_type": "markdown",
   "metadata": {},
   "source": [
    "**4.1 正式處理新聞**"
   ]
  },
  {
   "cell_type": "code",
   "execution_count": 25,
   "metadata": {},
   "outputs": [
    {
     "data": {
      "text/plain": [
       "['曾經',\n",
       " '每個',\n",
       " '千元',\n",
       " '奇軒',\n",
       " '本名',\n",
       " '吳奇軒',\n",
       " '武打',\n",
       " '演員',\n",
       " '收入',\n",
       " '不靠',\n",
       " '腥羶',\n",
       " '話題',\n",
       " '更成',\n",
       " '台灣',\n",
       " '首位',\n",
       " '訂閱',\n",
       " '爆漲',\n",
       " '粉絲',\n",
       " '一夕',\n",
       " '爆紅',\n",
       " '遇上',\n",
       " '粉絲',\n",
       " '爭議',\n",
       " '奇軒',\n",
       " '崩潰',\n",
       " '大呼',\n",
       " '像是',\n",
       " '地獄',\n",
       " '接受',\n",
       " '東森',\n",
       " '新聞',\n",
       " '專訪',\n",
       " '火辣',\n",
       " '回擊',\n",
       " '首度',\n",
       " '曝光',\n",
       " '邁向',\n",
       " '訂閱',\n",
       " '原因',\n",
       " '奇軒',\n",
       " '學武',\n",
       " '起源於',\n",
       " '小時候',\n",
       " '愛看',\n",
       " '武打片',\n",
       " '看到',\n",
       " '成龍',\n",
       " '覺得',\n",
       " '武術',\n",
       " '好帥',\n",
       " '奇軒',\n",
       " '提到',\n",
       " '中時',\n",
       " '報名',\n",
       " '學校',\n",
       " '武術',\n",
       " '社團',\n",
       " '打工',\n",
       " '盤子',\n",
       " '存錢',\n",
       " '學費',\n",
       " '變得',\n",
       " '更強',\n",
       " '奇軒',\n",
       " '吃飯',\n",
       " '以外',\n",
       " '練習',\n",
       " '武術',\n",
       " '練就',\n",
       " '半夜',\n",
       " '永遠',\n",
       " '最早',\n",
       " '最晚',\n",
       " '本著成',\n",
       " '武打',\n",
       " '明星',\n",
       " '初衷',\n",
       " '奇軒',\n",
       " '先是',\n",
       " '擔任',\n",
       " '動作片',\n",
       " '特技',\n",
       " '演員',\n",
       " '參演',\n",
       " '領著',\n",
       " '千元',\n",
       " '薪水',\n",
       " '危險',\n",
       " '工作',\n",
       " '跳海',\n",
       " '跳樓',\n",
       " '被車撞',\n",
       " '火燒',\n",
       " '奇軒',\n",
       " '分享',\n",
       " '曾經',\n",
       " '接太多',\n",
       " '武打',\n",
       " '工作',\n",
       " '整整',\n",
       " '睡覺',\n",
       " '我累',\n",
       " '眼睛',\n",
       " '一閉',\n",
       " '睡著',\n",
       " '享受',\n",
       " '武打',\n",
       " '的國',\n",
       " '高中',\n",
       " '時期',\n",
       " '拿下',\n",
       " '許多',\n",
       " '武術比賽',\n",
       " '冠軍',\n",
       " '思考',\n",
       " '武術',\n",
       " '帶來',\n",
       " '人生',\n",
       " '規劃',\n",
       " '大學',\n",
       " '意外',\n",
       " '接觸',\n",
       " '武術',\n",
       " '結合',\n",
       " '極限',\n",
       " '特技',\n",
       " '武術',\n",
       " '特技',\n",
       " '武術',\n",
       " '自由',\n",
       " '解放',\n",
       " '感覺',\n",
       " '奇軒',\n",
       " '沈浸',\n",
       " '挑戰',\n",
       " '高難度',\n",
       " '動作',\n",
       " '提到',\n",
       " '招牌',\n",
       " '動作',\n",
       " '兩圈',\n",
       " '轉體',\n",
       " '單槓',\n",
       " '目前',\n",
       " '圈裡',\n",
       " '其他人',\n",
       " '成功',\n",
       " '熱愛',\n",
       " '武術',\n",
       " '言談',\n",
       " '盡顯',\n",
       " '無疑',\n",
       " '成為',\n",
       " '訂閱',\n",
       " '奇軒',\n",
       " '預想到',\n",
       " '完全',\n",
       " '誤打誤撞',\n",
       " '接觸',\n",
       " '影音',\n",
       " '社群',\n",
       " '奇軒',\n",
       " '只想',\n",
       " '紀錄',\n",
       " '練習',\n",
       " '過程',\n",
       " '但前',\n",
       " '幾年',\n",
       " '乏人問津',\n",
       " '直到',\n",
       " '左右',\n",
       " '影音',\n",
       " '問世',\n",
       " '意外',\n",
       " '發現',\n",
       " '影片',\n",
       " '觀看',\n",
       " '數破',\n",
       " '突發奇想',\n",
       " '專攻',\n",
       " '影音',\n",
       " '市場',\n",
       " '前期',\n",
       " '影片',\n",
       " '制式',\n",
       " '觀眾',\n",
       " '短短',\n",
       " '幾秒',\n",
       " '學會',\n",
       " '東西',\n",
       " '獲得',\n",
       " '滿足感',\n",
       " '優勢',\n",
       " '奇軒',\n",
       " '回想',\n",
       " '草創',\n",
       " '初期',\n",
       " '至今',\n",
       " '始終',\n",
       " '團隊',\n",
       " '企劃',\n",
       " '拍攝',\n",
       " '剪輯',\n",
       " '強調',\n",
       " '大量',\n",
       " '研究',\n",
       " '影音',\n",
       " '之外',\n",
       " '嘗試',\n",
       " '拆解',\n",
       " '熱門',\n",
       " '影片',\n",
       " '紅原',\n",
       " '歸納',\n",
       " '做法',\n",
       " '許多',\n",
       " '台灣',\n",
       " '奇軒',\n",
       " '是從',\n",
       " '國外',\n",
       " '紅回',\n",
       " '台灣',\n",
       " '透露',\n",
       " '來自',\n",
       " '台灣',\n",
       " '粉絲',\n",
       " '不到',\n",
       " '奇軒',\n",
       " '解釋',\n",
       " '當初',\n",
       " '訂閱',\n",
       " '一度',\n",
       " '停滯',\n",
       " '研究',\n",
       " '果斷',\n",
       " '拿掉',\n",
       " '限制',\n",
       " '傳播',\n",
       " '語言',\n",
       " '因素',\n",
       " '肢體',\n",
       " '動作',\n",
       " '表情',\n",
       " '為主',\n",
       " '走向',\n",
       " '國際',\n",
       " '粉絲',\n",
       " '快速',\n",
       " '飆升',\n",
       " '分析',\n",
       " '不用',\n",
       " '語言',\n",
       " '能看懂',\n",
       " '影片',\n",
       " '市場',\n",
       " '擴大',\n",
       " '全球',\n",
       " '從後台',\n",
       " '數據',\n",
       " '確實',\n",
       " '發現',\n",
       " '粉絲',\n",
       " '美洲',\n",
       " '東南亞',\n",
       " '國家',\n",
       " '居多',\n",
       " '遍布',\n",
       " '美國',\n",
       " '加拿大',\n",
       " '巴西',\n",
       " '印度',\n",
       " '馬來西亞',\n",
       " '福禍',\n",
       " '相倚',\n",
       " '奇軒',\n",
       " '國外',\n",
       " '打開',\n",
       " '市場',\n",
       " '粉絲',\n",
       " '暴增',\n",
       " '受到',\n",
       " '第一個',\n",
       " '質疑',\n",
       " '便是',\n",
       " '買粉',\n",
       " '回憶',\n",
       " '成為',\n",
       " '台灣',\n",
       " '第一名',\n",
       " '訂閱',\n",
       " '大肆',\n",
       " '張揚',\n",
       " '網路',\n",
       " '平台',\n",
       " '掀起',\n",
       " '巨大',\n",
       " '討論',\n",
       " '當時',\n",
       " '太棒了',\n",
       " '認識',\n",
       " '沒想到',\n",
       " '方向',\n",
       " '根本',\n",
       " '地獄',\n",
       " '奇軒',\n",
       " '認為',\n",
       " '倔強',\n",
       " '不達',\n",
       " '目的',\n",
       " '罷休',\n",
       " '有人',\n",
       " '覺得',\n",
       " '不好',\n",
       " '做好',\n",
       " '想要',\n",
       " '證明',\n",
       " '藉由',\n",
       " '語言',\n",
       " '影片',\n",
       " '打開',\n",
       " '市場',\n",
       " '奇軒',\n",
       " '首度',\n",
       " '透露',\n",
       " '經營',\n",
       " '影音',\n",
       " '社群',\n",
       " '心法',\n",
       " '穩定',\n",
       " '更新',\n",
       " '更新',\n",
       " '頻率',\n",
       " '固定',\n",
       " '至少',\n",
       " '天發布',\n",
       " '影片',\n",
       " '避免',\n",
       " '網友',\n",
       " '忘記',\n",
       " '實測',\n",
       " '發布',\n",
       " '內容',\n",
       " '規律性',\n",
       " '粉絲',\n",
       " '成長',\n",
       " '成正比',\n",
       " '關係',\n",
       " '緊跟',\n",
       " '趨勢',\n",
       " '時刻',\n",
       " '注意',\n",
       " '社群',\n",
       " '平台',\n",
       " '討論',\n",
       " '話題',\n",
       " '嘗試',\n",
       " '改成',\n",
       " '創作',\n",
       " '內容',\n",
       " '奇軒',\n",
       " '說明',\n",
       " '現在',\n",
       " '許多',\n",
       " '流行',\n",
       " '跟風',\n",
       " '模仿',\n",
       " '培養',\n",
       " '熱門',\n",
       " '題材',\n",
       " '敏銳度',\n",
       " '創新',\n",
       " '內容',\n",
       " '製造',\n",
       " '期待',\n",
       " '感是',\n",
       " '內容',\n",
       " '重要',\n",
       " '元素',\n",
       " '開頭',\n",
       " '一定',\n",
       " '要夠',\n",
       " '有力',\n",
       " '製造',\n",
       " '衝突',\n",
       " '反差',\n",
       " '浮誇',\n",
       " '吸睛',\n",
       " '製造',\n",
       " '情感',\n",
       " '不到',\n",
       " '觀眾',\n",
       " '繼續',\n",
       " '下去',\n",
       " '奇軒',\n",
       " '補充',\n",
       " '媒體',\n",
       " '參考',\n",
       " '類型',\n",
       " '頻道',\n",
       " '建議',\n",
       " '參考',\n",
       " '類型',\n",
       " '頻道',\n",
       " '元素',\n",
       " '結合',\n",
       " '一起',\n",
       " '創造',\n",
       " '特色',\n",
       " '舉例來說',\n",
       " '影片',\n",
       " '特技',\n",
       " '方式',\n",
       " '搭會',\n",
       " '吸引',\n",
       " '觀眾',\n",
       " '已經',\n",
       " '獲得',\n",
       " '可觀',\n",
       " '訂閱',\n",
       " '數奇軒',\n",
       " '擔心',\n",
       " '我會',\n",
       " '排名',\n",
       " '擔心',\n",
       " '訂閱',\n",
       " '再往',\n",
       " '眼神',\n",
       " '堅定',\n",
       " '表示',\n",
       " '目標',\n",
       " '達到',\n",
       " '訂閱',\n",
       " '以上',\n",
       " '一步',\n",
       " '台灣',\n",
       " '粉絲',\n",
       " '認識',\n",
       " '奇軒',\n",
       " '爆紅',\n",
       " '偶然',\n",
       " '背後',\n",
       " '縝密',\n",
       " '規劃',\n",
       " '堅持不懈',\n",
       " '懂得',\n",
       " '找到',\n",
       " '方法',\n",
       " '願意',\n",
       " '試錯',\n",
       " '重要',\n",
       " '談及',\n",
       " '波折',\n",
       " '放棄',\n",
       " '奇軒',\n",
       " '真的',\n",
       " '很愛吧',\n",
       " '當年',\n",
       " '全台',\n",
       " '透透',\n",
       " '少年',\n",
       " '一定',\n",
       " '想到',\n",
       " '透過',\n",
       " '影片',\n",
       " '媒介',\n",
       " '心愛',\n",
       " '傳到',\n",
       " '全世界',\n",
       " '無聲',\n",
       " '勝有聲']"
      ]
     },
     "execution_count": 25,
     "metadata": {},
     "output_type": "execute_result"
    }
   ],
   "source": [
    "docs = udn['words'].to_list()\n",
    "docs[0]"
   ]
  },
  {
   "cell_type": "code",
   "execution_count": 26,
   "metadata": {},
   "outputs": [
    {
     "name": "stderr",
     "output_type": "stream",
     "text": [
      "2024-05-06 16:42:29,026 : INFO : adding document #0 to Dictionary<0 unique tokens: []>\n",
      "2024-05-06 16:42:29,175 : INFO : built Dictionary<32449 unique tokens: ['一夕', '一定', '一度', '一步', '一起']...> from 1134 documents (total 191450 corpus positions)\n",
      "2024-05-06 16:42:29,176 : INFO : Dictionary lifecycle event {'msg': \"built Dictionary<32449 unique tokens: ['一夕', '一定', '一度', '一步', '一起']...> from 1134 documents (total 191450 corpus positions)\", 'datetime': '2024-05-06T16:42:29.176240', 'gensim': '4.2.0', 'python': '3.7.9 (tags/v3.7.9:13c94747c7, Aug 17 2020, 18:58:18) [MSC v.1900 64 bit (AMD64)]', 'platform': 'Windows-10-10.0.19041-SP0', 'event': 'created'}\n",
      "2024-05-06 16:42:29,202 : INFO : discarding 27040 tokens: [('一夕', 3), ('一閉', 1), ('不達', 1), ('不靠', 1), ('乏人問津', 2), ('但前', 2), ('倔強', 1), ('停滯', 3), ('偶然', 2), ('元素', 2)]...\n",
      "2024-05-06 16:42:29,203 : INFO : keeping 5409 tokens which were in no less than 5 and no more than 1122 (=99.0%) documents\n",
      "2024-05-06 16:42:29,213 : INFO : resulting dictionary: Dictionary<5409 unique tokens: ['一定', '一度', '一步', '一起', '下去']...>\n"
     ]
    },
    {
     "name": "stdout",
     "output_type": "stream",
     "text": [
      "Dictionary<5409 unique tokens: ['一定', '一度', '一步', '一起', '下去']...>\n"
     ]
    }
   ],
   "source": [
    "dictionary = Dictionary(docs)\n",
    "# Filter out words that occur less than 5 documents, or more than 99% of the documents.\n",
    "dictionary.filter_extremes(no_below=5, no_above=0.99)\n",
    "print(dictionary)"
   ]
  },
  {
   "cell_type": "code",
   "execution_count": 27,
   "metadata": {},
   "outputs": [
    {
     "name": "stdout",
     "output_type": "stream",
     "text": [
      "一定: 0\n",
      "一度: 1\n",
      "一步: 2\n",
      "一起: 3\n",
      "下去: 4\n",
      "不到: 5\n",
      "不好: 6\n",
      "不用: 7\n",
      "中時: 8\n",
      "之外: 9\n",
      "享受: 10\n",
      "人生: 11\n"
     ]
    }
   ],
   "source": [
    "for idx, (k, v) in enumerate(dictionary.token2id.items()):\n",
    "    print(f\"{k}: {v}\")\n",
    "    if idx > 10:\n",
    "        break"
   ]
  },
  {
   "cell_type": "markdown",
   "metadata": {},
   "source": [
    "將斷詞結果建構語料庫(corpus)之後，利用語料庫把每篇文章數字化。<br>\n",
    "每個詞彙都被賦予一個 ID 及頻率(word_id，word_frequency)。<br>\n",
    "\n",
    "舉例來說：<br>\n",
    "第一篇文章數字化結果為：corpus[600]:[(2, 2), (6, 1), (20, 2), .... ]，element 為文章中每個詞彙的 id 和頻率。<br>\n",
    "代表：'世界'出現2次、'之戰'出現一次...以此類推"
   ]
  },
  {
   "cell_type": "code",
   "execution_count": 28,
   "metadata": {},
   "outputs": [
    {
     "name": "stdout",
     "output_type": "stream",
     "text": [
      "('台灣 發生 規模 地震 美國 東岸 當地 時間 發生 規模 地震 包含 華盛頓 特區 紐約州 緬因州 賓州 感受 明顯 搖晃 報導 美國 地質 調查局 '\n",
      " '表示 地震 發生 當地 時間 日早 上點 規模 位於 美國 東岸 華盛頓 特區 紐約州 緬因州 賓州 受到 影響 搖晃 持續 隨後 發生 至少 有感 '\n",
      " '餘震 這是 地區 年來 紀錄 第三 地震 澤西 年來 史上 最強 地震 當地 少有 地震 居民 表示 以為 一輛 拖拉機 貨車 沒想到 情況 越來越 '\n",
      " '不對勁 意識 情況 並非如此 所幸 造成 人員傷亡 人們 很快 恢復 日常生活 地震 美國 知名 自由 女神像 明顯 搖晃 畫面 相當 驚悚')\n"
     ]
    }
   ],
   "source": [
    "# 第600篇文章\n",
    "pprint(\" \".join(udn['words'].iloc[600]))\n"
   ]
  },
  {
   "cell_type": "code",
   "execution_count": 29,
   "metadata": {},
   "outputs": [
    {
     "data": {
      "text/plain": [
       "[(46, 1),\n",
       " (48, 1),\n",
       " (148, 1),\n",
       " (183, 1),\n",
       " (190, 4),\n",
       " (193, 1),\n",
       " (195, 1),\n",
       " (200, 2),\n",
       " (267, 1),\n",
       " (283, 1)]"
      ]
     },
     "execution_count": 29,
     "metadata": {},
     "output_type": "execute_result"
    }
   ],
   "source": [
    "dictionary.doc2bow(udn['words'].iloc[600])[:10]"
   ]
  },
  {
   "cell_type": "code",
   "execution_count": 30,
   "metadata": {},
   "outputs": [],
   "source": [
    "# Bag-of-words representation of the documents.\n",
    "# 用 gensim ldamodel input 需要將文章轉換成 bag of words \n",
    "corpus = [dictionary.doc2bow(doc) for doc in docs]"
   ]
  },
  {
   "cell_type": "code",
   "execution_count": 31,
   "metadata": {},
   "outputs": [
    {
     "data": {
      "text/plain": [
       "list"
      ]
     },
     "execution_count": 31,
     "metadata": {},
     "output_type": "execute_result"
    }
   ],
   "source": [
    "type(corpus)"
   ]
  },
  {
   "cell_type": "markdown",
   "metadata": {},
   "source": [
    "訓練 topic model\n",
    "\n",
    "+ 參數說明：\n",
    "    + corpus = 文檔語料庫\n",
    "    + id2word = 詞彙字典\n",
    "    + num_topics = 生成幾個主題數\n",
    "    + random_state = 固定亂數值，每次的模型結果會一樣\n",
    "    + iteration = 每個文章訓練的次數，可以設定高一點讓模型收斂\n",
    "    + passes(epoch) = 整個 corpus 訓練模型的次數\n",
    "    + alpha = 文章主題分佈\n",
    "    + eta = 主題字分佈\n",
    "\n",
    "模型參數沒有一個絕對的答案，同學們應該**使用相同的資料**，嘗試做參數上的調整，進而比較出較佳的模型結果。"
   ]
  },
  {
   "cell_type": "code",
   "execution_count": 32,
   "metadata": {},
   "outputs": [
    {
     "name": "stderr",
     "output_type": "stream",
     "text": [
      "2024-05-06 16:43:15,811 : INFO : using symmetric alpha at 0.1\n",
      "2024-05-06 16:43:15,811 : INFO : using symmetric eta at 0.1\n",
      "2024-05-06 16:43:15,823 : INFO : using serial LDA version on this node\n",
      "2024-05-06 16:43:15,830 : INFO : running online (single-pass) LDA training, 10 topics, 1 passes over the supplied corpus of 1134 documents, updating model once every 1134 documents, evaluating perplexity every 1134 documents, iterating 50x with a convergence threshold of 0.001000\n",
      "2024-05-06 16:43:15,830 : WARNING : too few updates, training might not converge; consider increasing the number of passes or iterations to improve accuracy\n",
      "2024-05-06 16:43:16,548 : INFO : -9.656 per-word bound, 806.7 perplexity estimate based on a held-out corpus of 1134 documents with 140464 words\n",
      "2024-05-06 16:43:16,549 : INFO : PROGRESS: pass 0, at document #1134/1134\n",
      "2024-05-06 16:43:17,047 : INFO : topic #7 (0.100): 0.010*\"黃子佼\" + 0.008*\"台灣\" + 0.008*\"表示\" + 0.006*\"中國\" + 0.005*\"已經\" + 0.004*\"真的\" + 0.004*\"影片\" + 0.004*\"伊朗\" + 0.004*\"美國\" + 0.003*\"目前\"\n",
      "2024-05-06 16:43:17,048 : INFO : topic #9 (0.100): 0.009*\"美國\" + 0.007*\"黃子佼\" + 0.006*\"表示\" + 0.004*\"台灣\" + 0.004*\"總統\" + 0.004*\"現在\" + 0.004*\"日本\" + 0.003*\"立委\" + 0.003*\"已經\" + 0.003*\"統神\"\n",
      "2024-05-06 16:43:17,050 : INFO : topic #5 (0.100): 0.009*\"表示\" + 0.004*\"伊朗\" + 0.004*\"美國\" + 0.004*\"以色列\" + 0.004*\"黃子佼\" + 0.004*\"報導\" + 0.004*\"台灣\" + 0.003*\"認為\" + 0.003*\"影片\" + 0.003*\"一名\"\n",
      "2024-05-06 16:43:17,050 : INFO : topic #4 (0.100): 0.006*\"表示\" + 0.005*\"台灣\" + 0.004*\"發生\" + 0.003*\"目前\" + 0.003*\"中國\" + 0.003*\"報導\" + 0.003*\"立委\" + 0.003*\"發現\" + 0.003*\"徐巧\" + 0.003*\"問題\"\n",
      "2024-05-06 16:43:17,051 : INFO : topic #8 (0.100): 0.008*\"表示\" + 0.008*\"台灣\" + 0.006*\"網友\" + 0.005*\"發生\" + 0.004*\"報導\" + 0.004*\"美國\" + 0.004*\"地震\" + 0.004*\"時間\" + 0.003*\"公司\" + 0.003*\"大谷\"\n",
      "2024-05-06 16:43:17,052 : INFO : topic diff=1.653051, rho=1.000000\n",
      "2024-05-06 16:43:17,052 : INFO : LdaModel lifecycle event {'msg': 'trained LdaModel<num_terms=5409, num_topics=10, decay=0.5, chunksize=2000> in 1.22s', 'datetime': '2024-05-06T16:43:17.052995', 'gensim': '4.2.0', 'python': '3.7.9 (tags/v3.7.9:13c94747c7, Aug 17 2020, 18:58:18) [MSC v.1900 64 bit (AMD64)]', 'platform': 'Windows-10-10.0.19041-SP0', 'event': 'created'}\n"
     ]
    }
   ],
   "source": [
    "ldamodel = LdaModel(\n",
    "    corpus=corpus, \n",
    "    id2word=dictionary, # 字典\n",
    "    num_topics=10, # 生成幾個主題數\n",
    "    random_state=2024, # 亂數\n",
    ")"
   ]
  },
  {
   "cell_type": "markdown",
   "metadata": {},
   "source": [
    "**4.2 查看 LDA 主題代表字** <br>\n",
    "\n",
    "當 LDA 模型訓練好之後，我們可以查看每個主題的單詞分佈。<br>\n",
    "num_words = 選擇要查看每個主題前幾個字。<br>\n",
    "\n",
    "舉例來說：<br>\n",
    "`'0.020*\"經典賽\" + 0.014*\"中華隊\" + 0.011*\"今天\" + 0.009*\"比賽\" + 0.009*\"日本\" + 0.007*\"棒球\" + 0.007*\"世界\" + 0.007*\"投手\" + 0.006*\"先發\" + 0.005*\"球隊\"'`  \n",
    "\n",
    "數字*詞 -> 數字表示比率，比率越高表示重要性越高"
   ]
  },
  {
   "cell_type": "code",
   "execution_count": 33,
   "metadata": {},
   "outputs": [
    {
     "name": "stderr",
     "output_type": "stream",
     "text": [
      "2024-05-06 16:43:22,907 : INFO : topic #0 (0.100): 0.008*\"台灣\" + 0.008*\"表示\" + 0.005*\"地震\" + 0.005*\"民眾\" + 0.004*\"日本\" + 0.004*\"美國\" + 0.004*\"發生\" + 0.004*\"已經\" + 0.004*\"網友\" + 0.003*\"黃子佼\"\n",
      "2024-05-06 16:43:22,907 : INFO : topic #1 (0.100): 0.019*\"黃子佼\" + 0.008*\"表示\" + 0.006*\"已經\" + 0.005*\"藝人\" + 0.005*\"節目\" + 0.004*\"網友\" + 0.004*\"未成年\" + 0.004*\"現在\" + 0.003*\"發生\" + 0.003*\"事件\"\n",
      "2024-05-06 16:43:22,908 : INFO : topic #2 (0.100): 0.008*\"表示\" + 0.008*\"日本\" + 0.005*\"地震\" + 0.005*\"徐巧\" + 0.004*\"報導\" + 0.004*\"今天\" + 0.004*\"以色列\" + 0.004*\"已經\" + 0.004*\"美國\" + 0.004*\"台灣\"\n",
      "2024-05-06 16:43:22,908 : INFO : topic #3 (0.100): 0.014*\"黃子佼\" + 0.006*\"徐巧\" + 0.005*\"表示\" + 0.004*\"立委\" + 0.004*\"希望\" + 0.004*\"網友\" + 0.004*\"公司\" + 0.004*\"朱軒洋\" + 0.003*\"吳卓源\" + 0.003*\"國民黨\"\n",
      "2024-05-06 16:43:22,909 : INFO : topic #4 (0.100): 0.006*\"表示\" + 0.005*\"台灣\" + 0.004*\"發生\" + 0.003*\"目前\" + 0.003*\"中國\" + 0.003*\"報導\" + 0.003*\"立委\" + 0.003*\"發現\" + 0.003*\"徐巧\" + 0.003*\"問題\"\n",
      "2024-05-06 16:43:22,909 : INFO : topic #5 (0.100): 0.009*\"表示\" + 0.004*\"伊朗\" + 0.004*\"美國\" + 0.004*\"以色列\" + 0.004*\"黃子佼\" + 0.004*\"報導\" + 0.004*\"台灣\" + 0.003*\"認為\" + 0.003*\"影片\" + 0.003*\"一名\"\n",
      "2024-05-06 16:43:22,910 : INFO : topic #6 (0.100): 0.006*\"表示\" + 0.005*\"大陸\" + 0.004*\"日本\" + 0.004*\"報導\" + 0.004*\"發生\" + 0.004*\"真的\" + 0.004*\"網友\" + 0.003*\"美國\" + 0.003*\"發現\" + 0.003*\"台灣\"\n",
      "2024-05-06 16:43:22,910 : INFO : topic #7 (0.100): 0.010*\"黃子佼\" + 0.008*\"台灣\" + 0.008*\"表示\" + 0.006*\"中國\" + 0.005*\"已經\" + 0.004*\"真的\" + 0.004*\"影片\" + 0.004*\"伊朗\" + 0.004*\"美國\" + 0.003*\"目前\"\n",
      "2024-05-06 16:43:22,911 : INFO : topic #8 (0.100): 0.008*\"表示\" + 0.008*\"台灣\" + 0.006*\"網友\" + 0.005*\"發生\" + 0.004*\"報導\" + 0.004*\"美國\" + 0.004*\"地震\" + 0.004*\"時間\" + 0.003*\"公司\" + 0.003*\"大谷\"\n",
      "2024-05-06 16:43:22,911 : INFO : topic #9 (0.100): 0.009*\"美國\" + 0.007*\"黃子佼\" + 0.006*\"表示\" + 0.004*\"台灣\" + 0.004*\"總統\" + 0.004*\"現在\" + 0.004*\"日本\" + 0.003*\"立委\" + 0.003*\"已經\" + 0.003*\"統神\"\n"
     ]
    },
    {
     "data": {
      "text/plain": [
       "[(0,\n",
       "  '0.008*\"台灣\" + 0.008*\"表示\" + 0.005*\"地震\" + 0.005*\"民眾\" + 0.004*\"日本\" + 0.004*\"美國\" + 0.004*\"發生\" + 0.004*\"已經\" + 0.004*\"網友\" + 0.003*\"黃子佼\"'),\n",
       " (1,\n",
       "  '0.019*\"黃子佼\" + 0.008*\"表示\" + 0.006*\"已經\" + 0.005*\"藝人\" + 0.005*\"節目\" + 0.004*\"網友\" + 0.004*\"未成年\" + 0.004*\"現在\" + 0.003*\"發生\" + 0.003*\"事件\"'),\n",
       " (2,\n",
       "  '0.008*\"表示\" + 0.008*\"日本\" + 0.005*\"地震\" + 0.005*\"徐巧\" + 0.004*\"報導\" + 0.004*\"今天\" + 0.004*\"以色列\" + 0.004*\"已經\" + 0.004*\"美國\" + 0.004*\"台灣\"'),\n",
       " (3,\n",
       "  '0.014*\"黃子佼\" + 0.006*\"徐巧\" + 0.005*\"表示\" + 0.004*\"立委\" + 0.004*\"希望\" + 0.004*\"網友\" + 0.004*\"公司\" + 0.004*\"朱軒洋\" + 0.003*\"吳卓源\" + 0.003*\"國民黨\"'),\n",
       " (4,\n",
       "  '0.006*\"表示\" + 0.005*\"台灣\" + 0.004*\"發生\" + 0.003*\"目前\" + 0.003*\"中國\" + 0.003*\"報導\" + 0.003*\"立委\" + 0.003*\"發現\" + 0.003*\"徐巧\" + 0.003*\"問題\"'),\n",
       " (5,\n",
       "  '0.009*\"表示\" + 0.004*\"伊朗\" + 0.004*\"美國\" + 0.004*\"以色列\" + 0.004*\"黃子佼\" + 0.004*\"報導\" + 0.004*\"台灣\" + 0.003*\"認為\" + 0.003*\"影片\" + 0.003*\"一名\"'),\n",
       " (6,\n",
       "  '0.006*\"表示\" + 0.005*\"大陸\" + 0.004*\"日本\" + 0.004*\"報導\" + 0.004*\"發生\" + 0.004*\"真的\" + 0.004*\"網友\" + 0.003*\"美國\" + 0.003*\"發現\" + 0.003*\"台灣\"'),\n",
       " (7,\n",
       "  '0.010*\"黃子佼\" + 0.008*\"台灣\" + 0.008*\"表示\" + 0.006*\"中國\" + 0.005*\"已經\" + 0.004*\"真的\" + 0.004*\"影片\" + 0.004*\"伊朗\" + 0.004*\"美國\" + 0.003*\"目前\"'),\n",
       " (8,\n",
       "  '0.008*\"表示\" + 0.008*\"台灣\" + 0.006*\"網友\" + 0.005*\"發生\" + 0.004*\"報導\" + 0.004*\"美國\" + 0.004*\"地震\" + 0.004*\"時間\" + 0.003*\"公司\" + 0.003*\"大谷\"'),\n",
       " (9,\n",
       "  '0.009*\"美國\" + 0.007*\"黃子佼\" + 0.006*\"表示\" + 0.004*\"台灣\" + 0.004*\"總統\" + 0.004*\"現在\" + 0.004*\"日本\" + 0.003*\"立委\" + 0.003*\"已經\" + 0.003*\"統神\"')]"
      ]
     },
     "execution_count": 33,
     "metadata": {},
     "output_type": "execute_result"
    }
   ],
   "source": [
    "ldamodel.print_topics()"
   ]
  },
  {
   "cell_type": "markdown",
   "metadata": {},
   "source": [
    "我們可以根據每個主題的詞彙分佈來猜測，該主題可能是有關什麼樣的議題：(人工判斷)\n",
    "+ 主題一：台灣地震\n",
    "+ 主題二：黃子佼事件\n",
    "+ ..."
   ]
  },
  {
   "cell_type": "markdown",
   "metadata": {},
   "source": [
    "也可以使用 `get_document_topics()` 回去看每篇文章的主題分佈 (`theta`)"
   ]
  },
  {
   "cell_type": "code",
   "execution_count": 34,
   "metadata": {},
   "outputs": [
    {
     "data": {
      "text/plain": [
       "[(5, 0.9972283)]"
      ]
     },
     "execution_count": 34,
     "metadata": {},
     "output_type": "execute_result"
    }
   ],
   "source": [
    "ldamodel.get_document_topics(corpus[0])"
   ]
  },
  {
   "cell_type": "markdown",
   "metadata": {},
   "source": [
    "**4.3 查看 LDA 模型指標**\n",
    "+ **Pointwise Mutual Information (PMI)** : <br>\n",
    "自然語言處理中，想要探討兩個字之間是否存在某種關係。<br>\n",
    "例如：某些字會一起出現，可能帶有某些訊息，因此這個可以用 PMI 來計算，數字越大越好。\n",
    "+ **perplexity** :<br>\n",
    "perplexity 也是評估的指標之一，廣泛用於語言模型的評估，\b意思為複雜度，因此數字要越小越好。"
   ]
  },
  {
   "cell_type": "code",
   "execution_count": 35,
   "metadata": {},
   "outputs": [
    {
     "name": "stderr",
     "output_type": "stream",
     "text": [
      "2024-05-06 16:45:48,910 : INFO : -8.366 per-word bound, 329.9 perplexity estimate based on a held-out corpus of 1134 documents with 140464 words\n"
     ]
    },
    {
     "data": {
      "text/plain": [
       "-8.365841952591001"
      ]
     },
     "execution_count": 35,
     "metadata": {},
     "output_type": "execute_result"
    }
   ],
   "source": [
    "# perplexity\n",
    "perplexity = ldamodel.log_perplexity(corpus)\n",
    "perplexity"
   ]
  },
  {
   "cell_type": "code",
   "execution_count": 36,
   "metadata": {},
   "outputs": [
    {
     "data": {
      "text/plain": [
       "329.89016391884263"
      ]
     },
     "execution_count": 36,
     "metadata": {},
     "output_type": "execute_result"
    }
   ],
   "source": [
    "np.exp2(-perplexity)"
   ]
  },
  {
   "cell_type": "code",
   "execution_count": 37,
   "metadata": {},
   "outputs": [
    {
     "name": "stderr",
     "output_type": "stream",
     "text": [
      "2024-05-06 16:45:54,810 : INFO : using ParallelWordOccurrenceAccumulator<processes=15, batch_size=64> to estimate probabilities from sliding windows\n",
      "2024-05-06 16:46:06,704 : INFO : 1 batches submitted to accumulate stats from 64 documents (11051 virtual)\n",
      "2024-05-06 16:46:06,707 : INFO : 2 batches submitted to accumulate stats from 128 documents (22050 virtual)\n",
      "2024-05-06 16:46:06,709 : INFO : 3 batches submitted to accumulate stats from 192 documents (33607 virtual)\n",
      "2024-05-06 16:46:06,712 : INFO : 4 batches submitted to accumulate stats from 256 documents (43392 virtual)\n",
      "2024-05-06 16:46:06,714 : INFO : 5 batches submitted to accumulate stats from 320 documents (53252 virtual)\n",
      "2024-05-06 16:46:06,717 : INFO : 6 batches submitted to accumulate stats from 384 documents (63729 virtual)\n",
      "2024-05-06 16:46:06,719 : INFO : 7 batches submitted to accumulate stats from 448 documents (74392 virtual)\n",
      "2024-05-06 16:46:06,722 : INFO : 8 batches submitted to accumulate stats from 512 documents (84585 virtual)\n",
      "2024-05-06 16:46:06,724 : INFO : 9 batches submitted to accumulate stats from 576 documents (93953 virtual)\n",
      "2024-05-06 16:46:06,728 : INFO : 10 batches submitted to accumulate stats from 640 documents (104082 virtual)\n",
      "2024-05-06 16:46:06,732 : INFO : 11 batches submitted to accumulate stats from 704 documents (113430 virtual)\n",
      "2024-05-06 16:46:06,736 : INFO : 12 batches submitted to accumulate stats from 768 documents (123196 virtual)\n",
      "2024-05-06 16:46:06,742 : INFO : 13 batches submitted to accumulate stats from 832 documents (133317 virtual)\n",
      "2024-05-06 16:46:06,747 : INFO : 14 batches submitted to accumulate stats from 896 documents (142778 virtual)\n",
      "2024-05-06 16:46:06,755 : INFO : 15 batches submitted to accumulate stats from 960 documents (151772 virtual)\n",
      "2024-05-06 16:46:06,761 : INFO : 16 batches submitted to accumulate stats from 1024 documents (163048 virtual)\n",
      "2024-05-06 16:46:06,773 : INFO : 17 batches submitted to accumulate stats from 1088 documents (173310 virtual)\n",
      "2024-05-06 16:46:06,780 : INFO : 18 batches submitted to accumulate stats from 1152 documents (181244 virtual)\n",
      "2024-05-06 16:46:07,027 : INFO : 15 accumulators retrieved from output queue\n",
      "2024-05-06 16:46:07,048 : INFO : accumulated word occurrence stats for 181244 virtual documents\n"
     ]
    },
    {
     "name": "stdout",
     "output_type": "stream",
     "text": [
      "這個主題的 PMI score:  -0.06017687542070118\n"
     ]
    }
   ],
   "source": [
    "# npmi\n",
    "NPMI_model_lda = CoherenceModel(model=ldamodel, texts=docs, coherence='c_npmi')\n",
    "NPMI_lda = NPMI_model_lda.get_coherence()\n",
    "print('這個主題的 PMI score: ', NPMI_lda)"
   ]
  },
  {
   "cell_type": "code",
   "execution_count": 38,
   "metadata": {},
   "outputs": [
    {
     "data": {
      "text/plain": [
       "[-0.061972274614168196,\n",
       " -0.05111056985996126,\n",
       " -0.05146712944707483,\n",
       " -0.10098430331112909,\n",
       " -0.029395143937903365,\n",
       " -0.05755915284104857,\n",
       " -0.027780425375961235,\n",
       " -0.04787004457852739,\n",
       " -0.047944719912962286,\n",
       " -0.12568499032827557]"
      ]
     },
     "execution_count": 38,
     "metadata": {},
     "output_type": "execute_result"
    }
   ],
   "source": [
    "NPMI_model_lda.get_coherence_per_topic()"
   ]
  },
  {
   "cell_type": "markdown",
   "metadata": {},
   "source": [
    "`NPMI` 的值域是[-1,1]，-1 代表兩個字沒一起出現過，0 代表兩個字之間獨立，1 代表兩個字完全相關"
   ]
  },
  {
   "cell_type": "markdown",
   "metadata": {},
   "source": [
    "**4.4 透過指標找出最佳主題數**\n",
    "\n",
    "透過建立不同主題數的模型，並以上述所說的**判斷指標**來找出最佳的主題數。<br>\n",
    "這裡我們選擇主題數 2~10 來做分析。\n",
    "\n",
    "**再次強調**：主題數及參數沒有一個絕對正確的答案，同學們應該**使用相同的資料**，嘗試做參數上的調整、主題數的調整，進而比較出較佳的模型結果。"
   ]
  },
  {
   "cell_type": "code",
   "execution_count": 39,
   "metadata": {},
   "outputs": [
    {
     "name": "stderr",
     "output_type": "stream",
     "text": [
      "2024-05-06 16:46:26,940 : INFO : using symmetric alpha at 0.5\n",
      "2024-05-06 16:46:26,941 : INFO : using symmetric eta at 0.5\n",
      "2024-05-06 16:46:26,942 : INFO : using serial LDA version on this node\n",
      "2024-05-06 16:46:26,943 : INFO : running online (multi-pass) LDA training, 2 topics, 5 passes over the supplied corpus of 1134 documents, updating model once every 1134 documents, evaluating perplexity every 1134 documents, iterating 50x with a convergence threshold of 0.001000\n",
      "2024-05-06 16:46:26,944 : WARNING : too few updates, training might not converge; consider increasing the number of passes or iterations to improve accuracy\n",
      "2024-05-06 16:46:27,650 : INFO : -9.008 per-word bound, 514.9 perplexity estimate based on a held-out corpus of 1134 documents with 140464 words\n",
      "2024-05-06 16:46:27,651 : INFO : PROGRESS: pass 0, at document #1134/1134\n",
      "2024-05-06 16:46:28,105 : INFO : topic #0 (0.500): 0.009*\"黃子佼\" + 0.006*\"表示\" + 0.005*\"台灣\" + 0.004*\"報導\" + 0.003*\"發生\" + 0.003*\"美國\" + 0.003*\"中國\" + 0.003*\"真的\" + 0.003*\"已經\" + 0.003*\"日本\"\n",
      "2024-05-06 16:46:28,106 : INFO : topic #1 (0.500): 0.008*\"表示\" + 0.006*\"黃子佼\" + 0.005*\"台灣\" + 0.005*\"網友\" + 0.004*\"美國\" + 0.004*\"已經\" + 0.003*\"發生\" + 0.003*\"日本\" + 0.003*\"知道\" + 0.003*\"伊朗\"\n",
      "2024-05-06 16:46:28,106 : INFO : topic diff=0.782781, rho=1.000000\n",
      "2024-05-06 16:46:28,798 : INFO : -8.043 per-word bound, 263.8 perplexity estimate based on a held-out corpus of 1134 documents with 140464 words\n",
      "2024-05-06 16:46:28,799 : INFO : PROGRESS: pass 1, at document #1134/1134\n",
      "2024-05-06 16:46:29,238 : INFO : topic #0 (0.500): 0.010*\"黃子佼\" + 0.006*\"表示\" + 0.005*\"台灣\" + 0.004*\"發生\" + 0.004*\"報導\" + 0.003*\"中國\" + 0.003*\"美國\" + 0.003*\"已經\" + 0.003*\"真的\" + 0.003*\"目前\"\n",
      "2024-05-06 16:46:29,239 : INFO : topic #1 (0.500): 0.008*\"表示\" + 0.006*\"台灣\" + 0.005*\"網友\" + 0.004*\"美國\" + 0.004*\"黃子佼\" + 0.004*\"已經\" + 0.003*\"日本\" + 0.003*\"伊朗\" + 0.003*\"發生\" + 0.003*\"以色列\"\n",
      "2024-05-06 16:46:29,239 : INFO : topic diff=0.152830, rho=0.577350\n",
      "2024-05-06 16:46:29,907 : INFO : -8.004 per-word bound, 256.8 perplexity estimate based on a held-out corpus of 1134 documents with 140464 words\n",
      "2024-05-06 16:46:29,907 : INFO : PROGRESS: pass 2, at document #1134/1134\n",
      "2024-05-06 16:46:30,312 : INFO : topic #0 (0.500): 0.011*\"黃子佼\" + 0.007*\"表示\" + 0.005*\"台灣\" + 0.004*\"發生\" + 0.004*\"報導\" + 0.004*\"美國\" + 0.003*\"中國\" + 0.003*\"已經\" + 0.003*\"目前\" + 0.003*\"地震\"\n",
      "2024-05-06 16:46:30,313 : INFO : topic #1 (0.500): 0.008*\"表示\" + 0.006*\"台灣\" + 0.005*\"網友\" + 0.004*\"美國\" + 0.004*\"已經\" + 0.004*\"伊朗\" + 0.003*\"黃子佼\" + 0.003*\"日本\" + 0.003*\"以色列\" + 0.003*\"粉絲\"\n",
      "2024-05-06 16:46:30,314 : INFO : topic diff=0.143691, rho=0.500000\n",
      "2024-05-06 16:46:30,916 : INFO : -7.972 per-word bound, 251.1 perplexity estimate based on a held-out corpus of 1134 documents with 140464 words\n",
      "2024-05-06 16:46:30,917 : INFO : PROGRESS: pass 3, at document #1134/1134\n",
      "2024-05-06 16:46:31,292 : INFO : topic #0 (0.500): 0.011*\"黃子佼\" + 0.007*\"表示\" + 0.005*\"台灣\" + 0.004*\"發生\" + 0.004*\"美國\" + 0.004*\"報導\" + 0.004*\"中國\" + 0.003*\"已經\" + 0.003*\"地震\" + 0.003*\"總統\"\n",
      "2024-05-06 16:46:31,292 : INFO : topic #1 (0.500): 0.008*\"表示\" + 0.006*\"台灣\" + 0.005*\"網友\" + 0.004*\"已經\" + 0.004*\"伊朗\" + 0.004*\"美國\" + 0.004*\"粉絲\" + 0.003*\"以色列\" + 0.003*\"真的\" + 0.003*\"日本\"\n",
      "2024-05-06 16:46:31,293 : INFO : topic diff=0.119480, rho=0.447214\n",
      "2024-05-06 16:46:31,873 : INFO : -7.950 per-word bound, 247.2 perplexity estimate based on a held-out corpus of 1134 documents with 140464 words\n",
      "2024-05-06 16:46:31,874 : INFO : PROGRESS: pass 4, at document #1134/1134\n",
      "2024-05-06 16:46:32,230 : INFO : topic #0 (0.500): 0.012*\"黃子佼\" + 0.007*\"表示\" + 0.005*\"發生\" + 0.005*\"台灣\" + 0.004*\"美國\" + 0.004*\"報導\" + 0.004*\"中國\" + 0.004*\"已經\" + 0.003*\"地震\" + 0.003*\"總統\"\n",
      "2024-05-06 16:46:32,231 : INFO : topic #1 (0.500): 0.008*\"表示\" + 0.006*\"台灣\" + 0.005*\"網友\" + 0.004*\"粉絲\" + 0.004*\"伊朗\" + 0.004*\"已經\" + 0.003*\"以色列\" + 0.003*\"真的\" + 0.003*\"美國\" + 0.003*\"徐巧\"\n",
      "2024-05-06 16:46:32,232 : INFO : topic diff=0.096431, rho=0.408248\n",
      "2024-05-06 16:46:32,232 : INFO : LdaModel lifecycle event {'msg': 'trained LdaModel<num_terms=5409, num_topics=2, decay=0.5, chunksize=2000> in 5.29s', 'datetime': '2024-05-06T16:46:32.232541', 'gensim': '4.2.0', 'python': '3.7.9 (tags/v3.7.9:13c94747c7, Aug 17 2020, 18:58:18) [MSC v.1900 64 bit (AMD64)]', 'platform': 'Windows-10-10.0.19041-SP0', 'event': 'created'}\n",
      "2024-05-06 16:46:32,812 : INFO : -7.936 per-word bound, 244.9 perplexity estimate based on a held-out corpus of 1134 documents with 140464 words\n",
      "2024-05-06 16:46:32,815 : INFO : using ParallelWordOccurrenceAccumulator<processes=15, batch_size=64> to estimate probabilities from sliding windows\n",
      "2024-05-06 16:46:41,533 : INFO : 1 batches submitted to accumulate stats from 64 documents (11051 virtual)\n",
      "2024-05-06 16:46:41,536 : INFO : 2 batches submitted to accumulate stats from 128 documents (22050 virtual)\n",
      "2024-05-06 16:46:41,538 : INFO : 3 batches submitted to accumulate stats from 192 documents (33607 virtual)\n",
      "2024-05-06 16:46:41,540 : INFO : 4 batches submitted to accumulate stats from 256 documents (43392 virtual)\n",
      "2024-05-06 16:46:41,543 : INFO : 5 batches submitted to accumulate stats from 320 documents (53252 virtual)\n",
      "2024-05-06 16:46:41,545 : INFO : 6 batches submitted to accumulate stats from 384 documents (63729 virtual)\n",
      "2024-05-06 16:46:41,549 : INFO : 7 batches submitted to accumulate stats from 448 documents (74392 virtual)\n",
      "2024-05-06 16:46:41,552 : INFO : 8 batches submitted to accumulate stats from 512 documents (84585 virtual)\n",
      "2024-05-06 16:46:41,555 : INFO : 9 batches submitted to accumulate stats from 576 documents (93953 virtual)\n",
      "2024-05-06 16:46:41,559 : INFO : 10 batches submitted to accumulate stats from 640 documents (104082 virtual)\n",
      "2024-05-06 16:46:41,564 : INFO : 11 batches submitted to accumulate stats from 704 documents (113430 virtual)\n",
      "2024-05-06 16:46:41,570 : INFO : 12 batches submitted to accumulate stats from 768 documents (123196 virtual)\n",
      "2024-05-06 16:46:41,574 : INFO : 13 batches submitted to accumulate stats from 832 documents (133317 virtual)\n",
      "2024-05-06 16:46:41,583 : INFO : 14 batches submitted to accumulate stats from 896 documents (142778 virtual)\n",
      "2024-05-06 16:46:41,605 : INFO : 15 batches submitted to accumulate stats from 960 documents (151772 virtual)\n",
      "2024-05-06 16:46:41,618 : INFO : 16 batches submitted to accumulate stats from 1024 documents (163048 virtual)\n",
      "2024-05-06 16:46:41,625 : INFO : 17 batches submitted to accumulate stats from 1088 documents (173310 virtual)\n",
      "2024-05-06 16:46:41,636 : INFO : 18 batches submitted to accumulate stats from 1152 documents (181244 virtual)\n",
      "2024-05-06 16:46:41,814 : INFO : 15 accumulators retrieved from output queue\n",
      "2024-05-06 16:46:41,829 : INFO : accumulated word occurrence stats for 181244 virtual documents\n",
      "2024-05-06 16:46:41,878 : INFO : using symmetric alpha at 0.3333333333333333\n",
      "2024-05-06 16:46:41,879 : INFO : using symmetric eta at 0.3333333333333333\n",
      "2024-05-06 16:46:41,880 : INFO : using serial LDA version on this node\n",
      "2024-05-06 16:46:41,882 : INFO : running online (multi-pass) LDA training, 3 topics, 5 passes over the supplied corpus of 1134 documents, updating model once every 1134 documents, evaluating perplexity every 1134 documents, iterating 50x with a convergence threshold of 0.001000\n",
      "2024-05-06 16:46:41,883 : WARNING : too few updates, training might not converge; consider increasing the number of passes or iterations to improve accuracy\n",
      "2024-05-06 16:46:42,561 : INFO : -9.102 per-word bound, 549.5 perplexity estimate based on a held-out corpus of 1134 documents with 140464 words\n",
      "2024-05-06 16:46:42,562 : INFO : PROGRESS: pass 0, at document #1134/1134\n",
      "2024-05-06 16:46:43,010 : INFO : topic #0 (0.333): 0.013*\"黃子佼\" + 0.006*\"台灣\" + 0.005*\"表示\" + 0.004*\"發生\" + 0.004*\"報導\" + 0.004*\"地震\" + 0.003*\"美國\" + 0.003*\"中國\" + 0.003*\"時間\" + 0.003*\"總統\"\n",
      "2024-05-06 16:46:43,011 : INFO : topic #1 (0.333): 0.007*\"黃子佼\" + 0.006*\"表示\" + 0.006*\"台灣\" + 0.005*\"美國\" + 0.005*\"網友\" + 0.004*\"已經\" + 0.003*\"發生\" + 0.003*\"日本\" + 0.003*\"地震\" + 0.003*\"希望\"\n",
      "2024-05-06 16:46:43,011 : INFO : topic #2 (0.333): 0.010*\"表示\" + 0.004*\"台灣\" + 0.004*\"已經\" + 0.004*\"網友\" + 0.003*\"報導\" + 0.003*\"粉絲\" + 0.003*\"影片\" + 0.003*\"真的\" + 0.003*\"美國\" + 0.003*\"發生\"\n",
      "2024-05-06 16:46:43,012 : INFO : topic diff=0.837148, rho=1.000000\n",
      "2024-05-06 16:46:43,658 : INFO : -8.071 per-word bound, 269.0 perplexity estimate based on a held-out corpus of 1134 documents with 140464 words\n",
      "2024-05-06 16:46:43,660 : INFO : PROGRESS: pass 1, at document #1134/1134\n",
      "2024-05-06 16:46:44,085 : INFO : topic #0 (0.333): 0.017*\"黃子佼\" + 0.005*\"表示\" + 0.005*\"台灣\" + 0.004*\"地震\" + 0.004*\"發生\" + 0.004*\"未成年\" + 0.004*\"中國\" + 0.004*\"總統\" + 0.004*\"美國\" + 0.003*\"藝人\"\n",
      "2024-05-06 16:46:44,086 : INFO : topic #1 (0.333): 0.007*\"台灣\" + 0.007*\"表示\" + 0.006*\"美國\" + 0.006*\"黃子佼\" + 0.005*\"伊朗\" + 0.004*\"以色列\" + 0.004*\"網友\" + 0.004*\"立委\" + 0.004*\"日本\" + 0.003*\"已經\"\n",
      "2024-05-06 16:46:44,086 : INFO : topic #2 (0.333): 0.009*\"表示\" + 0.004*\"網友\" + 0.004*\"台灣\" + 0.004*\"已經\" + 0.004*\"粉絲\" + 0.003*\"報導\" + 0.003*\"真的\" + 0.003*\"一名\" + 0.003*\"許多\" + 0.003*\"發生\"\n",
      "2024-05-06 16:46:44,087 : INFO : topic diff=0.268287, rho=0.577350\n",
      "2024-05-06 16:46:44,682 : INFO : -7.985 per-word bound, 253.3 perplexity estimate based on a held-out corpus of 1134 documents with 140464 words\n",
      "2024-05-06 16:46:44,683 : INFO : PROGRESS: pass 2, at document #1134/1134\n",
      "2024-05-06 16:46:45,050 : INFO : topic #0 (0.333): 0.019*\"黃子佼\" + 0.006*\"表示\" + 0.005*\"台灣\" + 0.005*\"未成年\" + 0.005*\"地震\" + 0.004*\"發生\" + 0.004*\"中國\" + 0.004*\"藝人\" + 0.004*\"總統\" + 0.004*\"美國\"\n",
      "2024-05-06 16:46:45,051 : INFO : topic #1 (0.333): 0.007*\"表示\" + 0.007*\"台灣\" + 0.007*\"美國\" + 0.006*\"伊朗\" + 0.006*\"以色列\" + 0.005*\"立委\" + 0.004*\"黃子佼\" + 0.004*\"徐巧\" + 0.004*\"日本\" + 0.004*\"統神\"\n",
      "2024-05-06 16:46:45,052 : INFO : topic #2 (0.333): 0.009*\"表示\" + 0.005*\"網友\" + 0.004*\"台灣\" + 0.004*\"粉絲\" + 0.004*\"已經\" + 0.004*\"報導\" + 0.003*\"真的\" + 0.003*\"許多\" + 0.003*\"一名\" + 0.003*\"發現\"\n",
      "2024-05-06 16:46:45,052 : INFO : topic diff=0.224892, rho=0.500000\n",
      "2024-05-06 16:46:45,618 : INFO : -7.933 per-word bound, 244.3 perplexity estimate based on a held-out corpus of 1134 documents with 140464 words\n",
      "2024-05-06 16:46:45,619 : INFO : PROGRESS: pass 3, at document #1134/1134\n",
      "2024-05-06 16:46:45,958 : INFO : topic #0 (0.333): 0.021*\"黃子佼\" + 0.006*\"表示\" + 0.005*\"未成年\" + 0.005*\"地震\" + 0.005*\"台灣\" + 0.004*\"發生\" + 0.004*\"藝人\" + 0.004*\"中國\" + 0.004*\"總統\" + 0.003*\"美國\"\n",
      "2024-05-06 16:46:45,958 : INFO : topic #1 (0.333): 0.007*\"表示\" + 0.007*\"台灣\" + 0.007*\"美國\" + 0.007*\"伊朗\" + 0.006*\"以色列\" + 0.006*\"立委\" + 0.005*\"徐巧\" + 0.004*\"統神\" + 0.004*\"日本\" + 0.004*\"直播\"\n",
      "2024-05-06 16:46:45,959 : INFO : topic #2 (0.333): 0.008*\"表示\" + 0.005*\"網友\" + 0.004*\"粉絲\" + 0.004*\"台灣\" + 0.004*\"已經\" + 0.004*\"報導\" + 0.003*\"真的\" + 0.003*\"許多\" + 0.003*\"一名\" + 0.003*\"發現\"\n",
      "2024-05-06 16:46:45,960 : INFO : topic diff=0.185897, rho=0.447214\n",
      "2024-05-06 16:46:46,511 : INFO : -7.899 per-word bound, 238.7 perplexity estimate based on a held-out corpus of 1134 documents with 140464 words\n",
      "2024-05-06 16:46:46,512 : INFO : PROGRESS: pass 4, at document #1134/1134\n",
      "2024-05-06 16:46:46,837 : INFO : topic #0 (0.333): 0.022*\"黃子佼\" + 0.007*\"表示\" + 0.005*\"未成年\" + 0.005*\"地震\" + 0.005*\"發生\" + 0.005*\"台灣\" + 0.004*\"藝人\" + 0.004*\"中國\" + 0.004*\"影片\" + 0.003*\"美國\"\n",
      "2024-05-06 16:46:46,838 : INFO : topic #1 (0.333): 0.007*\"美國\" + 0.007*\"表示\" + 0.007*\"台灣\" + 0.007*\"以色列\" + 0.007*\"伊朗\" + 0.006*\"徐巧\" + 0.006*\"立委\" + 0.004*\"統神\" + 0.004*\"直播\" + 0.004*\"民進黨\"\n",
      "2024-05-06 16:46:46,839 : INFO : topic #2 (0.333): 0.008*\"表示\" + 0.005*\"網友\" + 0.005*\"粉絲\" + 0.004*\"台灣\" + 0.004*\"已經\" + 0.004*\"報導\" + 0.003*\"真的\" + 0.003*\"許多\" + 0.003*\"一名\" + 0.003*\"發現\"\n",
      "2024-05-06 16:46:46,840 : INFO : topic diff=0.154991, rho=0.408248\n",
      "2024-05-06 16:46:46,840 : INFO : LdaModel lifecycle event {'msg': 'trained LdaModel<num_terms=5409, num_topics=3, decay=0.5, chunksize=2000> in 4.96s', 'datetime': '2024-05-06T16:46:46.840446', 'gensim': '4.2.0', 'python': '3.7.9 (tags/v3.7.9:13c94747c7, Aug 17 2020, 18:58:18) [MSC v.1900 64 bit (AMD64)]', 'platform': 'Windows-10-10.0.19041-SP0', 'event': 'created'}\n",
      "2024-05-06 16:46:47,385 : INFO : -7.877 per-word bound, 235.1 perplexity estimate based on a held-out corpus of 1134 documents with 140464 words\n",
      "2024-05-06 16:46:47,387 : INFO : using ParallelWordOccurrenceAccumulator<processes=15, batch_size=64> to estimate probabilities from sliding windows\n",
      "2024-05-06 16:46:56,080 : INFO : 1 batches submitted to accumulate stats from 64 documents (11051 virtual)\n",
      "2024-05-06 16:46:56,082 : INFO : 2 batches submitted to accumulate stats from 128 documents (22050 virtual)\n",
      "2024-05-06 16:46:56,085 : INFO : 3 batches submitted to accumulate stats from 192 documents (33607 virtual)\n",
      "2024-05-06 16:46:56,087 : INFO : 4 batches submitted to accumulate stats from 256 documents (43392 virtual)\n",
      "2024-05-06 16:46:56,089 : INFO : 5 batches submitted to accumulate stats from 320 documents (53252 virtual)\n",
      "2024-05-06 16:46:56,091 : INFO : 6 batches submitted to accumulate stats from 384 documents (63729 virtual)\n",
      "2024-05-06 16:46:56,094 : INFO : 7 batches submitted to accumulate stats from 448 documents (74392 virtual)\n",
      "2024-05-06 16:46:56,097 : INFO : 8 batches submitted to accumulate stats from 512 documents (84585 virtual)\n",
      "2024-05-06 16:46:56,100 : INFO : 9 batches submitted to accumulate stats from 576 documents (93953 virtual)\n",
      "2024-05-06 16:46:56,103 : INFO : 10 batches submitted to accumulate stats from 640 documents (104082 virtual)\n",
      "2024-05-06 16:46:56,107 : INFO : 11 batches submitted to accumulate stats from 704 documents (113430 virtual)\n",
      "2024-05-06 16:46:56,110 : INFO : 12 batches submitted to accumulate stats from 768 documents (123196 virtual)\n",
      "2024-05-06 16:46:56,113 : INFO : 13 batches submitted to accumulate stats from 832 documents (133317 virtual)\n",
      "2024-05-06 16:46:56,117 : INFO : 14 batches submitted to accumulate stats from 896 documents (142778 virtual)\n",
      "2024-05-06 16:46:56,124 : INFO : 15 batches submitted to accumulate stats from 960 documents (151772 virtual)\n",
      "2024-05-06 16:46:56,133 : INFO : 16 batches submitted to accumulate stats from 1024 documents (163048 virtual)\n",
      "2024-05-06 16:46:56,138 : INFO : 17 batches submitted to accumulate stats from 1088 documents (173310 virtual)\n",
      "2024-05-06 16:46:56,141 : INFO : 18 batches submitted to accumulate stats from 1152 documents (181244 virtual)\n",
      "2024-05-06 16:46:56,360 : INFO : 15 accumulators retrieved from output queue\n",
      "2024-05-06 16:46:56,377 : INFO : accumulated word occurrence stats for 181244 virtual documents\n",
      "2024-05-06 16:46:56,445 : INFO : using symmetric alpha at 0.25\n",
      "2024-05-06 16:46:56,446 : INFO : using symmetric eta at 0.25\n",
      "2024-05-06 16:46:56,447 : INFO : using serial LDA version on this node\n",
      "2024-05-06 16:46:56,449 : INFO : running online (multi-pass) LDA training, 4 topics, 5 passes over the supplied corpus of 1134 documents, updating model once every 1134 documents, evaluating perplexity every 1134 documents, iterating 50x with a convergence threshold of 0.001000\n",
      "2024-05-06 16:46:56,450 : WARNING : too few updates, training might not converge; consider increasing the number of passes or iterations to improve accuracy\n",
      "2024-05-06 16:46:57,153 : INFO : -9.186 per-word bound, 582.5 perplexity estimate based on a held-out corpus of 1134 documents with 140464 words\n",
      "2024-05-06 16:46:57,153 : INFO : PROGRESS: pass 0, at document #1134/1134\n",
      "2024-05-06 16:46:57,628 : INFO : topic #0 (0.250): 0.014*\"黃子佼\" + 0.004*\"表示\" + 0.004*\"台灣\" + 0.004*\"發生\" + 0.004*\"地震\" + 0.004*\"報導\" + 0.004*\"中國\" + 0.004*\"美國\" + 0.003*\"時間\" + 0.003*\"總統\"\n",
      "2024-05-06 16:46:57,629 : INFO : topic #1 (0.250): 0.007*\"黃子佼\" + 0.006*\"表示\" + 0.005*\"美國\" + 0.005*\"網友\" + 0.005*\"台灣\" + 0.004*\"已經\" + 0.004*\"伊朗\" + 0.003*\"發生\" + 0.003*\"民眾\" + 0.003*\"希望\"\n",
      "2024-05-06 16:46:57,630 : INFO : topic #2 (0.250): 0.010*\"表示\" + 0.004*\"網友\" + 0.004*\"已經\" + 0.004*\"影片\" + 0.004*\"報導\" + 0.003*\"許多\" + 0.003*\"台灣\" + 0.003*\"真的\" + 0.003*\"粉絲\" + 0.003*\"發生\"\n",
      "2024-05-06 16:46:57,631 : INFO : topic #3 (0.250): 0.009*\"台灣\" + 0.009*\"表示\" + 0.007*\"黃子佼\" + 0.004*\"日本\" + 0.004*\"已經\" + 0.004*\"美國\" + 0.003*\"網友\" + 0.003*\"真的\" + 0.003*\"發生\" + 0.003*\"工作\"\n",
      "2024-05-06 16:46:57,631 : INFO : topic diff=0.897546, rho=1.000000\n",
      "2024-05-06 16:46:58,287 : INFO : -8.116 per-word bound, 277.5 perplexity estimate based on a held-out corpus of 1134 documents with 140464 words\n",
      "2024-05-06 16:46:58,288 : INFO : PROGRESS: pass 1, at document #1134/1134\n",
      "2024-05-06 16:46:58,714 : INFO : topic #0 (0.250): 0.020*\"黃子佼\" + 0.005*\"表示\" + 0.005*\"未成年\" + 0.004*\"地震\" + 0.004*\"發生\" + 0.004*\"中國\" + 0.004*\"藝人\" + 0.004*\"總統\" + 0.004*\"台灣\" + 0.003*\"報導\"\n",
      "2024-05-06 16:46:58,715 : INFO : topic #1 (0.250): 0.006*\"伊朗\" + 0.006*\"表示\" + 0.006*\"美國\" + 0.006*\"黃子佼\" + 0.006*\"以色列\" + 0.004*\"網友\" + 0.004*\"立委\" + 0.004*\"台灣\" + 0.004*\"已經\" + 0.003*\"大谷\"\n",
      "2024-05-06 16:46:58,716 : INFO : topic #2 (0.250): 0.009*\"表示\" + 0.005*\"網友\" + 0.004*\"已經\" + 0.004*\"粉絲\" + 0.004*\"報導\" + 0.003*\"許多\" + 0.003*\"真的\" + 0.003*\"影片\" + 0.003*\"一名\" + 0.003*\"發生\"\n",
      "2024-05-06 16:46:58,716 : INFO : topic #3 (0.250): 0.012*\"台灣\" + 0.009*\"表示\" + 0.005*\"日本\" + 0.005*\"美國\" + 0.005*\"黃子佼\" + 0.004*\"已經\" + 0.004*\"中國\" + 0.003*\"發生\" + 0.003*\"工作\" + 0.003*\"網友\"\n",
      "2024-05-06 16:46:58,717 : INFO : topic diff=0.341831, rho=0.577350\n",
      "2024-05-06 16:46:59,310 : INFO : -7.999 per-word bound, 255.8 perplexity estimate based on a held-out corpus of 1134 documents with 140464 words\n",
      "2024-05-06 16:46:59,310 : INFO : PROGRESS: pass 2, at document #1134/1134\n",
      "2024-05-06 16:46:59,677 : INFO : topic #0 (0.250): 0.024*\"黃子佼\" + 0.006*\"未成年\" + 0.006*\"表示\" + 0.005*\"藝人\" + 0.005*\"地震\" + 0.004*\"發生\" + 0.004*\"影片\" + 0.004*\"總統\" + 0.004*\"中國\" + 0.003*\"小姐\"\n",
      "2024-05-06 16:46:59,678 : INFO : topic #1 (0.250): 0.008*\"伊朗\" + 0.008*\"以色列\" + 0.006*\"表示\" + 0.006*\"美國\" + 0.005*\"立委\" + 0.005*\"大谷\" + 0.004*\"統神\" + 0.004*\"黃子佼\" + 0.004*\"直播\" + 0.004*\"攻擊\"\n",
      "2024-05-06 16:46:59,678 : INFO : topic #2 (0.250): 0.008*\"表示\" + 0.005*\"網友\" + 0.004*\"粉絲\" + 0.004*\"已經\" + 0.004*\"報導\" + 0.003*\"真的\" + 0.003*\"許多\" + 0.003*\"一名\" + 0.003*\"公司\" + 0.003*\"影片\"\n",
      "2024-05-06 16:46:59,679 : INFO : topic #3 (0.250): 0.014*\"台灣\" + 0.008*\"表示\" + 0.007*\"日本\" + 0.006*\"美國\" + 0.005*\"中國\" + 0.004*\"發生\" + 0.004*\"已經\" + 0.004*\"地震\" + 0.003*\"大陸\" + 0.003*\"指出\"\n",
      "2024-05-06 16:46:59,680 : INFO : topic diff=0.293640, rho=0.500000\n",
      "2024-05-06 16:47:00,248 : INFO : -7.929 per-word bound, 243.7 perplexity estimate based on a held-out corpus of 1134 documents with 140464 words\n",
      "2024-05-06 16:47:00,249 : INFO : PROGRESS: pass 3, at document #1134/1134\n",
      "2024-05-06 16:47:00,588 : INFO : topic #0 (0.250): 0.027*\"黃子佼\" + 0.007*\"未成年\" + 0.006*\"表示\" + 0.005*\"藝人\" + 0.004*\"影片\" + 0.004*\"地震\" + 0.004*\"少女\" + 0.004*\"發生\" + 0.004*\"小姐\" + 0.004*\"總統\"\n",
      "2024-05-06 16:47:00,589 : INFO : topic #1 (0.250): 0.009*\"伊朗\" + 0.009*\"以色列\" + 0.007*\"表示\" + 0.006*\"立委\" + 0.006*\"美國\" + 0.005*\"統神\" + 0.005*\"大谷\" + 0.005*\"直播\" + 0.005*\"徐巧\" + 0.004*\"攻擊\"\n",
      "2024-05-06 16:47:00,590 : INFO : topic #2 (0.250): 0.008*\"表示\" + 0.005*\"網友\" + 0.005*\"粉絲\" + 0.004*\"已經\" + 0.004*\"報導\" + 0.004*\"真的\" + 0.003*\"許多\" + 0.003*\"一名\" + 0.003*\"發現\" + 0.003*\"公司\"\n",
      "2024-05-06 16:47:00,590 : INFO : topic #3 (0.250): 0.015*\"台灣\" + 0.008*\"表示\" + 0.008*\"日本\" + 0.008*\"美國\" + 0.006*\"中國\" + 0.005*\"地震\" + 0.005*\"發生\" + 0.004*\"已經\" + 0.004*\"民眾\" + 0.004*\"大陸\"\n",
      "2024-05-06 16:47:00,591 : INFO : topic diff=0.250652, rho=0.447214\n",
      "2024-05-06 16:47:01,143 : INFO : -7.883 per-word bound, 236.0 perplexity estimate based on a held-out corpus of 1134 documents with 140464 words\n",
      "2024-05-06 16:47:01,143 : INFO : PROGRESS: pass 4, at document #1134/1134\n",
      "2024-05-06 16:47:01,465 : INFO : topic #0 (0.250): 0.029*\"黃子佼\" + 0.007*\"未成年\" + 0.006*\"表示\" + 0.006*\"藝人\" + 0.005*\"影片\" + 0.004*\"少女\" + 0.004*\"小姐\" + 0.004*\"影像\" + 0.004*\"總統\" + 0.004*\"真的\"\n",
      "2024-05-06 16:47:01,466 : INFO : topic #1 (0.250): 0.010*\"伊朗\" + 0.010*\"以色列\" + 0.007*\"立委\" + 0.007*\"表示\" + 0.007*\"徐巧\" + 0.006*\"美國\" + 0.006*\"統神\" + 0.006*\"直播\" + 0.005*\"大谷\" + 0.005*\"攻擊\"\n",
      "2024-05-06 16:47:01,467 : INFO : topic #2 (0.250): 0.008*\"表示\" + 0.005*\"網友\" + 0.005*\"粉絲\" + 0.004*\"已經\" + 0.004*\"報導\" + 0.004*\"真的\" + 0.003*\"許多\" + 0.003*\"一名\" + 0.003*\"發現\" + 0.003*\"知道\"\n",
      "2024-05-06 16:47:01,468 : INFO : topic #3 (0.250): 0.015*\"台灣\" + 0.009*\"美國\" + 0.008*\"表示\" + 0.008*\"日本\" + 0.007*\"中國\" + 0.006*\"地震\" + 0.005*\"發生\" + 0.004*\"民眾\" + 0.004*\"已經\" + 0.004*\"大陸\"\n",
      "2024-05-06 16:47:01,468 : INFO : topic diff=0.216920, rho=0.408248\n",
      "2024-05-06 16:47:01,468 : INFO : LdaModel lifecycle event {'msg': 'trained LdaModel<num_terms=5409, num_topics=4, decay=0.5, chunksize=2000> in 5.02s', 'datetime': '2024-05-06T16:47:01.468589', 'gensim': '4.2.0', 'python': '3.7.9 (tags/v3.7.9:13c94747c7, Aug 17 2020, 18:58:18) [MSC v.1900 64 bit (AMD64)]', 'platform': 'Windows-10-10.0.19041-SP0', 'event': 'created'}\n",
      "2024-05-06 16:47:02,004 : INFO : -7.850 per-word bound, 230.7 perplexity estimate based on a held-out corpus of 1134 documents with 140464 words\n",
      "2024-05-06 16:47:02,006 : INFO : using ParallelWordOccurrenceAccumulator<processes=15, batch_size=64> to estimate probabilities from sliding windows\n",
      "2024-05-06 16:47:10,691 : INFO : 1 batches submitted to accumulate stats from 64 documents (11051 virtual)\n",
      "2024-05-06 16:47:10,693 : INFO : 2 batches submitted to accumulate stats from 128 documents (22050 virtual)\n",
      "2024-05-06 16:47:10,695 : INFO : 3 batches submitted to accumulate stats from 192 documents (33607 virtual)\n",
      "2024-05-06 16:47:10,698 : INFO : 4 batches submitted to accumulate stats from 256 documents (43392 virtual)\n",
      "2024-05-06 16:47:10,700 : INFO : 5 batches submitted to accumulate stats from 320 documents (53252 virtual)\n",
      "2024-05-06 16:47:10,702 : INFO : 6 batches submitted to accumulate stats from 384 documents (63729 virtual)\n",
      "2024-05-06 16:47:10,705 : INFO : 7 batches submitted to accumulate stats from 448 documents (74392 virtual)\n",
      "2024-05-06 16:47:10,707 : INFO : 8 batches submitted to accumulate stats from 512 documents (84585 virtual)\n",
      "2024-05-06 16:47:10,711 : INFO : 9 batches submitted to accumulate stats from 576 documents (93953 virtual)\n",
      "2024-05-06 16:47:10,715 : INFO : 10 batches submitted to accumulate stats from 640 documents (104082 virtual)\n",
      "2024-05-06 16:47:10,719 : INFO : 11 batches submitted to accumulate stats from 704 documents (113430 virtual)\n",
      "2024-05-06 16:47:10,722 : INFO : 12 batches submitted to accumulate stats from 768 documents (123196 virtual)\n",
      "2024-05-06 16:47:10,726 : INFO : 13 batches submitted to accumulate stats from 832 documents (133317 virtual)\n",
      "2024-05-06 16:47:10,731 : INFO : 14 batches submitted to accumulate stats from 896 documents (142778 virtual)\n",
      "2024-05-06 16:47:10,740 : INFO : 15 batches submitted to accumulate stats from 960 documents (151772 virtual)\n",
      "2024-05-06 16:47:10,755 : INFO : 16 batches submitted to accumulate stats from 1024 documents (163048 virtual)\n",
      "2024-05-06 16:47:10,767 : INFO : 17 batches submitted to accumulate stats from 1088 documents (173310 virtual)\n",
      "2024-05-06 16:47:10,771 : INFO : 18 batches submitted to accumulate stats from 1152 documents (181244 virtual)\n",
      "2024-05-06 16:47:10,999 : INFO : 15 accumulators retrieved from output queue\n",
      "2024-05-06 16:47:11,018 : INFO : accumulated word occurrence stats for 181244 virtual documents\n",
      "2024-05-06 16:47:11,106 : INFO : using symmetric alpha at 0.2\n",
      "2024-05-06 16:47:11,107 : INFO : using symmetric eta at 0.2\n",
      "2024-05-06 16:47:11,109 : INFO : using serial LDA version on this node\n",
      "2024-05-06 16:47:11,111 : INFO : running online (multi-pass) LDA training, 5 topics, 5 passes over the supplied corpus of 1134 documents, updating model once every 1134 documents, evaluating perplexity every 1134 documents, iterating 50x with a convergence threshold of 0.001000\n",
      "2024-05-06 16:47:11,111 : WARNING : too few updates, training might not converge; consider increasing the number of passes or iterations to improve accuracy\n",
      "2024-05-06 16:47:11,810 : INFO : -9.264 per-word bound, 615.0 perplexity estimate based on a held-out corpus of 1134 documents with 140464 words\n",
      "2024-05-06 16:47:11,811 : INFO : PROGRESS: pass 0, at document #1134/1134\n",
      "2024-05-06 16:47:12,281 : INFO : topic #0 (0.200): 0.013*\"黃子佼\" + 0.004*\"表示\" + 0.004*\"美國\" + 0.004*\"時間\" + 0.004*\"報導\" + 0.004*\"中國\" + 0.004*\"台灣\" + 0.003*\"總統\" + 0.003*\"發生\" + 0.003*\"現在\"\n",
      "2024-05-06 16:47:12,282 : INFO : topic #1 (0.200): 0.007*\"黃子佼\" + 0.006*\"美國\" + 0.005*\"表示\" + 0.004*\"伊朗\" + 0.004*\"台灣\" + 0.004*\"網友\" + 0.004*\"已經\" + 0.004*\"立委\" + 0.004*\"以色列\" + 0.003*\"希望\"\n",
      "2024-05-06 16:47:12,283 : INFO : topic #2 (0.200): 0.010*\"表示\" + 0.004*\"已經\" + 0.004*\"報導\" + 0.004*\"網友\" + 0.003*\"影片\" + 0.003*\"許多\" + 0.003*\"粉絲\" + 0.003*\"美國\" + 0.003*\"真的\" + 0.003*\"一名\"\n",
      "2024-05-06 16:47:12,283 : INFO : topic #3 (0.200): 0.009*\"台灣\" + 0.009*\"表示\" + 0.007*\"黃子佼\" + 0.004*\"日本\" + 0.004*\"美國\" + 0.004*\"已經\" + 0.004*\"真的\" + 0.003*\"工作\" + 0.003*\"粉絲\" + 0.003*\"指出\"\n",
      "2024-05-06 16:47:12,284 : INFO : topic #4 (0.200): 0.008*\"表示\" + 0.008*\"黃子佼\" + 0.007*\"台灣\" + 0.005*\"發生\" + 0.005*\"網友\" + 0.005*\"地震\" + 0.004*\"日本\" + 0.003*\"已經\" + 0.003*\"民眾\" + 0.003*\"中國\"\n",
      "2024-05-06 16:47:12,284 : INFO : topic diff=0.977465, rho=1.000000\n",
      "2024-05-06 16:47:12,926 : INFO : -8.159 per-word bound, 285.9 perplexity estimate based on a held-out corpus of 1134 documents with 140464 words\n",
      "2024-05-06 16:47:12,927 : INFO : PROGRESS: pass 1, at document #1134/1134\n",
      "2024-05-06 16:47:13,342 : INFO : topic #0 (0.200): 0.020*\"黃子佼\" + 0.005*\"表示\" + 0.004*\"中國\" + 0.004*\"總統\" + 0.004*\"未成年\" + 0.004*\"藝人\" + 0.004*\"立委\" + 0.004*\"美國\" + 0.004*\"報導\" + 0.003*\"時間\"\n",
      "2024-05-06 16:47:13,343 : INFO : topic #1 (0.200): 0.008*\"伊朗\" + 0.007*\"以色列\" + 0.007*\"美國\" + 0.006*\"表示\" + 0.005*\"黃子佼\" + 0.005*\"立委\" + 0.004*\"大谷\" + 0.004*\"統神\" + 0.004*\"民進黨\" + 0.004*\"已經\"\n",
      "2024-05-06 16:47:13,344 : INFO : topic #2 (0.200): 0.009*\"表示\" + 0.004*\"粉絲\" + 0.004*\"已經\" + 0.004*\"網友\" + 0.004*\"許多\" + 0.004*\"報導\" + 0.003*\"真的\" + 0.003*\"公司\" + 0.003*\"一名\" + 0.003*\"影片\"\n",
      "2024-05-06 16:47:13,344 : INFO : topic #3 (0.200): 0.011*\"台灣\" + 0.009*\"表示\" + 0.006*\"黃子佼\" + 0.005*\"美國\" + 0.005*\"日本\" + 0.004*\"工作\" + 0.003*\"已經\" + 0.003*\"進行\" + 0.003*\"真的\" + 0.003*\"指出\"\n",
      "2024-05-06 16:47:13,345 : INFO : topic #4 (0.200): 0.009*\"台灣\" + 0.008*\"表示\" + 0.007*\"黃子佼\" + 0.007*\"地震\" + 0.007*\"發生\" + 0.006*\"網友\" + 0.004*\"日本\" + 0.004*\"民眾\" + 0.004*\"中國\" + 0.004*\"已經\"\n",
      "2024-05-06 16:47:13,345 : INFO : topic diff=0.402443, rho=0.577350\n",
      "2024-05-06 16:47:13,936 : INFO : -8.028 per-word bound, 260.9 perplexity estimate based on a held-out corpus of 1134 documents with 140464 words\n",
      "2024-05-06 16:47:13,937 : INFO : PROGRESS: pass 2, at document #1134/1134\n",
      "2024-05-06 16:47:14,305 : INFO : topic #0 (0.200): 0.025*\"黃子佼\" + 0.005*\"未成年\" + 0.005*\"表示\" + 0.005*\"藝人\" + 0.004*\"立委\" + 0.004*\"總統\" + 0.004*\"中國\" + 0.004*\"小姐\" + 0.004*\"徐巧\" + 0.004*\"影片\"\n",
      "2024-05-06 16:47:14,306 : INFO : topic #1 (0.200): 0.010*\"伊朗\" + 0.009*\"以色列\" + 0.007*\"美國\" + 0.006*\"表示\" + 0.006*\"立委\" + 0.005*\"大谷\" + 0.005*\"統神\" + 0.004*\"攻擊\" + 0.004*\"民進黨\" + 0.004*\"黃子佼\"\n",
      "2024-05-06 16:47:14,307 : INFO : topic #2 (0.200): 0.008*\"表示\" + 0.005*\"粉絲\" + 0.004*\"網友\" + 0.004*\"已經\" + 0.004*\"許多\" + 0.004*\"報導\" + 0.004*\"真的\" + 0.003*\"公司\" + 0.003*\"一名\" + 0.003*\"一起\"\n",
      "2024-05-06 16:47:14,307 : INFO : topic #3 (0.200): 0.012*\"台灣\" + 0.009*\"表示\" + 0.007*\"美國\" + 0.006*\"日本\" + 0.004*\"黃子佼\" + 0.004*\"工作\" + 0.004*\"進行\" + 0.003*\"已經\" + 0.003*\"指出\" + 0.003*\"合作\"\n",
      "2024-05-06 16:47:14,308 : INFO : topic #4 (0.200): 0.010*\"台灣\" + 0.008*\"表示\" + 0.008*\"地震\" + 0.008*\"發生\" + 0.006*\"網友\" + 0.005*\"黃子佼\" + 0.005*\"日本\" + 0.004*\"民眾\" + 0.004*\"已經\" + 0.004*\"中國\"\n",
      "2024-05-06 16:47:14,308 : INFO : topic diff=0.353954, rho=0.500000\n",
      "2024-05-06 16:47:14,874 : INFO : -7.946 per-word bound, 246.6 perplexity estimate based on a held-out corpus of 1134 documents with 140464 words\n",
      "2024-05-06 16:47:14,875 : INFO : PROGRESS: pass 3, at document #1134/1134\n",
      "2024-05-06 16:47:15,217 : INFO : topic #0 (0.200): 0.028*\"黃子佼\" + 0.006*\"未成年\" + 0.006*\"藝人\" + 0.005*\"表示\" + 0.005*\"立委\" + 0.005*\"徐巧\" + 0.004*\"小姐\" + 0.004*\"影片\" + 0.004*\"總統\" + 0.004*\"少女\"\n",
      "2024-05-06 16:47:15,218 : INFO : topic #1 (0.200): 0.011*\"伊朗\" + 0.011*\"以色列\" + 0.007*\"美國\" + 0.007*\"立委\" + 0.006*\"表示\" + 0.006*\"大谷\" + 0.005*\"統神\" + 0.005*\"攻擊\" + 0.005*\"直播\" + 0.005*\"民進黨\"\n",
      "2024-05-06 16:47:15,218 : INFO : topic #2 (0.200): 0.008*\"表示\" + 0.005*\"粉絲\" + 0.005*\"網友\" + 0.004*\"已經\" + 0.004*\"許多\" + 0.004*\"報導\" + 0.004*\"真的\" + 0.003*\"公司\" + 0.003*\"一名\" + 0.003*\"一起\"\n",
      "2024-05-06 16:47:15,219 : INFO : topic #3 (0.200): 0.012*\"台灣\" + 0.009*\"美國\" + 0.008*\"表示\" + 0.007*\"日本\" + 0.004*\"進行\" + 0.004*\"中國\" + 0.004*\"工作\" + 0.003*\"指出\" + 0.003*\"合作\" + 0.003*\"總統\"\n",
      "2024-05-06 16:47:15,219 : INFO : topic #4 (0.200): 0.010*\"台灣\" + 0.009*\"地震\" + 0.009*\"表示\" + 0.009*\"發生\" + 0.006*\"網友\" + 0.005*\"民眾\" + 0.005*\"日本\" + 0.005*\"已經\" + 0.005*\"大陸\" + 0.005*\"中國\"\n",
      "2024-05-06 16:47:15,220 : INFO : topic diff=0.307209, rho=0.447214\n",
      "2024-05-06 16:47:15,765 : INFO : -7.893 per-word bound, 237.7 perplexity estimate based on a held-out corpus of 1134 documents with 140464 words\n",
      "2024-05-06 16:47:15,766 : INFO : PROGRESS: pass 4, at document #1134/1134\n",
      "2024-05-06 16:47:16,084 : INFO : topic #0 (0.200): 0.031*\"黃子佼\" + 0.007*\"未成年\" + 0.006*\"藝人\" + 0.006*\"表示\" + 0.005*\"徐巧\" + 0.005*\"立委\" + 0.004*\"影片\" + 0.004*\"小姐\" + 0.004*\"少女\" + 0.004*\"影像\"\n",
      "2024-05-06 16:47:16,085 : INFO : topic #1 (0.200): 0.012*\"伊朗\" + 0.012*\"以色列\" + 0.007*\"立委\" + 0.007*\"美國\" + 0.007*\"大谷\" + 0.006*\"表示\" + 0.006*\"統神\" + 0.006*\"攻擊\" + 0.005*\"直播\" + 0.005*\"徐巧\"\n",
      "2024-05-06 16:47:16,085 : INFO : topic #2 (0.200): 0.008*\"表示\" + 0.006*\"粉絲\" + 0.005*\"網友\" + 0.004*\"許多\" + 0.004*\"已經\" + 0.004*\"報導\" + 0.004*\"真的\" + 0.003*\"一名\" + 0.003*\"公司\" + 0.003*\"一起\"\n",
      "2024-05-06 16:47:16,086 : INFO : topic #3 (0.200): 0.013*\"台灣\" + 0.010*\"美國\" + 0.008*\"表示\" + 0.008*\"日本\" + 0.005*\"中國\" + 0.004*\"進行\" + 0.004*\"總統\" + 0.004*\"指出\" + 0.004*\"工作\" + 0.003*\"合作\"\n",
      "2024-05-06 16:47:16,086 : INFO : topic #4 (0.200): 0.010*\"地震\" + 0.010*\"台灣\" + 0.009*\"發生\" + 0.009*\"表示\" + 0.006*\"民眾\" + 0.005*\"日本\" + 0.005*\"網友\" + 0.005*\"大陸\" + 0.005*\"已經\" + 0.005*\"中國\"\n",
      "2024-05-06 16:47:16,087 : INFO : topic diff=0.264500, rho=0.408248\n",
      "2024-05-06 16:47:16,087 : INFO : LdaModel lifecycle event {'msg': 'trained LdaModel<num_terms=5409, num_topics=5, decay=0.5, chunksize=2000> in 4.98s', 'datetime': '2024-05-06T16:47:16.087626', 'gensim': '4.2.0', 'python': '3.7.9 (tags/v3.7.9:13c94747c7, Aug 17 2020, 18:58:18) [MSC v.1900 64 bit (AMD64)]', 'platform': 'Windows-10-10.0.19041-SP0', 'event': 'created'}\n",
      "2024-05-06 16:47:16,628 : INFO : -7.856 per-word bound, 231.7 perplexity estimate based on a held-out corpus of 1134 documents with 140464 words\n",
      "2024-05-06 16:47:16,630 : INFO : using ParallelWordOccurrenceAccumulator<processes=15, batch_size=64> to estimate probabilities from sliding windows\n",
      "2024-05-06 16:47:25,648 : INFO : 1 batches submitted to accumulate stats from 64 documents (11051 virtual)\n",
      "2024-05-06 16:47:25,651 : INFO : 2 batches submitted to accumulate stats from 128 documents (22050 virtual)\n",
      "2024-05-06 16:47:25,653 : INFO : 3 batches submitted to accumulate stats from 192 documents (33607 virtual)\n",
      "2024-05-06 16:47:25,655 : INFO : 4 batches submitted to accumulate stats from 256 documents (43392 virtual)\n",
      "2024-05-06 16:47:25,657 : INFO : 5 batches submitted to accumulate stats from 320 documents (53252 virtual)\n",
      "2024-05-06 16:47:25,660 : INFO : 6 batches submitted to accumulate stats from 384 documents (63729 virtual)\n",
      "2024-05-06 16:47:25,662 : INFO : 7 batches submitted to accumulate stats from 448 documents (74392 virtual)\n",
      "2024-05-06 16:47:25,665 : INFO : 8 batches submitted to accumulate stats from 512 documents (84585 virtual)\n",
      "2024-05-06 16:47:25,668 : INFO : 9 batches submitted to accumulate stats from 576 documents (93953 virtual)\n",
      "2024-05-06 16:47:25,672 : INFO : 10 batches submitted to accumulate stats from 640 documents (104082 virtual)\n",
      "2024-05-06 16:47:25,676 : INFO : 11 batches submitted to accumulate stats from 704 documents (113430 virtual)\n",
      "2024-05-06 16:47:25,681 : INFO : 12 batches submitted to accumulate stats from 768 documents (123196 virtual)\n",
      "2024-05-06 16:47:25,688 : INFO : 13 batches submitted to accumulate stats from 832 documents (133317 virtual)\n",
      "2024-05-06 16:47:25,693 : INFO : 14 batches submitted to accumulate stats from 896 documents (142778 virtual)\n",
      "2024-05-06 16:47:25,716 : INFO : 15 batches submitted to accumulate stats from 960 documents (151772 virtual)\n",
      "2024-05-06 16:47:25,730 : INFO : 16 batches submitted to accumulate stats from 1024 documents (163048 virtual)\n",
      "2024-05-06 16:47:25,737 : INFO : 17 batches submitted to accumulate stats from 1088 documents (173310 virtual)\n",
      "2024-05-06 16:47:25,754 : INFO : 18 batches submitted to accumulate stats from 1152 documents (181244 virtual)\n",
      "2024-05-06 16:47:26,040 : INFO : 15 accumulators retrieved from output queue\n",
      "2024-05-06 16:47:26,065 : INFO : accumulated word occurrence stats for 181244 virtual documents\n",
      "2024-05-06 16:47:26,185 : INFO : using symmetric alpha at 0.16666666666666666\n",
      "2024-05-06 16:47:26,185 : INFO : using symmetric eta at 0.16666666666666666\n",
      "2024-05-06 16:47:26,186 : INFO : using serial LDA version on this node\n",
      "2024-05-06 16:47:26,189 : INFO : running online (multi-pass) LDA training, 6 topics, 5 passes over the supplied corpus of 1134 documents, updating model once every 1134 documents, evaluating perplexity every 1134 documents, iterating 50x with a convergence threshold of 0.001000\n",
      "2024-05-06 16:47:26,190 : WARNING : too few updates, training might not converge; consider increasing the number of passes or iterations to improve accuracy\n",
      "2024-05-06 16:47:26,930 : INFO : -9.339 per-word bound, 647.6 perplexity estimate based on a held-out corpus of 1134 documents with 140464 words\n",
      "2024-05-06 16:47:26,931 : INFO : PROGRESS: pass 0, at document #1134/1134\n",
      "2024-05-06 16:47:27,429 : INFO : topic #5 (0.167): 0.009*\"表示\" + 0.008*\"黃子佼\" + 0.007*\"台灣\" + 0.005*\"美國\" + 0.004*\"網友\" + 0.004*\"影片\" + 0.003*\"發生\" + 0.003*\"日本\" + 0.003*\"粉絲\" + 0.003*\"發現\"\n",
      "2024-05-06 16:47:27,430 : INFO : topic #1 (0.167): 0.007*\"黃子佼\" + 0.005*\"美國\" + 0.005*\"表示\" + 0.004*\"立委\" + 0.004*\"已經\" + 0.004*\"以色列\" + 0.004*\"網友\" + 0.004*\"伊朗\" + 0.003*\"台灣\" + 0.003*\"民眾\"\n",
      "2024-05-06 16:47:27,431 : INFO : topic #4 (0.167): 0.007*\"黃子佼\" + 0.007*\"表示\" + 0.007*\"台灣\" + 0.006*\"地震\" + 0.006*\"發生\" + 0.005*\"網友\" + 0.004*\"日本\" + 0.003*\"民眾\" + 0.003*\"已經\" + 0.003*\"中國\"\n",
      "2024-05-06 16:47:27,431 : INFO : topic #3 (0.167): 0.008*\"表示\" + 0.007*\"台灣\" + 0.007*\"黃子佼\" + 0.004*\"已經\" + 0.004*\"日本\" + 0.004*\"真的\" + 0.003*\"美國\" + 0.003*\"工作\" + 0.003*\"指出\" + 0.003*\"報導\"\n",
      "2024-05-06 16:47:27,432 : INFO : topic #0 (0.167): 0.013*\"黃子佼\" + 0.004*\"報導\" + 0.004*\"時間\" + 0.004*\"表示\" + 0.004*\"中國\" + 0.004*\"美國\" + 0.004*\"總統\" + 0.004*\"立委\" + 0.003*\"台灣\" + 0.003*\"發生\"\n",
      "2024-05-06 16:47:27,432 : INFO : topic diff=1.091708, rho=1.000000\n",
      "2024-05-06 16:47:28,111 : INFO : -8.197 per-word bound, 293.5 perplexity estimate based on a held-out corpus of 1134 documents with 140464 words\n",
      "2024-05-06 16:47:28,112 : INFO : PROGRESS: pass 1, at document #1134/1134\n",
      "2024-05-06 16:47:28,548 : INFO : topic #3 (0.167): 0.009*\"台灣\" + 0.008*\"表示\" + 0.006*\"黃子佼\" + 0.005*\"日本\" + 0.005*\"美國\" + 0.004*\"已經\" + 0.003*\"總統\" + 0.003*\"進行\" + 0.003*\"合作\" + 0.003*\"指出\"\n",
      "2024-05-06 16:47:28,549 : INFO : topic #1 (0.167): 0.006*\"立委\" + 0.006*\"以色列\" + 0.006*\"伊朗\" + 0.006*\"大谷\" + 0.005*\"美國\" + 0.005*\"徐巧\" + 0.005*\"黃子佼\" + 0.005*\"民進黨\" + 0.004*\"表示\" + 0.004*\"統神\"\n",
      "2024-05-06 16:47:28,550 : INFO : topic #5 (0.167): 0.009*\"表示\" + 0.009*\"黃子佼\" + 0.007*\"台灣\" + 0.005*\"網友\" + 0.005*\"美國\" + 0.004*\"影片\" + 0.004*\"粉絲\" + 0.004*\"發現\" + 0.003*\"報導\" + 0.003*\"已經\"\n",
      "2024-05-06 16:47:28,551 : INFO : topic #4 (0.167): 0.010*\"台灣\" + 0.009*\"地震\" + 0.008*\"表示\" + 0.007*\"發生\" + 0.006*\"黃子佼\" + 0.005*\"日本\" + 0.005*\"網友\" + 0.004*\"中國\" + 0.004*\"民眾\" + 0.004*\"已經\"\n",
      "2024-05-06 16:47:28,552 : INFO : topic #2 (0.167): 0.008*\"表示\" + 0.004*\"已經\" + 0.004*\"報導\" + 0.004*\"許多\" + 0.004*\"網友\" + 0.004*\"粉絲\" + 0.003*\"真的\" + 0.003*\"市長\" + 0.003*\"一起\" + 0.003*\"山豬\"\n",
      "2024-05-06 16:47:28,552 : INFO : topic diff=0.486079, rho=0.577350\n",
      "2024-05-06 16:47:29,173 : INFO : -8.052 per-word bound, 265.4 perplexity estimate based on a held-out corpus of 1134 documents with 140464 words\n",
      "2024-05-06 16:47:29,174 : INFO : PROGRESS: pass 2, at document #1134/1134\n",
      "2024-05-06 16:47:29,566 : INFO : topic #3 (0.167): 0.010*\"台灣\" + 0.008*\"表示\" + 0.007*\"美國\" + 0.006*\"日本\" + 0.004*\"黃子佼\" + 0.004*\"總統\" + 0.004*\"進行\" + 0.004*\"合作\" + 0.003*\"已經\" + 0.003*\"政府\"\n",
      "2024-05-06 16:47:29,567 : INFO : topic #1 (0.167): 0.009*\"伊朗\" + 0.009*\"以色列\" + 0.007*\"立委\" + 0.007*\"徐巧\" + 0.007*\"大谷\" + 0.006*\"美國\" + 0.005*\"民進黨\" + 0.005*\"統神\" + 0.004*\"表示\" + 0.004*\"直播\"\n",
      "2024-05-06 16:47:29,567 : INFO : topic #2 (0.167): 0.008*\"表示\" + 0.004*\"已經\" + 0.004*\"粉絲\" + 0.004*\"許多\" + 0.004*\"報導\" + 0.004*\"網友\" + 0.004*\"真的\" + 0.003*\"山豬\" + 0.003*\"一起\" + 0.003*\"市長\"\n",
      "2024-05-06 16:47:29,568 : INFO : topic #0 (0.167): 0.020*\"黃子佼\" + 0.007*\"立委\" + 0.005*\"總統\" + 0.004*\"徐巧\" + 0.004*\"表示\" + 0.004*\"中國\" + 0.004*\"主委\" + 0.004*\"未成年\" + 0.004*\"藝人\" + 0.004*\"部長\"\n",
      "2024-05-06 16:47:29,568 : INFO : topic #4 (0.167): 0.012*\"台灣\" + 0.011*\"地震\" + 0.009*\"發生\" + 0.008*\"表示\" + 0.006*\"日本\" + 0.005*\"中國\" + 0.005*\"民眾\" + 0.005*\"已經\" + 0.004*\"奧運\" + 0.004*\"網友\"\n",
      "2024-05-06 16:47:29,569 : INFO : topic diff=0.429406, rho=0.500000\n",
      "2024-05-06 16:47:30,168 : INFO : -7.964 per-word bound, 249.7 perplexity estimate based on a held-out corpus of 1134 documents with 140464 words\n",
      "2024-05-06 16:47:30,169 : INFO : PROGRESS: pass 3, at document #1134/1134\n",
      "2024-05-06 16:47:30,540 : INFO : topic #0 (0.167): 0.023*\"黃子佼\" + 0.007*\"立委\" + 0.005*\"總統\" + 0.005*\"主委\" + 0.005*\"徐巧\" + 0.004*\"表示\" + 0.004*\"未成年\" + 0.004*\"部長\" + 0.004*\"中國\" + 0.004*\"小姐\"\n",
      "2024-05-06 16:47:30,541 : INFO : topic #5 (0.167): 0.012*\"黃子佼\" + 0.009*\"表示\" + 0.006*\"網友\" + 0.005*\"台灣\" + 0.005*\"影片\" + 0.004*\"發現\" + 0.004*\"未成年\" + 0.004*\"真的\" + 0.004*\"美國\" + 0.003*\"粉絲\"\n",
      "2024-05-06 16:47:30,542 : INFO : topic #2 (0.167): 0.007*\"表示\" + 0.005*\"粉絲\" + 0.004*\"已經\" + 0.004*\"許多\" + 0.004*\"網友\" + 0.004*\"真的\" + 0.004*\"報導\" + 0.004*\"一起\" + 0.004*\"山豬\" + 0.003*\"市長\"\n",
      "2024-05-06 16:47:30,543 : INFO : topic #1 (0.167): 0.011*\"伊朗\" + 0.011*\"以色列\" + 0.009*\"徐巧\" + 0.008*\"立委\" + 0.007*\"大谷\" + 0.006*\"美國\" + 0.006*\"統神\" + 0.006*\"民進黨\" + 0.005*\"直播\" + 0.005*\"攻擊\"\n",
      "2024-05-06 16:47:30,543 : INFO : topic #4 (0.167): 0.013*\"台灣\" + 0.012*\"地震\" + 0.010*\"發生\" + 0.009*\"表示\" + 0.007*\"日本\" + 0.005*\"民眾\" + 0.005*\"中國\" + 0.005*\"已經\" + 0.005*\"奧運\" + 0.004*\"花蓮\"\n",
      "2024-05-06 16:47:30,544 : INFO : topic diff=0.371148, rho=0.447214\n",
      "2024-05-06 16:47:31,122 : INFO : -7.908 per-word bound, 240.1 perplexity estimate based on a held-out corpus of 1134 documents with 140464 words\n",
      "2024-05-06 16:47:31,122 : INFO : PROGRESS: pass 4, at document #1134/1134\n",
      "2024-05-06 16:47:31,486 : INFO : topic #3 (0.167): 0.011*\"美國\" + 0.011*\"台灣\" + 0.008*\"日本\" + 0.008*\"表示\" + 0.005*\"總統\" + 0.005*\"中國\" + 0.004*\"進行\" + 0.004*\"全球\" + 0.004*\"政府\" + 0.004*\"合作\"\n",
      "2024-05-06 16:47:31,487 : INFO : topic #0 (0.167): 0.025*\"黃子佼\" + 0.008*\"立委\" + 0.005*\"主委\" + 0.005*\"未成年\" + 0.005*\"部長\" + 0.005*\"總統\" + 0.005*\"小姐\" + 0.005*\"表示\" + 0.004*\"藝人\" + 0.004*\"徐巧\"\n",
      "2024-05-06 16:47:31,487 : INFO : topic #1 (0.167): 0.013*\"伊朗\" + 0.012*\"以色列\" + 0.010*\"徐巧\" + 0.009*\"立委\" + 0.008*\"大谷\" + 0.006*\"統神\" + 0.006*\"美國\" + 0.006*\"民進黨\" + 0.005*\"攻擊\" + 0.005*\"直播\"\n",
      "2024-05-06 16:47:31,488 : INFO : topic #5 (0.167): 0.012*\"黃子佼\" + 0.009*\"表示\" + 0.007*\"網友\" + 0.005*\"影片\" + 0.005*\"台灣\" + 0.004*\"發現\" + 0.004*\"未成年\" + 0.004*\"真的\" + 0.003*\"節目\" + 0.003*\"工作\"\n",
      "2024-05-06 16:47:31,488 : INFO : topic #2 (0.167): 0.007*\"表示\" + 0.005*\"粉絲\" + 0.004*\"已經\" + 0.004*\"許多\" + 0.004*\"網友\" + 0.004*\"真的\" + 0.004*\"一起\" + 0.004*\"報導\" + 0.004*\"山豬\" + 0.004*\"兩人\"\n",
      "2024-05-06 16:47:31,489 : INFO : topic diff=0.316649, rho=0.408248\n",
      "2024-05-06 16:47:31,489 : INFO : LdaModel lifecycle event {'msg': 'trained LdaModel<num_terms=5409, num_topics=6, decay=0.5, chunksize=2000> in 5.30s', 'datetime': '2024-05-06T16:47:31.489924', 'gensim': '4.2.0', 'python': '3.7.9 (tags/v3.7.9:13c94747c7, Aug 17 2020, 18:58:18) [MSC v.1900 64 bit (AMD64)]', 'platform': 'Windows-10-10.0.19041-SP0', 'event': 'created'}\n",
      "2024-05-06 16:47:32,085 : INFO : -7.871 per-word bound, 234.1 perplexity estimate based on a held-out corpus of 1134 documents with 140464 words\n",
      "2024-05-06 16:47:32,087 : INFO : using ParallelWordOccurrenceAccumulator<processes=15, batch_size=64> to estimate probabilities from sliding windows\n",
      "2024-05-06 16:47:40,978 : INFO : 1 batches submitted to accumulate stats from 64 documents (11051 virtual)\n",
      "2024-05-06 16:47:40,980 : INFO : 2 batches submitted to accumulate stats from 128 documents (22050 virtual)\n",
      "2024-05-06 16:47:40,982 : INFO : 3 batches submitted to accumulate stats from 192 documents (33607 virtual)\n",
      "2024-05-06 16:47:40,986 : INFO : 4 batches submitted to accumulate stats from 256 documents (43392 virtual)\n",
      "2024-05-06 16:47:40,988 : INFO : 5 batches submitted to accumulate stats from 320 documents (53252 virtual)\n",
      "2024-05-06 16:47:40,990 : INFO : 6 batches submitted to accumulate stats from 384 documents (63729 virtual)\n",
      "2024-05-06 16:47:40,993 : INFO : 7 batches submitted to accumulate stats from 448 documents (74392 virtual)\n",
      "2024-05-06 16:47:40,995 : INFO : 8 batches submitted to accumulate stats from 512 documents (84585 virtual)\n",
      "2024-05-06 16:47:40,999 : INFO : 9 batches submitted to accumulate stats from 576 documents (93953 virtual)\n",
      "2024-05-06 16:47:41,003 : INFO : 10 batches submitted to accumulate stats from 640 documents (104082 virtual)\n",
      "2024-05-06 16:47:41,007 : INFO : 11 batches submitted to accumulate stats from 704 documents (113430 virtual)\n",
      "2024-05-06 16:47:41,011 : INFO : 12 batches submitted to accumulate stats from 768 documents (123196 virtual)\n",
      "2024-05-06 16:47:41,015 : INFO : 13 batches submitted to accumulate stats from 832 documents (133317 virtual)\n",
      "2024-05-06 16:47:41,019 : INFO : 14 batches submitted to accumulate stats from 896 documents (142778 virtual)\n",
      "2024-05-06 16:47:41,033 : INFO : 15 batches submitted to accumulate stats from 960 documents (151772 virtual)\n",
      "2024-05-06 16:47:41,054 : INFO : 16 batches submitted to accumulate stats from 1024 documents (163048 virtual)\n",
      "2024-05-06 16:47:41,062 : INFO : 17 batches submitted to accumulate stats from 1088 documents (173310 virtual)\n",
      "2024-05-06 16:47:41,066 : INFO : 18 batches submitted to accumulate stats from 1152 documents (181244 virtual)\n",
      "2024-05-06 16:47:41,313 : INFO : 15 accumulators retrieved from output queue\n",
      "2024-05-06 16:47:41,336 : INFO : accumulated word occurrence stats for 181244 virtual documents\n",
      "2024-05-06 16:47:41,467 : INFO : using symmetric alpha at 0.14285714285714285\n",
      "2024-05-06 16:47:41,468 : INFO : using symmetric eta at 0.14285714285714285\n",
      "2024-05-06 16:47:41,469 : INFO : using serial LDA version on this node\n",
      "2024-05-06 16:47:41,472 : INFO : running online (multi-pass) LDA training, 7 topics, 5 passes over the supplied corpus of 1134 documents, updating model once every 1134 documents, evaluating perplexity every 1134 documents, iterating 50x with a convergence threshold of 0.001000\n",
      "2024-05-06 16:47:41,472 : WARNING : too few updates, training might not converge; consider increasing the number of passes or iterations to improve accuracy\n",
      "2024-05-06 16:47:42,195 : INFO : -9.417 per-word bound, 683.6 perplexity estimate based on a held-out corpus of 1134 documents with 140464 words\n",
      "2024-05-06 16:47:42,195 : INFO : PROGRESS: pass 0, at document #1134/1134\n",
      "2024-05-06 16:47:42,677 : INFO : topic #0 (0.143): 0.012*\"黃子佼\" + 0.004*\"報導\" + 0.004*\"總統\" + 0.004*\"時間\" + 0.004*\"表示\" + 0.004*\"中國\" + 0.004*\"美國\" + 0.004*\"立委\" + 0.003*\"發生\" + 0.003*\"地震\"\n",
      "2024-05-06 16:47:42,677 : INFO : topic #1 (0.143): 0.005*\"黃子佼\" + 0.005*\"美國\" + 0.005*\"表示\" + 0.004*\"立委\" + 0.004*\"以色列\" + 0.004*\"已經\" + 0.004*\"伊朗\" + 0.004*\"網友\" + 0.003*\"台灣\" + 0.003*\"民進黨\"\n",
      "2024-05-06 16:47:42,678 : INFO : topic #4 (0.143): 0.007*\"台灣\" + 0.007*\"表示\" + 0.007*\"黃子佼\" + 0.006*\"地震\" + 0.006*\"發生\" + 0.005*\"網友\" + 0.004*\"民眾\" + 0.004*\"日本\" + 0.004*\"已經\" + 0.003*\"中國\"\n",
      "2024-05-06 16:47:42,678 : INFO : topic #2 (0.143): 0.009*\"表示\" + 0.004*\"已經\" + 0.004*\"報導\" + 0.004*\"網友\" + 0.003*\"許多\" + 0.003*\"真的\" + 0.003*\"一名\" + 0.003*\"粉絲\" + 0.003*\"影片\" + 0.003*\"市長\"\n",
      "2024-05-06 16:47:42,679 : INFO : topic #5 (0.143): 0.010*\"表示\" + 0.008*\"台灣\" + 0.007*\"黃子佼\" + 0.006*\"美國\" + 0.004*\"網友\" + 0.004*\"影片\" + 0.004*\"粉絲\" + 0.003*\"發現\" + 0.003*\"日本\" + 0.003*\"發生\"\n",
      "2024-05-06 16:47:42,679 : INFO : topic diff=1.213772, rho=1.000000\n",
      "2024-05-06 16:47:43,324 : INFO : -8.232 per-word bound, 300.6 perplexity estimate based on a held-out corpus of 1134 documents with 140464 words\n",
      "2024-05-06 16:47:43,325 : INFO : PROGRESS: pass 1, at document #1134/1134\n",
      "2024-05-06 16:47:43,747 : INFO : topic #4 (0.143): 0.011*\"台灣\" + 0.009*\"地震\" + 0.008*\"表示\" + 0.008*\"發生\" + 0.005*\"日本\" + 0.005*\"網友\" + 0.005*\"中國\" + 0.004*\"民眾\" + 0.004*\"已經\" + 0.004*\"黃子佼\"\n",
      "2024-05-06 16:47:43,748 : INFO : topic #1 (0.143): 0.008*\"伊朗\" + 0.008*\"以色列\" + 0.006*\"立委\" + 0.005*\"統神\" + 0.005*\"美國\" + 0.005*\"民進黨\" + 0.005*\"表示\" + 0.004*\"已經\" + 0.004*\"黃子佼\" + 0.004*\"賴清德\"\n",
      "2024-05-06 16:47:43,749 : INFO : topic #5 (0.143): 0.009*\"表示\" + 0.007*\"台灣\" + 0.006*\"美國\" + 0.005*\"黃子佼\" + 0.005*\"網友\" + 0.004*\"影片\" + 0.004*\"粉絲\" + 0.004*\"發現\" + 0.003*\"報導\" + 0.003*\"工作\"\n",
      "2024-05-06 16:47:43,749 : INFO : topic #3 (0.143): 0.009*\"台灣\" + 0.007*\"表示\" + 0.006*\"日本\" + 0.005*\"美國\" + 0.004*\"已經\" + 0.004*\"黃子佼\" + 0.003*\"進行\" + 0.003*\"總統\" + 0.003*\"合作\" + 0.003*\"真的\"\n",
      "2024-05-06 16:47:43,750 : INFO : topic #0 (0.143): 0.009*\"黃子佼\" + 0.006*\"總統\" + 0.005*\"中國\" + 0.004*\"報導\" + 0.004*\"主委\" + 0.004*\"立委\" + 0.004*\"美國\" + 0.004*\"吳卓源\" + 0.004*\"部長\" + 0.004*\"表示\"\n",
      "2024-05-06 16:47:43,750 : INFO : topic diff=0.588607, rho=0.577350\n",
      "2024-05-06 16:47:44,357 : INFO : -8.045 per-word bound, 264.0 perplexity estimate based on a held-out corpus of 1134 documents with 140464 words\n",
      "2024-05-06 16:47:44,357 : INFO : PROGRESS: pass 2, at document #1134/1134\n",
      "2024-05-06 16:47:44,729 : INFO : topic #2 (0.143): 0.008*\"表示\" + 0.004*\"已經\" + 0.004*\"粉絲\" + 0.004*\"網友\" + 0.004*\"許多\" + 0.004*\"報導\" + 0.004*\"山豬\" + 0.004*\"真的\" + 0.004*\"一起\" + 0.003*\"一名\"\n",
      "2024-05-06 16:47:44,730 : INFO : topic #6 (0.143): 0.033*\"黃子佼\" + 0.010*\"徐巧\" + 0.007*\"未成年\" + 0.007*\"表示\" + 0.007*\"藝人\" + 0.006*\"大谷\" + 0.005*\"立委\" + 0.005*\"少女\" + 0.005*\"小姐\" + 0.004*\"大姑\"\n",
      "2024-05-06 16:47:44,731 : INFO : topic #1 (0.143): 0.013*\"伊朗\" + 0.012*\"以色列\" + 0.008*\"統神\" + 0.007*\"立委\" + 0.006*\"民進黨\" + 0.006*\"美國\" + 0.005*\"攻擊\" + 0.005*\"表示\" + 0.004*\"國民黨\" + 0.004*\"賴清德\"\n",
      "2024-05-06 16:47:44,732 : INFO : topic #4 (0.143): 0.013*\"台灣\" + 0.012*\"地震\" + 0.009*\"發生\" + 0.009*\"表示\" + 0.006*\"日本\" + 0.005*\"中國\" + 0.005*\"民眾\" + 0.005*\"已經\" + 0.005*\"奧運\" + 0.004*\"網友\"\n",
      "2024-05-06 16:47:44,732 : INFO : topic #0 (0.143): 0.008*\"總統\" + 0.006*\"主委\" + 0.006*\"黃子佼\" + 0.006*\"部長\" + 0.005*\"中國\" + 0.004*\"立委\" + 0.004*\"美國\" + 0.004*\"報導\" + 0.004*\"表示\" + 0.004*\"吳卓源\"\n",
      "2024-05-06 16:47:44,733 : INFO : topic diff=0.517389, rho=0.500000\n",
      "2024-05-06 16:47:45,308 : INFO : -7.941 per-word bound, 245.8 perplexity estimate based on a held-out corpus of 1134 documents with 140464 words\n",
      "2024-05-06 16:47:45,309 : INFO : PROGRESS: pass 3, at document #1134/1134\n",
      "2024-05-06 16:47:45,656 : INFO : topic #5 (0.143): 0.009*\"表示\" + 0.007*\"台灣\" + 0.006*\"網友\" + 0.004*\"粉絲\" + 0.004*\"美國\" + 0.004*\"影片\" + 0.004*\"發現\" + 0.004*\"報導\" + 0.004*\"工作\" + 0.003*\"大陸\"\n",
      "2024-05-06 16:47:45,657 : INFO : topic #6 (0.143): 0.035*\"黃子佼\" + 0.010*\"徐巧\" + 0.008*\"未成年\" + 0.007*\"表示\" + 0.007*\"藝人\" + 0.006*\"大谷\" + 0.006*\"立委\" + 0.005*\"少女\" + 0.005*\"小姐\" + 0.005*\"大姑\"\n",
      "2024-05-06 16:47:45,657 : INFO : topic #1 (0.143): 0.016*\"伊朗\" + 0.015*\"以色列\" + 0.009*\"統神\" + 0.007*\"民進黨\" + 0.007*\"立委\" + 0.007*\"攻擊\" + 0.006*\"美國\" + 0.005*\"表示\" + 0.005*\"國民黨\" + 0.004*\"無人機\"\n",
      "2024-05-06 16:47:45,658 : INFO : topic #4 (0.143): 0.014*\"台灣\" + 0.013*\"地震\" + 0.010*\"發生\" + 0.009*\"表示\" + 0.007*\"日本\" + 0.006*\"中國\" + 0.005*\"民眾\" + 0.005*\"已經\" + 0.005*\"奧運\" + 0.004*\"規模\"\n",
      "2024-05-06 16:47:45,659 : INFO : topic #0 (0.143): 0.009*\"總統\" + 0.007*\"主委\" + 0.007*\"部長\" + 0.006*\"中國\" + 0.005*\"立委\" + 0.004*\"美國\" + 0.004*\"卓榮泰\" + 0.004*\"賴清德\" + 0.004*\"黃子佼\" + 0.004*\"人事\"\n",
      "2024-05-06 16:47:45,659 : INFO : topic diff=0.442570, rho=0.447214\n",
      "2024-05-06 16:47:46,210 : INFO : -7.882 per-word bound, 235.9 perplexity estimate based on a held-out corpus of 1134 documents with 140464 words\n",
      "2024-05-06 16:47:46,211 : INFO : PROGRESS: pass 4, at document #1134/1134\n",
      "2024-05-06 16:47:46,542 : INFO : topic #3 (0.143): 0.011*\"美國\" + 0.011*\"台灣\" + 0.009*\"日本\" + 0.007*\"表示\" + 0.005*\"總統\" + 0.005*\"進行\" + 0.005*\"中國\" + 0.004*\"全球\" + 0.004*\"安全\" + 0.004*\"政府\"\n",
      "2024-05-06 16:47:46,543 : INFO : topic #0 (0.143): 0.010*\"總統\" + 0.008*\"主委\" + 0.008*\"部長\" + 0.006*\"中國\" + 0.005*\"立委\" + 0.005*\"賴清德\" + 0.005*\"卓榮泰\" + 0.005*\"行政院\" + 0.004*\"人事\" + 0.004*\"馬英九\"\n",
      "2024-05-06 16:47:46,543 : INFO : topic #4 (0.143): 0.015*\"台灣\" + 0.015*\"地震\" + 0.011*\"發生\" + 0.009*\"表示\" + 0.008*\"日本\" + 0.006*\"民眾\" + 0.006*\"中國\" + 0.006*\"已經\" + 0.005*\"奧運\" + 0.004*\"規模\"\n",
      "2024-05-06 16:47:46,543 : INFO : topic #2 (0.143): 0.007*\"表示\" + 0.005*\"粉絲\" + 0.004*\"已經\" + 0.004*\"山豬\" + 0.004*\"網友\" + 0.004*\"許多\" + 0.004*\"真的\" + 0.004*\"一起\" + 0.004*\"報導\" + 0.004*\"兩人\"\n",
      "2024-05-06 16:47:46,544 : INFO : topic #1 (0.143): 0.018*\"伊朗\" + 0.017*\"以色列\" + 0.011*\"統神\" + 0.007*\"民進黨\" + 0.007*\"攻擊\" + 0.007*\"立委\" + 0.006*\"美國\" + 0.006*\"表示\" + 0.006*\"國民黨\" + 0.005*\"無人機\"\n",
      "2024-05-06 16:47:46,545 : INFO : topic diff=0.375329, rho=0.408248\n",
      "2024-05-06 16:47:46,545 : INFO : LdaModel lifecycle event {'msg': 'trained LdaModel<num_terms=5409, num_topics=7, decay=0.5, chunksize=2000> in 5.07s', 'datetime': '2024-05-06T16:47:46.545540', 'gensim': '4.2.0', 'python': '3.7.9 (tags/v3.7.9:13c94747c7, Aug 17 2020, 18:58:18) [MSC v.1900 64 bit (AMD64)]', 'platform': 'Windows-10-10.0.19041-SP0', 'event': 'created'}\n",
      "2024-05-06 16:47:47,091 : INFO : -7.844 per-word bound, 229.7 perplexity estimate based on a held-out corpus of 1134 documents with 140464 words\n",
      "2024-05-06 16:47:47,094 : INFO : using ParallelWordOccurrenceAccumulator<processes=15, batch_size=64> to estimate probabilities from sliding windows\n",
      "2024-05-06 16:47:55,810 : INFO : 1 batches submitted to accumulate stats from 64 documents (11051 virtual)\n",
      "2024-05-06 16:47:55,813 : INFO : 2 batches submitted to accumulate stats from 128 documents (22050 virtual)\n",
      "2024-05-06 16:47:55,816 : INFO : 3 batches submitted to accumulate stats from 192 documents (33607 virtual)\n",
      "2024-05-06 16:47:55,818 : INFO : 4 batches submitted to accumulate stats from 256 documents (43392 virtual)\n",
      "2024-05-06 16:47:55,821 : INFO : 5 batches submitted to accumulate stats from 320 documents (53252 virtual)\n",
      "2024-05-06 16:47:55,823 : INFO : 6 batches submitted to accumulate stats from 384 documents (63729 virtual)\n",
      "2024-05-06 16:47:55,825 : INFO : 7 batches submitted to accumulate stats from 448 documents (74392 virtual)\n",
      "2024-05-06 16:47:55,828 : INFO : 8 batches submitted to accumulate stats from 512 documents (84585 virtual)\n",
      "2024-05-06 16:47:55,831 : INFO : 9 batches submitted to accumulate stats from 576 documents (93953 virtual)\n",
      "2024-05-06 16:47:55,835 : INFO : 10 batches submitted to accumulate stats from 640 documents (104082 virtual)\n",
      "2024-05-06 16:47:55,838 : INFO : 11 batches submitted to accumulate stats from 704 documents (113430 virtual)\n",
      "2024-05-06 16:47:55,842 : INFO : 12 batches submitted to accumulate stats from 768 documents (123196 virtual)\n",
      "2024-05-06 16:47:55,845 : INFO : 13 batches submitted to accumulate stats from 832 documents (133317 virtual)\n",
      "2024-05-06 16:47:55,849 : INFO : 14 batches submitted to accumulate stats from 896 documents (142778 virtual)\n",
      "2024-05-06 16:47:55,858 : INFO : 15 batches submitted to accumulate stats from 960 documents (151772 virtual)\n",
      "2024-05-06 16:47:55,876 : INFO : 16 batches submitted to accumulate stats from 1024 documents (163048 virtual)\n",
      "2024-05-06 16:47:55,893 : INFO : 17 batches submitted to accumulate stats from 1088 documents (173310 virtual)\n",
      "2024-05-06 16:47:55,897 : INFO : 18 batches submitted to accumulate stats from 1152 documents (181244 virtual)\n",
      "2024-05-06 16:47:56,157 : INFO : 15 accumulators retrieved from output queue\n",
      "2024-05-06 16:47:56,180 : INFO : accumulated word occurrence stats for 181244 virtual documents\n",
      "2024-05-06 16:47:56,325 : INFO : using symmetric alpha at 0.125\n",
      "2024-05-06 16:47:56,326 : INFO : using symmetric eta at 0.125\n",
      "2024-05-06 16:47:56,327 : INFO : using serial LDA version on this node\n",
      "2024-05-06 16:47:56,330 : INFO : running online (multi-pass) LDA training, 8 topics, 5 passes over the supplied corpus of 1134 documents, updating model once every 1134 documents, evaluating perplexity every 1134 documents, iterating 50x with a convergence threshold of 0.001000\n",
      "2024-05-06 16:47:56,331 : WARNING : too few updates, training might not converge; consider increasing the number of passes or iterations to improve accuracy\n",
      "2024-05-06 16:47:57,051 : INFO : -9.495 per-word bound, 721.6 perplexity estimate based on a held-out corpus of 1134 documents with 140464 words\n",
      "2024-05-06 16:47:57,052 : INFO : PROGRESS: pass 0, at document #1134/1134\n",
      "2024-05-06 16:47:57,536 : INFO : topic #3 (0.125): 0.008*\"表示\" + 0.008*\"台灣\" + 0.006*\"黃子佼\" + 0.004*\"已經\" + 0.004*\"日本\" + 0.004*\"真的\" + 0.003*\"美國\" + 0.003*\"工作\" + 0.003*\"進行\" + 0.003*\"指出\"\n",
      "2024-05-06 16:47:57,537 : INFO : topic #7 (0.125): 0.006*\"立委\" + 0.005*\"表示\" + 0.005*\"美國\" + 0.005*\"黃子佼\" + 0.005*\"粉絲\" + 0.004*\"日本\" + 0.004*\"台灣\" + 0.004*\"報導\" + 0.003*\"以色列\" + 0.003*\"徐巧\"\n",
      "2024-05-06 16:47:57,537 : INFO : topic #2 (0.125): 0.009*\"表示\" + 0.005*\"已經\" + 0.004*\"報導\" + 0.004*\"網友\" + 0.003*\"許多\" + 0.003*\"真的\" + 0.003*\"一名\" + 0.003*\"市長\" + 0.003*\"影片\" + 0.003*\"一起\"\n",
      "2024-05-06 16:47:57,538 : INFO : topic #4 (0.125): 0.007*\"台灣\" + 0.007*\"表示\" + 0.007*\"黃子佼\" + 0.006*\"地震\" + 0.006*\"發生\" + 0.006*\"網友\" + 0.004*\"民眾\" + 0.004*\"日本\" + 0.004*\"已經\" + 0.004*\"中國\"\n",
      "2024-05-06 16:47:57,539 : INFO : topic #1 (0.125): 0.006*\"黃子佼\" + 0.005*\"美國\" + 0.005*\"表示\" + 0.004*\"網友\" + 0.004*\"以色列\" + 0.004*\"已經\" + 0.004*\"立委\" + 0.004*\"伊朗\" + 0.003*\"民進黨\" + 0.003*\"民眾\"\n",
      "2024-05-06 16:47:57,539 : INFO : topic diff=1.353046, rho=1.000000\n",
      "2024-05-06 16:47:58,190 : INFO : -8.277 per-word bound, 310.1 perplexity estimate based on a held-out corpus of 1134 documents with 140464 words\n",
      "2024-05-06 16:47:58,190 : INFO : PROGRESS: pass 1, at document #1134/1134\n",
      "2024-05-06 16:47:58,606 : INFO : topic #2 (0.125): 0.008*\"表示\" + 0.005*\"已經\" + 0.004*\"報導\" + 0.004*\"許多\" + 0.004*\"山豬\" + 0.004*\"網友\" + 0.004*\"真的\" + 0.004*\"一起\" + 0.003*\"市長\" + 0.003*\"粉絲\"\n",
      "2024-05-06 16:47:58,607 : INFO : topic #1 (0.125): 0.007*\"以色列\" + 0.007*\"伊朗\" + 0.006*\"統神\" + 0.005*\"民進黨\" + 0.005*\"立委\" + 0.005*\"美國\" + 0.005*\"表示\" + 0.004*\"賴清德\" + 0.004*\"主委\" + 0.004*\"黃子佼\"\n",
      "2024-05-06 16:47:58,608 : INFO : topic #7 (0.125): 0.008*\"立委\" + 0.006*\"伊朗\" + 0.006*\"以色列\" + 0.006*\"粉絲\" + 0.005*\"徐巧\" + 0.005*\"表示\" + 0.005*\"美國\" + 0.004*\"日本\" + 0.004*\"台灣\" + 0.004*\"報導\"\n",
      "2024-05-06 16:47:58,609 : INFO : topic #4 (0.125): 0.011*\"台灣\" + 0.010*\"地震\" + 0.008*\"發生\" + 0.008*\"表示\" + 0.006*\"日本\" + 0.005*\"網友\" + 0.005*\"中國\" + 0.005*\"民眾\" + 0.004*\"奧運\" + 0.004*\"已經\"\n",
      "2024-05-06 16:47:58,609 : INFO : topic #3 (0.125): 0.009*\"台灣\" + 0.008*\"表示\" + 0.005*\"日本\" + 0.005*\"美國\" + 0.004*\"已經\" + 0.004*\"黃子佼\" + 0.004*\"進行\" + 0.003*\"總統\" + 0.003*\"指出\" + 0.003*\"政府\"\n",
      "2024-05-06 16:47:58,610 : INFO : topic diff=0.662413, rho=0.577350\n",
      "2024-05-06 16:47:59,206 : INFO : -8.081 per-word bound, 270.8 perplexity estimate based on a held-out corpus of 1134 documents with 140464 words\n",
      "2024-05-06 16:47:59,207 : INFO : PROGRESS: pass 2, at document #1134/1134\n",
      "2024-05-06 16:47:59,577 : INFO : topic #4 (0.125): 0.013*\"台灣\" + 0.012*\"地震\" + 0.009*\"發生\" + 0.009*\"表示\" + 0.007*\"日本\" + 0.005*\"民眾\" + 0.005*\"中國\" + 0.005*\"奧運\" + 0.005*\"已經\" + 0.004*\"網友\"\n",
      "2024-05-06 16:47:59,578 : INFO : topic #0 (0.125): 0.007*\"總統\" + 0.007*\"黃子佼\" + 0.007*\"中國\" + 0.006*\"美國\" + 0.005*\"表示\" + 0.004*\"報導\" + 0.004*\"花蓮\" + 0.004*\"目前\" + 0.003*\"國家\" + 0.003*\"時間\"\n",
      "2024-05-06 16:47:59,579 : INFO : topic #3 (0.125): 0.010*\"台灣\" + 0.008*\"表示\" + 0.007*\"美國\" + 0.007*\"日本\" + 0.004*\"總統\" + 0.004*\"進行\" + 0.004*\"中國\" + 0.004*\"政府\" + 0.004*\"合作\" + 0.004*\"已經\"\n",
      "2024-05-06 16:47:59,579 : INFO : topic #2 (0.125): 0.008*\"表示\" + 0.004*\"已經\" + 0.004*\"山豬\" + 0.004*\"許多\" + 0.004*\"網友\" + 0.004*\"報導\" + 0.004*\"粉絲\" + 0.004*\"一起\" + 0.004*\"真的\" + 0.004*\"市長\"\n",
      "2024-05-06 16:47:59,580 : INFO : topic #1 (0.125): 0.009*\"伊朗\" + 0.009*\"以色列\" + 0.008*\"統神\" + 0.007*\"民進黨\" + 0.007*\"立委\" + 0.006*\"主委\" + 0.005*\"賴清德\" + 0.005*\"表示\" + 0.004*\"總統\" + 0.004*\"美國\"\n",
      "2024-05-06 16:47:59,581 : INFO : topic diff=0.586573, rho=0.500000\n",
      "2024-05-06 16:48:00,159 : INFO : -7.973 per-word bound, 251.3 perplexity estimate based on a held-out corpus of 1134 documents with 140464 words\n",
      "2024-05-06 16:48:00,159 : INFO : PROGRESS: pass 3, at document #1134/1134\n",
      "2024-05-06 16:48:00,505 : INFO : topic #0 (0.125): 0.008*\"總統\" + 0.008*\"中國\" + 0.007*\"美國\" + 0.005*\"表示\" + 0.005*\"花蓮\" + 0.005*\"黃子佼\" + 0.004*\"報導\" + 0.004*\"目前\" + 0.004*\"國家\" + 0.004*\"馬英九\"\n",
      "2024-05-06 16:48:00,506 : INFO : topic #3 (0.125): 0.010*\"台灣\" + 0.009*\"美國\" + 0.008*\"表示\" + 0.008*\"日本\" + 0.004*\"總統\" + 0.004*\"進行\" + 0.004*\"中國\" + 0.004*\"政府\" + 0.004*\"民眾\" + 0.004*\"法案\"\n",
      "2024-05-06 16:48:00,506 : INFO : topic #5 (0.125): 0.009*\"表示\" + 0.006*\"網友\" + 0.006*\"台灣\" + 0.005*\"發現\" + 0.004*\"影片\" + 0.004*\"美國\" + 0.004*\"報導\" + 0.004*\"工作\" + 0.004*\"已經\" + 0.004*\"大陸\"\n",
      "2024-05-06 16:48:00,507 : INFO : topic #2 (0.125): 0.008*\"表示\" + 0.004*\"山豬\" + 0.004*\"已經\" + 0.004*\"許多\" + 0.004*\"粉絲\" + 0.004*\"網友\" + 0.004*\"一起\" + 0.004*\"真的\" + 0.004*\"報導\" + 0.004*\"市長\"\n",
      "2024-05-06 16:48:00,508 : INFO : topic #7 (0.125): 0.010*\"伊朗\" + 0.010*\"立委\" + 0.009*\"以色列\" + 0.009*\"徐巧\" + 0.007*\"無人機\" + 0.006*\"粉絲\" + 0.006*\"美國\" + 0.006*\"表示\" + 0.005*\"飛彈\" + 0.005*\"大姑\"\n",
      "2024-05-06 16:48:00,508 : INFO : topic diff=0.504413, rho=0.447214\n",
      "2024-05-06 16:48:01,061 : INFO : -7.910 per-word bound, 240.6 perplexity estimate based on a held-out corpus of 1134 documents with 140464 words\n",
      "2024-05-06 16:48:01,062 : INFO : PROGRESS: pass 4, at document #1134/1134\n",
      "2024-05-06 16:48:01,388 : INFO : topic #7 (0.125): 0.012*\"伊朗\" + 0.011*\"立委\" + 0.011*\"徐巧\" + 0.010*\"以色列\" + 0.008*\"無人機\" + 0.006*\"粉絲\" + 0.006*\"美國\" + 0.006*\"大姑\" + 0.006*\"飛彈\" + 0.006*\"表示\"\n",
      "2024-05-06 16:48:01,389 : INFO : topic #2 (0.125): 0.007*\"表示\" + 0.004*\"粉絲\" + 0.004*\"山豬\" + 0.004*\"許多\" + 0.004*\"已經\" + 0.004*\"一起\" + 0.004*\"網友\" + 0.004*\"真的\" + 0.004*\"吳卓源\" + 0.004*\"市長\"\n",
      "2024-05-06 16:48:01,390 : INFO : topic #0 (0.125): 0.009*\"總統\" + 0.009*\"中國\" + 0.007*\"美國\" + 0.005*\"表示\" + 0.005*\"花蓮\" + 0.004*\"馬英九\" + 0.004*\"目前\" + 0.004*\"國家\" + 0.004*\"報導\" + 0.004*\"國民黨\"\n",
      "2024-05-06 16:48:01,390 : INFO : topic #3 (0.125): 0.011*\"台灣\" + 0.011*\"美國\" + 0.008*\"表示\" + 0.008*\"日本\" + 0.005*\"中國\" + 0.005*\"總統\" + 0.005*\"進行\" + 0.004*\"政府\" + 0.004*\"全球\" + 0.004*\"民眾\"\n",
      "2024-05-06 16:48:01,391 : INFO : topic #6 (0.125): 0.040*\"黃子佼\" + 0.010*\"未成年\" + 0.008*\"藝人\" + 0.007*\"表示\" + 0.007*\"徐巧\" + 0.007*\"大谷\" + 0.006*\"少女\" + 0.005*\"小姐\" + 0.005*\"影片\" + 0.005*\"影像\"\n",
      "2024-05-06 16:48:01,392 : INFO : topic diff=0.428241, rho=0.408248\n",
      "2024-05-06 16:48:01,392 : INFO : LdaModel lifecycle event {'msg': 'trained LdaModel<num_terms=5409, num_topics=8, decay=0.5, chunksize=2000> in 5.06s', 'datetime': '2024-05-06T16:48:01.392520', 'gensim': '4.2.0', 'python': '3.7.9 (tags/v3.7.9:13c94747c7, Aug 17 2020, 18:58:18) [MSC v.1900 64 bit (AMD64)]', 'platform': 'Windows-10-10.0.19041-SP0', 'event': 'created'}\n",
      "2024-05-06 16:48:01,944 : INFO : -7.870 per-word bound, 234.0 perplexity estimate based on a held-out corpus of 1134 documents with 140464 words\n",
      "2024-05-06 16:48:01,947 : INFO : using ParallelWordOccurrenceAccumulator<processes=15, batch_size=64> to estimate probabilities from sliding windows\n",
      "2024-05-06 16:48:10,666 : INFO : 1 batches submitted to accumulate stats from 64 documents (11051 virtual)\n",
      "2024-05-06 16:48:10,669 : INFO : 2 batches submitted to accumulate stats from 128 documents (22050 virtual)\n",
      "2024-05-06 16:48:10,671 : INFO : 3 batches submitted to accumulate stats from 192 documents (33607 virtual)\n",
      "2024-05-06 16:48:10,673 : INFO : 4 batches submitted to accumulate stats from 256 documents (43392 virtual)\n",
      "2024-05-06 16:48:10,675 : INFO : 5 batches submitted to accumulate stats from 320 documents (53252 virtual)\n",
      "2024-05-06 16:48:10,678 : INFO : 6 batches submitted to accumulate stats from 384 documents (63729 virtual)\n",
      "2024-05-06 16:48:10,680 : INFO : 7 batches submitted to accumulate stats from 448 documents (74392 virtual)\n",
      "2024-05-06 16:48:10,683 : INFO : 8 batches submitted to accumulate stats from 512 documents (84585 virtual)\n",
      "2024-05-06 16:48:10,685 : INFO : 9 batches submitted to accumulate stats from 576 documents (93953 virtual)\n",
      "2024-05-06 16:48:10,688 : INFO : 10 batches submitted to accumulate stats from 640 documents (104082 virtual)\n",
      "2024-05-06 16:48:10,691 : INFO : 11 batches submitted to accumulate stats from 704 documents (113430 virtual)\n",
      "2024-05-06 16:48:10,694 : INFO : 12 batches submitted to accumulate stats from 768 documents (123196 virtual)\n",
      "2024-05-06 16:48:10,699 : INFO : 13 batches submitted to accumulate stats from 832 documents (133317 virtual)\n",
      "2024-05-06 16:48:10,703 : INFO : 14 batches submitted to accumulate stats from 896 documents (142778 virtual)\n",
      "2024-05-06 16:48:10,707 : INFO : 15 batches submitted to accumulate stats from 960 documents (151772 virtual)\n",
      "2024-05-06 16:48:10,729 : INFO : 16 batches submitted to accumulate stats from 1024 documents (163048 virtual)\n",
      "2024-05-06 16:48:10,741 : INFO : 17 batches submitted to accumulate stats from 1088 documents (173310 virtual)\n",
      "2024-05-06 16:48:10,746 : INFO : 18 batches submitted to accumulate stats from 1152 documents (181244 virtual)\n",
      "2024-05-06 16:48:11,015 : INFO : 15 accumulators retrieved from output queue\n",
      "2024-05-06 16:48:11,040 : INFO : accumulated word occurrence stats for 181244 virtual documents\n",
      "2024-05-06 16:48:11,202 : INFO : using symmetric alpha at 0.1111111111111111\n",
      "2024-05-06 16:48:11,203 : INFO : using symmetric eta at 0.1111111111111111\n",
      "2024-05-06 16:48:11,204 : INFO : using serial LDA version on this node\n",
      "2024-05-06 16:48:11,208 : INFO : running online (multi-pass) LDA training, 9 topics, 5 passes over the supplied corpus of 1134 documents, updating model once every 1134 documents, evaluating perplexity every 1134 documents, iterating 50x with a convergence threshold of 0.001000\n",
      "2024-05-06 16:48:11,209 : WARNING : too few updates, training might not converge; consider increasing the number of passes or iterations to improve accuracy\n",
      "2024-05-06 16:48:11,928 : INFO : -9.573 per-word bound, 761.8 perplexity estimate based on a held-out corpus of 1134 documents with 140464 words\n",
      "2024-05-06 16:48:11,929 : INFO : PROGRESS: pass 0, at document #1134/1134\n",
      "2024-05-06 16:48:12,417 : INFO : topic #2 (0.111): 0.009*\"表示\" + 0.005*\"已經\" + 0.004*\"報導\" + 0.004*\"網友\" + 0.003*\"許多\" + 0.003*\"真的\" + 0.003*\"市長\" + 0.003*\"一名\" + 0.003*\"影片\" + 0.003*\"山豬\"\n",
      "2024-05-06 16:48:12,418 : INFO : topic #7 (0.111): 0.006*\"立委\" + 0.005*\"美國\" + 0.005*\"表示\" + 0.005*\"粉絲\" + 0.004*\"日本\" + 0.004*\"台灣\" + 0.004*\"徐巧\" + 0.004*\"黃子佼\" + 0.004*\"報導\" + 0.003*\"伊朗\"\n",
      "2024-05-06 16:48:12,419 : INFO : topic #8 (0.111): 0.020*\"黃子佼\" + 0.007*\"表示\" + 0.005*\"網友\" + 0.005*\"未成年\" + 0.004*\"小姐\" + 0.004*\"發文\" + 0.004*\"真的\" + 0.003*\"大谷\" + 0.003*\"已經\" + 0.003*\"對此\"\n",
      "2024-05-06 16:48:12,420 : INFO : topic #5 (0.111): 0.010*\"表示\" + 0.008*\"台灣\" + 0.006*\"美國\" + 0.006*\"黃子佼\" + 0.004*\"網友\" + 0.004*\"影片\" + 0.004*\"發生\" + 0.004*\"發現\" + 0.003*\"日本\" + 0.003*\"中國\"\n",
      "2024-05-06 16:48:12,420 : INFO : topic #0 (0.111): 0.009*\"黃子佼\" + 0.004*\"中國\" + 0.004*\"報導\" + 0.004*\"總統\" + 0.004*\"時間\" + 0.004*\"美國\" + 0.004*\"地震\" + 0.004*\"表示\" + 0.004*\"發生\" + 0.004*\"吳卓源\"\n",
      "2024-05-06 16:48:12,421 : INFO : topic diff=1.522107, rho=1.000000\n",
      "2024-05-06 16:48:13,060 : INFO : -8.300 per-word bound, 315.1 perplexity estimate based on a held-out corpus of 1134 documents with 140464 words\n",
      "2024-05-06 16:48:13,060 : INFO : PROGRESS: pass 1, at document #1134/1134\n",
      "2024-05-06 16:48:13,476 : INFO : topic #1 (0.111): 0.010*\"以色列\" + 0.010*\"伊朗\" + 0.006*\"統神\" + 0.006*\"美國\" + 0.006*\"立委\" + 0.006*\"民進黨\" + 0.005*\"表示\" + 0.004*\"總統\" + 0.004*\"攻擊\" + 0.004*\"賴清德\"\n",
      "2024-05-06 16:48:13,477 : INFO : topic #4 (0.111): 0.011*\"台灣\" + 0.010*\"地震\" + 0.008*\"發生\" + 0.008*\"表示\" + 0.005*\"日本\" + 0.005*\"中國\" + 0.005*\"民眾\" + 0.005*\"奧運\" + 0.004*\"已經\" + 0.004*\"網友\"\n",
      "2024-05-06 16:48:13,477 : INFO : topic #2 (0.111): 0.008*\"表示\" + 0.005*\"已經\" + 0.004*\"山豬\" + 0.004*\"許多\" + 0.004*\"報導\" + 0.004*\"網友\" + 0.004*\"真的\" + 0.004*\"一起\" + 0.003*\"市長\" + 0.003*\"粉絲\"\n",
      "2024-05-06 16:48:13,478 : INFO : topic #0 (0.111): 0.006*\"總統\" + 0.006*\"中國\" + 0.005*\"黃子佼\" + 0.005*\"美國\" + 0.005*\"吳卓源\" + 0.004*\"報導\" + 0.004*\"花蓮\" + 0.004*\"主委\" + 0.004*\"表示\" + 0.004*\"時間\"\n",
      "2024-05-06 16:48:13,478 : INFO : topic #3 (0.111): 0.011*\"台灣\" + 0.008*\"表示\" + 0.007*\"日本\" + 0.005*\"美國\" + 0.004*\"進行\" + 0.004*\"總統\" + 0.004*\"已經\" + 0.003*\"政府\" + 0.003*\"中國\" + 0.003*\"指出\"\n",
      "2024-05-06 16:48:13,479 : INFO : topic diff=0.752900, rho=0.577350\n",
      "2024-05-06 16:48:14,063 : INFO : -8.089 per-word bound, 272.4 perplexity estimate based on a held-out corpus of 1134 documents with 140464 words\n",
      "2024-05-06 16:48:14,064 : INFO : PROGRESS: pass 2, at document #1134/1134\n",
      "2024-05-06 16:48:14,426 : INFO : topic #4 (0.111): 0.013*\"台灣\" + 0.013*\"地震\" + 0.010*\"發生\" + 0.009*\"表示\" + 0.007*\"日本\" + 0.005*\"中國\" + 0.005*\"奧運\" + 0.005*\"民眾\" + 0.005*\"已經\" + 0.004*\"規模\"\n",
      "2024-05-06 16:48:14,426 : INFO : topic #3 (0.111): 0.013*\"台灣\" + 0.009*\"日本\" + 0.008*\"美國\" + 0.008*\"表示\" + 0.005*\"總統\" + 0.005*\"進行\" + 0.004*\"中國\" + 0.004*\"政府\" + 0.004*\"法案\" + 0.004*\"安全\"\n",
      "2024-05-06 16:48:14,428 : INFO : topic #2 (0.111): 0.008*\"表示\" + 0.005*\"已經\" + 0.004*\"山豬\" + 0.004*\"許多\" + 0.004*\"一起\" + 0.004*\"粉絲\" + 0.004*\"報導\" + 0.004*\"網友\" + 0.004*\"真的\" + 0.003*\"市長\"\n",
      "2024-05-06 16:48:14,428 : INFO : topic #5 (0.111): 0.009*\"表示\" + 0.007*\"台灣\" + 0.006*\"網友\" + 0.005*\"美國\" + 0.004*\"發現\" + 0.004*\"報導\" + 0.004*\"大陸\" + 0.004*\"粉絲\" + 0.004*\"工作\" + 0.004*\"影片\"\n",
      "2024-05-06 16:48:14,429 : INFO : topic #0 (0.111): 0.008*\"總統\" + 0.007*\"中國\" + 0.005*\"主委\" + 0.005*\"美國\" + 0.005*\"花蓮\" + 0.004*\"部長\" + 0.004*\"報導\" + 0.004*\"吳卓源\" + 0.004*\"表示\" + 0.004*\"國家\"\n",
      "2024-05-06 16:48:14,430 : INFO : topic diff=0.668887, rho=0.500000\n",
      "2024-05-06 16:48:14,988 : INFO : -7.976 per-word bound, 251.8 perplexity estimate based on a held-out corpus of 1134 documents with 140464 words\n",
      "2024-05-06 16:48:14,989 : INFO : PROGRESS: pass 3, at document #1134/1134\n",
      "2024-05-06 16:48:15,327 : INFO : topic #7 (0.111): 0.012*\"立委\" + 0.008*\"粉絲\" + 0.006*\"徐巧\" + 0.005*\"日本\" + 0.005*\"表示\" + 0.005*\"美國\" + 0.005*\"台灣\" + 0.004*\"詐騙\" + 0.004*\"公司\" + 0.003*\"無人機\"\n",
      "2024-05-06 16:48:15,329 : INFO : topic #1 (0.111): 0.018*\"伊朗\" + 0.017*\"以色列\" + 0.009*\"統神\" + 0.008*\"民進黨\" + 0.007*\"攻擊\" + 0.007*\"立委\" + 0.006*\"美國\" + 0.006*\"表示\" + 0.005*\"總統\" + 0.005*\"國民黨\"\n",
      "2024-05-06 16:48:15,329 : INFO : topic #4 (0.111): 0.015*\"地震\" + 0.015*\"台灣\" + 0.011*\"發生\" + 0.009*\"表示\" + 0.007*\"日本\" + 0.006*\"奧運\" + 0.006*\"民眾\" + 0.006*\"中國\" + 0.005*\"已經\" + 0.005*\"規模\"\n",
      "2024-05-06 16:48:15,330 : INFO : topic #0 (0.111): 0.009*\"總統\" + 0.007*\"中國\" + 0.007*\"主委\" + 0.006*\"部長\" + 0.005*\"花蓮\" + 0.005*\"美國\" + 0.004*\"卓榮泰\" + 0.004*\"賴清德\" + 0.004*\"馬英九\" + 0.004*\"國家\"\n",
      "2024-05-06 16:48:15,330 : INFO : topic #3 (0.111): 0.013*\"台灣\" + 0.011*\"美國\" + 0.010*\"日本\" + 0.008*\"表示\" + 0.005*\"總統\" + 0.005*\"進行\" + 0.005*\"中國\" + 0.004*\"政府\" + 0.004*\"法案\" + 0.004*\"安全\"\n",
      "2024-05-06 16:48:15,331 : INFO : topic diff=0.577892, rho=0.447214\n",
      "2024-05-06 16:48:15,878 : INFO : -7.909 per-word bound, 240.4 perplexity estimate based on a held-out corpus of 1134 documents with 140464 words\n",
      "2024-05-06 16:48:15,879 : INFO : PROGRESS: pass 4, at document #1134/1134\n",
      "2024-05-06 16:48:16,198 : INFO : topic #3 (0.111): 0.014*\"台灣\" + 0.012*\"美國\" + 0.010*\"日本\" + 0.008*\"表示\" + 0.006*\"中國\" + 0.005*\"總統\" + 0.005*\"進行\" + 0.005*\"政府\" + 0.004*\"法案\" + 0.004*\"全球\"\n",
      "2024-05-06 16:48:16,199 : INFO : topic #1 (0.111): 0.020*\"伊朗\" + 0.019*\"以色列\" + 0.010*\"統神\" + 0.008*\"民進黨\" + 0.008*\"攻擊\" + 0.007*\"立委\" + 0.006*\"美國\" + 0.006*\"表示\" + 0.006*\"國民黨\" + 0.006*\"家暴\"\n",
      "2024-05-06 16:48:16,200 : INFO : topic #2 (0.111): 0.008*\"表示\" + 0.005*\"山豬\" + 0.004*\"已經\" + 0.004*\"粉絲\" + 0.004*\"許多\" + 0.004*\"一起\" + 0.004*\"真的\" + 0.004*\"網友\" + 0.004*\"台北\" + 0.004*\"兩人\"\n",
      "2024-05-06 16:48:16,201 : INFO : topic #0 (0.111): 0.010*\"總統\" + 0.008*\"主委\" + 0.008*\"中國\" + 0.007*\"部長\" + 0.005*\"卓榮泰\" + 0.005*\"花蓮\" + 0.005*\"賴清德\" + 0.005*\"美國\" + 0.005*\"馬英九\" + 0.004*\"國家\"\n",
      "2024-05-06 16:48:16,201 : INFO : topic #4 (0.111): 0.016*\"地震\" + 0.015*\"台灣\" + 0.012*\"發生\" + 0.009*\"表示\" + 0.008*\"日本\" + 0.006*\"奧運\" + 0.006*\"民眾\" + 0.006*\"已經\" + 0.006*\"中國\" + 0.005*\"規模\"\n",
      "2024-05-06 16:48:16,202 : INFO : topic diff=0.490879, rho=0.408248\n",
      "2024-05-06 16:48:16,202 : INFO : LdaModel lifecycle event {'msg': 'trained LdaModel<num_terms=5409, num_topics=9, decay=0.5, chunksize=2000> in 4.99s', 'datetime': '2024-05-06T16:48:16.202198', 'gensim': '4.2.0', 'python': '3.7.9 (tags/v3.7.9:13c94747c7, Aug 17 2020, 18:58:18) [MSC v.1900 64 bit (AMD64)]', 'platform': 'Windows-10-10.0.19041-SP0', 'event': 'created'}\n",
      "2024-05-06 16:48:16,740 : INFO : -7.866 per-word bound, 233.3 perplexity estimate based on a held-out corpus of 1134 documents with 140464 words\n",
      "2024-05-06 16:48:16,744 : INFO : using ParallelWordOccurrenceAccumulator<processes=15, batch_size=64> to estimate probabilities from sliding windows\n",
      "2024-05-06 16:48:25,573 : INFO : 1 batches submitted to accumulate stats from 64 documents (11051 virtual)\n",
      "2024-05-06 16:48:25,575 : INFO : 2 batches submitted to accumulate stats from 128 documents (22050 virtual)\n",
      "2024-05-06 16:48:25,578 : INFO : 3 batches submitted to accumulate stats from 192 documents (33607 virtual)\n",
      "2024-05-06 16:48:25,580 : INFO : 4 batches submitted to accumulate stats from 256 documents (43392 virtual)\n",
      "2024-05-06 16:48:25,583 : INFO : 5 batches submitted to accumulate stats from 320 documents (53252 virtual)\n",
      "2024-05-06 16:48:25,586 : INFO : 6 batches submitted to accumulate stats from 384 documents (63729 virtual)\n",
      "2024-05-06 16:48:25,589 : INFO : 7 batches submitted to accumulate stats from 448 documents (74392 virtual)\n",
      "2024-05-06 16:48:25,592 : INFO : 8 batches submitted to accumulate stats from 512 documents (84585 virtual)\n",
      "2024-05-06 16:48:25,595 : INFO : 9 batches submitted to accumulate stats from 576 documents (93953 virtual)\n",
      "2024-05-06 16:48:25,598 : INFO : 10 batches submitted to accumulate stats from 640 documents (104082 virtual)\n",
      "2024-05-06 16:48:25,601 : INFO : 11 batches submitted to accumulate stats from 704 documents (113430 virtual)\n",
      "2024-05-06 16:48:25,606 : INFO : 12 batches submitted to accumulate stats from 768 documents (123196 virtual)\n",
      "2024-05-06 16:48:25,610 : INFO : 13 batches submitted to accumulate stats from 832 documents (133317 virtual)\n",
      "2024-05-06 16:48:25,616 : INFO : 14 batches submitted to accumulate stats from 896 documents (142778 virtual)\n",
      "2024-05-06 16:48:25,626 : INFO : 15 batches submitted to accumulate stats from 960 documents (151772 virtual)\n",
      "2024-05-06 16:48:25,638 : INFO : 16 batches submitted to accumulate stats from 1024 documents (163048 virtual)\n",
      "2024-05-06 16:48:25,645 : INFO : 17 batches submitted to accumulate stats from 1088 documents (173310 virtual)\n",
      "2024-05-06 16:48:25,660 : INFO : 18 batches submitted to accumulate stats from 1152 documents (181244 virtual)\n",
      "2024-05-06 16:48:25,937 : INFO : 15 accumulators retrieved from output queue\n",
      "2024-05-06 16:48:25,965 : INFO : accumulated word occurrence stats for 181244 virtual documents\n"
     ]
    },
    {
     "name": "stdout",
     "output_type": "stream",
     "text": [
      "花費時間: 119.21867775917053 sec\n"
     ]
    }
   ],
   "source": [
    "t0 = time.time()\n",
    "\n",
    "topic_num_list = np.arange(2, 10)\n",
    "result = {\"topic_num\":[], \"perplexity\":[], \"pmi\":[]}\n",
    "model_set = dict()\n",
    "\n",
    "\n",
    "for topic_num in topic_num_list:\n",
    "    # perplexity\n",
    "    model = LdaModel(\n",
    "        corpus = corpus,\n",
    "        num_topics = topic_num ,\n",
    "        id2word=dictionary,\n",
    "        random_state = 1500,\n",
    "        passes=5 # 訓練次數\n",
    "        )\n",
    "    \n",
    "    loss = model.log_perplexity(corpus)\n",
    "    pmi = CoherenceModel(model=model, texts=docs, coherence='c_npmi').get_coherence()\n",
    "    perplexity = np.exp(-1. * loss)\n",
    "    \n",
    "    # model_set[f'k_{topic_num}'] = model\n",
    "    \n",
    "    result['topic_num'].append(topic_num)\n",
    "    result['perplexity'].append(perplexity)\n",
    "    result['pmi'].append(pmi)\n",
    "    \n",
    "print(f\"花費時間: {time.time() - t0} sec\")\n",
    "\n",
    "### 花費時間: 99.35791897773743 sec"
   ]
  },
  {
   "cell_type": "markdown",
   "metadata": {},
   "source": [
    "訓練要花一點時間，同學可以研究看看平行運算的 `gensim.models.ldamulticore.LdaMulticore()` class 或是其他方法"
   ]
  },
  {
   "cell_type": "code",
   "execution_count": 40,
   "metadata": {},
   "outputs": [
    {
     "data": {
      "text/html": [
       "<div>\n",
       "<style scoped>\n",
       "    .dataframe tbody tr th:only-of-type {\n",
       "        vertical-align: middle;\n",
       "    }\n",
       "\n",
       "    .dataframe tbody tr th {\n",
       "        vertical-align: top;\n",
       "    }\n",
       "\n",
       "    .dataframe thead th {\n",
       "        text-align: right;\n",
       "    }\n",
       "</style>\n",
       "<table border=\"1\" class=\"dataframe\">\n",
       "  <thead>\n",
       "    <tr style=\"text-align: right;\">\n",
       "      <th></th>\n",
       "      <th>topic_num</th>\n",
       "      <th>perplexity</th>\n",
       "      <th>pmi</th>\n",
       "    </tr>\n",
       "  </thead>\n",
       "  <tbody>\n",
       "    <tr>\n",
       "      <th>0</th>\n",
       "      <td>2</td>\n",
       "      <td>2796.533802</td>\n",
       "      <td>-0.058182</td>\n",
       "    </tr>\n",
       "    <tr>\n",
       "      <th>1</th>\n",
       "      <td>3</td>\n",
       "      <td>2635.850085</td>\n",
       "      <td>-0.071109</td>\n",
       "    </tr>\n",
       "    <tr>\n",
       "      <th>2</th>\n",
       "      <td>4</td>\n",
       "      <td>2565.909132</td>\n",
       "      <td>-0.059702</td>\n",
       "    </tr>\n",
       "    <tr>\n",
       "      <th>3</th>\n",
       "      <td>5</td>\n",
       "      <td>2582.034469</td>\n",
       "      <td>-0.066373</td>\n",
       "    </tr>\n",
       "    <tr>\n",
       "      <th>4</th>\n",
       "      <td>6</td>\n",
       "      <td>2619.586107</td>\n",
       "      <td>-0.080603</td>\n",
       "    </tr>\n",
       "    <tr>\n",
       "      <th>5</th>\n",
       "      <td>7</td>\n",
       "      <td>2549.225124</td>\n",
       "      <td>-0.067933</td>\n",
       "    </tr>\n",
       "    <tr>\n",
       "      <th>6</th>\n",
       "      <td>8</td>\n",
       "      <td>2618.599690</td>\n",
       "      <td>-0.066243</td>\n",
       "    </tr>\n",
       "    <tr>\n",
       "      <th>7</th>\n",
       "      <td>9</td>\n",
       "      <td>2606.472305</td>\n",
       "      <td>-0.080840</td>\n",
       "    </tr>\n",
       "  </tbody>\n",
       "</table>\n",
       "</div>"
      ],
      "text/plain": [
       "   topic_num   perplexity       pmi\n",
       "0          2  2796.533802 -0.058182\n",
       "1          3  2635.850085 -0.071109\n",
       "2          4  2565.909132 -0.059702\n",
       "3          5  2582.034469 -0.066373\n",
       "4          6  2619.586107 -0.080603\n",
       "5          7  2549.225124 -0.067933\n",
       "6          8  2618.599690 -0.066243\n",
       "7          9  2606.472305 -0.080840"
      ]
     },
     "execution_count": 40,
     "metadata": {},
     "output_type": "execute_result"
    }
   ],
   "source": [
    "result = pd.DataFrame(result)\n",
    "result"
   ]
  },
  {
   "cell_type": "code",
   "execution_count": 41,
   "metadata": {},
   "outputs": [
    {
     "data": {
      "text/plain": [
       "<AxesSubplot:xlabel='topic_num'>"
      ]
     },
     "execution_count": 41,
     "metadata": {},
     "output_type": "execute_result"
    },
    {
     "data": {
      "image/png": "[encoded data removed]",
      "text/plain": [
       "<Figure size 640x480 with 1 Axes>"
      ]
     },
     "metadata": {},
     "output_type": "display_data"
    }
   ],
   "source": [
    "result.plot.line(x='topic_num', y='perplexity')"
   ]
  },
  {
   "cell_type": "code",
   "execution_count": 42,
   "metadata": {},
   "outputs": [
    {
     "data": {
      "text/plain": [
       "<AxesSubplot:xlabel='topic_num'>"
      ]
     },
     "execution_count": 42,
     "metadata": {},
     "output_type": "execute_result"
    },
    {
     "data": {
      "image/png": "[encoded data removed]",
      "text/plain": [
       "<Figure size 640x480 with 1 Axes>"
      ]
     },
     "metadata": {},
     "output_type": "display_data"
    }
   ],
   "source": [
    "result.plot.line(x='topic_num', y='pmi')"
   ]
  },
  {
   "cell_type": "markdown",
   "metadata": {},
   "source": [
    "## 5. 視覺化呈現\n",
    "\n",
    "**5.1 產生 LDAvis 結果**\n",
    "\n",
    "LDAvis 是我們經常會使用的視覺化工具，目的為幫助我們解釋主題模型中，在我們建構好主題模型得到 θ(文件的主題分佈) 跟 φ(主題的字分佈)，透過 pyLDAvis 將主題降維成二維，以網頁的形式供我們查看。\n",
    "\n",
    "+ 圓圈數量代表主題數量，有幾個主題就會有幾個圓圈\n",
    "+ 圓越大代表 document 越大\n",
    "+ 右邊可以看到主題的字分佈\n",
    "+ 右上幫有一個 bar 調整 lambda：當 lambda=1 也就是代表本來的字分佈 φ，將 lambda 縮越小可以看到越唯一的字，好的分佈是 φ 高且唯一，因此我們要在這兩者間取平衡\n",
    "+ 圓心越相近，代表主題會越相似；反之，圓心分越開代表主題有唯一性<br>\n",
    "  --> 假設詞彙本來有 100 字，維度應該是 100，假如本來維度接近(相近)的話，降維後也會接近(相近)\n",
    "\n",
    "以下用主題數 4 來做 LDAvis 的結果範例"
   ]
  },
  {
   "cell_type": "code",
   "execution_count": 43,
   "metadata": {},
   "outputs": [
    {
     "name": "stderr",
     "output_type": "stream",
     "text": [
      "2024-05-06 16:50:25,343 : INFO : using symmetric alpha at 0.25\n",
      "2024-05-06 16:50:25,343 : INFO : using symmetric eta at 0.25\n",
      "2024-05-06 16:50:25,345 : INFO : using serial LDA version on this node\n",
      "2024-05-06 16:50:25,346 : INFO : running online (multi-pass) LDA training, 4 topics, 5 passes over the supplied corpus of 1134 documents, updating model once every 1134 documents, evaluating perplexity every 1134 documents, iterating 50x with a convergence threshold of 0.001000\n",
      "2024-05-06 16:50:25,348 : WARNING : too few updates, training might not converge; consider increasing the number of passes or iterations to improve accuracy\n",
      "2024-05-06 16:50:26,072 : INFO : -9.186 per-word bound, 582.5 perplexity estimate based on a held-out corpus of 1134 documents with 140464 words\n",
      "2024-05-06 16:50:26,073 : INFO : PROGRESS: pass 0, at document #1134/1134\n",
      "2024-05-06 16:50:26,546 : INFO : topic #0 (0.250): 0.014*\"黃子佼\" + 0.004*\"表示\" + 0.004*\"台灣\" + 0.004*\"發生\" + 0.004*\"地震\" + 0.004*\"報導\" + 0.004*\"中國\" + 0.004*\"美國\" + 0.003*\"時間\" + 0.003*\"總統\"\n",
      "2024-05-06 16:50:26,547 : INFO : topic #1 (0.250): 0.007*\"黃子佼\" + 0.006*\"表示\" + 0.005*\"美國\" + 0.005*\"網友\" + 0.005*\"台灣\" + 0.004*\"已經\" + 0.004*\"伊朗\" + 0.003*\"發生\" + 0.003*\"民眾\" + 0.003*\"希望\"\n",
      "2024-05-06 16:50:26,548 : INFO : topic #2 (0.250): 0.010*\"表示\" + 0.004*\"網友\" + 0.004*\"已經\" + 0.004*\"影片\" + 0.004*\"報導\" + 0.003*\"許多\" + 0.003*\"台灣\" + 0.003*\"真的\" + 0.003*\"粉絲\" + 0.003*\"發生\"\n",
      "2024-05-06 16:50:26,548 : INFO : topic #3 (0.250): 0.009*\"台灣\" + 0.009*\"表示\" + 0.007*\"黃子佼\" + 0.004*\"日本\" + 0.004*\"已經\" + 0.004*\"美國\" + 0.003*\"網友\" + 0.003*\"真的\" + 0.003*\"發生\" + 0.003*\"工作\"\n",
      "2024-05-06 16:50:26,549 : INFO : topic diff=0.897546, rho=1.000000\n",
      "2024-05-06 16:50:27,208 : INFO : -8.116 per-word bound, 277.5 perplexity estimate based on a held-out corpus of 1134 documents with 140464 words\n",
      "2024-05-06 16:50:27,208 : INFO : PROGRESS: pass 1, at document #1134/1134\n",
      "2024-05-06 16:50:27,636 : INFO : topic #0 (0.250): 0.020*\"黃子佼\" + 0.005*\"表示\" + 0.005*\"未成年\" + 0.004*\"地震\" + 0.004*\"發生\" + 0.004*\"中國\" + 0.004*\"藝人\" + 0.004*\"總統\" + 0.004*\"台灣\" + 0.003*\"報導\"\n",
      "2024-05-06 16:50:27,637 : INFO : topic #1 (0.250): 0.006*\"伊朗\" + 0.006*\"表示\" + 0.006*\"美國\" + 0.006*\"黃子佼\" + 0.006*\"以色列\" + 0.004*\"網友\" + 0.004*\"立委\" + 0.004*\"台灣\" + 0.004*\"已經\" + 0.003*\"大谷\"\n",
      "2024-05-06 16:50:27,638 : INFO : topic #2 (0.250): 0.009*\"表示\" + 0.005*\"網友\" + 0.004*\"已經\" + 0.004*\"粉絲\" + 0.004*\"報導\" + 0.003*\"許多\" + 0.003*\"真的\" + 0.003*\"影片\" + 0.003*\"一名\" + 0.003*\"發生\"\n",
      "2024-05-06 16:50:27,638 : INFO : topic #3 (0.250): 0.012*\"台灣\" + 0.009*\"表示\" + 0.005*\"日本\" + 0.005*\"美國\" + 0.005*\"黃子佼\" + 0.004*\"已經\" + 0.004*\"中國\" + 0.003*\"發生\" + 0.003*\"工作\" + 0.003*\"網友\"\n",
      "2024-05-06 16:50:27,639 : INFO : topic diff=0.341831, rho=0.577350\n",
      "2024-05-06 16:50:28,230 : INFO : -7.999 per-word bound, 255.8 perplexity estimate based on a held-out corpus of 1134 documents with 140464 words\n",
      "2024-05-06 16:50:28,231 : INFO : PROGRESS: pass 2, at document #1134/1134\n",
      "2024-05-06 16:50:28,595 : INFO : topic #0 (0.250): 0.024*\"黃子佼\" + 0.006*\"未成年\" + 0.006*\"表示\" + 0.005*\"藝人\" + 0.005*\"地震\" + 0.004*\"發生\" + 0.004*\"影片\" + 0.004*\"總統\" + 0.004*\"中國\" + 0.003*\"小姐\"\n",
      "2024-05-06 16:50:28,596 : INFO : topic #1 (0.250): 0.008*\"伊朗\" + 0.008*\"以色列\" + 0.006*\"表示\" + 0.006*\"美國\" + 0.005*\"立委\" + 0.005*\"大谷\" + 0.004*\"統神\" + 0.004*\"黃子佼\" + 0.004*\"直播\" + 0.004*\"攻擊\"\n",
      "2024-05-06 16:50:28,597 : INFO : topic #2 (0.250): 0.008*\"表示\" + 0.005*\"網友\" + 0.004*\"粉絲\" + 0.004*\"已經\" + 0.004*\"報導\" + 0.003*\"真的\" + 0.003*\"許多\" + 0.003*\"一名\" + 0.003*\"公司\" + 0.003*\"影片\"\n",
      "2024-05-06 16:50:28,597 : INFO : topic #3 (0.250): 0.014*\"台灣\" + 0.008*\"表示\" + 0.007*\"日本\" + 0.006*\"美國\" + 0.005*\"中國\" + 0.004*\"發生\" + 0.004*\"已經\" + 0.004*\"地震\" + 0.003*\"大陸\" + 0.003*\"指出\"\n",
      "2024-05-06 16:50:28,598 : INFO : topic diff=0.293640, rho=0.500000\n",
      "2024-05-06 16:50:29,162 : INFO : -7.929 per-word bound, 243.7 perplexity estimate based on a held-out corpus of 1134 documents with 140464 words\n",
      "2024-05-06 16:50:29,163 : INFO : PROGRESS: pass 3, at document #1134/1134\n",
      "2024-05-06 16:50:29,502 : INFO : topic #0 (0.250): 0.027*\"黃子佼\" + 0.007*\"未成年\" + 0.006*\"表示\" + 0.005*\"藝人\" + 0.004*\"影片\" + 0.004*\"地震\" + 0.004*\"少女\" + 0.004*\"發生\" + 0.004*\"小姐\" + 0.004*\"總統\"\n",
      "2024-05-06 16:50:29,503 : INFO : topic #1 (0.250): 0.009*\"伊朗\" + 0.009*\"以色列\" + 0.007*\"表示\" + 0.006*\"立委\" + 0.006*\"美國\" + 0.005*\"統神\" + 0.005*\"大谷\" + 0.005*\"直播\" + 0.005*\"徐巧\" + 0.004*\"攻擊\"\n",
      "2024-05-06 16:50:29,504 : INFO : topic #2 (0.250): 0.008*\"表示\" + 0.005*\"網友\" + 0.005*\"粉絲\" + 0.004*\"已經\" + 0.004*\"報導\" + 0.004*\"真的\" + 0.003*\"許多\" + 0.003*\"一名\" + 0.003*\"發現\" + 0.003*\"公司\"\n",
      "2024-05-06 16:50:29,504 : INFO : topic #3 (0.250): 0.015*\"台灣\" + 0.008*\"表示\" + 0.008*\"日本\" + 0.008*\"美國\" + 0.006*\"中國\" + 0.005*\"地震\" + 0.005*\"發生\" + 0.004*\"已經\" + 0.004*\"民眾\" + 0.004*\"大陸\"\n",
      "2024-05-06 16:50:29,505 : INFO : topic diff=0.250652, rho=0.447214\n",
      "2024-05-06 16:50:30,047 : INFO : -7.883 per-word bound, 236.0 perplexity estimate based on a held-out corpus of 1134 documents with 140464 words\n",
      "2024-05-06 16:50:30,048 : INFO : PROGRESS: pass 4, at document #1134/1134\n",
      "2024-05-06 16:50:30,369 : INFO : topic #0 (0.250): 0.029*\"黃子佼\" + 0.007*\"未成年\" + 0.006*\"表示\" + 0.006*\"藝人\" + 0.005*\"影片\" + 0.004*\"少女\" + 0.004*\"小姐\" + 0.004*\"影像\" + 0.004*\"總統\" + 0.004*\"真的\"\n",
      "2024-05-06 16:50:30,370 : INFO : topic #1 (0.250): 0.010*\"伊朗\" + 0.010*\"以色列\" + 0.007*\"立委\" + 0.007*\"表示\" + 0.007*\"徐巧\" + 0.006*\"美國\" + 0.006*\"統神\" + 0.006*\"直播\" + 0.005*\"大谷\" + 0.005*\"攻擊\"\n",
      "2024-05-06 16:50:30,370 : INFO : topic #2 (0.250): 0.008*\"表示\" + 0.005*\"網友\" + 0.005*\"粉絲\" + 0.004*\"已經\" + 0.004*\"報導\" + 0.004*\"真的\" + 0.003*\"許多\" + 0.003*\"一名\" + 0.003*\"發現\" + 0.003*\"知道\"\n",
      "2024-05-06 16:50:30,371 : INFO : topic #3 (0.250): 0.015*\"台灣\" + 0.009*\"美國\" + 0.008*\"表示\" + 0.008*\"日本\" + 0.007*\"中國\" + 0.006*\"地震\" + 0.005*\"發生\" + 0.004*\"民眾\" + 0.004*\"已經\" + 0.004*\"大陸\"\n",
      "2024-05-06 16:50:30,372 : INFO : topic diff=0.216920, rho=0.408248\n",
      "2024-05-06 16:50:30,372 : INFO : LdaModel lifecycle event {'msg': 'trained LdaModel<num_terms=5409, num_topics=4, decay=0.5, chunksize=2000> in 5.03s', 'datetime': '2024-05-06T16:50:30.372744', 'gensim': '4.2.0', 'python': '3.7.9 (tags/v3.7.9:13c94747c7, Aug 17 2020, 18:58:18) [MSC v.1900 64 bit (AMD64)]', 'platform': 'Windows-10-10.0.19041-SP0', 'event': 'created'}\n"
     ]
    }
   ],
   "source": [
    "best_model = LdaModel(\n",
    "    corpus = corpus,\n",
    "    num_topics = 4,\n",
    "    id2word=dictionary,\n",
    "    random_state = 1500,\n",
    "    passes = 5 # 訓練次數\n",
    "    )"
   ]
  },
  {
   "cell_type": "code",
   "execution_count": 44,
   "metadata": {},
   "outputs": [
    {
     "name": "stderr",
     "output_type": "stream",
     "text": [
      "C:\\Users\\giyak\\AppData\\Roaming\\Python\\Python37\\site-packages\\pyLDAvis\\_prepare.py:247: FutureWarning: In a future version of pandas all arguments of DataFrame.drop except for the argument 'labels' will be keyword-only\n",
      "  by='saliency', ascending=False).head(R).drop('saliency', 1)\n"
     ]
    },
    {
     "data": {
      "text/html": [
       "\n",
       "<link rel=\"stylesheet\" type=\"text/css\" href=\"https://cdn.jsdelivr.net/gh/bmabey/pyLDAvis@3.3.1/pyLDAvis/js/ldavis.v1.0.0.css\">\n",
       "\n",
       "\n",
       "<div id=\"ldavis_el1316821424948846801494875453\"></div>\n",
       "<script type=\"text/javascript\">\n",
       "\n",
       "var ldavis_el1316821424948846801494875453_data = {\"mdsDat\": {\"x\": [0.08591436418382511, 0.033040254821895626, -0.087858198829924, -0.031096420175796752], \"y\": [-0.06817388273633851, 0.08880569495563452, -0.040192142505037574, 0.019560330285741497], \"topics\": [1, 2, 3, 4], \"cluster\": [1, 1, 1, 1], \"Freq\": [39.87444329281358, 23.410203384676613, 19.28945899462789, 17.42589432788192]}, \"tinfo\": {\"Term\": [\"\\u9ec3\\u5b50\\u4f7c\", \"\\u4f0a\\u6717\", \"\\u4ee5\\u8272\\u5217\", \"\\u53f0\\u7063\", \"\\u672a\\u6210\\u5e74\", \"\\u7acb\\u59d4\", \"\\u7f8e\\u570b\", \"\\u7d71\\u795e\", \"\\u5927\\u8c37\", \"\\u5f90\\u5de7\", \"\\u65e5\\u672c\", \"\\u5730\\u9707\", \"\\u76f4\\u64ad\", \"\\u85dd\\u4eba\", \"\\u5c11\\u5973\", \"\\u653b\\u64ca\", \"\\u570b\\u6c11\\u9ee8\", \"\\u6c11\\u9032\\u9ee8\", \"\\u4e2d\\u570b\", \"\\u5c0f\\u59d0\", \"\\u7121\\u4eba\\u6a5f\", \"\\u5f71\\u50cf\", \"\\u9053\\u5947\", \"\\u7e3d\\u7d71\", \"\\u6027\\u4fb5\", \"\\u6c34\\u539f\", \"\\u5bb6\\u66b4\", \"\\u5077\\u62cd\", \"\\u4e3b\\u59d4\", \"\\u98db\\u5f48\", \"\\u5c71\\u8c6c\", \"\\u674e\\u667a\\u51f1\", \"\\u611a\\u4eba\\u7bc0\", \"\\u91d1\\u50cf\\u734e\", \"\\u544a\\u5225\\u5f0f\", \"\\u82b3\\u8a9e\", \"\\u660e\\u5fd7\", \"\\u6731\\u8ed2\\u6d0b\", \"\\u5973\\u53cb\", \"\\u548c\\u5f26\", \"\\u7d04\\u6703\", \"\\u751f\\u524d\", \"\\u7d05\\u6591\", \"\\u72fc\\u7621\", \"\\u904e\\u4e16\", \"\\u760b\\u795e\", \"\\u7121\\u96d9\", \"\\u552e\\u7968\", \"\\u9280\\u724c\", \"\\u9999\\u6e2f\\u96fb\\u5f71\", \"\\u8759\\u8760\", \"\\u80ba\\u708e\", \"\\u5206\\u624b\", \"\\u5f35\\u570b\\u69ae\", \"\\u9ad4\\u64cd\", \"\\u6b4c\\u624b\", \"\\u5f71\\u5e1d\", \"\\u6200\\u611b\", \"\\u901d\\u4e16\", \"\\u96e2\\u4e16\", \"\\u5433\\u5353\\u6e90\", \"\\u5bf5\\u7269\", \"\\u5b6b\\u85dd\\u73cd\", \"\\u5967\\u904b\", \"\\u7c89\\u7d72\", \"\\u6f14\\u5531\\u6703\", \"\\u611f\\u60c5\", \"\\u7537\\u5b50\", \"\\u6b4c\\u8ff7\", \"\\u4eba\\u6c23\", \"\\u98fe\\u6f14\", \"\\u7d50\\u5a5a\", \"\\u559c\\u6b61\", \"\\u5206\\u4eab\", \"\\u670b\\u53cb\", \"\\u73fe\\u5834\", \"\\u7167\\u7247\", \"\\u7a81\\u7136\", \"\\u97f3\\u6a02\", \"\\u8a31\\u591a\", \"\\u4e00\\u540d\", \"\\u751f\\u6d3b\", \"\\u5169\\u4eba\", \"\\u7db2\\u53cb\", \"\\u842c\\u5b89\", \"\\u4e00\\u8d77\", \"\\u8868\\u793a\", \"\\u6c92\\u60f3\\u5230\", \"\\u4e00\\u76f4\", \"\\u771f\\u7684\", \"\\u767c\\u73fe\", \"\\u89ba\\u5f97\", \"\\u77e5\\u9053\", \"\\u900f\\u9732\", \"\\u5df2\\u7d93\", \"\\u516c\\u53f8\", \"\\u7576\\u6642\", \"\\u5831\\u5c0e\", \"\\u770b\\u5230\", \"\\u6700\\u5f8c\", \"\\u5f71\\u7247\", \"\\u73fe\\u5728\", \"\\u767c\\u751f\", \"\\u5e0c\\u671b\", \"\\u53f0\\u7063\", \"\\u8a8d\\u70ba\", \"\\u9f8d\\u6372\\u98a8\", \"\\u91d1\\u50f9\", \"\\u5370\\u592a\", \"\\u6cd5\\u6848\", \"\\u6d77\\u8ecd\", \"\\u652f\\u51fa\", \"\\u53c3\\u8b70\\u9662\", \"\\u718a\\u672c\\u7e23\", \"\\u718a\\u672c\", \"\\u6d2a\\u6c34\", \"\\u65e5\\u5713\", \"\\u675c\\u62dc\", \"\\u7f8e\\u65e5\", \"\\u52de\\u5de5\", \"\\u99ac\\u65af\\u514b\", \"\\u76df\\u53cb\", \"\\u52df\\u6b3e\", \"\\u66b4\\u96e8\", \"\\u6f32\\u5e45\", \"\\u5927\\u516c\\u570b\", \"\\u5317\\u97d3\", \"\\u7a4d\\u96fb\", \"\\u5584\\u6b3e\", \"\\u83f2\\u5f8b\\u8cd3\", \"\\u7e41\\u69ae\", \"\\u6f5b\\u8266\", \"\\u6c11\\u4e3b\\u9ee8\", \"\\u6eef\\u7559\", \"\\u82b1\\u84ee\\u7e23\", \"\\u7f8e\\u53f0\", \"\\u6350\\u6b3e\", \"\\u5104\\u7f8e\\u5143\", \"\\u5357\\u6d77\", \"\\u707d\\u6c11\", \"\\u7279\\u65af\\u62c9\", \"\\u9ec3\\u91d1\", \"\\u548c\\u5e73\", \"\\u53f0\\u7063\", \"\\u5168\\u7403\", \"\\u5f37\\u9707\", \"\\u65e5\\u672c\", \"\\u5169\\u5cb8\", \"\\u8ecd\\u4e8b\", \"\\u5730\\u9707\", \"\\u4e2d\\u570b\", \"\\u7f8e\\u570b\", \"\\u653f\\u5e9c\", \"\\u82b1\\u84ee\", \"\\u570b\\u969b\", \"\\u52a0\\u5dde\", \"\\u5927\\u9678\", \"\\u5730\\u5340\", \"\\u6c11\\u773e\", \"\\u5b89\\u5168\", \"\\u767c\\u751f\", \"\\u898f\\u6a21\", \"\\u8868\\u793a\", \"\\u570b\\u5bb6\", \"\\u9020\\u6210\", \"\\u9032\\u884c\", \"\\u5f71\\u97ff\", \"\\u7576\\u5730\", \"\\u6307\\u51fa\", \"\\u7e3d\\u7d71\", \"\\u51fa\\u73fe\", \"\\u5df2\\u7d93\", \"\\u76ee\\u524d\", \"\\u5de5\\u4f5c\", \"\\u6301\\u7e8c\", \"\\u5831\\u5c0e\", \"\\u4eca\\u5929\", \"\\u5e0c\\u671b\", \"\\u6642\\u9593\", \"\\u7db2\\u53cb\", \"\\u5f97\\u901e\", \"\\u5b5f\\u803f\\u5982\", \"\\u9676\\u6676\\u7469\", \"\\u67e5\\u7372\", \"\\u4e0d\\u96c5\\u7247\", \"\\u786c\\u789f\", \"\\u9632\\u5236\", \"\\u5f35\\u5c0f\\u71d5\", \"\\u6aa2\\u8b66\", \"\\u6094\\u904e\\u66f8\", \"\\u4ea4\\u901a\\u90e8\", \"\\u53f0\\u7248\", \"\\u5f6d\\u555f\", \"\\u5c0f\\u71d5\\u59d0\", \"\\u90ed\\u667a\\u8f1d\", \"\\u96a8\\u8eab\", \"\\u6027\\u4fb5\", \"\\u72af\\u884c\", \"\\u7763\\u4fc3\", \"\\u5289\\u93e1\", \"\\u65c5\\u6cd5\", \"\\u865f\\u623f\", \"\\u9ec3\\u5b50\\u4f7c\", \"\\u9ec3\\u5148\\u751f\", \"\\u89f8\\u72af\", \"\\u767e\\u90e8\", \"\\u8a13\\u7df4\\u73ed\", \"\\u516c\\u5eab\", \"\\u8272\\u60c5\", \"\\u674e\\u6021\\u8c9e\", \"\\u6301\\u6709\", \"\\u525d\\u524a\", \"\\u8cc8\\u6c38\\u5a55\", \"\\u9023\\u7f72\", \"\\u88f8\\u7167\", \"\\u5f71\\u50cf\", \"\\u5152\\u5c11\", \"\\u968b\\u68e0\", \"\\u4fee\\u6cd5\", \"\\u5c11\\u5973\", \"\\u6027\\u9a37\", \"\\u672a\\u6210\\u5e74\", \"\\u8d77\\u8a34\", \"\\u5077\\u62cd\", \"\\u5c0f\\u59d0\", \"\\u90e8\\u9577\", \"\\u8655\\u5206\", \"\\u6027\\u9a37\\u64fe\", \"\\u8ad6\\u58c7\", \"\\u4e3b\\u59d4\", \"\\u85dd\\u4eba\", \"\\u8cfc\\u8cb7\", \"\\u5353\\u69ae\\u6cf0\", \"\\u5152\\u7ae5\", \"\\u6f14\\u85dd\\u5708\", \"\\u53d7\\u5bb3\\u8005\", \"\\u99ac\\u82f1\\u4e5d\", \"\\u5f71\\u7247\", \"\\u7e3d\\u7d71\", \"\\u5f8b\\u5e2b\", \"\\u98a8\\u6ce2\", \"\\u8868\\u793a\", \"\\u5730\\u9707\", \"\\u771f\\u7684\", \"\\u7acb\\u59d4\", \"\\u767c\\u8072\", \"\\u8a8d\\u70ba\", \"\\u53bb\\u5e74\", \"\\u767c\\u751f\", \"\\u73fe\\u5728\", \"\\u4e8b\\u4ef6\", \"\\u77e5\\u9053\", \"\\u5c0d\\u6b64\", \"\\u7db2\\u53cb\", \"\\u5df2\\u7d93\", \"\\u5177\\u4fca\\u66c4\", \"\\u6c34\\u539f\", \"\\u9053\\u5947\", \"\\u535a\\u96c5\", \"\\u5927\\u8c37\", \"\\u4f0a\\u6717\", \"\\u674e\\u591a\\u6167\", \"\\u4ee5\\u8ecd\", \"\\u885b\\u968a\", \"\\u4e00\\u5e73\", \"\\u6558\\u5229\\u4e9e\", \"\\u5168\\u58d8\\u6253\", \"\\u677e\\u4e95\", \"\\u7fd4\\u5e73\", \"\\u5bb6\\u66b4\", \"\\u4f0a\\u62c9\\u514b\", \"\\u5fb7\\u9ed1\\u862d\", \"\\u6572\\u51fa\", \"\\u5c40\\u4e0b\", \"\\u4f0a\\u65af\\u6cd5\\u7f55\", \"\\u793e\\u798f\", \"\\u9818\\u7a7a\", \"\\u5927\\u99ac\\u58eb\\u9769\", \"\\u7121\\u4eba\\u6a5f\", \"\\u79c0\\u559c\", \"\\u7d71\\u795e\", \"\\u4e8c\\u58d8\", \"\\u8881\\u5b9a\\u6587\", \"\\u6559\\u58eb\", \"\\u8ced\\u50b5\", \"\\u4ee5\\u8272\\u5217\", \"\\u6afb\\u82b1\", \"\\u7403\\u5718\", \"\\u5433\\u5d22\", \"\\u968a\\u9577\", \"\\u672c\\u5b63\", \"\\u98db\\u5f48\", \"\\u9769\\u547d\", \"\\u5831\\u5fa9\", \"\\u653b\\u64ca\", \"\\u767c\\u5c04\", \"\\u767c\\u52d5\", \"\\u5f35\\u5609\\u822a\", \"\\u570b\\u6c11\\u9ee8\", \"\\u6c11\\u9032\\u9ee8\", \"\\u570b\\u5f90\\u5de7\", \"\\u76f4\\u64ad\", \"\\u7acb\\u59d4\", \"\\u5f90\\u5de7\", \"\\u6d0b\\u7247\", \"\\u8077\\u68d2\", \"\\u5927\\u59d1\", \"\\u806f\\u76df\", \"\\u7f8e\\u570b\", \"\\u6771\\u68ee\", \"\\u8cf4\\u6e05\\u5fb7\", \"\\u8868\\u793a\", \"\\u64d4\\u4efb\", \"\\u4eca\\u5929\", \"\\u5831\\u5c0e\", \"\\u5a92\\u9ad4\", \"\\u5df2\\u7d93\", \"\\u6c11\\u773e\", \"\\u5f37\\u8abf\", \"\\u6642\\u9593\", \"\\u5e0c\\u671b\", \"\\u7db2\\u53cb\", \"\\u7e3d\\u7d71\", \"\\u53f0\\u7063\", \"\\u9ec3\\u5b50\\u4f7c\"], \"Freq\": [903.0, 265.0, 279.0, 768.0, 257.0, 310.0, 546.0, 160.0, 143.0, 285.0, 437.0, 320.0, 221.0, 264.0, 146.0, 162.0, 168.0, 174.0, 393.0, 142.0, 98.0, 117.0, 82.0, 259.0, 95.0, 72.0, 79.0, 106.0, 119.0, 92.0, 114.98168613345656, 58.41418749017598, 57.02156814617215, 23.73974685356927, 66.27217389835633, 36.017357108611144, 77.58307462208917, 94.3816184053662, 60.15313434672431, 34.639079238086396, 22.469344640227842, 42.96500063829369, 14.880041613567228, 14.863287616702253, 13.003408135186172, 14.854222723088116, 15.729817114412283, 16.644601970090186, 15.68628410796395, 11.046354493803225, 28.482280435298478, 12.879170516188083, 55.09850663327969, 14.703552487222543, 25.809422954905614, 84.57958805116964, 12.851024681699947, 20.22986764460918, 13.751510446066353, 36.773057238073505, 106.82281893705509, 27.372392531287066, 62.29791979944685, 96.8566913502838, 277.810100935885, 87.83968958552184, 73.82541948089813, 148.70582891811176, 61.20416646062025, 48.86879420140341, 23.543845064385028, 73.74160711440567, 71.00529048846373, 117.35847809189987, 133.97244427515602, 147.1039916338836, 112.30708446385904, 92.26144069117971, 71.77566788857916, 187.08521595017797, 178.4130550619281, 95.63382236797786, 152.69684679438643, 297.4429554369053, 86.34798073369275, 164.94558012254925, 449.99878045888636, 119.39081387350612, 131.45350904694956, 204.81881467582446, 172.01791198928134, 146.58981117668256, 167.37101376871883, 151.7695901708535, 229.05365534042897, 163.0156005358394, 153.6018429994344, 205.2931950174918, 159.499523749911, 140.54715733171454, 155.55165744057635, 144.75703672142362, 156.85984498640755, 137.73209463839052, 160.1435240466067, 124.03394334131988, 27.06679767037803, 21.215436761991423, 36.52789486132979, 62.61899294646363, 18.213860906130467, 26.80010147391465, 17.23790101183183, 11.467175618152067, 13.372890549585593, 35.3520673781847, 46.51889706949363, 41.70578648090431, 25.55394843725213, 18.04059077772923, 23.67151776793116, 15.11518211681336, 27.161731999726207, 43.10646356597379, 9.340417147696808, 11.196000574722527, 12.132429859451863, 14.903980556894195, 14.848311742967967, 32.40389507326516, 15.713560856585692, 18.549990714792365, 10.16663808650105, 9.232719061513647, 22.892885535160985, 8.237233117075984, 65.17735244235375, 46.115996074329765, 37.87774660351915, 26.23623378124634, 44.92771969346333, 48.49468107346447, 56.99002784435584, 486.6754619160159, 107.04242892420594, 70.1771314194995, 272.41082238476736, 70.74442906676755, 59.02827453717018, 193.09831313483738, 226.68029425510238, 280.1129998106202, 94.91015888685736, 98.39549806599308, 65.38148067792956, 46.49618893256775, 129.31072776571247, 65.45172584188605, 144.46152628609264, 87.63017977886621, 175.8911343335414, 62.89889408532852, 273.01008445269133, 86.5765406002621, 95.91156016315354, 115.26250652617179, 86.85879217676565, 96.29975752481566, 112.18202448818259, 100.5394876560265, 92.61598628470726, 133.42462143754574, 102.29449895723444, 89.18838212261741, 75.26874589982326, 95.08337159414364, 79.31394860587805, 77.85354590511106, 72.59318225216987, 73.05099697359836, 22.84921246363131, 70.67570930353119, 20.095382791883164, 19.214752691934542, 39.197052698631836, 23.225275572676882, 17.618850555427, 53.38576749333464, 34.287996231602555, 19.08201896948868, 13.5032487824839, 11.112762732702526, 14.289346203510856, 23.7278364646879, 11.854072261130938, 10.253261333112823, 84.91790114322693, 10.209291178152263, 14.104818225001157, 10.96128964938, 8.594233320620653, 9.384283797365281, 795.4063507346913, 10.156129557513433, 8.579778211033457, 9.36086984756096, 8.574734575611512, 8.560269214732807, 16.351358793670432, 9.352762653099886, 76.4840532210537, 40.781504931085806, 13.980976315097175, 33.89450434987158, 17.022695371947744, 99.0011506508952, 61.77169614763407, 18.560830692246704, 43.808348575397346, 120.20335119280351, 28.130253602807738, 198.61096936939654, 72.62585822363347, 85.5562127916307, 108.69592635401632, 77.76563498870759, 48.25532413489813, 44.20315893092844, 46.65737489433253, 83.59568010179169, 157.21668323712723, 71.38716155116205, 51.700429935467575, 51.098704357895045, 81.75936783108156, 68.94909531468753, 53.024032535573745, 125.12542206868267, 95.27259506300719, 50.28503884832036, 61.330953697659965, 162.09356011155194, 90.5878116202251, 95.15437401509315, 83.29168672629105, 57.60233502490113, 80.53417132096533, 71.8739685738079, 89.52724769748414, 77.04576091082245, 71.18727713797334, 73.4007170749241, 70.32715908377138, 75.70394570851096, 71.31596396595619, 23.88396812215593, 68.15622042735572, 77.44980751628256, 50.194696157946076, 134.2586505119829, 245.1510191342593, 50.51961443444058, 13.402766349736169, 23.350485628627926, 19.874097149404676, 14.89575594242721, 43.7244980386742, 13.193784679424411, 52.720450913490865, 71.39223275508505, 11.440005754883755, 11.40401430099751, 12.201652110572674, 9.762667797186113, 8.131544624426347, 10.579199998056824, 9.750917128543048, 9.717093439717782, 87.23389793289482, 8.051815322545055, 141.44016907083036, 13.67577794420531, 8.045383265122913, 21.714816774351856, 8.011316655533337, 238.90947428056498, 24.652533801550828, 31.52128439638491, 38.929775009655195, 34.77428265579809, 18.87893270145352, 73.00422930144907, 26.211406924935126, 21.762497632406884, 117.55255215056653, 40.10304098336887, 31.999791285152522, 26.62818201970859, 110.03423285672403, 113.14155559433316, 33.478670102185376, 135.93809497026723, 178.59269017663027, 159.87262623027993, 49.004375864298176, 31.68417666021779, 68.4805801998056, 51.53397175990501, 153.2942464474654, 53.28293287468313, 53.721860063553265, 163.724902179091, 52.12042380284942, 81.13595700692066, 88.5478584841778, 64.44122819212711, 80.06696316843723, 69.21888835268061, 58.01502366441154, 61.46751899866429, 60.38676808013931, 62.45112440754892, 58.150158847128424, 61.68597386640651, 62.15461575005929], \"Total\": [903.0, 265.0, 279.0, 768.0, 257.0, 310.0, 546.0, 160.0, 143.0, 285.0, 437.0, 320.0, 221.0, 264.0, 146.0, 162.0, 168.0, 174.0, 393.0, 142.0, 98.0, 117.0, 82.0, 259.0, 95.0, 72.0, 79.0, 106.0, 119.0, 92.0, 117.5427280764128, 60.78660747623631, 59.684125693358475, 24.8484481110049, 69.5607247412481, 37.82663144712855, 81.48159806866416, 99.28069171489888, 63.622737676223814, 36.76264580050611, 23.84797645600839, 45.702245282504, 15.89048764454468, 15.88889505496809, 13.904076246908945, 15.88860975556768, 16.877797276960163, 17.877794768117923, 16.89306027207154, 11.909283360286791, 30.726311402751143, 13.898141299280354, 59.47976882007166, 15.875448928564143, 27.88411459758876, 91.40861758029507, 13.892018186951512, 21.88705057496143, 14.882021749261888, 39.853143400461704, 117.45770398116153, 29.719326286907762, 68.70248187731765, 108.18734440549062, 318.9938590971326, 98.68995373245842, 84.98538898690468, 180.04950240115187, 70.6240711446539, 55.842745398651466, 25.804775118522702, 87.27363860807678, 85.41987376763774, 147.9401120383752, 172.8470779167703, 192.230338212732, 143.38891698343215, 116.68049394963249, 88.01196793700906, 268.96132001671765, 259.3117108103353, 124.07724043176822, 220.33252653016842, 508.6490225265635, 110.5031079330344, 266.8818605657112, 1048.8273272022207, 176.4325472923813, 204.31072899286823, 392.6480786515164, 308.25898565741426, 247.3793214737355, 309.8561611197656, 266.1870822886131, 513.8612039123682, 302.6899057056867, 274.80352784918404, 450.93579959314843, 299.5649969075353, 240.20621391087826, 333.5354055022859, 320.9514388414728, 475.78087424346927, 346.21634614582837, 768.6855735242862, 304.0405023789433, 28.854451624614466, 22.66396236, 39.118005450588626, 67.07497923624034, 19.572857490930208, 28.839397011751633, 18.55189980341481, 12.349340349945393, 14.403777672663876, 38.084385752950354, 50.32254682461908, 45.217344501376985, 27.734959624161917, 19.586790232863816, 25.727798596520447, 16.458720486501743, 29.807807016668477, 47.38808715849788, 10.27032765003351, 12.312681168064355, 13.343652088083264, 16.446531860743534, 16.43781568981338, 35.874206718362096, 17.417211313475992, 20.58704629071395, 11.300201120361907, 10.263904657437443, 25.576562621590572, 9.221937049610949, 73.7506091134805, 52.23223669973417, 42.86115052023844, 29.648806703309145, 52.06238760821045, 58.218951681684295, 71.60608952366181, 768.6855735242862, 149.12991568201872, 93.14679926149245, 437.58487191540047, 95.46126607174779, 78.23400873989777, 320.1661053503379, 393.496438760148, 546.8105596827622, 151.84584463400157, 172.03281603427064, 101.10267555183579, 63.85185939595969, 255.33170815304535, 102.73859106803161, 333.81055088759877, 164.65958433501322, 475.78087424346927, 101.14280209795743, 1048.8273272022207, 170.99658817290498, 206.18325864814892, 281.7748521545424, 174.91089259971156, 214.28022828661878, 294.63440241827175, 259.05815643869363, 225.1064525220858, 513.8612039123682, 318.61783439240855, 274.85565887645356, 170.30066549863844, 450.93579959314843, 305.46193730200497, 346.21634614582837, 308.62238110693994, 508.6490225265635, 24.679869004113783, 76.77972373746363, 22.057727874981715, 21.181750952312843, 43.2105674701346, 25.612543114873937, 19.43433488870596, 59.096038475502816, 37.966151491122055, 21.219469054401888, 15.0427467929982, 12.392434391051577, 15.935765213099232, 26.5068102951369, 13.27739902457119, 11.505296182536279, 95.39527784640552, 11.51306890771531, 15.941249802199126, 12.402283820206382, 9.740894875882674, 10.64398886943323, 903.1982642033274, 11.534867033391208, 9.747580664407307, 10.638657535131964, 9.745271445462244, 9.739235402016043, 18.60673007704434, 10.644389972340576, 87.79195871215808, 46.9353306625428, 15.922385913689874, 39.013595699236056, 19.458637520823476, 117.4326848397023, 72.57193532952742, 21.339954496126587, 51.349635324916306, 146.09938875725751, 32.893294114169336, 257.4601623194989, 89.68652478679557, 106.99420605109195, 142.6094010570711, 102.78609688349259, 61.45616631247973, 56.26021076737773, 60.25851312067264, 119.24049483506613, 264.4779983246767, 112.8010426331493, 75.57568218591706, 77.42752166791804, 148.83336295223137, 120.24144503484945, 86.41521599577618, 333.5354055022859, 259.05815643869363, 82.27419040427256, 125.69706752146226, 1048.8273272022207, 320.1661053503379, 392.6480786515164, 310.13765552292807, 110.27574200689743, 304.0405023789433, 226.93999904754781, 475.78087424346927, 320.9514388414728, 265.07760412913706, 309.8561611197656, 261.89407775869813, 508.6490225265635, 513.8612039123682, 25.48270341657357, 72.79924728993659, 82.80324652510053, 53.746294061364424, 143.80420966480685, 265.08463020395806, 54.68552223512118, 14.574306275033269, 25.514249328203398, 21.888762902727738, 16.411117590459117, 48.284672806199325, 14.572257174148675, 58.40933434133574, 79.10990122744235, 12.758244809592224, 12.773230126267899, 13.669249753894155, 10.939947869041442, 9.118239712195866, 11.86545020844735, 10.943685758532997, 10.95237475806403, 98.44444862813346, 9.121560388119807, 160.29706590476917, 15.500555657272354, 9.122085152356572, 24.67625624017524, 9.129067283380612, 279.45226672237413, 28.45201519248949, 36.71335236197378, 46.084611601799615, 41.268681790708186, 21.932121525311473, 92.6277664194371, 31.23370513623957, 25.589169992980896, 162.0043769938374, 49.92721103095661, 39.09770279912795, 32.13552898365805, 168.76209796866084, 174.81996376096095, 42.413557158269825, 221.8569675290011, 310.13765552292807, 285.45401966737006, 71.86879364689247, 40.675594585240106, 124.71274420701823, 88.97771301129902, 546.8105596827622, 96.17781903498701, 109.16652366059972, 1048.8273272022207, 109.07156146915264, 305.46193730200497, 450.93579959314843, 231.2590481985118, 513.8612039123682, 333.81055088759877, 195.00284389180976, 308.62238110693994, 346.21634614582837, 508.6490225265635, 259.05815643869363, 768.6855735242862, 903.1982642033274], \"Category\": [\"Default\", \"Default\", \"Default\", \"Default\", \"Default\", \"Default\", \"Default\", \"Default\", \"Default\", \"Default\", \"Default\", \"Default\", \"Default\", \"Default\", \"Default\", \"Default\", \"Default\", \"Default\", \"Default\", \"Default\", \"Default\", \"Default\", \"Default\", \"Default\", \"Default\", \"Default\", \"Default\", \"Default\", \"Default\", \"Default\", \"Topic1\", \"Topic1\", \"Topic1\", \"Topic1\", \"Topic1\", \"Topic1\", \"Topic1\", \"Topic1\", \"Topic1\", \"Topic1\", \"Topic1\", \"Topic1\", \"Topic1\", \"Topic1\", \"Topic1\", \"Topic1\", \"Topic1\", \"Topic1\", \"Topic1\", \"Topic1\", \"Topic1\", \"Topic1\", \"Topic1\", \"Topic1\", \"Topic1\", \"Topic1\", \"Topic1\", \"Topic1\", \"Topic1\", \"Topic1\", \"Topic1\", \"Topic1\", \"Topic1\", \"Topic1\", \"Topic1\", \"Topic1\", \"Topic1\", \"Topic1\", \"Topic1\", \"Topic1\", \"Topic1\", \"Topic1\", \"Topic1\", \"Topic1\", \"Topic1\", \"Topic1\", \"Topic1\", \"Topic1\", \"Topic1\", \"Topic1\", \"Topic1\", \"Topic1\", \"Topic1\", \"Topic1\", \"Topic1\", \"Topic1\", \"Topic1\", \"Topic1\", \"Topic1\", \"Topic1\", \"Topic1\", \"Topic1\", \"Topic1\", \"Topic1\", \"Topic1\", \"Topic1\", \"Topic1\", \"Topic1\", \"Topic1\", \"Topic1\", \"Topic1\", \"Topic1\", \"Topic1\", \"Topic1\", \"Topic1\", \"Topic1\", \"Topic2\", \"Topic2\", \"Topic2\", \"Topic2\", \"Topic2\", \"Topic2\", \"Topic2\", \"Topic2\", \"Topic2\", \"Topic2\", \"Topic2\", \"Topic2\", \"Topic2\", \"Topic2\", \"Topic2\", \"Topic2\", \"Topic2\", \"Topic2\", \"Topic2\", \"Topic2\", \"Topic2\", \"Topic2\", \"Topic2\", \"Topic2\", \"Topic2\", \"Topic2\", \"Topic2\", \"Topic2\", \"Topic2\", \"Topic2\", \"Topic2\", \"Topic2\", \"Topic2\", \"Topic2\", \"Topic2\", \"Topic2\", \"Topic2\", \"Topic2\", \"Topic2\", \"Topic2\", \"Topic2\", \"Topic2\", \"Topic2\", \"Topic2\", \"Topic2\", \"Topic2\", \"Topic2\", \"Topic2\", \"Topic2\", \"Topic2\", \"Topic2\", \"Topic2\", \"Topic2\", \"Topic2\", \"Topic2\", \"Topic2\", \"Topic2\", \"Topic2\", \"Topic2\", \"Topic2\", \"Topic2\", \"Topic2\", \"Topic2\", \"Topic2\", \"Topic2\", \"Topic2\", \"Topic2\", \"Topic2\", \"Topic2\", \"Topic2\", \"Topic2\", \"Topic2\", \"Topic2\", \"Topic2\", \"Topic3\", \"Topic3\", \"Topic3\", \"Topic3\", \"Topic3\", \"Topic3\", \"Topic3\", \"Topic3\", \"Topic3\", \"Topic3\", \"Topic3\", \"Topic3\", \"Topic3\", \"Topic3\", \"Topic3\", \"Topic3\", \"Topic3\", \"Topic3\", \"Topic3\", \"Topic3\", \"Topic3\", \"Topic3\", \"Topic3\", \"Topic3\", \"Topic3\", \"Topic3\", \"Topic3\", \"Topic3\", \"Topic3\", \"Topic3\", \"Topic3\", \"Topic3\", \"Topic3\", \"Topic3\", \"Topic3\", \"Topic3\", \"Topic3\", \"Topic3\", \"Topic3\", \"Topic3\", \"Topic3\", \"Topic3\", \"Topic3\", \"Topic3\", \"Topic3\", \"Topic3\", \"Topic3\", \"Topic3\", \"Topic3\", \"Topic3\", \"Topic3\", \"Topic3\", \"Topic3\", \"Topic3\", \"Topic3\", \"Topic3\", \"Topic3\", \"Topic3\", \"Topic3\", \"Topic3\", \"Topic3\", \"Topic3\", \"Topic3\", \"Topic3\", \"Topic3\", \"Topic3\", \"Topic3\", \"Topic3\", \"Topic3\", \"Topic3\", \"Topic3\", \"Topic3\", \"Topic3\", \"Topic3\", \"Topic3\", \"Topic4\", \"Topic4\", \"Topic4\", \"Topic4\", \"Topic4\", \"Topic4\", \"Topic4\", \"Topic4\", \"Topic4\", \"Topic4\", \"Topic4\", \"Topic4\", \"Topic4\", \"Topic4\", \"Topic4\", \"Topic4\", \"Topic4\", \"Topic4\", \"Topic4\", \"Topic4\", \"Topic4\", \"Topic4\", \"Topic4\", \"Topic4\", \"Topic4\", \"Topic4\", \"Topic4\", \"Topic4\", \"Topic4\", \"Topic4\", \"Topic4\", \"Topic4\", \"Topic4\", \"Topic4\", \"Topic4\", \"Topic4\", \"Topic4\", \"Topic4\", \"Topic4\", \"Topic4\", \"Topic4\", \"Topic4\", \"Topic4\", \"Topic4\", \"Topic4\", \"Topic4\", \"Topic4\", \"Topic4\", \"Topic4\", \"Topic4\", \"Topic4\", \"Topic4\", \"Topic4\", \"Topic4\", \"Topic4\", \"Topic4\", \"Topic4\", \"Topic4\", \"Topic4\", \"Topic4\", \"Topic4\", \"Topic4\", \"Topic4\", \"Topic4\", \"Topic4\", \"Topic4\", \"Topic4\", \"Topic4\", \"Topic4\", \"Topic4\"], \"logprob\": [30.0, 29.0, 28.0, 27.0, 26.0, 25.0, 24.0, 23.0, 22.0, 21.0, 20.0, 19.0, 18.0, 17.0, 16.0, 15.0, 14.0, 13.0, 12.0, 11.0, 10.0, 9.0, 8.0, 7.0, 6.0, 5.0, 4.0, 3.0, 2.0, 1.0, -6.1885, -6.8657, -6.8898, -7.7661, -6.7395, -7.3493, -6.5819, -6.3859, -6.8364, -7.3883, -7.8211, -7.1729, -8.2333, -8.2344, -8.3681, -8.235, -8.1777, -8.1212, -8.1805, -8.5312, -7.584, -8.3777, -6.9241, -8.2452, -7.6825, -6.4956, -8.3798, -7.9261, -8.3121, -7.3285, -6.2621, -7.6237, -6.8013, -6.36, -5.3063, -6.4578, -6.6316, -5.9313, -6.8191, -7.0441, -7.7744, -6.6327, -6.6705, -6.168, -6.0356, -5.9421, -6.212, -6.4086, -6.6597, -5.7017, -5.7492, -6.3727, -5.9048, -5.238, -6.4749, -5.8277, -4.824, -6.1509, -6.0546, -5.6111, -5.7857, -5.9456, -5.8131, -5.9109, -5.4993, -5.8394, -5.8989, -5.6088, -5.8612, -5.9877, -5.8863, -5.9582, -5.8779, -6.008, -5.8572, -6.1127, -7.1024, -7.346, -6.8026, -6.2636, -7.4985, -7.1123, -7.5536, -7.9612, -7.8075, -6.8354, -6.5608, -6.6701, -7.1599, -7.5081, -7.2364, -7.685, -7.0989, -6.637, -8.1664, -7.9852, -7.9048, -7.6991, -7.7028, -6.9224, -7.6462, -7.4802, -8.0816, -8.178, -7.2699, -8.292, -6.2236, -6.5695, -6.7663, -7.1336, -6.5957, -6.5193, -6.3578, -4.2131, -5.7275, -6.1497, -4.7934, -6.1416, -6.3227, -5.1375, -4.9772, -4.7655, -5.8478, -5.8117, -6.2205, -6.5613, -5.5385, -6.2194, -5.4277, -5.9276, -5.2308, -6.2592, -4.7912, -5.9397, -5.8373, -5.6535, -5.9364, -5.8332, -5.6806, -5.7902, -5.8722, -5.5072, -5.7729, -5.91, -6.0796, -5.846, -6.0273, -6.0459, -6.1158, -6.1096, -7.0782, -5.949, -7.2066, -7.2514, -6.5385, -7.0619, -7.3381, -6.2296, -6.6723, -7.2583, -7.6042, -7.799, -7.5476, -7.0404, -7.7344, -7.8795, -5.7654, -7.8838, -7.5606, -7.8127, -8.056, -7.9681, -3.5282, -7.889, -8.0577, -7.9706, -8.0583, -8.06, -7.4128, -7.9714, -5.87, -6.4989, -7.5694, -6.6838, -7.3725, -5.612, -6.0836, -7.286, -6.4273, -5.4179, -6.8702, -4.9157, -5.9218, -5.7579, -5.5185, -5.8534, -6.3306, -6.4183, -6.3643, -5.7811, -5.1495, -5.939, -6.2616, -6.2733, -5.8033, -5.9737, -6.2363, -5.3778, -5.6504, -6.2894, -6.0908, -5.1189, -5.7008, -5.6516, -5.7847, -6.1535, -5.8184, -5.9322, -5.7126, -5.8627, -5.9418, -5.9112, -5.9539, -5.8803, -5.94, -6.9323, -5.8837, -5.7559, -6.1896, -5.2057, -4.6036, -6.1831, -7.51, -6.9549, -7.1161, -7.4044, -6.3276, -7.5257, -6.1405, -5.8373, -7.6684, -7.6715, -7.6039, -7.8269, -8.0097, -7.7466, -7.8281, -7.8316, -5.6369, -8.0196, -5.1536, -7.4899, -8.0204, -7.0275, -8.0246, -4.6294, -6.9006, -6.6548, -6.4437, -6.5566, -7.1674, -5.815, -6.8393, -7.0253, -5.3386, -6.414, -6.6398, -6.8235, -5.4047, -5.3769, -6.5946, -5.1933, -4.9204, -5.0311, -6.2136, -6.6497, -5.8789, -6.1633, -5.0731, -6.1299, -6.1217, -5.0073, -6.1519, -5.7094, -5.622, -5.9397, -5.7226, -5.8682, -6.0448, -5.987, -6.0047, -5.9711, -6.0425, -5.9834, -5.9759], \"loglift\": [30.0, 29.0, 28.0, 27.0, 26.0, 25.0, 24.0, 23.0, 22.0, 21.0, 20.0, 19.0, 18.0, 17.0, 16.0, 15.0, 14.0, 13.0, 12.0, 11.0, 10.0, 9.0, 8.0, 7.0, 6.0, 5.0, 4.0, 3.0, 2.0, 1.0, 0.8974, 0.8796, 0.8738, 0.8738, 0.871, 0.8704, 0.8704, 0.8688, 0.8634, 0.8599, 0.8599, 0.8577, 0.8537, 0.8527, 0.8525, 0.8521, 0.849, 0.848, 0.8453, 0.8442, 0.8436, 0.8433, 0.8429, 0.8427, 0.8421, 0.8418, 0.8415, 0.8407, 0.8404, 0.839, 0.8245, 0.8372, 0.8216, 0.8088, 0.7812, 0.803, 0.7787, 0.7282, 0.7763, 0.786, 0.8277, 0.751, 0.7346, 0.6879, 0.6647, 0.6519, 0.6751, 0.6846, 0.7155, 0.5564, 0.5455, 0.6591, 0.5528, 0.3829, 0.6728, 0.4382, 0.0733, 0.5289, 0.4784, 0.2686, 0.3361, 0.3962, 0.3035, 0.3576, 0.1114, 0.3006, 0.3377, 0.1325, 0.2891, 0.3835, 0.1567, 0.1232, -0.1902, -0.0023, -0.6492, 0.0228, 1.388, 1.386, 1.3835, 1.3833, 1.38, 1.3787, 1.3785, 1.3779, 1.3777, 1.3776, 1.3734, 1.3712, 1.3701, 1.3698, 1.3687, 1.3668, 1.359, 1.3573, 1.3571, 1.3569, 1.3568, 1.3535, 1.3503, 1.3503, 1.3491, 1.3478, 1.3463, 1.3461, 1.3411, 1.3391, 1.3284, 1.3275, 1.3284, 1.3297, 1.3046, 1.2692, 1.2237, 0.9949, 1.1204, 1.1688, 0.978, 1.1524, 1.1703, 0.9464, 0.9005, 0.7831, 0.9821, 0.8933, 1.0161, 1.1348, 0.7717, 1.0011, 0.6144, 0.8212, 0.4569, 0.977, 0.1061, 0.7714, 0.6867, 0.5581, 0.752, 0.6522, 0.4864, 0.5055, 0.5639, 0.1036, 0.3159, 0.3265, 0.6355, -0.1046, 0.1036, -0.0402, 0.0048, -0.4886, 1.5685, 1.5628, 1.5524, 1.5481, 1.5481, 1.5478, 1.5475, 1.544, 1.5437, 1.5394, 1.5376, 1.5366, 1.5366, 1.5349, 1.5322, 1.5304, 1.5293, 1.5254, 1.5232, 1.5221, 1.5204, 1.5197, 1.5185, 1.5183, 1.518, 1.5177, 1.5176, 1.5166, 1.5164, 1.5163, 1.5077, 1.5051, 1.5156, 1.505, 1.5119, 1.4749, 1.4845, 1.5061, 1.4868, 1.4505, 1.4892, 1.3861, 1.4346, 1.422, 1.3741, 1.3667, 1.4038, 1.4044, 1.3898, 1.2905, 1.1255, 1.1881, 1.2659, 1.23, 1.0466, 1.0895, 1.1572, 0.6652, 0.6453, 1.1533, 0.928, -0.2216, 0.3831, 0.2282, 0.3309, 0.9962, 0.3171, 0.4958, -0.0248, 0.2187, 0.3309, 0.2054, 0.3308, -0.2593, -0.3292, 1.6824, 1.6813, 1.6804, 1.6788, 1.6785, 1.669, 1.668, 1.6634, 1.6586, 1.6507, 1.6503, 1.648, 1.6478, 1.6447, 1.6446, 1.6382, 1.6338, 1.6336, 1.6334, 1.6327, 1.6325, 1.6318, 1.6275, 1.6263, 1.6225, 1.6221, 1.622, 1.6216, 1.6194, 1.6166, 1.5905, 1.6039, 1.5947, 1.5785, 1.576, 1.5973, 1.5091, 1.5719, 1.5852, 1.4265, 1.5281, 1.5469, 1.5592, 1.3195, 1.3121, 1.5107, 1.2574, 1.1953, 1.1675, 1.3643, 1.4974, 1.1478, 1.2011, 0.4755, 1.1566, 1.0382, -0.11, 1.0088, 0.4215, 0.1194, 0.4694, -0.1119, 0.1739, 0.5349, 0.1336, 0.0009, -0.3502, 0.2532, -0.7754, -0.9291]}, \"token.table\": {\"Topic\": [1, 2, 3, 4, 1, 2, 4, 1, 2, 3, 4, 1, 2, 3, 4, 1, 2, 3, 4, 1, 2, 3, 4, 1, 2, 3, 4, 1, 2, 3, 4, 1, 3, 4, 2, 3, 1, 2, 3, 4, 1, 2, 3, 4, 1, 2, 3, 4, 4, 1, 4, 4, 1, 2, 3, 4, 1, 2, 3, 4, 1, 2, 3, 4, 1, 2, 3, 4, 1, 2, 3, 4, 1, 2, 3, 4, 1, 2, 3, 4, 1, 2, 3, 4, 1, 2, 3, 4, 1, 2, 3, 4, 1, 2, 3, 4, 3, 1, 4, 1, 2, 3, 4, 1, 2, 3, 4, 1, 2, 3, 4, 1, 2, 3, 4, 2, 3, 1, 2, 3, 4, 1, 2, 1, 2, 3, 4, 2, 4, 1, 2, 3, 4, 1, 2, 3, 4, 1, 2, 3, 4, 1, 2, 3, 4, 1, 2, 3, 4, 1, 2, 1, 2, 3, 4, 1, 2, 3, 4, 2, 3, 1, 2, 3, 4, 1, 2, 4, 1, 2, 3, 4, 1, 2, 3, 4, 1, 2, 3, 1, 1, 2, 4, 1, 2, 3, 4, 1, 2, 3, 4, 1, 2, 3, 4, 1, 2, 3, 4, 1, 2, 3, 4, 1, 2, 3, 4, 1, 2, 3, 4, 1, 2, 3, 4, 1, 3, 4, 2, 1, 2, 3, 4, 1, 2, 3, 4, 1, 2, 3, 4, 1, 4, 1, 2, 3, 4, 1, 2, 3, 4, 1, 2, 3, 4, 1, 2, 3, 4, 1, 2, 3, 4, 1, 2, 3, 4, 1, 2, 3, 4, 1, 3, 4, 1, 2, 3, 4, 1, 2, 3, 4, 1, 2, 3, 4, 1, 2, 3, 4, 4, 1, 2, 3, 4, 1, 2, 3, 4, 1, 2, 3, 4, 1, 2, 3, 4, 1, 2, 3, 4, 1, 1, 2, 3, 4, 1, 2, 3, 4, 1, 2, 3, 4, 1, 2, 3, 1, 2, 3, 4, 1, 1, 2, 3, 4, 1, 2, 3, 4, 1, 2, 3, 4, 1, 2, 3, 4, 1, 2, 3, 4, 1, 4, 1, 2, 3, 4, 1, 2, 3, 4, 1, 2, 3, 4, 2, 3, 4, 1, 2, 3, 4, 1, 2, 3, 4, 1, 2, 1, 2, 3, 4, 1, 2, 3, 4, 1, 2, 3, 4, 1, 2, 3, 4, 1, 2, 3, 4, 1, 2, 3, 4, 1, 2, 3, 4, 1, 2, 3, 4, 1, 2, 4, 1, 2, 4, 1, 4, 3, 1, 2, 3, 4, 1, 2, 3, 4, 1, 2, 3, 4, 1, 2, 3, 4, 1, 2, 3, 4, 1, 2, 3, 4, 1, 2, 3, 4, 1, 2, 3, 4, 1, 3, 4, 1, 2, 3, 1, 2, 4, 2, 3, 1, 2, 3, 1, 2, 3, 4, 1, 2, 3, 4, 1, 4, 2, 3, 4, 1, 2, 3, 4, 1, 2, 4, 1, 2, 3, 4, 1, 2, 3, 4, 1, 2, 1, 2, 3, 4, 1, 2, 3, 4, 1, 2, 3, 4, 1, 2, 3, 4, 1, 2, 3, 4, 1, 2, 3, 4, 1, 2, 3, 4, 1, 2, 2, 1, 2, 3, 4, 1, 2, 3, 4, 2, 1, 2, 1, 2, 3, 4, 1, 2, 3, 4, 1, 1, 2, 3, 4, 2, 2, 1, 2, 3, 4, 3, 1, 1, 2, 3, 4, 1, 2, 3, 4, 1, 2, 3, 4, 1, 2, 3, 4, 1, 2, 3, 4, 1, 2, 3, 4, 1, 2, 3, 4, 1, 2, 3, 4, 1, 1, 2, 3, 4, 1, 2, 3, 4, 1, 2, 3, 4, 1, 2, 3, 4, 1, 2, 3, 4, 2, 3, 1, 2, 1, 2, 3, 4, 1, 2, 3, 4, 1, 2, 3, 4, 1, 2, 3, 4, 2, 3, 4, 1, 2, 3, 4, 1, 2, 3, 4, 2, 4, 4, 1, 2, 4, 1, 2, 3, 4, 1, 2, 3, 4, 1, 2, 3, 4, 1, 2, 1, 1, 2, 3, 4, 1, 2, 3, 4, 1, 2, 3, 4, 1, 2, 3, 4, 2, 3, 2, 1, 2, 3, 4, 1, 2, 3, 4, 1, 2, 3, 4, 1, 2, 3, 4, 1, 2, 3, 4, 1, 1, 2, 3, 4, 1, 2, 3, 4, 1, 2, 3, 4, 1, 2, 3, 1, 2, 3, 4, 1, 2, 3, 4, 1, 2, 3, 4, 1, 2, 3, 4, 2, 3, 1, 4, 1, 4, 1, 2, 3, 4, 4, 2, 3, 4, 1, 2, 3, 4, 1, 2, 3, 4, 3, 3, 1, 2, 3, 4, 1, 2, 3, 4, 1, 2, 3, 4, 1, 3, 4, 4, 1, 2, 3, 4, 1, 2, 3, 4, 1, 2, 3, 4, 1, 2, 3, 4, 1, 2, 3, 4, 1, 1, 2, 3, 4, 1, 2, 3, 4, 1, 2, 3, 4, 1, 1, 2, 3, 4, 1, 2, 3, 4, 2, 3, 1, 2, 4, 1, 2, 2, 3, 4, 1, 2, 3, 4, 1, 2, 3, 4, 2, 3, 4, 3, 1, 2, 4, 1, 2, 4, 1, 2, 3, 4, 1, 4, 1, 2, 3, 4, 1, 2, 3, 4, 1, 2, 4, 1, 1, 2, 3, 1, 2, 3, 4, 1, 2, 2, 3, 1, 2, 3, 4, 1, 2, 3, 4, 1, 2, 3, 4], \"Freq\": [0.6864325542558779, 0.12340360525948367, 0.1311163305882014, 0.061701802629741835, 0.0456855421406836, 0.0456855421406836, 0.9137108428136721, 0.6411802289862748, 0.11257362798995665, 0.12725714468429883, 0.11746813355473738, 0.6182510855186952, 0.09742138317264289, 0.16486695613831873, 0.11990324082786817, 0.02314248709395357, 0.02314248709395357, 0.9025569966641893, 0.04628497418790714, 0.21855343918987913, 0.5768794266988669, 0.1524791436208459, 0.05082638120694863, 0.016772825395989902, 0.041932063489974754, 0.7044586666315759, 0.2432059682418536, 0.39233793568367487, 0.15844416633379177, 0.2678460907071242, 0.18107904723861917, 0.0645138162857299, 0.0645138162857299, 0.9031934280002186, 0.06647722080022382, 0.9306810912031334, 0.8774640224114643, 0.08953714514402696, 0.01790742902880539, 0.01790742902880539, 0.34374168162296537, 0.2586246937925168, 0.13094921204684395, 0.26517215439485897, 0.03578428658778654, 0.07514700183435173, 0.03578428658778654, 0.8552444494480983, 0.8919807059544126, 0.07838068754160878, 0.8621875629576965, 0.8773623256800112, 0.03772380161122856, 0.022634280966737134, 0.015089520644491424, 0.9242331394750998, 0.019474334991328973, 0.038948669982657946, 0.8568707396184749, 0.07789733996531589, 0.09346300485864434, 0.0280389014575933, 0.8037818417843413, 0.07477040388691547, 0.03829052949612971, 0.8806821784109833, 0.03829052949612971, 0.03829052949612971, 0.027558862677681106, 0.027558862677681106, 0.8543247430081142, 0.08267658803304331, 0.15498365105197703, 0.11623773828898276, 0.6586805169709024, 0.0645765212716571, 0.062131517635857864, 0.02071050587861929, 0.02071050587861929, 0.9112622586592487, 0.13411125399309465, 0.7174952088630563, 0.09387787779516625, 0.053644501597237854, 0.694404963304639, 0.04992453984543156, 0.08623329609665452, 0.17246659219330904, 0.02095090587314041, 0.7437571584964845, 0.2199845116679743, 0.010475452936570205, 0.5385049085795717, 0.20152637683039185, 0.16188184368342953, 0.09911133286740582, 0.9240971830434431, 0.039242304227015995, 0.9418153014483839, 0.3953684978944261, 0.4131378685863104, 0.0666351400945662, 0.12438559484319023, 0.790860560992752, 0.08787339566586135, 0.06759491974297026, 0.05407593579437621, 0.9246841588503292, 0.016812439251824168, 0.033624878503648335, 0.016812439251824168, 0.0426118229437791, 0.02130591147188955, 0.8735423703474715, 0.06391773441566864, 0.08063031087635272, 0.8869334196398799, 0.17227376154837612, 0.7204175482932093, 0.0626450041994095, 0.03132250209970475, 0.051054817461727034, 0.9189867143110866, 0.033548257992974846, 0.9058029658103209, 0.033548257992974846, 0.033548257992974846, 0.8993040226758287, 0.07494200188965239, 0.026463538828269875, 0.026463538828269875, 0.6880520095350168, 0.2646353882826987, 0.02333115158744546, 0.8865837603229276, 0.06999345476233639, 0.04666230317489092, 0.018605933999063407, 0.03721186799812681, 0.018605933999063407, 0.9302966999531703, 0.02556367556273124, 0.945855995821056, 0.02556367556273124, 0.02556367556273124, 0.4053934977796683, 0.18507094463854423, 0.31726447652321865, 0.08812902125644963, 0.05390283532126085, 0.9163482004614345, 0.19128179966012496, 0.0665327998817826, 0.5738453989803749, 0.1663319997044565, 0.20814752547836765, 0.6335490306747815, 0.07805532205438787, 0.08065716612286747, 0.08069439534189406, 0.8876383487608346, 0.9109662148441213, 0.008513702942468424, 0.07662332648221581, 0.008513702942468424, 0.021699217271062988, 0.13019530362637793, 0.8462694735714565, 0.9488112759823409, 0.014375928423974864, 0.014375928423974864, 0.014375928423974864, 0.05586117083908378, 0.796021684456944, 0.1256876343879385, 0.02793058541954189, 0.9520533475726646, 0.027201524216361846, 0.027201524216361846, 0.9509002771592767, 0.06083533353033679, 0.9125300029550517, 0.06083533353033679, 0.8311883039436091, 0.03512063256099757, 0.09365502016266018, 0.04682751008133009, 0.12865753776183225, 0.5087820811490639, 0.2573150755236645, 0.10526525816877184, 0.09430946772687933, 0.0707321007951595, 0.023577366931719832, 0.7780531087467545, 0.15998853015571013, 0.029627505584390763, 0.15998853015571013, 0.6518051228565968, 0.16814589630997476, 0.642910780008727, 0.0791274806164587, 0.09890935077057339, 0.05840064514829593, 0.6326736557732059, 0.10706784943854254, 0.19466881716098644, 0.02186365103307964, 0.6028120927691958, 0.28422746343003535, 0.09057798285132994, 0.45461016886430144, 0.21067300508345677, 0.13749185594920335, 0.1973673416045016, 0.07815806454639207, 0.039079032273196035, 0.8597387100103128, 0.893387869778592, 0.30470021521554763, 0.024055280148595867, 0.12027640074297934, 0.5452530167015064, 0.03476949674598885, 0.02086169804759331, 0.01390779869839554, 0.9318225127925012, 0.3681485573411688, 0.5052251478405402, 0.09399537634242608, 0.031331792114142026, 0.09130439946493965, 0.9130439946493966, 0.896592855042638, 0.04621612654858959, 0.009243225309717917, 0.055459351858307505, 0.9430590727695509, 0.015717651212825846, 0.015717651212825846, 0.015717651212825846, 0.3459324105292016, 0.22918022197559604, 0.14702127447491067, 0.27674592842336126, 0.013024271921312782, 0.03907281576393835, 0.9247233064132075, 0.026048543842625563, 0.9024419250342905, 0.05822205967963165, 0.014555514919907912, 0.014555514919907912, 0.139682121103893, 0.5344359416148949, 0.14575525680406226, 0.18219407100507784, 0.025281285515070546, 0.025281285515070546, 0.05056257103014109, 0.8974856357850044, 0.9084997331145522, 0.03364813826350194, 0.03364813826350194, 0.3818337583491949, 0.18328020400761355, 0.2672836308444364, 0.16800685367364576, 0.14725536917160162, 0.02804864174697174, 0.7643254876049799, 0.06310944393068642, 0.03772615372674493, 0.03772615372674493, 0.9054276894418785, 0.03772615372674493, 0.08213586724813657, 0.0342232780200569, 0.8213586724813657, 0.061601900436102426, 0.9140811382016394, 0.9783676275170352, 0.008507544587104654, 0.008507544587104654, 0.008507544587104654, 0.4256779739528339, 0.32380632206668564, 0.18919021064570396, 0.05821237250637045, 0.4456456300971356, 0.2588247545978997, 0.13816960583797655, 0.1556840629160299, 0.39859469818872617, 0.22529265549797564, 0.20218571647254224, 0.1733020426907505, 0.03111820566291385, 0.09335461698874155, 0.03111820566291385, 0.8401915528986739, 0.9448551702378016, 0.016921608043397558, 0.033843216086795115, 0.8968452263000706, 0.050764824130192676, 0.27691903831905107, 0.19999708323042578, 0.2256377349266342, 0.2974315596760178, 0.042942967785406544, 0.7515019362446145, 0.11809316140986799, 0.08588593557081309, 0.06275192854736576, 0.06275192854736576, 0.8785269996631208, 0.03406206717882735, 0.0681241343576547, 0.8430361626759769, 0.059608617562947865, 0.9357891578496949, 0.4677164625598671, 0.06895819640305732, 0.37477280653835504, 0.08694729111689836, 0.23440506986508633, 0.49739612386006127, 0.18866749525726462, 0.08004075556368802, 0.13369927976135712, 0.04861791991322077, 0.6077239989152596, 0.1944716796528831, 0.3292999696046846, 0.03853510282608011, 0.07356701448615294, 0.5605105865611653, 0.04051885363870101, 0.04051885363870101, 0.9319336336901232, 0.04051885363870101, 0.07828873277273221, 0.8611760605000542, 0.03144809751306825, 0.0209653983420455, 0.8910294295369336, 0.05241349585511375, 0.06080266673985889, 0.06080266673985889, 0.8512373343580244, 0.030401333369929444, 0.08887275628372213, 0.03554910251348885, 0.7820802552967546, 0.08887275628372213, 0.04712653259307421, 0.8954041192684099, 0.04712653259307421, 0.9550278124681123, 0.016754873902949337, 0.016754873902949337, 0.016754873902949337, 0.8707379101530334, 0.047066914062326125, 0.0706003710934892, 0.023533457031163062, 0.9137823267461995, 0.04568911633730997, 0.02278112972234011, 0.05695282430585027, 0.8656829294489241, 0.04556225944468022, 0.1996469003832039, 0.4403975743747145, 0.1526711591165677, 0.21139083569986297, 0.2884931267440096, 0.3801321199450479, 0.18667202318730033, 0.1459435817646166, 0.027118420092267826, 0.8813486529987044, 0.013559210046133913, 0.06779605023066956, 0.27504878078127204, 0.12835609769792694, 0.11918780500521788, 0.4767512200208715, 0.03467478878259884, 0.9362192971301687, 0.03467478878259884, 0.03467478878259884, 0.1172807818687686, 0.06789940002928709, 0.09259009094902784, 0.7283753821323524, 0.05927063741318019, 0.6256345060280132, 0.11195564844711814, 0.20415441775650955, 0.06093430227941131, 0.06093430227941131, 0.9140145341911696, 0.08104957172327519, 0.040524785861637595, 0.8915452889560271, 0.07315690458542655, 0.8778828550251185, 0.9239397524228453, 0.019871808227137945, 0.9339749866754835, 0.03974361645427589, 0.019871808227137945, 0.23766817976309432, 0.621593700918862, 0.05027596110373149, 0.08912556741116037, 0.9572713575679968, 0.012272709712410216, 0.012272709712410216, 0.02454541942482043, 0.37586386179751863, 0.23653501647602465, 0.19117213660391033, 0.1976525480142124, 0.06330704993358281, 0.9074010490480203, 0.021102349977860937, 0.021102349977860937, 0.5869956388901499, 0.12489268912556381, 0.1332188684006014, 0.15819740622571415, 0.7752517520980249, 0.10413829505794364, 0.04049822585586697, 0.08099645171173395, 0.0310727684156133, 0.05826144077927494, 0.7729351143383809, 0.13982745787025985, 0.09119044857068823, 0.04559522428534411, 0.8663092614215381, 0.9468104862719604, 0.0100724519816166, 0.0302173559448498, 0.054859126828879085, 0.018286375609626364, 0.9326051560909445, 0.0939462010127868, 0.8455158091150813, 0.9541575423940923, 0.016450992110242972, 0.016450992110242972, 0.022115407506284396, 0.9288471152639446, 0.022115407506284396, 0.04423081501256879, 0.3327170476631335, 0.08317926191578337, 0.031192223218418764, 0.5510626101920648, 0.06862354870966797, 0.8921061332256836, 0.04721045027161976, 0.8969985551607754, 0.04721045027161976, 0.026339251167815585, 0.026339251167815585, 0.8955345397057299, 0.05267850233563117, 0.03514689533358506, 0.07029379066717012, 0.8786723833396264, 0.9298904441403939, 0.032819662734366845, 0.021879775156244563, 0.021879775156244563, 0.8637281738553184, 0.08495686955953952, 0.014159478259923253, 0.04247843477976976, 0.08849400018182804, 0.8849400018182804, 0.2306697610224057, 0.4313824102237197, 0.12881558083069408, 0.20670407156553236, 0.08008238703871841, 0.08008238703871841, 0.1944857970940304, 0.6463792668125128, 0.027472811525572877, 0.013736405762786438, 0.013736405762786438, 0.9340755918694779, 0.674478727571705, 0.07368255007085853, 0.17003665400967352, 0.07935043853784765, 0.029817377847497092, 0.9392474021961583, 0.014908688923748546, 0.014908688923748546, 0.23654216437143524, 0.06957122481512801, 0.013914244963025603, 0.6817980031882546, 0.026257480072985846, 0.9190118025545047, 0.026257480072985846, 0.026257480072985846, 0.05109116032052991, 0.9196408857695384, 0.8768592753322595, 0.8916814394154228, 0.0810619490377657, 0.010132743629720713, 0.020265487259441425, 0.2956326399351869, 0.09406493088846855, 0.5509517380610301, 0.0604703127140155, 0.8763108935449235, 0.04857423381085332, 0.9229104424062131, 0.0337281702433032, 0.8769324263258832, 0.0337281702433032, 0.0337281702433032, 0.0406320524492925, 0.030474039336969377, 0.0406320524492925, 0.8837471407721119, 0.9479910048357767, 0.7810924467261373, 0.06276635732620746, 0.0697403970291194, 0.08368847643494327, 0.9025410066327233, 0.8907358359467873, 0.05762317361578107, 0.8643476042367161, 0.05762317361578107, 0.019207724538593693, 0.8685781419495067, 0.9440555776916562, 0.45178174157249906, 0.1682497520338962, 0.23991168345574088, 0.1402081266949135, 0.7647075969731804, 0.1404564974032372, 0.06242510995699431, 0.031212554978497155, 0.054476093065026654, 0.054476093065026654, 0.027238046532513327, 0.8716174890404265, 0.9408728112634218, 0.021880763052637718, 0.021880763052637718, 0.021880763052637718, 0.7737115982426425, 0.13701142885546794, 0.0322379832601101, 0.05641647070519268, 0.8275501904361096, 0.11108056247464558, 0.022216112494929115, 0.03887819686612595, 0.32200824383902743, 0.4480114696890816, 0.12600322585005422, 0.1026692951370812, 0.5604003747889195, 0.11280786765231496, 0.24381055266790652, 0.08369615987107239, 0.9440725293629737, 0.025576950265791685, 0.05115390053158337, 0.10230780106316674, 0.8184624085053339, 0.060087474105851725, 0.12017494821170345, 0.020029158035283906, 0.8011663214113564, 0.5579723803774317, 0.16868932430015376, 0.20761762990788155, 0.06488050934621298, 0.3299838402492385, 0.3699181903430954, 0.18916271097090107, 0.11349762658254063, 0.22670443694168316, 0.15415901712034455, 0.5259542937047049, 0.09068177477667326, 0.09399682212701246, 0.8459713991431121, 0.06075806444493227, 0.9113709666739841, 0.36407252664059864, 0.3201327389425953, 0.19772904464101476, 0.11612658177329438, 0.2388926549853425, 0.09916298886184029, 0.049581494430920144, 0.6130075675095582, 0.5307696214223501, 0.17692320714078336, 0.16357051226223368, 0.12685060134622203, 0.5220960222294679, 0.11460644390402955, 0.24194693713072907, 0.11970006363309753, 0.06273033873806105, 0.8782247423328549, 0.06273033873806105, 0.5389597527978511, 0.06777338208835254, 0.2355931853547493, 0.1549105876305201, 0.03904337009858546, 0.03904337009858546, 0.8979975122674656, 0.03904337009858546, 0.08427830233429084, 0.9270613256771992, 0.8770429246315619, 0.06080309261960052, 0.9120463892940078, 0.06080309261960052, 0.7884779785018194, 0.05142247685881431, 0.09427454090782623, 0.0599928896686167, 0.09350686536629238, 0.06448749335606371, 0.2676230974276644, 0.5771630655367702, 0.8714901308346187, 0.07210170147192889, 0.02194399610015227, 0.03448342244309642, 0.9225101358424563, 0.04193227890192983, 0.9439609617738578, 0.8479078124875113, 0.08020749577584567, 0.022916427364527335, 0.057291068411318334, 0.018715252104378934, 0.08109942578564205, 0.018715252104378934, 0.8796168489058099, 0.5838996770793746, 0.14351742904644563, 0.1494154055826009, 0.12189151508054286, 0.01930068548597602, 0.38987384681671566, 0.3667130242335444, 0.22388795163732186, 0.9186315600144628, 0.057414472500903924, 0.8674967045386089, 0.12435751065131387, 0.5120603379759983, 0.08229541146042829, 0.27980439896545617, 0.03605557799798735, 0.9374450279476712, 0.03605557799798735, 0.03605557799798735, 0.05136165364372126, 0.017120551214573752, 0.017120551214573752, 0.9073892143724088, 0.12362646361345725, 0.2022978495492937, 0.10114892477464685, 0.5844160098090707, 0.12292383309903336, 0.07375429985942002, 0.024584766619806672, 0.7867125318338135, 0.93537687666718, 0.05374399455784705, 0.05374399455784705, 0.8599039129255528, 0.05374399455784705, 0.058128444505657, 0.5696587561554386, 0.290642222528285, 0.08137982230791979, 0.03909829537280531, 0.8992607935745223, 0.03909829537280531, 0.03909829537280531, 0.951710438459695, 0.02643640106832486, 0.02643640106832486, 0.02787518084652596, 0.8920057870888307, 0.02787518084652596, 0.05575036169305192, 0.778258653612861, 0.09954471150862174, 0.06334663459639565, 0.06334663459639565, 0.2760153981140776, 0.07183962416667773, 0.5936221575878108, 0.05671549276316663, 0.032543520365894765, 0.06508704073178953, 0.7810444887814744, 0.13017408146357906, 0.09394974123580119, 0.8455476711222107, 0.9112711133134244, 0.03254539690405087, 0.03919378489786106, 0.9014570526508043, 0.42905060568967907, 0.260290700785072, 0.15445821804828447, 0.15636510962912747, 0.8769924711712764, 0.051391059570838886, 0.8736480127042611, 0.051391059570838886, 0.06920907721362571, 0.6228816949226313, 0.24717527576294895, 0.05932206618310775, 0.5942291341259384, 0.10914412667619276, 0.16977975260741096, 0.1253136269245176, 0.9233060294502561, 0.9235248140974801, 0.6952672599479239, 0.111540202130683, 0.12641222908144073, 0.0669241212784098, 0.4078403996499506, 0.1447175611661115, 0.2664118739648871, 0.1808969514576394, 0.04978549659850141, 0.11616615872983661, 0.7799727800431887, 0.04978549659850141, 0.0628046578836035, 0.8792652103704489, 0.0628046578836035, 0.8763217261596845, 0.018320634686673987, 0.07328253874669595, 0.4213745977935017, 0.4946571365401977, 0.10638199541316573, 0.19503365825747052, 0.6294268061945639, 0.07092133027544383, 0.044599788089781295, 0.03344984106733597, 0.8139461326385086, 0.11149947022445324, 0.012782164893590837, 0.7541477287218593, 0.03834649468077251, 0.19173247340386254, 0.5710269585328492, 0.16154052116389814, 0.1540270085516238, 0.11645944549025214, 0.9407323975114044, 0.2085523348594435, 0.4656052127094552, 0.16005179186887522, 0.16005179186887522, 0.02563209009774973, 0.05126418019549946, 0.8714910633234908, 0.05126418019549946, 0.29456141797380053, 0.40812726586731396, 0.1455062426135641, 0.1490551753602364, 0.9349776115396424, 0.03623046348902028, 0.012076821163006759, 0.012076821163006759, 0.9299152295515204, 0.02918682673008278, 0.1459341336504139, 0.7588574949821523, 0.05837365346016556, 0.07531595594509115, 0.9037914713410938, 0.9658550865142705, 0.9265811364504931, 0.044122911259547294, 0.9471344885007015, 0.05919590553129384, 0.05145532408115178, 0.9261958334607321, 0.05145532408115178, 0.04533558513677279, 0.04533558513677279, 0.9067117027354559, 0.04533558513677279, 0.12115725007542573, 0.024231450015085147, 0.024231450015085147, 0.8481007505279802, 0.09372091212111158, 0.8903486651505601, 0.04686045606055579, 0.8691649342481816, 0.9284085731508784, 0.05018424719734478, 0.02509212359867239, 0.0960500839370218, 0.032016694645673936, 0.8324340607875224, 0.8180705611710788, 0.15906927578326532, 0.011362091127376095, 0.02272418225475219, 0.09137689276396495, 0.9137689276396495, 0.22275778227856521, 0.07955635081377328, 0.48529373996401703, 0.21480214719718788, 0.02159179776551665, 0.16193848324137486, 0.02159179776551665, 0.7881006184413577, 0.9300604205914109, 0.03875251752464212, 0.03875251752464212, 0.9236491959441551, 0.03886846347340595, 0.9328431233617429, 0.03886846347340595, 0.034716108331507664, 0.34716108331507667, 0.6133179138566355, 0.011572036110502556, 0.9324305388648888, 0.03586271303326496, 0.08669367380700561, 0.8669367380700562, 0.013286119422057001, 0.03653682841065676, 0.8802054117112764, 0.06864495034729451, 0.08588268691847645, 0.8244737944173739, 0.03435307476739058, 0.05152961215108587, 0.034656697448616346, 0.9357308311126414, 0.034656697448616346, 0.034656697448616346], \"Term\": [\"\\u4e00\\u540d\", \"\\u4e00\\u540d\", \"\\u4e00\\u540d\", \"\\u4e00\\u540d\", \"\\u4e00\\u5e73\", \"\\u4e00\\u5e73\", \"\\u4e00\\u5e73\", \"\\u4e00\\u76f4\", \"\\u4e00\\u76f4\", \"\\u4e00\\u76f4\", \"\\u4e00\\u76f4\", \"\\u4e00\\u8d77\", \"\\u4e00\\u8d77\", \"\\u4e00\\u8d77\", \"\\u4e00\\u8d77\", \"\\u4e0d\\u96c5\\u7247\", \"\\u4e0d\\u96c5\\u7247\", \"\\u4e0d\\u96c5\\u7247\", \"\\u4e0d\\u96c5\\u7247\", \"\\u4e2d\\u570b\", \"\\u4e2d\\u570b\", \"\\u4e2d\\u570b\", \"\\u4e2d\\u570b\", \"\\u4e3b\\u59d4\", \"\\u4e3b\\u59d4\", \"\\u4e3b\\u59d4\", \"\\u4e3b\\u59d4\", \"\\u4e8b\\u4ef6\", \"\\u4e8b\\u4ef6\", \"\\u4e8b\\u4ef6\", \"\\u4e8b\\u4ef6\", \"\\u4e8c\\u58d8\", \"\\u4e8c\\u58d8\", \"\\u4e8c\\u58d8\", \"\\u4ea4\\u901a\\u90e8\", \"\\u4ea4\\u901a\\u90e8\", \"\\u4eba\\u6c23\", \"\\u4eba\\u6c23\", \"\\u4eba\\u6c23\", \"\\u4eba\\u6c23\", \"\\u4eca\\u5929\", \"\\u4eca\\u5929\", \"\\u4eca\\u5929\", \"\\u4eca\\u5929\", \"\\u4ee5\\u8272\\u5217\", \"\\u4ee5\\u8272\\u5217\", \"\\u4ee5\\u8272\\u5217\", \"\\u4ee5\\u8272\\u5217\", \"\\u4ee5\\u8ecd\", \"\\u4f0a\\u62c9\\u514b\", \"\\u4f0a\\u62c9\\u514b\", \"\\u4f0a\\u65af\\u6cd5\\u7f55\", \"\\u4f0a\\u6717\", \"\\u4f0a\\u6717\", \"\\u4f0a\\u6717\", \"\\u4f0a\\u6717\", \"\\u4fee\\u6cd5\", \"\\u4fee\\u6cd5\", \"\\u4fee\\u6cd5\", \"\\u4fee\\u6cd5\", \"\\u5077\\u62cd\", \"\\u5077\\u62cd\", \"\\u5077\\u62cd\", \"\\u5077\\u62cd\", \"\\u5104\\u7f8e\\u5143\", \"\\u5104\\u7f8e\\u5143\", \"\\u5104\\u7f8e\\u5143\", \"\\u5104\\u7f8e\\u5143\", \"\\u5152\\u5c11\", \"\\u5152\\u5c11\", \"\\u5152\\u5c11\", \"\\u5152\\u5c11\", \"\\u5152\\u7ae5\", \"\\u5152\\u7ae5\", \"\\u5152\\u7ae5\", \"\\u5152\\u7ae5\", \"\\u5168\\u58d8\\u6253\", \"\\u5168\\u58d8\\u6253\", \"\\u5168\\u58d8\\u6253\", \"\\u5168\\u58d8\\u6253\", \"\\u5168\\u7403\", \"\\u5168\\u7403\", \"\\u5168\\u7403\", \"\\u5168\\u7403\", \"\\u5169\\u4eba\", \"\\u5169\\u4eba\", \"\\u5169\\u4eba\", \"\\u5169\\u4eba\", \"\\u5169\\u5cb8\", \"\\u5169\\u5cb8\", \"\\u5169\\u5cb8\", \"\\u5169\\u5cb8\", \"\\u516c\\u53f8\", \"\\u516c\\u53f8\", \"\\u516c\\u53f8\", \"\\u516c\\u53f8\", \"\\u516c\\u5eab\", \"\\u5177\\u4fca\\u66c4\", \"\\u5177\\u4fca\\u66c4\", \"\\u51fa\\u73fe\", \"\\u51fa\\u73fe\", \"\\u51fa\\u73fe\", \"\\u51fa\\u73fe\", \"\\u5206\\u4eab\", \"\\u5206\\u4eab\", \"\\u5206\\u4eab\", \"\\u5206\\u4eab\", \"\\u5206\\u624b\", \"\\u5206\\u624b\", \"\\u5206\\u624b\", \"\\u5206\\u624b\", \"\\u525d\\u524a\", \"\\u525d\\u524a\", \"\\u525d\\u524a\", \"\\u525d\\u524a\", \"\\u5289\\u93e1\", \"\\u5289\\u93e1\", \"\\u52a0\\u5dde\", \"\\u52a0\\u5dde\", \"\\u52a0\\u5dde\", \"\\u52a0\\u5dde\", \"\\u52de\\u5de5\", \"\\u52de\\u5de5\", \"\\u52df\\u6b3e\", \"\\u52df\\u6b3e\", \"\\u52df\\u6b3e\", \"\\u52df\\u6b3e\", \"\\u5317\\u97d3\", \"\\u5317\\u97d3\", \"\\u5353\\u69ae\\u6cf0\", \"\\u5353\\u69ae\\u6cf0\", \"\\u5353\\u69ae\\u6cf0\", \"\\u5353\\u69ae\\u6cf0\", \"\\u5357\\u6d77\", \"\\u5357\\u6d77\", \"\\u5357\\u6d77\", \"\\u5357\\u6d77\", \"\\u535a\\u96c5\", \"\\u535a\\u96c5\", \"\\u535a\\u96c5\", \"\\u535a\\u96c5\", \"\\u5370\\u592a\", \"\\u5370\\u592a\", \"\\u5370\\u592a\", \"\\u5370\\u592a\", \"\\u53bb\\u5e74\", \"\\u53bb\\u5e74\", \"\\u53bb\\u5e74\", \"\\u53bb\\u5e74\", \"\\u53c3\\u8b70\\u9662\", \"\\u53c3\\u8b70\\u9662\", \"\\u53d7\\u5bb3\\u8005\", \"\\u53d7\\u5bb3\\u8005\", \"\\u53d7\\u5bb3\\u8005\", \"\\u53d7\\u5bb3\\u8005\", \"\\u53f0\\u7063\", \"\\u53f0\\u7063\", \"\\u53f0\\u7063\", \"\\u53f0\\u7063\", \"\\u53f0\\u7248\", \"\\u53f0\\u7248\", \"\\u5433\\u5353\\u6e90\", \"\\u5433\\u5353\\u6e90\", \"\\u5433\\u5353\\u6e90\", \"\\u5433\\u5353\\u6e90\", \"\\u5433\\u5d22\", \"\\u5433\\u5d22\", \"\\u5433\\u5d22\", \"\\u544a\\u5225\\u5f0f\", \"\\u544a\\u5225\\u5f0f\", \"\\u544a\\u5225\\u5f0f\", \"\\u544a\\u5225\\u5f0f\", \"\\u548c\\u5e73\", \"\\u548c\\u5e73\", \"\\u548c\\u5e73\", \"\\u548c\\u5e73\", \"\\u548c\\u5f26\", \"\\u548c\\u5f26\", \"\\u548c\\u5f26\", \"\\u552e\\u7968\", \"\\u5584\\u6b3e\", \"\\u5584\\u6b3e\", \"\\u5584\\u6b3e\", \"\\u559c\\u6b61\", \"\\u559c\\u6b61\", \"\\u559c\\u6b61\", \"\\u559c\\u6b61\", \"\\u570b\\u5bb6\", \"\\u570b\\u5bb6\", \"\\u570b\\u5bb6\", \"\\u570b\\u5bb6\", \"\\u570b\\u5f90\\u5de7\", \"\\u570b\\u5f90\\u5de7\", \"\\u570b\\u5f90\\u5de7\", \"\\u570b\\u5f90\\u5de7\", \"\\u570b\\u6c11\\u9ee8\", \"\\u570b\\u6c11\\u9ee8\", \"\\u570b\\u6c11\\u9ee8\", \"\\u570b\\u6c11\\u9ee8\", \"\\u570b\\u969b\", \"\\u570b\\u969b\", \"\\u570b\\u969b\", \"\\u570b\\u969b\", \"\\u5730\\u5340\", \"\\u5730\\u5340\", \"\\u5730\\u5340\", \"\\u5730\\u5340\", \"\\u5730\\u9707\", \"\\u5730\\u9707\", \"\\u5730\\u9707\", \"\\u5730\\u9707\", \"\\u5831\\u5c0e\", \"\\u5831\\u5c0e\", \"\\u5831\\u5c0e\", \"\\u5831\\u5c0e\", \"\\u5831\\u5fa9\", \"\\u5831\\u5fa9\", \"\\u5831\\u5fa9\", \"\\u5927\\u516c\\u570b\", \"\\u5927\\u59d1\", \"\\u5927\\u59d1\", \"\\u5927\\u59d1\", \"\\u5927\\u59d1\", \"\\u5927\\u8c37\", \"\\u5927\\u8c37\", \"\\u5927\\u8c37\", \"\\u5927\\u8c37\", \"\\u5927\\u9678\", \"\\u5927\\u9678\", \"\\u5927\\u9678\", \"\\u5927\\u9678\", \"\\u5927\\u99ac\\u58eb\\u9769\", \"\\u5927\\u99ac\\u58eb\\u9769\", \"\\u5967\\u904b\", \"\\u5967\\u904b\", \"\\u5967\\u904b\", \"\\u5967\\u904b\", \"\\u5973\\u53cb\", \"\\u5973\\u53cb\", \"\\u5973\\u53cb\", \"\\u5973\\u53cb\", \"\\u5a92\\u9ad4\", \"\\u5a92\\u9ad4\", \"\\u5a92\\u9ad4\", \"\\u5a92\\u9ad4\", \"\\u5b5f\\u803f\\u5982\", \"\\u5b5f\\u803f\\u5982\", \"\\u5b5f\\u803f\\u5982\", \"\\u5b5f\\u803f\\u5982\", \"\\u5b6b\\u85dd\\u73cd\", \"\\u5b6b\\u85dd\\u73cd\", \"\\u5b6b\\u85dd\\u73cd\", \"\\u5b6b\\u85dd\\u73cd\", \"\\u5b89\\u5168\", \"\\u5b89\\u5168\", \"\\u5b89\\u5168\", \"\\u5b89\\u5168\", \"\\u5bb6\\u66b4\", \"\\u5bb6\\u66b4\", \"\\u5bb6\\u66b4\", \"\\u5bb6\\u66b4\", \"\\u5bf5\\u7269\", \"\\u5bf5\\u7269\", \"\\u5bf5\\u7269\", \"\\u5c0d\\u6b64\", \"\\u5c0d\\u6b64\", \"\\u5c0d\\u6b64\", \"\\u5c0d\\u6b64\", \"\\u5c0f\\u59d0\", \"\\u5c0f\\u59d0\", \"\\u5c0f\\u59d0\", \"\\u5c0f\\u59d0\", \"\\u5c0f\\u71d5\\u59d0\", \"\\u5c0f\\u71d5\\u59d0\", \"\\u5c0f\\u71d5\\u59d0\", \"\\u5c0f\\u71d5\\u59d0\", \"\\u5c11\\u5973\", \"\\u5c11\\u5973\", \"\\u5c11\\u5973\", \"\\u5c11\\u5973\", \"\\u5c40\\u4e0b\", \"\\u5c71\\u8c6c\", \"\\u5c71\\u8c6c\", \"\\u5c71\\u8c6c\", \"\\u5c71\\u8c6c\", \"\\u5de5\\u4f5c\", \"\\u5de5\\u4f5c\", \"\\u5de5\\u4f5c\", \"\\u5de5\\u4f5c\", \"\\u5df2\\u7d93\", \"\\u5df2\\u7d93\", \"\\u5df2\\u7d93\", \"\\u5df2\\u7d93\", \"\\u5e0c\\u671b\", \"\\u5e0c\\u671b\", \"\\u5e0c\\u671b\", \"\\u5e0c\\u671b\", \"\\u5f35\\u5609\\u822a\", \"\\u5f35\\u5609\\u822a\", \"\\u5f35\\u5609\\u822a\", \"\\u5f35\\u5609\\u822a\", \"\\u5f35\\u570b\\u69ae\", \"\\u5f35\\u5c0f\\u71d5\", \"\\u5f35\\u5c0f\\u71d5\", \"\\u5f35\\u5c0f\\u71d5\", \"\\u5f35\\u5c0f\\u71d5\", \"\\u5f37\\u8abf\", \"\\u5f37\\u8abf\", \"\\u5f37\\u8abf\", \"\\u5f37\\u8abf\", \"\\u5f37\\u9707\", \"\\u5f37\\u9707\", \"\\u5f37\\u9707\", \"\\u5f37\\u9707\", \"\\u5f6d\\u555f\", \"\\u5f6d\\u555f\", \"\\u5f6d\\u555f\", \"\\u5f71\\u50cf\", \"\\u5f71\\u50cf\", \"\\u5f71\\u50cf\", \"\\u5f71\\u50cf\", \"\\u5f71\\u5e1d\", \"\\u5f71\\u7247\", \"\\u5f71\\u7247\", \"\\u5f71\\u7247\", \"\\u5f71\\u7247\", \"\\u5f71\\u97ff\", \"\\u5f71\\u97ff\", \"\\u5f71\\u97ff\", \"\\u5f71\\u97ff\", \"\\u5f8b\\u5e2b\", \"\\u5f8b\\u5e2b\", \"\\u5f8b\\u5e2b\", \"\\u5f8b\\u5e2b\", \"\\u5f90\\u5de7\", \"\\u5f90\\u5de7\", \"\\u5f90\\u5de7\", \"\\u5f90\\u5de7\", \"\\u5f97\\u901e\", \"\\u5f97\\u901e\", \"\\u5f97\\u901e\", \"\\u5f97\\u901e\", \"\\u5fb7\\u9ed1\\u862d\", \"\\u5fb7\\u9ed1\\u862d\", \"\\u6027\\u4fb5\", \"\\u6027\\u4fb5\", \"\\u6027\\u4fb5\", \"\\u6027\\u4fb5\", \"\\u6027\\u9a37\", \"\\u6027\\u9a37\", \"\\u6027\\u9a37\", \"\\u6027\\u9a37\", \"\\u6027\\u9a37\\u64fe\", \"\\u6027\\u9a37\\u64fe\", \"\\u6027\\u9a37\\u64fe\", \"\\u6027\\u9a37\\u64fe\", \"\\u6094\\u904e\\u66f8\", \"\\u6094\\u904e\\u66f8\", \"\\u6094\\u904e\\u66f8\", \"\\u611a\\u4eba\\u7bc0\", \"\\u611a\\u4eba\\u7bc0\", \"\\u611a\\u4eba\\u7bc0\", \"\\u611a\\u4eba\\u7bc0\", \"\\u611f\\u60c5\", \"\\u611f\\u60c5\", \"\\u611f\\u60c5\", \"\\u611f\\u60c5\", \"\\u6200\\u611b\", \"\\u6200\\u611b\", \"\\u6301\\u6709\", \"\\u6301\\u6709\", \"\\u6301\\u6709\", \"\\u6301\\u6709\", \"\\u6301\\u7e8c\", \"\\u6301\\u7e8c\", \"\\u6301\\u7e8c\", \"\\u6301\\u7e8c\", \"\\u6307\\u51fa\", \"\\u6307\\u51fa\", \"\\u6307\\u51fa\", \"\\u6307\\u51fa\", \"\\u6350\\u6b3e\", \"\\u6350\\u6b3e\", \"\\u6350\\u6b3e\", \"\\u6350\\u6b3e\", \"\\u64d4\\u4efb\", \"\\u64d4\\u4efb\", \"\\u64d4\\u4efb\", \"\\u64d4\\u4efb\", \"\\u652f\\u51fa\", \"\\u652f\\u51fa\", \"\\u652f\\u51fa\", \"\\u652f\\u51fa\", \"\\u653b\\u64ca\", \"\\u653b\\u64ca\", \"\\u653b\\u64ca\", \"\\u653b\\u64ca\", \"\\u653f\\u5e9c\", \"\\u653f\\u5e9c\", \"\\u653f\\u5e9c\", \"\\u653f\\u5e9c\", \"\\u6558\\u5229\\u4e9e\", \"\\u6558\\u5229\\u4e9e\", \"\\u6558\\u5229\\u4e9e\", \"\\u6559\\u58eb\", \"\\u6559\\u58eb\", \"\\u6559\\u58eb\", \"\\u6572\\u51fa\", \"\\u6572\\u51fa\", \"\\u65c5\\u6cd5\", \"\\u65e5\\u5713\", \"\\u65e5\\u5713\", \"\\u65e5\\u5713\", \"\\u65e5\\u5713\", \"\\u65e5\\u672c\", \"\\u65e5\\u672c\", \"\\u65e5\\u672c\", \"\\u65e5\\u672c\", \"\\u660e\\u5fd7\", \"\\u660e\\u5fd7\", \"\\u660e\\u5fd7\", \"\\u660e\\u5fd7\", \"\\u6642\\u9593\", \"\\u6642\\u9593\", \"\\u6642\\u9593\", \"\\u6642\\u9593\", \"\\u66b4\\u96e8\", \"\\u66b4\\u96e8\", \"\\u66b4\\u96e8\", \"\\u66b4\\u96e8\", \"\\u6700\\u5f8c\", \"\\u6700\\u5f8c\", \"\\u6700\\u5f8c\", \"\\u6700\\u5f8c\", \"\\u670b\\u53cb\", \"\\u670b\\u53cb\", \"\\u670b\\u53cb\", \"\\u670b\\u53cb\", \"\\u672a\\u6210\\u5e74\", \"\\u672a\\u6210\\u5e74\", \"\\u672a\\u6210\\u5e74\", \"\\u672a\\u6210\\u5e74\", \"\\u672c\\u5b63\", \"\\u672c\\u5b63\", \"\\u672c\\u5b63\", \"\\u6731\\u8ed2\\u6d0b\", \"\\u6731\\u8ed2\\u6d0b\", \"\\u6731\\u8ed2\\u6d0b\", \"\\u674e\\u591a\\u6167\", \"\\u674e\\u591a\\u6167\", \"\\u674e\\u591a\\u6167\", \"\\u674e\\u6021\\u8c9e\", \"\\u674e\\u6021\\u8c9e\", \"\\u674e\\u667a\\u51f1\", \"\\u674e\\u667a\\u51f1\", \"\\u674e\\u667a\\u51f1\", \"\\u675c\\u62dc\", \"\\u675c\\u62dc\", \"\\u675c\\u62dc\", \"\\u675c\\u62dc\", \"\\u6771\\u68ee\", \"\\u6771\\u68ee\", \"\\u6771\\u68ee\", \"\\u6771\\u68ee\", \"\\u677e\\u4e95\", \"\\u677e\\u4e95\", \"\\u67e5\\u7372\", \"\\u67e5\\u7372\", \"\\u67e5\\u7372\", \"\\u6aa2\\u8b66\", \"\\u6aa2\\u8b66\", \"\\u6aa2\\u8b66\", \"\\u6aa2\\u8b66\", \"\\u6afb\\u82b1\", \"\\u6afb\\u82b1\", \"\\u6afb\\u82b1\", \"\\u6b4c\\u624b\", \"\\u6b4c\\u624b\", \"\\u6b4c\\u624b\", \"\\u6b4c\\u624b\", \"\\u6b4c\\u8ff7\", \"\\u6b4c\\u8ff7\", \"\\u6b4c\\u8ff7\", \"\\u6b4c\\u8ff7\", \"\\u6c11\\u4e3b\\u9ee8\", \"\\u6c11\\u4e3b\\u9ee8\", \"\\u6c11\\u773e\", \"\\u6c11\\u773e\", \"\\u6c11\\u773e\", \"\\u6c11\\u773e\", \"\\u6c11\\u9032\\u9ee8\", \"\\u6c11\\u9032\\u9ee8\", \"\\u6c11\\u9032\\u9ee8\", \"\\u6c11\\u9032\\u9ee8\", \"\\u6c34\\u539f\", \"\\u6c34\\u539f\", \"\\u6c34\\u539f\", \"\\u6c34\\u539f\", \"\\u6c92\\u60f3\\u5230\", \"\\u6c92\\u60f3\\u5230\", \"\\u6c92\\u60f3\\u5230\", \"\\u6c92\\u60f3\\u5230\", \"\\u6cd5\\u6848\", \"\\u6cd5\\u6848\", \"\\u6cd5\\u6848\", \"\\u6cd5\\u6848\", \"\\u6d0b\\u7247\", \"\\u6d0b\\u7247\", \"\\u6d0b\\u7247\", \"\\u6d0b\\u7247\", \"\\u6d2a\\u6c34\", \"\\u6d2a\\u6c34\", \"\\u6d2a\\u6c34\", \"\\u6d2a\\u6c34\", \"\\u6d77\\u8ecd\", \"\\u6d77\\u8ecd\", \"\\u6eef\\u7559\", \"\\u6f14\\u5531\\u6703\", \"\\u6f14\\u5531\\u6703\", \"\\u6f14\\u5531\\u6703\", \"\\u6f14\\u5531\\u6703\", \"\\u6f14\\u85dd\\u5708\", \"\\u6f14\\u85dd\\u5708\", \"\\u6f14\\u85dd\\u5708\", \"\\u6f14\\u85dd\\u5708\", \"\\u6f32\\u5e45\", \"\\u6f5b\\u8266\", \"\\u6f5b\\u8266\", \"\\u707d\\u6c11\", \"\\u707d\\u6c11\", \"\\u707d\\u6c11\", \"\\u707d\\u6c11\", \"\\u7121\\u4eba\\u6a5f\", \"\\u7121\\u4eba\\u6a5f\", \"\\u7121\\u4eba\\u6a5f\", \"\\u7121\\u4eba\\u6a5f\", \"\\u7121\\u96d9\", \"\\u7167\\u7247\", \"\\u7167\\u7247\", \"\\u7167\\u7247\", \"\\u7167\\u7247\", \"\\u718a\\u672c\", \"\\u718a\\u672c\\u7e23\", \"\\u7279\\u65af\\u62c9\", \"\\u7279\\u65af\\u62c9\", \"\\u7279\\u65af\\u62c9\", \"\\u7279\\u65af\\u62c9\", \"\\u72af\\u884c\", \"\\u72fc\\u7621\", \"\\u73fe\\u5728\", \"\\u73fe\\u5728\", \"\\u73fe\\u5728\", \"\\u73fe\\u5728\", \"\\u73fe\\u5834\", \"\\u73fe\\u5834\", \"\\u73fe\\u5834\", \"\\u73fe\\u5834\", \"\\u7403\\u5718\", \"\\u7403\\u5718\", \"\\u7403\\u5718\", \"\\u7403\\u5718\", \"\\u751f\\u524d\", \"\\u751f\\u524d\", \"\\u751f\\u524d\", \"\\u751f\\u524d\", \"\\u751f\\u6d3b\", \"\\u751f\\u6d3b\", \"\\u751f\\u6d3b\", \"\\u751f\\u6d3b\", \"\\u7537\\u5b50\", \"\\u7537\\u5b50\", \"\\u7537\\u5b50\", \"\\u7537\\u5b50\", \"\\u7576\\u5730\", \"\\u7576\\u5730\", \"\\u7576\\u5730\", \"\\u7576\\u5730\", \"\\u7576\\u6642\", \"\\u7576\\u6642\", \"\\u7576\\u6642\", \"\\u7576\\u6642\", \"\\u760b\\u795e\", \"\\u767c\\u52d5\", \"\\u767c\\u52d5\", \"\\u767c\\u52d5\", \"\\u767c\\u52d5\", \"\\u767c\\u5c04\", \"\\u767c\\u5c04\", \"\\u767c\\u5c04\", \"\\u767c\\u5c04\", \"\\u767c\\u73fe\", \"\\u767c\\u73fe\", \"\\u767c\\u73fe\", \"\\u767c\\u73fe\", \"\\u767c\\u751f\", \"\\u767c\\u751f\", \"\\u767c\\u751f\", \"\\u767c\\u751f\", \"\\u767c\\u8072\", \"\\u767c\\u8072\", \"\\u767c\\u8072\", \"\\u767c\\u8072\", \"\\u767e\\u90e8\", \"\\u767e\\u90e8\", \"\\u76df\\u53cb\", \"\\u76df\\u53cb\", \"\\u76ee\\u524d\", \"\\u76ee\\u524d\", \"\\u76ee\\u524d\", \"\\u76ee\\u524d\", \"\\u76f4\\u64ad\", \"\\u76f4\\u64ad\", \"\\u76f4\\u64ad\", \"\\u76f4\\u64ad\", \"\\u770b\\u5230\", \"\\u770b\\u5230\", \"\\u770b\\u5230\", \"\\u770b\\u5230\", \"\\u771f\\u7684\", \"\\u771f\\u7684\", \"\\u771f\\u7684\", \"\\u771f\\u7684\", \"\\u7763\\u4fc3\", \"\\u7763\\u4fc3\", \"\\u7763\\u4fc3\", \"\\u77e5\\u9053\", \"\\u77e5\\u9053\", \"\\u77e5\\u9053\", \"\\u77e5\\u9053\", \"\\u786c\\u789f\", \"\\u786c\\u789f\", \"\\u786c\\u789f\", \"\\u786c\\u789f\", \"\\u793e\\u798f\", \"\\u793e\\u798f\", \"\\u79c0\\u559c\", \"\\u7a4d\\u96fb\", \"\\u7a4d\\u96fb\", \"\\u7a4d\\u96fb\", \"\\u7a81\\u7136\", \"\\u7a81\\u7136\", \"\\u7a81\\u7136\", \"\\u7a81\\u7136\", \"\\u7acb\\u59d4\", \"\\u7acb\\u59d4\", \"\\u7acb\\u59d4\", \"\\u7acb\\u59d4\", \"\\u7c89\\u7d72\", \"\\u7c89\\u7d72\", \"\\u7c89\\u7d72\", \"\\u7c89\\u7d72\", \"\\u7d04\\u6703\", \"\\u7d04\\u6703\", \"\\u7d05\\u6591\", \"\\u7d50\\u5a5a\", \"\\u7d50\\u5a5a\", \"\\u7d50\\u5a5a\", \"\\u7d50\\u5a5a\", \"\\u7d71\\u795e\", \"\\u7d71\\u795e\", \"\\u7d71\\u795e\", \"\\u7d71\\u795e\", \"\\u7db2\\u53cb\", \"\\u7db2\\u53cb\", \"\\u7db2\\u53cb\", \"\\u7db2\\u53cb\", \"\\u7e3d\\u7d71\", \"\\u7e3d\\u7d71\", \"\\u7e3d\\u7d71\", \"\\u7e3d\\u7d71\", \"\\u7e41\\u69ae\", \"\\u7e41\\u69ae\", \"\\u7f8e\\u53f0\", \"\\u7f8e\\u570b\", \"\\u7f8e\\u570b\", \"\\u7f8e\\u570b\", \"\\u7f8e\\u570b\", \"\\u7f8e\\u65e5\", \"\\u7f8e\\u65e5\", \"\\u7f8e\\u65e5\", \"\\u7f8e\\u65e5\", \"\\u7fd4\\u5e73\", \"\\u7fd4\\u5e73\", \"\\u7fd4\\u5e73\", \"\\u7fd4\\u5e73\", \"\\u806f\\u76df\", \"\\u806f\\u76df\", \"\\u806f\\u76df\", \"\\u806f\\u76df\", \"\\u8077\\u68d2\", \"\\u8077\\u68d2\", \"\\u8077\\u68d2\", \"\\u8077\\u68d2\", \"\\u80ba\\u708e\", \"\\u8272\\u60c5\", \"\\u8272\\u60c5\", \"\\u8272\\u60c5\", \"\\u8272\\u60c5\", \"\\u82b1\\u84ee\", \"\\u82b1\\u84ee\", \"\\u82b1\\u84ee\", \"\\u82b1\\u84ee\", \"\\u82b1\\u84ee\\u7e23\", \"\\u82b1\\u84ee\\u7e23\", \"\\u82b1\\u84ee\\u7e23\", \"\\u82b1\\u84ee\\u7e23\", \"\\u82b3\\u8a9e\", \"\\u82b3\\u8a9e\", \"\\u82b3\\u8a9e\", \"\\u83f2\\u5f8b\\u8cd3\", \"\\u83f2\\u5f8b\\u8cd3\", \"\\u83f2\\u5f8b\\u8cd3\", \"\\u83f2\\u5f8b\\u8cd3\", \"\\u842c\\u5b89\", \"\\u842c\\u5b89\", \"\\u842c\\u5b89\", \"\\u842c\\u5b89\", \"\\u85dd\\u4eba\", \"\\u85dd\\u4eba\", \"\\u85dd\\u4eba\", \"\\u85dd\\u4eba\", \"\\u8655\\u5206\", \"\\u8655\\u5206\", \"\\u8655\\u5206\", \"\\u8655\\u5206\", \"\\u865f\\u623f\", \"\\u865f\\u623f\", \"\\u8759\\u8760\", \"\\u8759\\u8760\", \"\\u885b\\u968a\", \"\\u885b\\u968a\", \"\\u8868\\u793a\", \"\\u8868\\u793a\", \"\\u8868\\u793a\", \"\\u8868\\u793a\", \"\\u8881\\u5b9a\\u6587\", \"\\u88f8\\u7167\", \"\\u88f8\\u7167\", \"\\u88f8\\u7167\", \"\\u898f\\u6a21\", \"\\u898f\\u6a21\", \"\\u898f\\u6a21\", \"\\u898f\\u6a21\", \"\\u89ba\\u5f97\", \"\\u89ba\\u5f97\", \"\\u89ba\\u5f97\", \"\\u89ba\\u5f97\", \"\\u89f8\\u72af\", \"\\u8a13\\u7df4\\u73ed\", \"\\u8a31\\u591a\", \"\\u8a31\\u591a\", \"\\u8a31\\u591a\", \"\\u8a31\\u591a\", \"\\u8a8d\\u70ba\", \"\\u8a8d\\u70ba\", \"\\u8a8d\\u70ba\", \"\\u8a8d\\u70ba\", \"\\u8ad6\\u58c7\", \"\\u8ad6\\u58c7\", \"\\u8ad6\\u58c7\", \"\\u8ad6\\u58c7\", \"\\u8cc8\\u6c38\\u5a55\", \"\\u8cc8\\u6c38\\u5a55\", \"\\u8cc8\\u6c38\\u5a55\", \"\\u8ced\\u50b5\", \"\\u8cf4\\u6e05\\u5fb7\", \"\\u8cf4\\u6e05\\u5fb7\", \"\\u8cf4\\u6e05\\u5fb7\", \"\\u8cf4\\u6e05\\u5fb7\", \"\\u8cfc\\u8cb7\", \"\\u8cfc\\u8cb7\", \"\\u8cfc\\u8cb7\", \"\\u8cfc\\u8cb7\", \"\\u8d77\\u8a34\", \"\\u8d77\\u8a34\", \"\\u8d77\\u8a34\", \"\\u8d77\\u8a34\", \"\\u8ecd\\u4e8b\", \"\\u8ecd\\u4e8b\", \"\\u8ecd\\u4e8b\", \"\\u8ecd\\u4e8b\", \"\\u900f\\u9732\", \"\\u900f\\u9732\", \"\\u900f\\u9732\", \"\\u900f\\u9732\", \"\\u901d\\u4e16\", \"\\u9020\\u6210\", \"\\u9020\\u6210\", \"\\u9020\\u6210\", \"\\u9020\\u6210\", \"\\u9023\\u7f72\", \"\\u9023\\u7f72\", \"\\u9023\\u7f72\", \"\\u9023\\u7f72\", \"\\u9032\\u884c\", \"\\u9032\\u884c\", \"\\u9032\\u884c\", \"\\u9032\\u884c\", \"\\u904e\\u4e16\", \"\\u9053\\u5947\", \"\\u9053\\u5947\", \"\\u9053\\u5947\", \"\\u9053\\u5947\", \"\\u90e8\\u9577\", \"\\u90e8\\u9577\", \"\\u90e8\\u9577\", \"\\u90e8\\u9577\", \"\\u90ed\\u667a\\u8f1d\", \"\\u90ed\\u667a\\u8f1d\", \"\\u91d1\\u50cf\\u734e\", \"\\u91d1\\u50f9\", \"\\u91d1\\u50f9\", \"\\u9280\\u724c\", \"\\u9280\\u724c\", \"\\u9632\\u5236\", \"\\u9632\\u5236\", \"\\u9632\\u5236\", \"\\u9676\\u6676\\u7469\", \"\\u9676\\u6676\\u7469\", \"\\u9676\\u6676\\u7469\", \"\\u9676\\u6676\\u7469\", \"\\u968a\\u9577\", \"\\u968a\\u9577\", \"\\u968a\\u9577\", \"\\u968a\\u9577\", \"\\u968b\\u68e0\", \"\\u968b\\u68e0\", \"\\u968b\\u68e0\", \"\\u96a8\\u8eab\", \"\\u96e2\\u4e16\", \"\\u96e2\\u4e16\", \"\\u96e2\\u4e16\", \"\\u9769\\u547d\", \"\\u9769\\u547d\", \"\\u9769\\u547d\", \"\\u97f3\\u6a02\", \"\\u97f3\\u6a02\", \"\\u97f3\\u6a02\", \"\\u97f3\\u6a02\", \"\\u9818\\u7a7a\", \"\\u9818\\u7a7a\", \"\\u98a8\\u6ce2\", \"\\u98a8\\u6ce2\", \"\\u98a8\\u6ce2\", \"\\u98a8\\u6ce2\", \"\\u98db\\u5f48\", \"\\u98db\\u5f48\", \"\\u98db\\u5f48\", \"\\u98db\\u5f48\", \"\\u98fe\\u6f14\", \"\\u98fe\\u6f14\", \"\\u98fe\\u6f14\", \"\\u9999\\u6e2f\\u96fb\\u5f71\", \"\\u99ac\\u65af\\u514b\", \"\\u99ac\\u65af\\u514b\", \"\\u99ac\\u65af\\u514b\", \"\\u99ac\\u82f1\\u4e5d\", \"\\u99ac\\u82f1\\u4e5d\", \"\\u99ac\\u82f1\\u4e5d\", \"\\u99ac\\u82f1\\u4e5d\", \"\\u9ad4\\u64cd\", \"\\u9ad4\\u64cd\", \"\\u9ec3\\u5148\\u751f\", \"\\u9ec3\\u5148\\u751f\", \"\\u9ec3\\u5b50\\u4f7c\", \"\\u9ec3\\u5b50\\u4f7c\", \"\\u9ec3\\u5b50\\u4f7c\", \"\\u9ec3\\u5b50\\u4f7c\", \"\\u9ec3\\u91d1\", \"\\u9ec3\\u91d1\", \"\\u9ec3\\u91d1\", \"\\u9ec3\\u91d1\", \"\\u9f8d\\u6372\\u98a8\", \"\\u9f8d\\u6372\\u98a8\", \"\\u9f8d\\u6372\\u98a8\", \"\\u9f8d\\u6372\\u98a8\"]}, \"R\": 30, \"lambda.step\": 0.01, \"plot.opts\": {\"xlab\": \"PC1\", \"ylab\": \"PC2\"}, \"topic.order\": [3, 4, 1, 2]};\n",
       "\n",
       "function LDAvis_load_lib(url, callback){\n",
       "  var s = document.createElement('script');\n",
       "  s.src = url;\n",
       "  s.async = true;\n",
       "  s.onreadystatechange = s.onload = callback;\n",
       "  s.onerror = function(){console.warn(\"failed to load library \" + url);};\n",
       "  document.getElementsByTagName(\"head\")[0].appendChild(s);\n",
       "}\n",
       "\n",
       "if(typeof(LDAvis) !== \"undefined\"){\n",
       "   // already loaded: just create the visualization\n",
       "   !function(LDAvis){\n",
       "       new LDAvis(\"#\" + \"ldavis_el1316821424948846801494875453\", ldavis_el1316821424948846801494875453_data);\n",
       "   }(LDAvis);\n",
       "}else if(typeof define === \"function\" && define.amd){\n",
       "   // require.js is available: use it to load d3/LDAvis\n",
       "   require.config({paths: {d3: \"https://d3js.org/d3.v5\"}});\n",
       "   require([\"d3\"], function(d3){\n",
       "      window.d3 = d3;\n",
       "      LDAvis_load_lib(\"https://cdn.jsdelivr.net/gh/bmabey/pyLDAvis@3.3.1/pyLDAvis/js/ldavis.v3.0.0.js\", function(){\n",
       "        new LDAvis(\"#\" + \"ldavis_el1316821424948846801494875453\", ldavis_el1316821424948846801494875453_data);\n",
       "      });\n",
       "    });\n",
       "}else{\n",
       "    // require.js not available: dynamically load d3 & LDAvis\n",
       "    LDAvis_load_lib(\"https://d3js.org/d3.v5.js\", function(){\n",
       "         LDAvis_load_lib(\"https://cdn.jsdelivr.net/gh/bmabey/pyLDAvis@3.3.1/pyLDAvis/js/ldavis.v3.0.0.js\", function(){\n",
       "                 new LDAvis(\"#\" + \"ldavis_el1316821424948846801494875453\", ldavis_el1316821424948846801494875453_data);\n",
       "            })\n",
       "         });\n",
       "}\n",
       "</script>"
      ],
      "text/plain": [
       "PreparedData(topic_coordinates=              x         y  topics  cluster       Freq\n",
       "topic                                                \n",
       "2      0.085914 -0.068174       1        1  39.874443\n",
       "3      0.033040  0.088806       2        1  23.410203\n",
       "0     -0.087858 -0.040192       3        1  19.289459\n",
       "1     -0.031096  0.019560       4        1  17.425894, topic_info=     Term        Freq       Total Category  logprob  loglift\n",
       "2299  黃子佼  903.000000  903.000000  Default  30.0000  30.0000\n",
       "4884   伊朗  265.000000  265.000000  Default  29.0000  29.0000\n",
       "4486  以色列  279.000000  279.000000  Default  28.0000  28.0000\n",
       "48     台灣  768.000000  768.000000  Default  27.0000  27.0000\n",
       "2261  未成年  257.000000  257.000000  Default  26.0000  26.0000\n",
       "...   ...         ...         ...      ...      ...      ...\n",
       "277    希望   60.386768  346.216346   Topic4  -6.0047   0.0009\n",
       "186    網友   62.451124  508.649023   Topic4  -5.9711  -0.3502\n",
       "3766   總統   58.150159  259.058156   Topic4  -6.0425   0.2532\n",
       "48     台灣   61.685974  768.685574   Topic4  -5.9834  -0.7754\n",
       "2299  黃子佼   62.154616  903.198264   Topic4  -5.9759  -0.9291\n",
       "\n",
       "[325 rows x 6 columns], token_table=      Topic      Freq Term\n",
       "term                      \n",
       "440       1  0.686433   一名\n",
       "440       2  0.123404   一名\n",
       "440       3  0.131116   一名\n",
       "440       4  0.061702   一名\n",
       "4663      1  0.045686   一平\n",
       "...     ...       ...  ...\n",
       "4321      4  0.051530   黃金\n",
       "5057      1  0.034657  龍捲風\n",
       "5057      2  0.935731  龍捲風\n",
       "5057      3  0.034657  龍捲風\n",
       "5057      4  0.034657  龍捲風\n",
       "\n",
       "[876 rows x 3 columns], R=30, lambda_step=0.01, plot_opts={'xlab': 'PC1', 'ylab': 'PC2'}, topic_order=[3, 4, 1, 2])"
      ]
     },
     "execution_count": 44,
     "metadata": {},
     "output_type": "execute_result"
    }
   ],
   "source": [
    "pyLDAvis.enable_notebook()\n",
    "p = pyLDAvis.gensim_models.prepare(best_model, corpus, dictionary)\n",
    "p"
   ]
  },
  {
   "cell_type": "code",
   "execution_count": 45,
   "metadata": {},
   "outputs": [],
   "source": [
    "pyLDAvis.save_html(p, \"lda_ebc_202404.html\")"
   ]
  },
  {
   "cell_type": "markdown",
   "metadata": {},
   "source": [
    "## 6. GuidedLDA"
   ]
  },
  {
   "cell_type": "markdown",
   "metadata": {},
   "source": [
    "- 原始套件: <https://github.com/vi3k6i5/GuidedLDA>  \n",
    "- 31lab 家銘修改版本: <https://github.com/Text-Analytics-and-Retrieval/GuidedLDA>\n",
    "\n",
    "安裝方式:  \n",
    "`pip install git+https://github.com/Text-Analytics-and-Retrieval/GuidedLDA.git#egg=GuidedLDA`  \n",
    "經測試，在 `python3.7~3.8` 可正常執行"
   ]
  },
  {
   "cell_type": "code",
   "execution_count": 46,
   "metadata": {},
   "outputs": [],
   "source": [
    "import guidedlda"
   ]
  },
  {
   "cell_type": "code",
   "execution_count": 47,
   "metadata": {},
   "outputs": [
    {
     "data": {
      "text/plain": [
       "('一定', '一度', '一步', '一起', '下去', '不到', '不好', '不用', '中時', '之外')"
      ]
     },
     "execution_count": 47,
     "metadata": {},
     "output_type": "execute_result"
    }
   ],
   "source": [
    "vocab = tuple(dictionary.token2id.keys())\n",
    "vocab[:10]"
   ]
  },
  {
   "cell_type": "code",
   "execution_count": 48,
   "metadata": {},
   "outputs": [],
   "source": [
    "word2id = dictionary.token2id"
   ]
  },
  {
   "cell_type": "code",
   "execution_count": 54,
   "metadata": {},
   "outputs": [],
   "source": [
    "seed_topic_list = [\n",
    "    [\"大谷\", \"賽事\", \"聯盟\", \"先發\", \"道奇\", \"奧運\"],\n",
    "    [\"演藝圈\", \"藝人\", \"音樂\", \"戲劇\", \"通告\", \"表演\", \"主持人\"],\n",
    "    [\"中國\", \"兩岸\", \"習近平\", \"政府\", \"外交\", \"立委\", \"國民黨\", \"民進黨\"],\n",
    "    [\"全球\", \"美國\", \"國際\", \"世界\", \"日本\", \"航班\"]\n",
    "]"
   ]
  },
  {
   "cell_type": "code",
   "execution_count": 55,
   "metadata": {},
   "outputs": [],
   "source": [
    "seed_topics = {}\n",
    "for t_id, st in enumerate(seed_topic_list):\n",
    "    for word in st:\n",
    "        seed_topics[word2id[word]] = t_id"
   ]
  },
  {
   "cell_type": "code",
   "execution_count": 56,
   "metadata": {},
   "outputs": [],
   "source": [
    "# guidedlda 需要 DTM 格式作為 input，因此這邊利用 corpus2dense() 方法進行轉換\n",
    "X = corpus2dense(corpus, len(dictionary), len(corpus)).T.astype(np.int64)"
   ]
  },
  {
   "cell_type": "code",
   "execution_count": 58,
   "metadata": {},
   "outputs": [
    {
     "name": "stderr",
     "output_type": "stream",
     "text": [
      "2024-05-06 16:57:32,023 : INFO : n_documents: 1134\n",
      "2024-05-06 16:57:32,024 : INFO : vocab_size: 5409\n",
      "2024-05-06 16:57:32,025 : INFO : n_words: 140464\n",
      "2024-05-06 16:57:32,025 : INFO : n_topics: 5\n",
      "2024-05-06 16:57:32,026 : INFO : n_iter: 100\n",
      "2024-05-06 16:57:32,367 : INFO : <0> log likelihood: -1450708\n",
      "2024-05-06 16:57:32,513 : INFO : <20> log likelihood: -1153534\n",
      "2024-05-06 16:57:32,658 : INFO : <40> log likelihood: -1138773\n",
      "2024-05-06 16:57:32,803 : INFO : <60> log likelihood: -1132764\n",
      "2024-05-06 16:57:32,948 : INFO : <80> log likelihood: -1129885\n",
      "2024-05-06 16:57:33,087 : INFO : <99> log likelihood: -1128206\n"
     ]
    },
    {
     "data": {
      "text/plain": [
       "<guidedlda.guidedlda.GuidedLDA at 0x1f2d6155648>"
      ]
     },
     "execution_count": 58,
     "metadata": {},
     "output_type": "execute_result"
    }
   ],
   "source": [
    "# 多一個主題是for其他\n",
    "model = guidedlda.GuidedLDA(n_topics=5, n_iter=100, random_state=7, refresh=20)\n",
    "model.fit(X, seed_topics=seed_topics, seed_confidence=1)"
   ]
  },
  {
   "cell_type": "code",
   "execution_count": 59,
   "metadata": {},
   "outputs": [
    {
     "name": "stdout",
     "output_type": "stream",
     "text": [
      "Topic 0: 台灣 大谷 粉絲 今天 直播 奧運 比賽 日本 美國 台北\n",
      "Topic 1: 黃子佼 表示 影片 未成年 藝人 網友 發文 真的 知道 統神\n",
      "Topic 2: 立委 徐巧 總統 民進黨 國民黨 市長 議員 大姑 主委 賴清德\n",
      "Topic 3: 美國 台灣 發生 地震 日本 以色列 表示 中國 伊朗 民眾\n",
      "Topic 4: 表示 報導 網友 看到 發現 希望 已經 許多 透露 一名\n"
     ]
    },
    {
     "name": "stderr",
     "output_type": "stream",
     "text": [
      "C:\\Users\\giyak\\AppData\\Roaming\\Python\\Python37\\site-packages\\pyLDAvis\\_prepare.py:247: FutureWarning: In a future version of pandas all arguments of DataFrame.drop except for the argument 'labels' will be keyword-only\n",
      "  by='saliency', ascending=False).head(R).drop('saliency', 1)\n"
     ]
    },
    {
     "data": {
      "text/html": [
       "\n",
       "<link rel=\"stylesheet\" type=\"text/css\" href=\"https://cdn.jsdelivr.net/gh/bmabey/pyLDAvis@3.3.1/pyLDAvis/js/ldavis.v1.0.0.css\">\n",
       "\n",
       "\n",
       "<div id=\"ldavis_el131682142494932808971023055\"></div>\n",
       "<script type=\"text/javascript\">\n",
       "\n",
       "var ldavis_el131682142494932808971023055_data = {\"mdsDat\": {\"x\": [0.13023632043825673, 0.05023512814490943, -0.0783926110108229, 0.21314172141033336, -0.3152205589826765], \"y\": [0.21784152080299515, 0.10856719702938505, 0.0695986901318315, -0.2899495749518673, -0.10605783301234467], \"topics\": [1, 2, 3, 4, 5], \"cluster\": [1, 1, 1, 1, 1], \"Freq\": [33.887299691314425, 22.62272885499365, 22.232685809205734, 11.015418368885623, 10.241867275600553]}, \"tinfo\": {\"Term\": [\"\\u9ec3\\u5b50\\u4f7c\", \"\\u7acb\\u59d4\", \"\\u5f90\\u5de7\", \"\\u53f0\\u7063\", \"\\u7f8e\\u570b\", \"\\u4ee5\\u8272\\u5217\", \"\\u7e3d\\u7d71\", \"\\u65e5\\u672c\", \"\\u7c89\\u7d72\", \"\\u4f0a\\u6717\", \"\\u5730\\u9707\", \"\\u672a\\u6210\\u5e74\", \"\\u6c11\\u9032\\u9ee8\", \"\\u570b\\u6c11\\u9ee8\", \"\\u5f71\\u7247\", \"\\u5e02\\u9577\", \"\\u5927\\u8c37\", \"\\u8b70\\u54e1\", \"\\u85dd\\u4eba\", \"\\u7db2\\u53cb\", \"\\u76f4\\u64ad\", \"\\u767c\\u751f\", \"\\u53f0\\u5317\", \"\\u4e3b\\u59d4\", \"\\u5927\\u59d1\", \"\\u4e2d\\u570b\", \"\\u8cf4\\u6e05\\u5fb7\", \"\\u7d71\\u795e\", \"\\u7bc0\\u76ee\", \"\\u90e8\\u9577\", \"\\u8b66\\u65b9\", \"\\u7537\\u5b50\", \"\\u670b\\u53cb\", \"\\u5206\\u4eab\", \"\\u751f\\u6d3b\", \"\\u5152\\u5b50\", \"\\u96e2\\u958b\", \"\\u5ee3\\u544a\", \"\\u6b4c\\u624b\", \"\\u6f14\\u51fa\", \"\\u7d50\\u5a5a\", \"\\u97f3\\u6a02\", \"\\u559c\\u6b61\", \"\\u6388\\u6b0a\", \"\\u5438\\u5f15\", \"\\u5de5\\u4f5c\\u4eba\\u54e1\", \"\\u904a\\u5ba2\", \"\\u660e\\u5fd7\", \"\\u53ea\\u80fd\", \"\\u8f49\\u8f09\", \"\\u9910\\u5ef3\", \"\\u9019\\u540d\", \"\\u539f\\u4f86\", \"\\u544a\\u5225\\u5f0f\", \"\\u8b8a\\u6210\", \"\\u7d93\\u6b77\", \"\\u9047\\u5230\", \"\\u611f\\u53d7\", \"\\u4eba\\u751f\", \"\\u665a\\u4e0a\", \"\\u7a81\\u7136\", \"\\u539f\\u672c\", \"\\u91ab\\u9662\", \"\\u611f\\u5230\", \"\\u76f8\\u7576\", \"\\u7167\\u7247\", \"\\u5c0f\\u5b69\", \"\\u7537\\u53cb\", \"\\u770b\\u5230\", \"\\u8a31\\u591a\", \"\\u73fe\\u5834\", \"\\u5927\\u9678\", \"\\u900f\\u9732\", \"\\u4e00\\u540d\", \"\\u767c\\u73fe\", \"\\u5169\\u4eba\", \"\\u5831\\u5c0e\", \"\\u4e00\\u8d77\", \"\\u89ba\\u5f97\", \"\\u5e0c\\u671b\", \"\\u7db2\\u53cb\", \"\\u5bb6\\u4eba\", \"\\u7c89\\u7d72\", \"\\u5df2\\u7d93\", \"\\u8868\\u793a\", \"\\u904e\\u53bb\", \"\\u6c92\\u60f3\\u5230\", \"\\u771f\\u7684\", \"\\u7576\\u6642\", \"\\u5de5\\u4f5c\", \"\\u73fe\\u5728\", \"\\u76ee\\u524d\", \"\\u77e5\\u9053\", \"\\u9ec3\\u5b50\\u4f7c\", \"\\u672a\\u6210\\u5e74\", \"\\u7d71\\u795e\", \"\\u5c11\\u5973\", \"\\u5c0f\\u59d0\", \"\\u98a8\\u6ce2\", \"\\u5077\\u62cd\", \"\\u5433\\u5353\\u6e90\", \"\\u5c71\\u8c6c\", \"\\u6027\\u4fb5\", \"\\u8d77\\u8a34\", \"\\u6731\\u8ed2\\u6d0b\", \"\\u96e2\\u5a5a\", \"\\u5f8b\\u5e2b\", \"\\u5b5f\\u803f\\u5982\", \"\\u5152\\u5c11\", \"\\u8655\\u5206\", \"\\u5f35\\u5c0f\\u71d5\", \"\\u6027\\u9a37\\u64fe\", \"\\u63d0\\u544a\", \"\\u5206\\u624b\", \"\\u535a\\u96c5\", \"\\u4fee\\u6cd5\", \"\\u7238\\u7238\", \"\\u919c\\u805e\", \"\\u525d\\u524a\", \"\\u5275\\u610f\", \"\\u5433\\u5d22\", \"\\u4e0d\\u96c5\\u7247\", \"\\u7537\\u661f\", \"\\u9053\\u6b49\", \"\\u6301\\u6709\", \"\\u6f14\\u85dd\\u5708\", \"\\u53d7\\u5bb3\\u8005\", \"\\u85dd\\u4eba\", \"\\u5f71\\u50cf\", \"\\u5f71\\u7247\", \"\\u8cfc\\u8cb7\", \"\\u6aa2\\u5bdf\\u5b98\", \"\\u5abd\\u5abd\", \"\\u767c\\u8072\", \"\\u7206\\u51fa\", \"\\u7bc0\\u76ee\", \"\\u6307\\u63a7\", \"\\u767c\\u6587\", \"\\u5c0d\\u6b64\", \"\\u8868\\u793a\", \"\\u7db2\\u53cb\", \"\\u77e5\\u9053\", \"\\u771f\\u7684\", \"\\u7206\\u6599\", \"\\u81c9\\u66f8\", \"\\u884c\\u70ba\", \"\\u76f4\\u64ad\", \"\\u4e8b\\u4ef6\", \"\\u516c\\u53f8\", \"\\u8a8d\\u70ba\", \"\\u73fe\\u5728\", \"\\u4ee5\\u8272\\u5217\", \"\\u4f0a\\u6717\", \"\\u62dc\\u767b\", \"\\u7121\\u4eba\\u6a5f\", \"\\u5730\\u5340\", \"\\u898f\\u6a21\", \"\\u98db\\u5f48\", \"\\u5f37\\u9707\", \"\\u8ecd\\u4e8b\", \"\\u707d\\u60c5\", \"\\u6350\\u6b3e\", \"\\u6fb3\\u6d32\", \"\\u7576\\u5c40\", \"\\u88c1\\u54e1\", \"\\u52a0\\u5dde\", \"\\u76f4\\u5347\\u6a5f\", \"\\u767c\\u5c04\", \"\\u53f0\\u6d77\", \"\\u5340\\u57df\", \"\\u5104\\u7f8e\\u5143\", \"\\u7279\\u65af\\u62c9\", \"\\u65e5\\u5713\", \"\\u65c5\\u5ba2\", \"\\u66b4\\u96e8\", \"\\u8b66\\u5831\", \"\\u6551\\u63f4\", \"\\u675c\\u62dc\", \"\\u6d77\\u4e0a\", \"\\u7d44\\u7e54\", \"\\u5357\\u6d77\", \"\\u5730\\u9707\", \"\\u5168\\u7403\", \"\\u82b1\\u84ee\", \"\\u7f8e\\u570b\", \"\\u82f1\\u570b\", \"\\u4e2d\\u570b\", \"\\u653b\\u64ca\", \"\\u65e5\\u672c\", \"\\u5b89\\u5168\", \"\\u767c\\u751f\", \"\\u6c11\\u773e\", \"\\u8d85\\u904e\", \"\\u53f0\\u7063\", \"\\u7576\\u5730\", \"\\u5f71\\u97ff\", \"\\u9020\\u6210\", \"\\u6301\\u7e8c\", \"\\u6700\\u5927\", \"\\u8868\\u793a\", \"\\u76ee\\u524d\", \"\\u6307\\u51fa\", \"\\u9032\\u884c\", \"\\u5831\\u5c0e\", \"\\u5df2\\u7d93\", \"\\u6642\\u9593\", \"\\u51fa\\u73fe\", \"\\u5f90\\u5de7\", \"\\u6c11\\u9032\\u9ee8\", \"\\u570b\\u6c11\\u9ee8\", \"\\u4e3b\\u59d4\", \"\\u5927\\u59d1\", \"\\u8cf4\\u6e05\\u5fb7\", \"\\u90e8\\u9577\", \"\\u842c\\u5b89\", \"\\u5169\\u5cb8\", \"\\u99ac\\u82f1\\u4e5d\", \"\\u5bb6\\u66b4\", \"\\u5353\\u69ae\\u6cf0\", \"\\u884c\\u653f\\u9662\", \"\\u4eba\\u4e8b\", \"\\u79d8\\u66f8\\u9577\", \"\\u548c\\u5e73\", \"\\u51fa\\u4efb\", \"\\u7fd2\\u8fd1\\u5e73\", \"\\u884c\\u653f\\u9662\\u9577\", \"\\u63a5\\u4efb\", \"\\u570b\\u5f90\\u5de7\", \"\\u7da0\\u71df\", \"\\u85cd\\u71df\", \"\\u9078\\u8209\", \"\\u570b\\u9632\\u90e8\\u9577\", \"\\u8868\\u6c7a\", \"\\u6d17\\u9322\", \"\\u6eab\\u6717\\u6771\", \"\\u5289\\u4e16\\u82b3\", \"\\u912d\\u9e97\\u541b\", \"\\u8b70\\u54e1\", \"\\u7acb\\u59d4\", \"\\u5e02\\u9577\", \"\\u9662\\u9577\", \"\\u4e3b\\u5e2d\", \"\\u5167\\u95a3\", \"\\u7e3d\\u7d71\", \"\\u653f\\u6cbb\", \"\\u8a50\\u9a19\", \"\\u540d\\u55ae\", \"\\u767c\\u8a00\\u4eba\", \"\\u53f0\\u5317\", \"\\u653f\\u5e9c\", \"\\u672a\\u4f86\", \"\\u554f\\u984c\", \"\\u5927\\u8c37\", \"\\u5967\\u904b\", \"\\u6bd4\\u8cfd\", \"\\u9053\\u5947\", \"\\u6c34\\u539f\", \"\\u6d0b\\u7247\", \"\\u5de8\\u86cb\", \"\\u6b4c\\u8ff7\", \"\\u5b6b\\u85dd\\u73cd\", \"\\u6642\\u523b\\u8868\", \"\\u5566\\u5566\\u968a\", \"\\u7fd4\\u5e73\", \"\\u770b\\u6771\\u68ee\", \"\\u674e\\u667a\\u51f1\", \"\\u9078\\u624b\", \"\\u8cfd\\u4e8b\", \"\\u7403\\u8ff7\", \"\\u6559\\u7df4\", \"\\u5168\\u58d8\\u6253\", \"\\u6295\\u624b\", \"\\u4e00\\u7c92\", \"\\u7403\\u54e1\", \"\\u61c9\\u63f4\", \"\\u5df4\\u9ece\", \"\\u8077\\u68d2\", \"\\u7403\\u5718\", \"\\u958b\\u5531\", \"\\u7403\\u968a\", \"\\u7403\\u5834\", \"\\u6a02\\u5929\", \"\\u6771\\u68ee\", \"\\u821e\\u53f0\", \"\\u6f14\\u5531\\u6703\", \"\\u8868\\u6f14\", \"\\u806f\\u76df\", \"\\u7c89\\u7d72\", \"\\u9999\\u6e2f\", \"\\u53f0\\u7063\", \"\\u76f4\\u64ad\", \"\\u97d3\\u570b\", \"\\u53f0\\u5317\", \"\\u4eca\\u5929\", \"\\u6700\\u65b0\", \"\\u638c\\u63e1\", \"\\u6210\\u70ba\", \"\\u65e5\\u672c\", \"\\u7f8e\\u570b\", \"\\u7372\\u5f97\", \"\\u6700\\u5f8c\"], \"Freq\": [1019.0, 338.0, 303.0, 763.0, 556.0, 303.0, 273.0, 433.0, 319.0, 289.0, 327.0, 287.0, 189.0, 182.0, 352.0, 185.0, 156.0, 163.0, 286.0, 522.0, 235.0, 486.0, 223.0, 132.0, 132.0, 394.0, 119.0, 173.0, 220.0, 112.0, 184.766875994566, 179.77344655846616, 173.78133123514635, 148.8141840546472, 123.84703687414805, 107.86806267862858, 101.87594735530878, 99.87857558086884, 90.89040259588914, 87.89434493422925, 86.89565904700929, 86.89565904700929, 85.89697315978931, 85.89697315978931, 82.90091549812942, 82.90091549812942, 81.90222961090946, 80.90354372368948, 79.90485783646952, 71.9153707387098, 71.9153707387098, 69.91799896426986, 68.91931307704988, 68.91931307704988, 68.91931307704988, 64.92456952817003, 62.92719775373008, 62.92719775373008, 61.928511866510114, 61.928511866510114, 116.85623566360827, 92.88777437032908, 88.89303082144922, 147.81549816742722, 165.79184413738662, 132.83520985912773, 86.89565904700929, 99.87857558086884, 241.69197156610406, 216.72482438560488, 160.7984147012868, 200.74585019008543, 208.73533728784517, 202.7432219645254, 228.70905503224452, 175.77870300958628, 279.64203528046284, 190.75899131788577, 176.77738889680626, 220.7195679344848, 278.64334939324283, 110.86412034028848, 175.77870300958628, 220.7195679344848, 315.59472722038157, 139.8260110696675, 127.8417804230279, 182.76950422012604, 150.81155582908713, 142.8220687313274, 149.81286994186718, 141.8233828441074, 133.8338957463477, 1019.268275569995, 287.51868840355553, 173.71315915802472, 162.7319238799472, 157.74045329900284, 135.7779827428478, 118.80698276763707, 117.8086886514482, 116.81039453525932, 106.82745337337066, 99.83939456004859, 98.84110044385972, 91.85304163053765, 89.85645339815991, 85.86327693340446, 80.87180635246011, 67.89398284200485, 65.89739460962711, 61.904218144871635, 60.90592402868277, 58.90933579630504, 57.91104168011617, 56.912747563927304, 55.91445344773844, 52.91957109917183, 51.92127698298297, 48.92639463441637, 48.92639463441637, 47.9281005182275, 46.929806402038636, 160.73533564756946, 96.84451221148198, 155.74386506662512, 127.79162981333685, 268.5511001959671, 125.79504158095914, 317.46751188922156, 116.81039453525932, 69.89057107438259, 165.7268062285138, 108.82404160574839, 97.84280632767086, 169.71998269326926, 100.83768867623745, 188.68757090085774, 173.71315915802472, 372.3736882796092, 243.59374729124542, 175.70974739040244, 181.69951208753568, 110.82062983812612, 116.81039453525932, 121.80186511620366, 127.79162981333685, 131.78480627809233, 127.79162981333685, 126.79333569714801, 118.80698276763707, 303.4641711719845, 289.4893071990633, 106.81787098159293, 106.81787098159293, 102.82505270361543, 101.82684813412105, 98.83223442563794, 91.84480243917731, 76.87173389676173, 74.87532475777297, 70.88250647979548, 68.88609734080673, 65.89148363232361, 62.89686992384048, 61.8986653543461, 60.90046078485173, 52.91482422889675, 50.918415089907995, 49.92021052041362, 49.92021052041362, 49.92021052041362, 47.92380138142488, 46.925596811930504, 44.92918767294175, 44.92918767294175, 43.93098310344738, 42.93277853395301, 42.93277853395301, 41.934573964458636, 40.93636939496426, 317.43903514490574, 143.75144005288473, 159.72271316479473, 457.18767487411804, 61.8986653543461, 293.4821254770408, 145.74784919187348, 314.4444214364226, 133.769394357941, 320.4336488533889, 234.58805587687274, 130.77478064945788, 432.2325606367587, 154.73169031732286, 129.7765760799635, 134.7675989274354, 112.80709839855916, 80.86455217473922, 300.46955746350136, 155.72989488681722, 148.7424629003566, 140.75682634440162, 177.69039541569344, 160.7209177342891, 128.77837151046913, 103.8232572731098, 303.06213631289506, 189.41757350354652, 182.43939859420058, 132.59529209887228, 132.59529209887228, 119.63582441008695, 112.657649500741, 110.66388524092787, 94.71377116242282, 91.72312477270312, 85.74183199326372, 83.7480677334506, 80.75742134373088, 76.76989282410463, 70.78860004466524, 69.79171791475866, 65.8041893951324, 59.822896615693004, 53.84160383625361, 52.844721706347045, 44.869664667094526, 44.869664667094526, 43.87278253718796, 43.87278253718796, 42.87590040728139, 40.88213614746826, 39.88525401756169, 39.88525401756169, 36.89460762784199, 35.897725497935426, 160.50799173625614, 323.9966610409329, 167.48616664560208, 62.8135430054127, 77.7667749540112, 71.7854821745718, 197.39263054279905, 83.7480677334506, 65.8041893951324, 54.83848596616018, 63.81042513531927, 89.72936051288998, 74.7761285642915, 78.76365708391776, 74.7761285642915, 156.4775338438784, 107.64370696438003, 102.66066340524755, 89.70475015150308, 78.74205432141159, 75.7522281859321, 72.76240205045261, 69.77257591497312, 67.77935849132012, 66.78274977949361, 63.792923644014124, 62.79631493218762, 61.799706220361124, 59.80648879670813, 55.82005394940214, 53.82683652574914, 52.83022781392265, 51.83361910209615, 51.83361910209615, 50.83701039026965, 49.84040167844315, 48.843792966616654, 47.84718425479016, 43.860749407484164, 42.86414069565767, 38.877705848351674, 35.887879712872184, 32.898053577392695, 32.898053577392695, 31.901444865566194, 97.67761984611505, 53.82683652574914, 86.71492401602357, 59.80648879670813, 77.7454456095851, 143.52162059013395, 67.77935849132012, 228.23336109538627, 107.64370696438003, 75.7522281859321, 98.67422855794155, 110.63353309985952, 69.77257591497312, 65.78614106766712, 84.72170659237058, 100.66744598159454, 99.67083726976806, 61.799706220361124, 61.799706220361124], \"Total\": [1019.0, 338.0, 303.0, 763.0, 556.0, 303.0, 273.0, 433.0, 319.0, 289.0, 327.0, 287.0, 189.0, 182.0, 352.0, 185.0, 156.0, 163.0, 286.0, 522.0, 235.0, 486.0, 223.0, 132.0, 132.0, 394.0, 119.0, 173.0, 220.0, 112.0, 184.80677588984017, 179.81334645374034, 173.82123113042053, 148.85408394992137, 123.88693676942222, 107.90796257390275, 101.91584725058296, 99.91847547614302, 90.93030249116332, 87.93424482950343, 86.93555894228346, 86.93555894228346, 85.93687305506349, 85.93687305506349, 82.9408153934036, 82.9408153934036, 81.94212950618363, 80.94344361896366, 79.94475773174369, 71.95527063398397, 71.95527063398397, 69.95789885954403, 68.95921297232405, 68.95921297232405, 68.95921297232405, 64.9644694234442, 62.96709764900424, 62.96709764900424, 61.968411761784274, 61.968411761784274, 117.89301768878902, 93.92455639550982, 89.92981284662996, 153.84462547966763, 181.77803025804488, 144.8546391486683, 89.93044129085006, 105.90824017327621, 307.6174026492591, 273.666862076783, 192.7808608203809, 253.6707556747443, 272.663553311761, 263.67754065351403, 316.5966880314711, 225.7262487828923, 464.338609528521, 274.59891815765303, 254.68422985481206, 358.44060376096223, 522.2670136386006, 133.83230922341366, 319.33025740787616, 526.1202406996342, 1077.16510602111, 217.68908045292196, 180.791268476312, 408.3497165821399, 284.6183004122503, 279.62183594330236, 333.4375384747409, 326.49983727920574, 323.5260820564334, 1019.3081793829796, 287.55859221654, 173.7530629710092, 162.77182769293168, 157.7803571119873, 135.81788655583227, 118.84688658062154, 117.84859246443267, 116.8502983482438, 106.86735718635514, 99.87929837303307, 98.8810042568442, 91.89294544352212, 89.89635721114439, 85.90318074638894, 80.91171016544459, 67.93388665498932, 65.93729842261159, 61.94412195785611, 60.945827841667246, 58.94923960928951, 57.95094549310065, 56.95265137691178, 55.954357260722915, 52.95947491215631, 51.961180795967444, 48.966298447400845, 48.966298447400845, 47.96800433121198, 46.96971021502311, 161.7739253477739, 97.88262059396084, 159.77851242848948, 130.82759128798122, 286.5445010495828, 130.82596824141547, 352.4508327649418, 121.84132119571566, 70.92867945686145, 181.71244943072224, 117.84778654418223, 105.86834669661033, 220.58693080940512, 113.85425189264879, 257.6315064370384, 273.5067987518652, 1077.16510602111, 522.2670136386006, 323.5260820564334, 408.3497165821399, 141.81979615492958, 169.780650370902, 195.7291224162467, 235.4652745035831, 277.597232113498, 309.54074732675815, 318.4873841609783, 333.4375384747409, 303.5040758804359, 289.5292119075147, 106.85777569004436, 106.85777569004436, 102.86495741206686, 101.86675284257248, 98.87213913408937, 91.88470714762875, 76.91163860521316, 74.9152294662244, 70.92241118824691, 68.92600204925816, 65.93138834077504, 62.9367746322919, 61.938570062797524, 60.940365493303155, 52.95472893734817, 50.95831979835942, 49.96011522886504, 49.96011522886504, 49.96011522886504, 47.963706089876304, 46.96550152038193, 44.969092381393175, 44.969092381393175, 43.970887811898805, 42.972683242404436, 42.972683242404436, 41.97447867291006, 40.97627410341568, 327.44917313870513, 146.78740242299605, 175.7127319517512, 556.8884507652192, 64.93462772445743, 394.2343122124748, 174.73828326980205, 433.1181520093097, 166.72175757609824, 486.23715273244824, 340.4255331246716, 165.73138376344644, 763.2693228147685, 215.69143414619222, 176.7160793969432, 209.6991509016068, 173.70417989419695, 98.86700935714077, 1077.16510602111, 326.49983727920574, 301.50125717066135, 286.51236466636203, 464.338609528521, 526.1202406996342, 319.4730689427695, 225.70284022239713, 303.10205424574235, 189.45749143639384, 182.4793165270479, 132.6352100317196, 132.6352100317196, 119.67574234293426, 112.6975674335883, 110.70380317377517, 94.75368909527012, 91.76304270555042, 85.78174992611102, 83.7879856662979, 80.79733927657819, 76.80981075695193, 70.82851797751255, 69.83163584760597, 65.8441073279797, 59.8628145485403, 53.88152176910091, 52.88463963919434, 44.90958259994182, 44.90958259994182, 43.912700470035254, 43.912700470035254, 42.91581834012869, 40.922054080315554, 39.92517195040899, 39.92517195040899, 36.93452556068929, 35.93764343078272, 163.54396733076334, 338.0126966004243, 185.49376682934812, 64.84987007724875, 81.79312773416449, 75.81821838539659, 273.2960957572187, 99.75925877820788, 75.83096620017936, 64.85460344344666, 86.81193607289073, 223.38754696925938, 152.67618201108894, 186.57903698818882, 226.59520171527723, 156.5174545109065, 107.68362763140813, 102.70058407227565, 89.74467081853118, 78.78197498843969, 75.7921488529602, 72.8023227174807, 69.81249658200122, 67.81927915834822, 66.82267044652171, 63.83284431104222, 62.83623559921572, 61.83962688738922, 59.84640946373623, 55.859974616430236, 53.866757192777236, 52.870148480950746, 51.87353976912425, 51.87353976912425, 50.876931057297746, 49.88032234547125, 48.88371363364475, 47.887104921818256, 43.90067007451226, 42.904061362685766, 38.91762651537977, 35.92780037990028, 32.93797424442079, 32.93797424442079, 31.941365532594293, 100.71359817480305, 56.861639541343834, 97.7403894424713, 64.83788004468056, 93.74395227281207, 319.33025740787616, 91.78774045162741, 763.2693228147685, 235.4652745035831, 123.68036999205677, 223.38754696925938, 315.2424009353468, 106.74705066693247, 94.76630263968315, 182.57404152274918, 433.1181520093097, 556.8884507652192, 113.73570412786512, 246.53921171864044], \"Category\": [\"Default\", \"Default\", \"Default\", \"Default\", \"Default\", \"Default\", \"Default\", \"Default\", \"Default\", \"Default\", \"Default\", \"Default\", \"Default\", \"Default\", \"Default\", \"Default\", \"Default\", \"Default\", \"Default\", \"Default\", \"Default\", \"Default\", \"Default\", \"Default\", \"Default\", \"Default\", \"Default\", \"Default\", \"Default\", \"Default\", \"Topic1\", \"Topic1\", \"Topic1\", \"Topic1\", \"Topic1\", \"Topic1\", \"Topic1\", \"Topic1\", \"Topic1\", \"Topic1\", \"Topic1\", \"Topic1\", \"Topic1\", \"Topic1\", \"Topic1\", \"Topic1\", \"Topic1\", \"Topic1\", \"Topic1\", \"Topic1\", \"Topic1\", \"Topic1\", \"Topic1\", \"Topic1\", \"Topic1\", \"Topic1\", \"Topic1\", \"Topic1\", \"Topic1\", \"Topic1\", \"Topic1\", \"Topic1\", \"Topic1\", \"Topic1\", \"Topic1\", \"Topic1\", \"Topic1\", \"Topic1\", \"Topic1\", \"Topic1\", \"Topic1\", \"Topic1\", \"Topic1\", \"Topic1\", \"Topic1\", \"Topic1\", \"Topic1\", \"Topic1\", \"Topic1\", \"Topic1\", \"Topic1\", \"Topic1\", \"Topic1\", \"Topic1\", \"Topic1\", \"Topic1\", \"Topic1\", \"Topic1\", \"Topic1\", \"Topic1\", \"Topic1\", \"Topic1\", \"Topic1\", \"Topic2\", \"Topic2\", \"Topic2\", \"Topic2\", \"Topic2\", \"Topic2\", \"Topic2\", \"Topic2\", \"Topic2\", \"Topic2\", \"Topic2\", \"Topic2\", \"Topic2\", \"Topic2\", \"Topic2\", \"Topic2\", \"Topic2\", \"Topic2\", \"Topic2\", \"Topic2\", \"Topic2\", \"Topic2\", \"Topic2\", \"Topic2\", \"Topic2\", \"Topic2\", \"Topic2\", \"Topic2\", \"Topic2\", \"Topic2\", \"Topic2\", \"Topic2\", \"Topic2\", \"Topic2\", \"Topic2\", \"Topic2\", \"Topic2\", \"Topic2\", \"Topic2\", \"Topic2\", \"Topic2\", \"Topic2\", \"Topic2\", \"Topic2\", \"Topic2\", \"Topic2\", \"Topic2\", \"Topic2\", \"Topic2\", \"Topic2\", \"Topic2\", \"Topic2\", \"Topic2\", \"Topic2\", \"Topic2\", \"Topic2\", \"Topic2\", \"Topic2\", \"Topic3\", \"Topic3\", \"Topic3\", \"Topic3\", \"Topic3\", \"Topic3\", \"Topic3\", \"Topic3\", \"Topic3\", \"Topic3\", \"Topic3\", \"Topic3\", \"Topic3\", \"Topic3\", \"Topic3\", \"Topic3\", \"Topic3\", \"Topic3\", \"Topic3\", \"Topic3\", \"Topic3\", \"Topic3\", \"Topic3\", \"Topic3\", \"Topic3\", \"Topic3\", \"Topic3\", \"Topic3\", \"Topic3\", \"Topic3\", \"Topic3\", \"Topic3\", \"Topic3\", \"Topic3\", \"Topic3\", \"Topic3\", \"Topic3\", \"Topic3\", \"Topic3\", \"Topic3\", \"Topic3\", \"Topic3\", \"Topic3\", \"Topic3\", \"Topic3\", \"Topic3\", \"Topic3\", \"Topic3\", \"Topic3\", \"Topic3\", \"Topic3\", \"Topic3\", \"Topic3\", \"Topic3\", \"Topic3\", \"Topic3\", \"Topic4\", \"Topic4\", \"Topic4\", \"Topic4\", \"Topic4\", \"Topic4\", \"Topic4\", \"Topic4\", \"Topic4\", \"Topic4\", \"Topic4\", \"Topic4\", \"Topic4\", \"Topic4\", \"Topic4\", \"Topic4\", \"Topic4\", \"Topic4\", \"Topic4\", \"Topic4\", \"Topic4\", \"Topic4\", \"Topic4\", \"Topic4\", \"Topic4\", \"Topic4\", \"Topic4\", \"Topic4\", \"Topic4\", \"Topic4\", \"Topic4\", \"Topic4\", \"Topic4\", \"Topic4\", \"Topic4\", \"Topic4\", \"Topic4\", \"Topic4\", \"Topic4\", \"Topic4\", \"Topic4\", \"Topic4\", \"Topic4\", \"Topic4\", \"Topic4\", \"Topic5\", \"Topic5\", \"Topic5\", \"Topic5\", \"Topic5\", \"Topic5\", \"Topic5\", \"Topic5\", \"Topic5\", \"Topic5\", \"Topic5\", \"Topic5\", \"Topic5\", \"Topic5\", \"Topic5\", \"Topic5\", \"Topic5\", \"Topic5\", \"Topic5\", \"Topic5\", \"Topic5\", \"Topic5\", \"Topic5\", \"Topic5\", \"Topic5\", \"Topic5\", \"Topic5\", \"Topic5\", \"Topic5\", \"Topic5\", \"Topic5\", \"Topic5\", \"Topic5\", \"Topic5\", \"Topic5\", \"Topic5\", \"Topic5\", \"Topic5\", \"Topic5\", \"Topic5\", \"Topic5\", \"Topic5\", \"Topic5\", \"Topic5\", \"Topic5\", \"Topic5\", \"Topic5\", \"Topic5\", \"Topic5\"], \"logprob\": [30.0, 29.0, 28.0, 27.0, 26.0, 25.0, 24.0, 23.0, 22.0, 21.0, 20.0, 19.0, 18.0, 17.0, 16.0, 15.0, 14.0, 13.0, 12.0, 11.0, 10.0, 9.0, 8.0, 7.0, 6.0, 5.0, 4.0, 3.0, 2.0, 1.0, -5.5515, -5.5789, -5.6128, -5.7679, -5.9515, -6.0897, -6.1468, -6.1666, -6.2609, -6.2944, -6.3059, -6.3059, -6.3174, -6.3174, -6.3529, -6.3529, -6.3651, -6.3773, -6.3897, -6.4951, -6.4951, -6.5233, -6.5376, -6.5376, -6.5376, -6.5974, -6.6286, -6.6286, -6.6446, -6.6446, -6.0096, -6.2392, -6.2831, -5.7746, -5.6598, -5.8815, -6.3059, -6.1666, -5.2829, -5.3919, -5.6904, -5.4685, -5.4295, -5.4586, -5.3381, -5.6014, -5.1371, -5.5196, -5.5957, -5.3737, -5.1406, -6.0623, -5.6014, -5.3737, -5.0161, -5.8302, -5.9198, -5.5624, -5.7545, -5.809, -5.7612, -5.816, -5.874, -3.4397, -4.7052, -5.2091, -5.2744, -5.3055, -5.4555, -5.589, -5.5974, -5.6059, -5.6953, -5.7629, -5.773, -5.8463, -5.8683, -5.9137, -5.9736, -6.1485, -6.1784, -6.2409, -6.2572, -6.2905, -6.3076, -6.325, -6.3427, -6.3977, -6.4168, -6.4762, -6.4762, -6.4968, -6.5178, -5.2867, -5.7934, -5.3183, -5.5161, -4.7735, -5.5318, -4.6061, -5.6059, -6.1196, -5.2562, -5.6768, -5.7831, -5.2323, -5.753, -5.1264, -5.2091, -4.4466, -4.871, -5.1977, -5.1641, -5.6586, -5.6059, -5.5641, -5.5161, -5.4853, -5.5161, -5.5239, -5.589, -4.6338, -4.681, -5.678, -5.678, -5.7161, -5.7258, -5.7557, -5.829, -6.007, -6.0333, -6.0881, -6.1166, -6.1611, -6.2076, -6.2236, -6.2399, -6.3804, -6.4189, -6.4387, -6.4387, -6.4387, -6.4795, -6.5005, -6.544, -6.544, -6.5665, -6.5895, -6.5895, -6.613, -6.6371, -4.5888, -5.381, -5.2757, -4.224, -6.2236, -4.6673, -5.3672, -4.5983, -5.453, -4.5794, -4.8913, -5.4756, -4.2801, -5.3074, -5.4833, -5.4455, -5.6234, -5.9563, -4.6438, -5.301, -5.3469, -5.4021, -5.1691, -5.2694, -5.491, -5.7064, -3.9329, -4.4029, -4.4404, -4.7595, -4.7595, -4.8624, -4.9225, -4.9403, -5.096, -5.1281, -5.1955, -5.219, -5.2554, -5.306, -5.3871, -5.4013, -5.4601, -5.5554, -5.6608, -5.6795, -5.8431, -5.8431, -5.8655, -5.8655, -5.8885, -5.9361, -5.9608, -5.9608, -6.0388, -6.0662, -4.5685, -3.8661, -4.5259, -5.5067, -5.2931, -5.3732, -4.3616, -5.219, -5.4601, -5.6424, -5.4909, -5.15, -5.3323, -5.2804, -5.3323, -4.5211, -4.8952, -4.9426, -5.0775, -5.2078, -5.2466, -5.2868, -5.3288, -5.3578, -5.3726, -5.4184, -5.4341, -5.4501, -5.4829, -5.5519, -5.5882, -5.6069, -5.626, -5.626, -5.6454, -5.6652, -5.6854, -5.706, -5.793, -5.816, -5.9136, -5.9936, -6.0806, -6.0806, -6.1114, -4.9923, -5.5882, -5.1114, -5.4829, -5.2206, -4.6075, -5.3578, -4.1437, -4.8952, -5.2466, -4.9822, -4.8678, -5.3288, -5.3876, -5.1346, -4.9622, -4.9721, -5.4501, -5.4501], \"loglift\": [30.0, 29.0, 28.0, 27.0, 26.0, 25.0, 24.0, 23.0, 22.0, 21.0, 20.0, 19.0, 18.0, 17.0, 16.0, 15.0, 14.0, 13.0, 12.0, 11.0, 10.0, 9.0, 8.0, 7.0, 6.0, 5.0, 4.0, 3.0, 2.0, 1.0, 1.0819, 1.0819, 1.0819, 1.0819, 1.0818, 1.0818, 1.0817, 1.0817, 1.0817, 1.0817, 1.0817, 1.0817, 1.0817, 1.0817, 1.0816, 1.0816, 1.0816, 1.0816, 1.0816, 1.0816, 1.0816, 1.0816, 1.0816, 1.0816, 1.0816, 1.0815, 1.0815, 1.0815, 1.0815, 1.0815, 1.0733, 1.071, 1.0705, 1.0422, 0.9901, 0.9955, 1.0478, 1.0235, 0.8409, 0.8488, 0.9007, 0.8481, 0.815, 0.8193, 0.757, 0.832, 0.575, 0.7178, 0.717, 0.5973, 0.4539, 0.8938, 0.4851, 0.2135, -0.1455, 0.6395, 0.7356, 0.2782, 0.447, 0.4103, 0.2821, 0.2483, 0.1994, 1.4862, 1.4861, 1.486, 1.486, 1.486, 1.4859, 1.4859, 1.4859, 1.4859, 1.4858, 1.4858, 1.4858, 1.4858, 1.4858, 1.4858, 1.4857, 1.4856, 1.4856, 1.4856, 1.4856, 1.4855, 1.4855, 1.4855, 1.4855, 1.4855, 1.4854, 1.4854, 1.4854, 1.4854, 1.4854, 1.4798, 1.4756, 1.4606, 1.4627, 1.4214, 1.447, 1.3817, 1.444, 1.4715, 1.3941, 1.4066, 1.4074, 1.2241, 1.3648, 1.1748, 1.0323, 0.424, 0.7235, 0.8758, 0.6764, 1.2396, 1.1123, 1.0119, 0.8751, 0.7412, 0.6015, 0.5652, 0.4543, 1.5035, 1.5035, 1.5032, 1.5032, 1.5032, 1.5032, 1.5032, 1.5032, 1.5031, 1.5031, 1.503, 1.503, 1.503, 1.503, 1.503, 1.503, 1.5029, 1.5028, 1.5028, 1.5028, 1.5028, 1.5028, 1.5028, 1.5027, 1.5027, 1.5027, 1.5027, 1.5027, 1.5027, 1.5026, 1.4726, 1.4827, 1.4082, 1.3063, 1.4557, 1.2085, 1.3222, 1.1834, 1.2834, 1.0866, 1.1312, 1.2667, 0.935, 1.1715, 1.1949, 1.0615, 1.0719, 1.3026, 0.2269, 0.7633, 0.797, 0.7929, 0.543, 0.3177, 0.595, 0.7271, 2.2057, 2.2057, 2.2057, 2.2056, 2.2056, 2.2055, 2.2055, 2.2055, 2.2055, 2.2054, 2.2054, 2.2054, 2.2054, 2.2054, 2.2053, 2.2053, 2.2053, 2.2052, 2.2051, 2.2051, 2.205, 2.205, 2.205, 2.205, 2.2049, 2.2049, 2.2049, 2.2049, 2.2048, 2.2048, 2.1871, 2.1635, 2.1038, 2.174, 2.1554, 2.1512, 1.8805, 2.0309, 2.0641, 2.0381, 1.898, 1.2938, 1.4921, 1.3435, 1.0972, 2.2784, 2.2783, 2.2783, 2.2782, 2.2782, 2.2782, 2.2781, 2.2781, 2.2781, 2.2781, 2.2781, 2.2781, 2.278, 2.278, 2.278, 2.2779, 2.2779, 2.2779, 2.2779, 2.2779, 2.2779, 2.2779, 2.2779, 2.2778, 2.2778, 2.2777, 2.2776, 2.2775, 2.2775, 2.2774, 2.2481, 2.2238, 2.159, 2.1979, 2.0916, 1.4789, 1.9755, 1.0714, 1.4959, 1.7885, 1.4616, 1.2316, 1.8535, 1.9137, 1.5109, 0.8195, 0.5582, 1.6687, 0.8951]}, \"token.table\": {\"Topic\": [1, 2, 3, 5, 1, 2, 3, 4, 5, 2, 2, 3, 4, 5, 4, 4, 5, 1, 2, 3, 4, 1, 1, 2, 3, 4, 5, 3, 3, 2, 2, 3, 1, 2, 3, 4, 5, 1, 3, 1, 2, 4, 4, 1, 2, 3, 4, 4, 1, 3, 1, 2, 2, 2, 4, 3, 3, 4, 3, 2, 1, 1, 4, 1, 2, 1, 1, 4, 5, 3, 2, 3, 4, 5, 2, 4, 5, 2, 2, 1, 1, 4, 1, 2, 3, 4, 5, 1, 4, 4, 4, 3, 2, 3, 4, 1, 3, 5, 4, 5, 1, 3, 4, 5, 2, 5, 2, 5, 2, 3, 4, 5, 1, 4, 4, 1, 2, 3, 4, 5, 2, 1, 2, 2, 2, 1, 2, 3, 4, 1, 5, 1, 2, 3, 5, 5, 3, 4, 1, 2, 3, 4, 5, 1, 2, 3, 2, 3, 1, 2, 3, 2, 3, 5, 2, 4, 2, 2, 1, 3, 1, 5, 1, 2, 3, 4, 5, 5, 3, 2, 3, 2, 3, 5, 1, 2, 3, 4, 2, 3, 3, 1, 1, 3, 4, 5, 4, 2, 2, 3, 2, 3, 4, 3, 4, 3, 5, 3, 3, 1, 3, 5, 1, 5, 1, 2, 3, 5, 1, 3, 2, 3, 5, 1, 2, 4, 5, 2, 3, 5, 1, 2, 3, 4, 5, 2, 2, 5, 3, 1, 5, 5, 2, 3, 1, 5, 5, 1, 3, 4, 4, 5, 1, 2, 5, 4, 3, 4, 1, 1, 5, 1, 2, 3, 3, 3, 1, 2, 2, 3, 1, 2, 2, 3, 1, 2, 3, 4, 5, 1, 2, 4, 5, 1, 3, 5, 5, 5, 5, 5, 1, 1, 2, 1, 2, 1, 3, 3, 1, 2, 3, 3, 1, 2, 3, 1, 2, 3, 1, 2, 3, 5, 2, 3, 1, 3, 4, 1, 2, 3, 4, 3, 2, 5, 1, 4, 5, 1, 2, 3, 5, 1, 2, 5, 1, 2, 5, 4, 1, 4, 2, 4, 2, 5, 1, 5, 3, 1, 2, 1, 4, 1, 2, 3, 4, 3, 5, 4, 5, 2, 4, 5, 5, 1, 2, 2, 5, 3, 4, 1, 3, 4, 4, 1, 2, 5, 2, 4, 4, 1, 2, 3, 4, 2, 5, 1, 2, 3, 4, 5, 3, 3, 1, 2, 1, 2, 3, 1, 4, 1, 2, 3, 4, 5, 3, 1, 1, 4, 1, 4, 2, 3, 5, 2, 2, 3, 5, 3, 1, 1, 2, 3, 1, 1, 2, 3, 1, 2, 3, 4, 5, 1, 1, 1, 2, 4, 5, 1, 2, 5, 4, 4, 4, 2, 1, 4, 5, 3, 4, 2, 1, 1, 4, 5, 1, 2, 3, 1, 1, 5, 4, 2], \"Freq\": [0.7698797534931219, 0.16687048844185892, 0.06447268871617276, 1.00239929593277, 0.6955599143706126, 0.10560857338611396, 0.07283349888697514, 0.054625124165231354, 0.07283349888697514, 1.0006670210535984, 0.06848718937850391, 0.7432128328852462, 0.08624312736552345, 0.10146250278296877, 1.0027503252582264, 0.9536253492286967, 0.04890386406301008, 0.25936858034147176, 0.47550906395936493, 0.26657326312873486, 1.0024761061272482, 1.0005097474232059, 0.06027108010732579, 0.16178026765650608, 0.24425648254021504, 0.18398540243288924, 0.3521099943112191, 0.9983391462570194, 0.9981721640312973, 1.0008313681969758, 1.0012883250355455, 1.0007983322486798, 1.0008529252513152, 1.0010911873494563, 0.05275776831984281, 0.9496398297571705, 1.0024378562064318, 0.020437721156444506, 0.9810106155093363, 0.7797055103205125, 0.19935652252513103, 0.02215072472501456, 1.0025994861739074, 0.2681391730064648, 0.4135158330702107, 0.31013687480265806, 0.009691777337583064, 1.0023676024832986, 0.5405337384314121, 0.4607828589907119, 1.0009802623227169, 1.0008610864371945, 1.0007470808676382, 1.0006882601639853, 1.0017727164033319, 1.000991788107801, 1.0007983322486798, 1.0025303667586245, 1.0005790154694016, 1.00084648328827, 1.00059146596833, 0.9901563932693322, 0.010646842938379917, 0.02293094270455778, 0.9783868887277987, 1.000691005512102, 0.15667838460492334, 0.4028872746983743, 0.44317600216821174, 1.0008179273140383, 0.0877802867183484, 0.5659863263033806, 0.04716552719194839, 0.2987150055490065, 0.09251463552979722, 0.8480508256898078, 0.06167642368653148, 1.001284763206765, 1.0006882601639853, 1.000713576377513, 1.00059146596833, 1.0024110011222056, 0.4633813920381917, 0.07502365394904056, 0.13239468343948332, 0.3309867085987083, 1.0026186470423168, 1.000734573445511, 1.002013320873267, 0.9973733103774703, 1.0019615531784605, 1.0013128143084935, 0.003053909070573243, 0.9680891753717181, 0.02748518163515919, 0.6030082234262314, 0.3833409420352471, 0.015075205585655786, 1.0027503252582264, 0.9966939501250932, 0.7923656767819206, 0.1498004762075273, 0.05913176692402393, 1.0029379802255063, 0.9135312441170267, 0.08805120425224354, 1.0011270741405593, 1.0026647414112118, 0.07797422597387325, 0.8037343292691551, 0.05398215644345072, 0.06597819120866198, 0.8293961349400433, 0.17185685678937834, 1.0025442483287759, 0.05118702739342609, 0.6361816261754386, 0.12796756848356522, 0.10603027102923976, 0.08043675733252671, 1.0013920800537723, 0.9674143565984235, 0.033359115744773224, 1.001401792375882, 1.001281140518016, 0.5114049820808538, 0.2861006892760022, 0.2002704824932015, 0.003576258615950027, 1.000713576377513, 1.002715260655713, 0.42005606875362633, 0.15965932025024712, 0.306013697146307, 0.1159430778007747, 1.00226260613606, 0.0970383011120787, 0.9002997936509525, 0.6165596131720084, 0.16460188767940495, 0.0725364250790598, 0.08369587509122285, 0.06416683756993752, 1.000815910405643, 1.0009509273034898, 1.0012547556165796, 0.9631115419493015, 0.03821871198211514, 0.036884577340947924, 0.8994162320831148, 0.06242005396160418, 0.19805781182697188, 0.7356433010716099, 0.06790553548353322, 1.0011529142233448, 0.9996633007123745, 1.001241191109588, 1.0009020717443038, 0.9620095569705809, 0.03900038744475328, 1.0005225324371654, 1.0023575256505077, 0.18622581675042513, 0.14788520741945527, 0.07668121866193976, 0.12597628780175818, 0.46556454187606283, 1.0024189537408152, 1.0013309682803821, 0.9909828671463329, 0.010216318218003432, 0.21876272651093234, 0.6505312656772462, 0.13240901867766958, 0.21227108835494352, 0.18905393806612156, 0.4941936275763529, 0.10613554417747176, 0.8870990614846002, 0.11418106731980002, 1.0010939956842013, 1.000734573445511, 0.06331364454317663, 0.15828411135794157, 0.08441819272423551, 0.696450089974943, 1.0021813585493389, 1.0008888575354737, 0.16596248662477117, 0.8355352774902273, 0.013099620213549348, 0.49778556811487523, 0.49123575800810054, 0.16038611549402523, 0.8420271063436325, 1.0006620786968354, 1.0024378562064318, 1.0007345493713742, 1.0007566952823805, 0.04155909863508352, 0.7249753873009014, 0.23319272011907977, 1.0006987147878534, 1.002653733415521, 0.3568375900267888, 0.12207601764074352, 0.4037899045039978, 0.11894586334226293, 1.0005097474232059, 1.000687308036922, 0.14160436419622352, 0.8192823928495789, 0.04045838977034957, 0.4056149904223903, 0.2758181934872254, 0.06895454837180635, 0.25148129406188197, 0.1030473435216653, 0.24356644832393615, 0.6557558224105973, 1.0010284639477978, 0.2679829460324913, 0.19294772114339373, 0.4234130547313362, 0.11791249625429617, 1.0015350185854563, 1.0012034236914373, 1.00256641188068, 1.0006356772613307, 0.029787437390461066, 0.9730562880883948, 1.0018356906922428, 0.9869068553937161, 0.014098669362767373, 1.0007664937532068, 1.002685814534344, 1.0029154257537, 0.2085624992588267, 0.6903124975468208, 0.10281249963463288, 0.9975852554949117, 1.0027674479040707, 0.7079987937402578, 0.2931557505330755, 1.0027423836134142, 1.0018742073217357, 1.0006356772613307, 1.0018742073217357, 1.0007477765985717, 0.11254303428445468, 0.890113089340687, 0.025034655406434837, 0.9763515608509586, 1.0010735854183006, 1.0011315527480806, 1.0013309682803821, 0.9181618261013956, 0.08284166852042668, 0.9256780053516954, 0.07556555145728125, 0.21858725537959714, 0.7826833982946866, 1.0008157137622797, 1.0007983322486798, 0.01758462758318654, 0.16705396204027212, 0.18463858962345867, 0.08792313791593269, 0.5451234550787827, 0.4498593670231375, 0.35688843117168906, 0.0899718734046275, 0.10496718563873209, 0.8351451451916071, 0.16599158165299022, 1.0023788365840358, 1.002116611211829, 1.001883107780671, 1.002456046044509, 1.001883107780671, 1.0009126323850288, 0.9442135931669741, 0.05665281559001844, 1.0010380405567263, 1.0006448791112021, 0.28281141641746965, 0.7186191728640622, 1.0010406524259785, 0.5305351053719551, 0.2916186340786244, 0.17918735346999812, 1.0008549012252597, 0.22512774466959226, 0.7336059265957403, 0.04269664123043991, 0.7233177372254646, 0.202149935294453, 0.07580622573541987, 0.2632460298039626, 0.0740379458823645, 0.6581150745099066, 0.004113219215686916, 0.9249219115297926, 0.07636969911713884, 0.0691149198073657, 0.19582560612086947, 0.7372258112785675, 0.43491599010681575, 0.015313943313620274, 0.47779503138495255, 0.07350692790537731, 1.0009785715299557, 0.5436045729879045, 0.4586663584585444, 0.9132016655937628, 0.01100242970594895, 0.07701700794164265, 0.7866915132754206, 0.14628561197270218, 0.06826661892059435, 1.0025933712844488, 0.44814528471256915, 0.445696403375342, 0.10775077883799478, 0.41418608091271625, 0.5440055988107318, 0.04327317263267185, 1.00242108725954, 0.9924251859330093, 0.008482266546435977, 0.0414185625001828, 0.9585438750042304, 0.770671224157364, 0.23120136724720922, 0.5511535343648868, 0.4509438008439982, 1.00060802010881, 1.0007412508586886, 1.0014211952570413, 1.0005469232162, 1.002013320873267, 0.5342094995742216, 0.46719397095379955, 0.27808666563430984, 0.7208299096047242, 0.8206311324503809, 0.17956917559089297, 1.0022916639067891, 1.002606209605375, 0.06400412884810854, 0.10667354808018088, 0.8320536750254109, 1.0022361201776033, 0.3121674930813167, 0.6891244658587558, 0.05275964647165536, 0.9496736364897964, 0.9105771575160202, 0.09105771575160203, 0.046200311068697465, 0.954806428753081, 1.0026755794989255, 1.0019880246268233, 0.024429015299053815, 0.9387721593493538, 0.03838845261279886, 1.0009732012735624, 1.0025082598664306, 1.0021988657151668, 0.21458227310027395, 0.623310412338891, 0.1634912556954468, 1.0019047411337532, 0.07711541457793561, 0.9253849749352274, 0.2933626407257637, 0.3453509568037471, 0.2785088361320541, 0.03063597197452595, 0.05198831607798343, 1.0010045854443208, 1.0013080534493275, 0.6949782485586268, 0.3062616010597338, 0.7929348783891712, 0.18270388902976295, 0.02557854446416681, 0.13187224825280344, 0.8703568384685028, 0.35166228105095054, 0.3987599079774171, 0.12245383000881313, 0.11931398821371536, 0.009419525385293318, 1.000687308036922, 1.0010455466755992, 0.0183436909900356, 0.9844447497985772, 1.00059146596833, 1.0027094685248459, 0.960265358679598, 0.04103698114015376, 1.0024735628088008, 1.0012084749185575, 0.12671106415169955, 0.7904356858986972, 0.0844740427677997, 1.0011488689668986, 1.0006216273752002, 0.76651241965233, 0.13203084740422907, 0.10269065909217819, 1.000601806817276, 0.2384368262104245, 0.11921841310521225, 0.6437794307681461, 0.2547883058555154, 0.11168802448460947, 0.4921253578853105, 0.06631476453773687, 0.07678551683316902, 1.0005225324371654, 1.0007062361469627, 0.6431190747313428, 0.21590426080266506, 0.1424049379762259, 1.002845062321139, 0.00618146588116872, 0.9952160068681639, 1.0025067212173164, 1.0019880246268233, 1.002683576702664, 1.0017351323922332, 1.000765209396636, 0.9896606829571001, 0.01111978295457416, 1.0020095752964635, 0.030840462712070398, 0.9714745754302175, 1.0011649921107781, 1.00082570818658, 0.16979250629140827, 0.21830465094609633, 0.6144871656260489, 1.0007412508586886, 1.0013408649536957, 1.0012931940891583, 1.0006216273752002, 0.261472827219754, 0.7408396771226363, 1.0025822737287595, 0.9996976582850869], \"Term\": [\"\\u4e00\\u540d\", \"\\u4e00\\u540d\", \"\\u4e00\\u540d\", \"\\u4e00\\u7c92\", \"\\u4e00\\u8d77\", \"\\u4e00\\u8d77\", \"\\u4e00\\u8d77\", \"\\u4e00\\u8d77\", \"\\u4e00\\u8d77\", \"\\u4e0d\\u96c5\\u7247\", \"\\u4e2d\\u570b\", \"\\u4e2d\\u570b\", \"\\u4e2d\\u570b\", \"\\u4e2d\\u570b\", \"\\u4e3b\\u59d4\", \"\\u4e3b\\u5e2d\", \"\\u4e3b\\u5e2d\", \"\\u4e8b\\u4ef6\", \"\\u4e8b\\u4ef6\", \"\\u4e8b\\u4ef6\", \"\\u4eba\\u4e8b\", \"\\u4eba\\u751f\", \"\\u4eca\\u5929\", \"\\u4eca\\u5929\", \"\\u4eca\\u5929\", \"\\u4eca\\u5929\", \"\\u4eca\\u5929\", \"\\u4ee5\\u8272\\u5217\", \"\\u4f0a\\u6717\", \"\\u4fee\\u6cd5\", \"\\u5077\\u62cd\", \"\\u5104\\u7f8e\\u5143\", \"\\u5152\\u5b50\", \"\\u5152\\u5c11\", \"\\u5167\\u95a3\", \"\\u5167\\u95a3\", \"\\u5168\\u58d8\\u6253\", \"\\u5168\\u7403\", \"\\u5168\\u7403\", \"\\u5169\\u4eba\", \"\\u5169\\u4eba\", \"\\u5169\\u4eba\", \"\\u5169\\u5cb8\", \"\\u516c\\u53f8\", \"\\u516c\\u53f8\", \"\\u516c\\u53f8\", \"\\u516c\\u53f8\", \"\\u51fa\\u4efb\", \"\\u51fa\\u73fe\", \"\\u51fa\\u73fe\", \"\\u5206\\u4eab\", \"\\u5206\\u624b\", \"\\u525d\\u524a\", \"\\u5275\\u610f\", \"\\u5289\\u4e16\\u82b3\", \"\\u52a0\\u5dde\", \"\\u5340\\u57df\", \"\\u5353\\u69ae\\u6cf0\", \"\\u5357\\u6d77\", \"\\u535a\\u96c5\", \"\\u539f\\u4f86\", \"\\u539f\\u672c\", \"\\u539f\\u672c\", \"\\u53d7\\u5bb3\\u8005\", \"\\u53d7\\u5bb3\\u8005\", \"\\u53ea\\u80fd\", \"\\u53f0\\u5317\", \"\\u53f0\\u5317\", \"\\u53f0\\u5317\", \"\\u53f0\\u6d77\", \"\\u53f0\\u7063\", \"\\u53f0\\u7063\", \"\\u53f0\\u7063\", \"\\u53f0\\u7063\", \"\\u540d\\u55ae\", \"\\u540d\\u55ae\", \"\\u540d\\u55ae\", \"\\u5433\\u5353\\u6e90\", \"\\u5433\\u5d22\", \"\\u5438\\u5f15\", \"\\u544a\\u5225\\u5f0f\", \"\\u548c\\u5e73\", \"\\u554f\\u984c\", \"\\u554f\\u984c\", \"\\u554f\\u984c\", \"\\u554f\\u984c\", \"\\u5566\\u5566\\u968a\", \"\\u559c\\u6b61\", \"\\u570b\\u5f90\\u5de7\", \"\\u570b\\u6c11\\u9ee8\", \"\\u570b\\u9632\\u90e8\\u9577\", \"\\u5730\\u5340\", \"\\u5730\\u9707\", \"\\u5730\\u9707\", \"\\u5730\\u9707\", \"\\u5831\\u5c0e\", \"\\u5831\\u5c0e\", \"\\u5831\\u5c0e\", \"\\u5927\\u59d1\", \"\\u5927\\u8c37\", \"\\u5927\\u9678\", \"\\u5927\\u9678\", \"\\u5927\\u9678\", \"\\u5967\\u904b\", \"\\u5abd\\u5abd\", \"\\u5abd\\u5abd\", \"\\u5b5f\\u803f\\u5982\", \"\\u5b6b\\u85dd\\u73cd\", \"\\u5b89\\u5168\", \"\\u5b89\\u5168\", \"\\u5b89\\u5168\", \"\\u5b89\\u5168\", \"\\u5bb6\\u4eba\", \"\\u5bb6\\u4eba\", \"\\u5bb6\\u66b4\", \"\\u5c0d\\u6b64\", \"\\u5c0d\\u6b64\", \"\\u5c0d\\u6b64\", \"\\u5c0d\\u6b64\", \"\\u5c0d\\u6b64\", \"\\u5c0f\\u59d0\", \"\\u5c0f\\u5b69\", \"\\u5c0f\\u5b69\", \"\\u5c11\\u5973\", \"\\u5c71\\u8c6c\", \"\\u5de5\\u4f5c\", \"\\u5de5\\u4f5c\", \"\\u5de5\\u4f5c\", \"\\u5de5\\u4f5c\", \"\\u5de5\\u4f5c\\u4eba\\u54e1\", \"\\u5de8\\u86cb\", \"\\u5df2\\u7d93\", \"\\u5df2\\u7d93\", \"\\u5df2\\u7d93\", \"\\u5df2\\u7d93\", \"\\u5df4\\u9ece\", \"\\u5e02\\u9577\", \"\\u5e02\\u9577\", \"\\u5e0c\\u671b\", \"\\u5e0c\\u671b\", \"\\u5e0c\\u671b\", \"\\u5e0c\\u671b\", \"\\u5e0c\\u671b\", \"\\u5ee3\\u544a\", \"\\u5f35\\u5c0f\\u71d5\", \"\\u5f37\\u9707\", \"\\u5f71\\u50cf\", \"\\u5f71\\u50cf\", \"\\u5f71\\u7247\", \"\\u5f71\\u7247\", \"\\u5f71\\u7247\", \"\\u5f71\\u97ff\", \"\\u5f71\\u97ff\", \"\\u5f71\\u97ff\", \"\\u5f8b\\u5e2b\", \"\\u5f90\\u5de7\", \"\\u6027\\u4fb5\", \"\\u6027\\u9a37\\u64fe\", \"\\u611f\\u5230\", \"\\u611f\\u5230\", \"\\u611f\\u53d7\", \"\\u61c9\\u63f4\", \"\\u6210\\u70ba\", \"\\u6210\\u70ba\", \"\\u6210\\u70ba\", \"\\u6210\\u70ba\", \"\\u6210\\u70ba\", \"\\u6295\\u624b\", \"\\u62dc\\u767b\", \"\\u6301\\u6709\", \"\\u6301\\u6709\", \"\\u6301\\u7e8c\", \"\\u6301\\u7e8c\", \"\\u6301\\u7e8c\", \"\\u6307\\u51fa\", \"\\u6307\\u51fa\", \"\\u6307\\u51fa\", \"\\u6307\\u51fa\", \"\\u6307\\u63a7\", \"\\u6307\\u63a7\", \"\\u6350\\u6b3e\", \"\\u6388\\u6b0a\", \"\\u638c\\u63e1\", \"\\u638c\\u63e1\", \"\\u638c\\u63e1\", \"\\u638c\\u63e1\", \"\\u63a5\\u4efb\", \"\\u63d0\\u544a\", \"\\u653b\\u64ca\", \"\\u653b\\u64ca\", \"\\u653f\\u5e9c\", \"\\u653f\\u5e9c\", \"\\u653f\\u5e9c\", \"\\u653f\\u6cbb\", \"\\u653f\\u6cbb\", \"\\u6551\\u63f4\", \"\\u6559\\u7df4\", \"\\u65c5\\u5ba2\", \"\\u65e5\\u5713\", \"\\u65e5\\u672c\", \"\\u65e5\\u672c\", \"\\u65e5\\u672c\", \"\\u660e\\u5fd7\", \"\\u6642\\u523b\\u8868\", \"\\u6642\\u9593\", \"\\u6642\\u9593\", \"\\u6642\\u9593\", \"\\u6642\\u9593\", \"\\u665a\\u4e0a\", \"\\u66b4\\u96e8\", \"\\u6700\\u5927\", \"\\u6700\\u5927\", \"\\u6700\\u5927\", \"\\u6700\\u5f8c\", \"\\u6700\\u5f8c\", \"\\u6700\\u5f8c\", \"\\u6700\\u5f8c\", \"\\u6700\\u65b0\", \"\\u6700\\u65b0\", \"\\u6700\\u65b0\", \"\\u670b\\u53cb\", \"\\u672a\\u4f86\", \"\\u672a\\u4f86\", \"\\u672a\\u4f86\", \"\\u672a\\u4f86\", \"\\u672a\\u6210\\u5e74\", \"\\u6731\\u8ed2\\u6d0b\", \"\\u674e\\u667a\\u51f1\", \"\\u675c\\u62dc\", \"\\u6771\\u68ee\", \"\\u6771\\u68ee\", \"\\u6a02\\u5929\", \"\\u6aa2\\u5bdf\\u5b98\", \"\\u6aa2\\u5bdf\\u5b98\", \"\\u6b4c\\u624b\", \"\\u6b4c\\u8ff7\", \"\\u6bd4\\u8cfd\", \"\\u6c11\\u773e\", \"\\u6c11\\u773e\", \"\\u6c11\\u773e\", \"\\u6c11\\u9032\\u9ee8\", \"\\u6c34\\u539f\", \"\\u6c92\\u60f3\\u5230\", \"\\u6c92\\u60f3\\u5230\", \"\\u6d0b\\u7247\", \"\\u6d17\\u9322\", \"\\u6d77\\u4e0a\", \"\\u6eab\\u6717\\u6771\", \"\\u6f14\\u51fa\", \"\\u6f14\\u5531\\u6703\", \"\\u6f14\\u5531\\u6703\", \"\\u6f14\\u85dd\\u5708\", \"\\u6f14\\u85dd\\u5708\", \"\\u6fb3\\u6d32\", \"\\u707d\\u60c5\", \"\\u7121\\u4eba\\u6a5f\", \"\\u7167\\u7247\", \"\\u7167\\u7247\", \"\\u7206\\u51fa\", \"\\u7206\\u51fa\", \"\\u7206\\u6599\", \"\\u7206\\u6599\", \"\\u7238\\u7238\", \"\\u7279\\u65af\\u62c9\", \"\\u7372\\u5f97\", \"\\u7372\\u5f97\", \"\\u7372\\u5f97\", \"\\u7372\\u5f97\", \"\\u7372\\u5f97\", \"\\u73fe\\u5728\", \"\\u73fe\\u5728\", \"\\u73fe\\u5728\", \"\\u73fe\\u5728\", \"\\u73fe\\u5834\", \"\\u73fe\\u5834\", \"\\u7403\\u54e1\", \"\\u7403\\u5718\", \"\\u7403\\u5834\", \"\\u7403\\u8ff7\", \"\\u7403\\u968a\", \"\\u751f\\u6d3b\", \"\\u7537\\u53cb\", \"\\u7537\\u53cb\", \"\\u7537\\u5b50\", \"\\u7537\\u661f\", \"\\u7576\\u5730\", \"\\u7576\\u5730\", \"\\u7576\\u5c40\", \"\\u7576\\u6642\", \"\\u7576\\u6642\", \"\\u7576\\u6642\", \"\\u767c\\u5c04\", \"\\u767c\\u6587\", \"\\u767c\\u6587\", \"\\u767c\\u6587\", \"\\u767c\\u73fe\", \"\\u767c\\u73fe\", \"\\u767c\\u73fe\", \"\\u767c\\u751f\", \"\\u767c\\u751f\", \"\\u767c\\u751f\", \"\\u767c\\u751f\", \"\\u767c\\u8072\", \"\\u767c\\u8072\", \"\\u767c\\u8a00\\u4eba\", \"\\u767c\\u8a00\\u4eba\", \"\\u767c\\u8a00\\u4eba\", \"\\u76ee\\u524d\", \"\\u76ee\\u524d\", \"\\u76ee\\u524d\", \"\\u76ee\\u524d\", \"\\u76f4\\u5347\\u6a5f\", \"\\u76f4\\u64ad\", \"\\u76f4\\u64ad\", \"\\u76f8\\u7576\", \"\\u76f8\\u7576\", \"\\u76f8\\u7576\", \"\\u770b\\u5230\", \"\\u770b\\u5230\", \"\\u770b\\u5230\", \"\\u770b\\u6771\\u68ee\", \"\\u771f\\u7684\", \"\\u771f\\u7684\", \"\\u771f\\u7684\", \"\\u77e5\\u9053\", \"\\u77e5\\u9053\", \"\\u77e5\\u9053\", \"\\u79d8\\u66f8\\u9577\", \"\\u7a81\\u7136\", \"\\u7a81\\u7136\", \"\\u7acb\\u59d4\", \"\\u7acb\\u59d4\", \"\\u7bc0\\u76ee\", \"\\u7bc0\\u76ee\", \"\\u7c89\\u7d72\", \"\\u7c89\\u7d72\", \"\\u7d44\\u7e54\", \"\\u7d50\\u5a5a\", \"\\u7d71\\u795e\", \"\\u7d93\\u6b77\", \"\\u7da0\\u71df\", \"\\u7db2\\u53cb\", \"\\u7db2\\u53cb\", \"\\u7e3d\\u7d71\", \"\\u7e3d\\u7d71\", \"\\u7f8e\\u570b\", \"\\u7f8e\\u570b\", \"\\u7fd2\\u8fd1\\u5e73\", \"\\u7fd4\\u5e73\", \"\\u806f\\u76df\", \"\\u806f\\u76df\", \"\\u806f\\u76df\", \"\\u8077\\u68d2\", \"\\u81c9\\u66f8\", \"\\u81c9\\u66f8\", \"\\u821e\\u53f0\", \"\\u821e\\u53f0\", \"\\u82b1\\u84ee\", \"\\u82b1\\u84ee\", \"\\u82f1\\u570b\", \"\\u82f1\\u570b\", \"\\u842c\\u5b89\", \"\\u85cd\\u71df\", \"\\u85dd\\u4eba\", \"\\u85dd\\u4eba\", \"\\u85dd\\u4eba\", \"\\u8655\\u5206\", \"\\u884c\\u653f\\u9662\", \"\\u884c\\u653f\\u9662\\u9577\", \"\\u884c\\u70ba\", \"\\u884c\\u70ba\", \"\\u884c\\u70ba\", \"\\u8868\\u6c7a\", \"\\u8868\\u6f14\", \"\\u8868\\u6f14\", \"\\u8868\\u793a\", \"\\u8868\\u793a\", \"\\u8868\\u793a\", \"\\u8868\\u793a\", \"\\u8868\\u793a\", \"\\u88c1\\u54e1\", \"\\u898f\\u6a21\", \"\\u89ba\\u5f97\", \"\\u89ba\\u5f97\", \"\\u8a31\\u591a\", \"\\u8a31\\u591a\", \"\\u8a31\\u591a\", \"\\u8a50\\u9a19\", \"\\u8a50\\u9a19\", \"\\u8a8d\\u70ba\", \"\\u8a8d\\u70ba\", \"\\u8a8d\\u70ba\", \"\\u8a8d\\u70ba\", \"\\u8a8d\\u70ba\", \"\\u8b66\\u5831\", \"\\u8b66\\u65b9\", \"\\u8b70\\u54e1\", \"\\u8b70\\u54e1\", \"\\u8b8a\\u6210\", \"\\u8cf4\\u6e05\\u5fb7\", \"\\u8cfc\\u8cb7\", \"\\u8cfc\\u8cb7\", \"\\u8cfd\\u4e8b\", \"\\u8d77\\u8a34\", \"\\u8d85\\u904e\", \"\\u8d85\\u904e\", \"\\u8d85\\u904e\", \"\\u8ecd\\u4e8b\", \"\\u8f49\\u8f09\", \"\\u900f\\u9732\", \"\\u900f\\u9732\", \"\\u900f\\u9732\", \"\\u9019\\u540d\", \"\\u9020\\u6210\", \"\\u9020\\u6210\", \"\\u9020\\u6210\", \"\\u9032\\u884c\", \"\\u9032\\u884c\", \"\\u9032\\u884c\", \"\\u9032\\u884c\", \"\\u9032\\u884c\", \"\\u9047\\u5230\", \"\\u904a\\u5ba2\", \"\\u904e\\u53bb\", \"\\u904e\\u53bb\", \"\\u904e\\u53bb\", \"\\u9053\\u5947\", \"\\u9053\\u6b49\", \"\\u9053\\u6b49\", \"\\u9078\\u624b\", \"\\u9078\\u8209\", \"\\u90e8\\u9577\", \"\\u912d\\u9e97\\u541b\", \"\\u919c\\u805e\", \"\\u91ab\\u9662\", \"\\u91ab\\u9662\", \"\\u958b\\u5531\", \"\\u9662\\u9577\", \"\\u9662\\u9577\", \"\\u96e2\\u5a5a\", \"\\u96e2\\u958b\", \"\\u97d3\\u570b\", \"\\u97d3\\u570b\", \"\\u97d3\\u570b\", \"\\u97f3\\u6a02\", \"\\u98a8\\u6ce2\", \"\\u98db\\u5f48\", \"\\u9910\\u5ef3\", \"\\u9999\\u6e2f\", \"\\u9999\\u6e2f\", \"\\u99ac\\u82f1\\u4e5d\", \"\\u9ec3\\u5b50\\u4f7c\"]}, \"R\": 30, \"lambda.step\": 0.01, \"plot.opts\": {\"xlab\": \"PC1\", \"ylab\": \"PC2\"}, \"topic.order\": [5, 2, 4, 3, 1]};\n",
       "\n",
       "function LDAvis_load_lib(url, callback){\n",
       "  var s = document.createElement('script');\n",
       "  s.src = url;\n",
       "  s.async = true;\n",
       "  s.onreadystatechange = s.onload = callback;\n",
       "  s.onerror = function(){console.warn(\"failed to load library \" + url);};\n",
       "  document.getElementsByTagName(\"head\")[0].appendChild(s);\n",
       "}\n",
       "\n",
       "if(typeof(LDAvis) !== \"undefined\"){\n",
       "   // already loaded: just create the visualization\n",
       "   !function(LDAvis){\n",
       "       new LDAvis(\"#\" + \"ldavis_el131682142494932808971023055\", ldavis_el131682142494932808971023055_data);\n",
       "   }(LDAvis);\n",
       "}else if(typeof define === \"function\" && define.amd){\n",
       "   // require.js is available: use it to load d3/LDAvis\n",
       "   require.config({paths: {d3: \"https://d3js.org/d3.v5\"}});\n",
       "   require([\"d3\"], function(d3){\n",
       "      window.d3 = d3;\n",
       "      LDAvis_load_lib(\"https://cdn.jsdelivr.net/gh/bmabey/pyLDAvis@3.3.1/pyLDAvis/js/ldavis.v3.0.0.js\", function(){\n",
       "        new LDAvis(\"#\" + \"ldavis_el131682142494932808971023055\", ldavis_el131682142494932808971023055_data);\n",
       "      });\n",
       "    });\n",
       "}else{\n",
       "    // require.js not available: dynamically load d3 & LDAvis\n",
       "    LDAvis_load_lib(\"https://d3js.org/d3.v5.js\", function(){\n",
       "         LDAvis_load_lib(\"https://cdn.jsdelivr.net/gh/bmabey/pyLDAvis@3.3.1/pyLDAvis/js/ldavis.v3.0.0.js\", function(){\n",
       "                 new LDAvis(\"#\" + \"ldavis_el131682142494932808971023055\", ldavis_el131682142494932808971023055_data);\n",
       "            })\n",
       "         });\n",
       "}\n",
       "</script>"
      ],
      "text/plain": [
       "PreparedData(topic_coordinates=              x         y  topics  cluster       Freq\n",
       "topic                                                \n",
       "4      0.130236  0.217842       1        1  33.887300\n",
       "1      0.050235  0.108567       2        1  22.622729\n",
       "3     -0.078393  0.069599       3        1  22.232686\n",
       "2      0.213142 -0.289950       4        1  11.015418\n",
       "0     -0.315221 -0.106058       5        1  10.241867, topic_info=     Term         Freq        Total Category  logprob  loglift\n",
       "2299  黃子佼  1019.000000  1019.000000  Default  30.0000  30.0000\n",
       "1982   立委   338.000000   338.000000  Default  29.0000  29.0000\n",
       "3601   徐巧   303.000000   303.000000  Default  28.0000  28.0000\n",
       "48     台灣   763.000000   763.000000  Default  27.0000  27.0000\n",
       "190    美國   556.000000   556.000000  Default  26.0000  26.0000\n",
       "...   ...          ...          ...      ...      ...      ...\n",
       "103    成為    84.721707   182.574042   Topic5  -5.1346   1.5109\n",
       "426    日本   100.667446   433.118152   Topic5  -4.9622   0.8195\n",
       "190    美國    99.670837   556.888451   Topic5  -4.9721   0.5582\n",
       "159    獲得    61.799706   113.735704   Topic5  -5.4501   1.6687\n",
       "375    最後    61.799706   246.539212   Topic5  -5.4501   0.8951\n",
       "\n",
       "[301 rows x 6 columns], token_table=      Topic      Freq Term\n",
       "term                      \n",
       "440       1  0.769880   一名\n",
       "440       2  0.166870   一名\n",
       "440       3  0.064473   一名\n",
       "3682      5  1.002399   一粒\n",
       "3         1  0.695560   一起\n",
       "...     ...       ...  ...\n",
       "2036      1  1.000622   餐廳\n",
       "1011      1  0.261473   香港\n",
       "1011      5  0.740840   香港\n",
       "5173      4  1.002582  馬英九\n",
       "2299      2  0.999698  黃子佼\n",
       "\n",
       "[452 rows x 3 columns], R=30, lambda_step=0.01, plot_opts={'xlab': 'PC1', 'ylab': 'PC2'}, topic_order=[5, 2, 4, 3, 1])"
      ]
     },
     "execution_count": 59,
     "metadata": {},
     "output_type": "execute_result"
    }
   ],
   "source": [
    "# 整理／顯示主題模型結果\n",
    "n_top_words = 10\n",
    "topic_word = model.topic_word_\n",
    "\n",
    "for i, topic_dist in enumerate(topic_word):\n",
    "    topic_words = np.array(vocab)[np.argsort(topic_dist)][: -(n_top_words + 1) : -1]\n",
    "    print(\"Topic {}: {}\".format(i, \" \".join(topic_words)))\n",
    "    \n",
    "\n",
    "doc_topic = model.doc_topic_\n",
    "term_freq = tuple(dictionary.cfs.values())\n",
    "doc_len = [sum(v for k, v in doc) for doc in corpus]\n",
    "\n",
    "## LDAvis\n",
    "pyLDAvis.enable_notebook()\n",
    "p = pyLDAvis.prepare(topic_word, doc_topic, doc_len, vocab = vocab, term_frequency = term_freq)\n",
    "p"
   ]
  },
  {
   "cell_type": "code",
   "execution_count": 84,
   "metadata": {},
   "outputs": [],
   "source": [
    "seed_topic_list = [\n",
    "    [\"大谷\", \"職棒\", \"聯盟\", \"先發\", \"道奇\"],\n",
    "    ['太陽', \"職籃\"],\n",
    "    [\"藝人\", \"音樂\", \"主持人\", \"演員\", \"社群\", \"演出\", \"演藝圈\", \"演唱會\"],\n",
    "    [\"中國\", \"兩岸\", \"習近平\", \"政府\", \"外交\"],\n",
    "    [\"國際\",\"攻擊\",\"航班\",\"戰略\"],\n",
    "]\n",
    "\n",
    "seed_topics = {}\n",
    "for t_id, st in enumerate(seed_topic_list):\n",
    "    for word in st:\n",
    "        seed_topics[word2id[word]] = t_id"
   ]
  },
  {
   "cell_type": "code",
   "execution_count": 85,
   "metadata": {},
   "outputs": [
    {
     "name": "stderr",
     "output_type": "stream",
     "text": [
      "2024-05-06 21:36:27,359 : INFO : n_documents: 1134\n",
      "2024-05-06 21:36:27,360 : INFO : vocab_size: 5409\n",
      "2024-05-06 21:36:27,361 : INFO : n_words: 140464\n",
      "2024-05-06 21:36:27,361 : INFO : n_topics: 6\n",
      "2024-05-06 21:36:27,361 : INFO : n_iter: 100\n",
      "2024-05-06 21:36:27,667 : INFO : <0> log likelihood: -1494875\n",
      "2024-05-06 21:36:27,813 : INFO : <20> log likelihood: -1166004\n",
      "2024-05-06 21:36:27,959 : INFO : <40> log likelihood: -1147697\n",
      "2024-05-06 21:36:28,104 : INFO : <60> log likelihood: -1139982\n",
      "2024-05-06 21:36:28,250 : INFO : <80> log likelihood: -1135886\n",
      "2024-05-06 21:36:28,392 : INFO : <99> log likelihood: -1132788\n"
     ]
    },
    {
     "data": {
      "text/plain": [
       "<guidedlda.guidedlda.GuidedLDA at 0x1f2d614e3c8>"
      ]
     },
     "execution_count": 85,
     "metadata": {},
     "output_type": "execute_result"
    }
   ],
   "source": [
    "model = guidedlda.GuidedLDA(n_topics=6, n_iter=100, random_state=7, refresh=20)\n",
    "model.fit(X, seed_topics=seed_topics, seed_confidence=1)"
   ]
  },
  {
   "cell_type": "code",
   "execution_count": 86,
   "metadata": {},
   "outputs": [
    {
     "name": "stdout",
     "output_type": "stream",
     "text": [
      "Topic 0: 台灣 大谷 吳卓源 粉絲 奧運 比賽 朱軒洋 韓國 東森 日本\n",
      "Topic 1: 報導 一名 表示 發現 發生 當時 警方 公司 大陸 男子\n",
      "Topic 2: 黃子佼 影片 未成年 藝人 表示 網友 統神 少女 小姐 演藝圈\n",
      "Topic 3: 台灣 中國 總統 立委 美國 主委 民進黨 賴清德 政府 部長\n",
      "Topic 4: 美國 地震 以色列 伊朗 日本 發生 表示 民眾 台灣 攻擊\n",
      "Topic 5: 徐巧 真的 網友 表示 希望 看到 覺得 許多 兩人 現在\n"
     ]
    },
    {
     "name": "stderr",
     "output_type": "stream",
     "text": [
      "C:\\Users\\giyak\\AppData\\Roaming\\Python\\Python37\\site-packages\\pyLDAvis\\_prepare.py:247: FutureWarning: In a future version of pandas all arguments of DataFrame.drop except for the argument 'labels' will be keyword-only\n",
      "  by='saliency', ascending=False).head(R).drop('saliency', 1)\n"
     ]
    },
    {
     "data": {
      "text/html": [
       "\n",
       "<link rel=\"stylesheet\" type=\"text/css\" href=\"https://cdn.jsdelivr.net/gh/bmabey/pyLDAvis@3.3.1/pyLDAvis/js/ldavis.v1.0.0.css\">\n",
       "\n",
       "\n",
       "<div id=\"ldavis_el1316821424878259924431883740\"></div>\n",
       "<script type=\"text/javascript\">\n",
       "\n",
       "var ldavis_el1316821424878259924431883740_data = {\"mdsDat\": {\"x\": [-0.03357860346719061, -0.19508833753376706, -0.22244001162889562, 0.09008096153773479, 0.09750320312853197, 0.2635227879635865], \"y\": [-0.18945546651348427, 0.20160600170629303, -0.13342055883245926, 0.23400795657738407, -0.0718024427034464, -0.04093549023428733], \"topics\": [1, 2, 3, 4, 5, 6], \"cluster\": [1, 1, 1, 1, 1, 1], \"Freq\": [26.621270184736982, 18.961226482207554, 17.35313684357603, 13.771441168399226, 13.531514267424027, 9.761411053656184]}, \"tinfo\": {\"Term\": [\"\\u9ec3\\u5b50\\u4f7c\", \"\\u4ee5\\u8272\\u5217\", \"\\u7f8e\\u570b\", \"\\u5730\\u9707\", \"\\u53f0\\u7063\", \"\\u4f0a\\u6717\", \"\\u4e2d\\u570b\", \"\\u672a\\u6210\\u5e74\", \"\\u767c\\u751f\", \"\\u65e5\\u672c\", \"\\u7e3d\\u7d71\", \"\\u5831\\u5c0e\", \"\\u85dd\\u4eba\", \"\\u5f71\\u7247\", \"\\u5f90\\u5de7\", \"\\u7c89\\u7d72\", \"\\u7db2\\u53cb\", \"\\u5927\\u8c37\", \"\\u4e00\\u540d\", \"\\u6c11\\u773e\", \"\\u7d71\\u795e\", \"\\u8b66\\u65b9\", \"\\u5c11\\u5973\", \"\\u7acb\\u59d4\", \"\\u5c0f\\u59d0\", \"\\u767c\\u73fe\", \"\\u5433\\u5353\\u6e90\", \"\\u76f4\\u64ad\", \"\\u7537\\u5b50\", \"\\u7576\\u5730\", \"\\u5f90\\u5de7\", \"\\u8001\\u516c\", \"\\u5927\\u59d1\", \"\\u5c71\\u8c6c\", \"\\u842c\\u5b89\", \"\\u7d50\\u5a5a\", \"\\u559c\\u6b61\", \"\\u5438\\u5f15\", \"\\u5766\\u8a00\", \"\\u660e\\u5fd7\", \"\\u8a50\\u9a19\", \"\\u9910\\u5ef3\", \"\\u544a\\u5225\\u5f0f\", \"\\u7d93\\u6b77\", \"\\u89c0\\u773e\", \"\\u597d\\u597d\", \"\\u9047\\u5230\", \"\\u4eba\\u751f\", \"\\u597d\\u53cb\", \"\\u611a\\u4eba\\u7bc0\", \"\\u7238\\u7238\", \"\\u4eba\\u6c23\", \"\\u53d7\\u8a2a\", \"\\u592b\\u59bb\", \"\\u7a7f\\u8457\", \"\\u8eab\\u6750\", \"\\u7576\\u5e74\", \"\\u59ca\\u59ca\", \"\\u751f\\u524d\", \"\\u570b\\u5f90\\u5de7\", \"\\u670b\\u53cb\", \"\\u60f3\\u8981\", \"\\u539f\\u4f86\", \"\\u4e00\\u4f4d\", \"\\u5169\\u4eba\", \"\\u5408\\u7167\", \"\\u5206\\u4eab\", \"\\u89ba\\u5f97\", \"\\u8a31\\u591a\", \"\\u4e00\\u5b9a\", \"\\u7167\\u7247\", \"\\u771f\\u7684\", \"\\u770b\\u5230\", \"\\u5ee3\\u544a\", \"\\u5e0c\\u671b\", \"\\u900f\\u9732\", \"\\u4e8b\\u60c5\", \"\\u611f\\u89ba\", \"\\u751f\\u6d3b\", \"\\u7c89\\u7d72\", \"\\u73fe\\u5728\", \"\\u7db2\\u53cb\", \"\\u5bb6\\u4eba\", \"\\u77e5\\u9053\", \"\\u4e00\\u8d77\", \"\\u5973\\u5152\", \"\\u8868\\u793a\", \"\\u76f8\\u7576\", \"\\u6642\\u9593\", \"\\u793e\\u7fa4\", \"\\u7acb\\u59d4\", \"\\u767c\\u6587\", \"\\u5e02\\u9577\", \"\\u4e00\\u76f4\", \"\\u8a8d\\u70ba\", \"\\u4eca\\u5929\", \"\\u554f\\u984c\", \"\\u7537\\u53cb\", \"\\u91ab\\u9662\", \"\\u6cbb\\u7642\", \"\\u91ab\\u751f\", \"\\u7236\\u89aa\", \"\\u7d9c\\u5408\", \"\\u627e\\u5230\", \"\\u901a\\u5831\", \"\\u6709\\u540d\", \"\\u6aa2\\u67e5\", \"\\u9280\\u884c\", \"\\u5bb6\\u4e2d\", \"\\u5de5\\u7a0b\\u5e2b\", \"\\u5973\\u65b9\", \"\\u624b\\u8853\", \"\\u4ecb\\u5165\", \"\\u82b3\\u8a9e\", \"\\u5bb6\\u9577\", \"\\u548c\\u5f26\", \"\\u5acc\\u72af\", \"\\u653e\\u68c4\", \"\\u8d95\\u7dca\", \"\\u6d88\\u8cbb\", \"\\u99ac\\u4f86\\u897f\\u4e9e\", \"\\u4e00\\u9593\", \"\\u6df7\\u4e82\", \"\\u672c\\u520a\", \"\\u7533\\u8acb\", \"\\u8a72\\u540d\", \"\\u6b7b\\u8005\", \"\\u8b66\\u65b9\", \"\\u7537\\u5b50\", \"\\u4e00\\u540d\", \"\\u9644\\u8fd1\", \"\\u9019\\u540d\", \"\\u5efa\\u8b70\", \"\\u8eab\\u5206\", \"\\u8abf\\u67e5\", \"\\u54e1\\u5de5\", \"\\u53d7\\u50b7\", \"\\u5de5\\u4f5c\\u4eba\\u54e1\", \"\\u5831\\u5c0e\", \"\\u6b63\\u5e38\", \"\\u5973\\u5b50\", \"\\u53f0\\u5e63\", \"\\u767c\\u73fe\", \"\\u5927\\u9678\", \"\\u7576\\u6642\", \"\\u8b49\\u64da\", \"\\u5bb6\\u66b4\", \"\\u516c\\u53f8\", \"\\u5b78\\u751f\", \"\\u610f\\u5916\", \"\\u73fe\\u5834\", \"\\u5b69\\u5b50\", \"\\u767c\\u751f\", \"\\u9031\\u520a\", \"\\u5c0e\\u81f4\", \"\\u6709\\u4eba\", \"\\u884c\\u70ba\", \"\\u6307\\u51fa\", \"\\u4e8b\\u4ef6\", \"\\u60c5\\u6cc1\", \"\\u9032\\u884c\", \"\\u5df2\\u7d93\", \"\\u8868\\u793a\", \"\\u842c\\u5143\", \"\\u5de5\\u4f5c\", \"\\u76f4\\u63a5\", \"\\u76ee\\u524d\", \"\\u6c11\\u773e\", \"\\u4e2d\\u570b\", \"\\u51fa\\u73fe\", \"\\u76f8\\u95dc\", \"\\u9ec3\\u5b50\\u4f7c\", \"\\u672a\\u6210\\u5e74\", \"\\u7d71\\u795e\", \"\\u5c11\\u5973\", \"\\u5c0f\\u59d0\", \"\\u5077\\u62cd\", \"\\u6027\\u4fb5\", \"\\u5b5f\\u803f\\u5982\", \"\\u5152\\u5c11\", \"\\u8655\\u5206\", \"\\u5f35\\u5c0f\\u71d5\", \"\\u6027\\u9a37\\u64fe\", \"\\u535a\\u96c5\", \"\\u4fee\\u6cd5\", \"\\u919c\\u805e\", \"\\u525d\\u524a\", \"\\u5275\\u610f\", \"\\u5433\\u5d22\", \"\\u4e0d\\u96c5\\u7247\", \"\\u64bb\\u4f10\", \"\\u5433\\u5b97\\u61b2\", \"\\u522a\\u9664\", \"\\u5641\\u5fc3\", \"\\u6aa2\\u8b66\", \"\\u79c1\\u623f\", \"\\u6703\\u54e1\", \"\\u7247\\u6bb5\", \"\\u6027\\u9a37\", \"\\u845b\\u65af\\u9f4a\", \"\\u5f35\\u5609\\u822a\", \"\\u6301\\u6709\", \"\\u6f14\\u85dd\\u5708\", \"\\u6aa2\\u5bdf\\u5b98\", \"\\u8d77\\u8a34\", \"\\u5f71\\u50cf\", \"\\u7559\\u8a00\", \"\\u85dd\\u4eba\", \"\\u53d7\\u5bb3\\u8005\", \"\\u5f71\\u7247\", \"\\u9053\\u6b49\", \"\\u5f8b\\u5e2b\", \"\\u98a8\\u6ce2\", \"\\u8cfc\\u8cb7\", \"\\u767c\\u8072\", \"\\u62cd\\u651d\", \"\\u7db2\\u7d05\", \"\\u7db2\\u53cb\", \"\\u72af\\u7f6a\", \"\\u7bc0\\u76ee\", \"\\u767c\\u6587\", \"\\u8868\\u793a\", \"\\u7206\\u6599\", \"\\u81c9\\u66f8\", \"\\u76f4\\u64ad\", \"\\u4e8b\\u4ef6\", \"\\u77e5\\u9053\", \"\\u5c0d\\u6b64\", \"\\u8a8d\\u70ba\", \"\\u4ee5\\u8272\\u5217\", \"\\u4f0a\\u6717\", \"\\u7121\\u4eba\\u6a5f\", \"\\u5730\\u5340\", \"\\u898f\\u6a21\", \"\\u98db\\u5f48\", \"\\u5f37\\u9707\", \"\\u707d\\u60c5\", \"\\u6fb3\\u6d32\", \"\\u7576\\u5c40\", \"\\u52a0\\u5dde\", \"\\u76f4\\u5347\\u6a5f\", \"\\u767c\\u5c04\", \"\\u65c5\\u5ba2\", \"\\u66b4\\u96e8\", \"\\u8b66\\u5831\", \"\\u6551\\u63f4\", \"\\u675c\\u62dc\", \"\\u6d77\\u4e0a\", \"\\u6d77\\u562f\", \"\\u641c\\u6551\", \"\\u822a\\u73ed\", \"\\u4fc4\\u7f85\\u65af\", \"\\u5df4\\u52d2\\u65af\\u5766\", \"\\u6d2a\\u6c34\", \"\\u806f\\u5408\\u570b\", \"\\u5404\\u5730\", \"\\u9632\\u885b\", \"\\u4e2d\\u6771\", \"\\u53d7\\u56f0\", \"\\u5730\\u9707\", \"\\u904a\\u5ba2\", \"\\u653b\\u64ca\", \"\\u5168\\u7403\", \"\\u65e5\\u672c\", \"\\u7f8e\\u570b\", \"\\u6c11\\u773e\", \"\\u767c\\u751f\", \"\\u7576\\u5730\", \"\\u6a5f\\u5834\", \"\\u4f4d\\u65bc\", \"\\u8d85\\u904e\", \"\\u82b1\\u84ee\", \"\\u5b89\\u5168\", \"\\u5f71\\u97ff\", \"\\u76ee\\u524d\", \"\\u6642\\u9593\", \"\\u8868\\u793a\", \"\\u53f0\\u7063\", \"\\u5df2\\u7d93\", \"\\u5831\\u5c0e\", \"\\u9020\\u6210\", \"\\u51fa\\u73fe\", \"\\u53d7\\u5230\", \"\\u8cf4\\u6e05\\u5fb7\", \"\\u90e8\\u9577\", \"\\u5169\\u5cb8\", \"\\u99ac\\u82f1\\u4e5d\", \"\\u5353\\u69ae\\u6cf0\", \"\\u884c\\u653f\\u9662\", \"\\u4eba\\u4e8b\", \"\\u8ecd\\u4e8b\", \"\\u5167\\u95a3\", \"\\u6350\\u6b3e\", \"\\u79d8\\u66f8\\u9577\", \"\\u548c\\u5e73\", \"\\u51fa\\u4efb\", \"\\u9662\\u9577\", \"\\u6cd5\\u6848\", \"\\u88c1\\u54e1\", \"\\u7fd2\\u8fd1\\u5e73\", \"\\u884c\\u653f\\u9662\\u9577\", \"\\u63a5\\u4efb\", \"\\u653f\\u7b56\", \"\\u7279\\u65af\\u62c9\", \"\\u65e5\\u5713\", \"\\u9078\\u8209\", \"\\u570b\\u9632\\u90e8\\u9577\", \"\\u8868\\u6c7a\", \"\\u5370\\u592a\", \"\\u5289\\u4e16\\u82b3\", \"\\u912d\\u9e97\\u541b\", \"\\u67ef\\u6587\", \"\\u79d1\\u6280\", \"\\u4e3b\\u5e2d\", \"\\u4e3b\\u59d4\", \"\\u7e3d\\u7d71\", \"\\u4e2d\\u570b\", \"\\u653f\\u5e9c\", \"\\u6c11\\u9032\\u9ee8\", \"\\u570b\\u5bb6\", \"\\u53f0\\u7063\", \"\\u7d93\\u6fdf\", \"\\u7acb\\u59d4\", \"\\u672a\\u4f86\", \"\\u570b\\u6c11\\u9ee8\", \"\\u7f8e\\u570b\", \"\\u5354\\u52a9\", \"\\u8868\\u793a\", \"\\u8b70\\u54e1\", \"\\u516c\\u5e03\", \"\\u5408\\u4f5c\", \"\\u82b1\\u84ee\", \"\\u5927\\u8c37\", \"\\u5433\\u5353\\u6e90\", \"\\u5967\\u904b\", \"\\u6bd4\\u8cfd\", \"\\u6731\\u8ed2\\u6d0b\", \"\\u9053\\u5947\", \"\\u6c34\\u539f\", \"\\u6d0b\\u7247\", \"\\u5de8\\u86cb\", \"\\u5b6b\\u85dd\\u73cd\", \"\\u6642\\u523b\\u8868\", \"\\u8868\\u6f14\", \"\\u5566\\u5566\\u968a\", \"\\u7fd4\\u5e73\", \"\\u770b\\u6771\\u68ee\", \"\\u674e\\u667a\\u51f1\", \"\\u674e\\u591a\\u6167\", \"\\u9078\\u624b\", \"\\u8cfd\\u4e8b\", \"\\u7403\\u8ff7\", \"\\u6559\\u7df4\", \"\\u5168\\u58d8\\u6253\", \"\\u6295\\u624b\", \"\\u4e00\\u7c92\", \"\\u7403\\u54e1\", \"\\u61c9\\u63f4\", \"\\u5df4\\u9ece\", \"\\u8077\\u68d2\", \"\\u62ff\\u4e0b\", \"\\u7403\\u5718\", \"\\u6771\\u68ee\", \"\\u6f14\\u5531\\u6703\", \"\\u6b4c\\u8ff7\", \"\\u97d3\\u570b\", \"\\u806f\\u76df\", \"\\u6700\\u65b0\", \"\\u6f14\\u54e1\", \"\\u53f0\\u7063\", \"\\u7c89\\u7d72\", \"\\u76f4\\u64ad\", \"\\u6f14\\u51fa\", \"\\u53f0\\u5317\", \"\\u65e5\\u672c\", \"\\u4eca\\u5929\", \"\\u6210\\u70ba\", \"\\u7f8e\\u570b\", \"\\u5df2\\u7d93\", \"\\u8868\\u793a\"], \"Freq\": [1018.0, 303.0, 556.0, 327.0, 762.0, 289.0, 394.0, 287.0, 485.0, 432.0, 273.0, 463.0, 286.0, 352.0, 303.0, 319.0, 522.0, 156.0, 263.0, 340.0, 173.0, 184.0, 162.0, 338.0, 157.0, 316.0, 117.0, 235.0, 179.0, 215.0, 303.5165831690309, 138.78438283716648, 132.79412100691687, 116.82008945958458, 110.82982762933496, 86.8687803083365, 85.87040333662823, 82.87527242150342, 81.87689544979516, 80.87851847808689, 75.88663361954555, 71.89312573271246, 68.89799481758766, 64.90448693075459, 62.907732987338036, 62.907732987338036, 62.907732987338036, 61.90935601562976, 60.9109790439215, 58.91422510050496, 55.91909418538015, 54.92071721367188, 53.92234024196362, 51.925586298547074, 49.92883235513054, 48.93045538342227, 45.93532446829746, 44.93694749658919, 44.93694749658919, 44.93694749658919, 167.73731501670628, 92.8590421385861, 67.89961784587939, 66.90124087417112, 211.66590177187013, 61.90935601562976, 134.7908749503334, 217.65616360211976, 213.66265571528666, 100.84605791225226, 123.80872826154246, 288.5409285934069, 222.6480484606611, 89.86391122346132, 232.63181817774378, 185.70810050745513, 149.76652952595745, 83.87364939321169, 100.84605791225226, 191.69836233770476, 194.69349325282957, 250.60260366849263, 104.83956579908535, 177.72108473378898, 152.76166044108226, 99.847680940544, 237.62370303628512, 113.82495854445976, 138.78438283716648, 102.84281185566881, 133.79249797862514, 121.81197431812592, 110.82982762933496, 109.83145065762669, 116.82008945958458, 115.82171248787631, 110.82982762933496, 105.7860140810417, 89.8198200871103, 56.889544974626794, 55.89165785000609, 54.89377072538537, 52.897996476143945, 51.90010935152324, 49.90433510228181, 44.91489947917825, 43.91701235455754, 43.91701235455754, 40.9233509806954, 40.9233509806954, 39.92546385607469, 37.929689606833264, 37.929689606833264, 36.931802482212554, 35.93391535759184, 35.93391535759184, 34.93602823297113, 33.938141108350415, 33.938141108350415, 33.938141108350415, 32.940253983729704, 32.940253983729704, 32.940253983729704, 31.942366859108994, 31.942366859108994, 31.942366859108994, 31.942366859108994, 182.62332267683652, 175.63811280449153, 243.49443727869996, 71.85785184393748, 66.86841622083394, 46.91067372841968, 63.87475484697179, 158.67403168593944, 103.79023983180028, 72.8557389685582, 75.84940034242034, 318.33597162525336, 54.89377072538537, 129.73530507193877, 108.77967545490385, 214.5557106646993, 175.63811280449153, 187.61275829994008, 58.88531922386822, 71.85785184393748, 180.62754842759512, 60.881093473109644, 80.8388359655239, 118.75854670111096, 85.82827158862746, 202.58106516925076, 85.82827158862746, 95.80714283483458, 101.79446558255886, 110.77544970414526, 139.71417631814592, 132.72896644580092, 85.82827158862746, 126.74164369807666, 161.66769305980156, 216.55148491394075, 91.81559433635174, 108.77967545490385, 88.8219329624896, 108.77967545490385, 108.77967545490385, 107.78178833028312, 94.80925571021386, 90.81770721173102, 1018.787264903526, 287.3830032662408, 173.63118085607638, 162.65512781649912, 157.66601279850946, 118.75091565819005, 106.77703961501486, 85.82275653945827, 80.83364152146859, 67.86194247469545, 65.8662964674996, 61.875004453107856, 57.883712438716124, 56.88588943511819, 52.894597420726456, 51.89677441712851, 48.90330540633472, 48.90330540633472, 47.90548240273678, 46.90765939913885, 45.90983639554092, 41.91854438114919, 41.91854438114919, 41.91854438114919, 41.91854438114919, 39.922898373953316, 35.931606359561584, 35.931606359561584, 34.93378335596365, 33.93596035236571, 96.79880957903553, 155.6703667913136, 69.85758848189133, 95.80098657543759, 123.74003067617974, 151.67907477692185, 256.4504901547049, 120.74656166538594, 296.36341029862217, 143.6964907481384, 83.8271105322624, 117.75309265459214, 104.781393607819, 101.7879245970252, 120.74656166538594, 89.81404855385, 239.48749909354, 68.8597654782934, 121.74438466898387, 129.72696869776732, 248.4679061259214, 94.80316357183966, 100.79010159342727, 112.76397763660248, 117.75309265459214, 110.76833162940659, 105.77921661141693, 97.79663258263346, 303.1766231169952, 289.2150010531225, 106.71665550392966, 102.72762062853747, 101.73036190968942, 98.73858575314529, 91.75777472120895, 74.80437650079212, 68.82082418770382, 65.82904803115967, 61.84001315576748, 60.84275443691943, 52.86468468613504, 46.88113237304675, 44.88661493535066, 44.88661493535066, 43.889356216502605, 42.89209749765456, 42.89209749765456, 39.90032134111041, 38.90306262226236, 37.905803903414316, 37.905803903414316, 36.908545184566265, 35.91128646571822, 35.91128646571822, 34.914027746870175, 34.914027746870175, 33.916769028022124, 32.91951030917407, 311.1546928677796, 77.79615265733626, 139.62619322591524, 116.68924269241015, 278.24515514579394, 328.10809108819643, 195.47268148140597, 251.31916973689667, 132.6453821939789, 59.84549571807138, 49.8729085295909, 98.73858575314529, 100.73310319084138, 93.75229215890504, 95.74680959660112, 133.64264091282695, 124.66731244319453, 218.40963201491107, 173.5329896667489, 134.639899631675, 117.68650141125819, 89.76325728351283, 75.80163521964016, 68.82082418770382, 119.68769237281096, 112.70649208442103, 94.75483419998974, 91.7628912192512, 83.78437660394842, 80.79243362320986, 76.80317631555847, 76.80317631555847, 75.80586198864563, 70.81929035408139, 70.81929035408139, 69.82197602716853, 65.83271871951715, 64.83540439260429, 63.838090065691446, 62.84077573877858, 59.84883275804005, 53.864946796562954, 52.867632469650104, 50.873003815824404, 49.875689488911554, 47.881060835085854, 43.89180352743446, 42.89448920052162, 40.89986054669592, 36.910603239044526, 36.910603239044526, 35.91328891213168, 34.91597458521883, 33.91866025830598, 79.79511929629703, 126.66889266120091, 242.3573545830913, 286.2391849672567, 118.69037804589813, 123.67694968046236, 111.70917775750817, 288.23381362108233, 64.83540439260429, 149.6071221801964, 105.72529179603109, 97.74677718072829, 147.6124935263707, 69.82197602716853, 89.7682625654255, 69.82197602716853, 66.83003304642999, 67.82734737334283, 67.82734737334283, 156.4415504151358, 117.58274864333596, 107.61895331723343, 102.63705565418215, 98.65153752374114, 89.68412173024888, 78.72394687153609, 75.73480827370534, 72.74566967587457, 67.76377201282331, 66.76739248021305, 64.77463341499255, 63.778253882382295, 62.78187434977204, 61.78549481716178, 59.79273575194127, 58.79635621933102, 55.807217621500264, 53.81445855627975, 52.818079023669505, 51.82169949105925, 51.82169949105925, 50.825319958449, 49.828940425838745, 48.8325608932285, 47.83618136061824, 43.850663230177226, 42.85428369756698, 41.85790416495672, 38.86876556712596, 94.66601939330013, 89.68412173024888, 65.7710129476028, 95.6623989259104, 76.73118780631557, 77.72756733892584, 69.75653107804382, 200.28224984998693, 116.5863691107257, 91.67688079546939, 62.78187434977204, 81.71308546936686, 92.67326032807962, 84.7022240671976, 71.74929014326432, 80.7167059367566, 69.75653107804382, 65.7710129476028], \"Total\": [1018.0, 303.0, 556.0, 327.0, 762.0, 289.0, 394.0, 287.0, 485.0, 432.0, 273.0, 463.0, 286.0, 352.0, 303.0, 319.0, 522.0, 156.0, 263.0, 340.0, 173.0, 184.0, 162.0, 338.0, 157.0, 316.0, 117.0, 235.0, 179.0, 215.0, 303.56644979609683, 138.83424946423239, 132.84398763398278, 116.86995608665048, 110.87969425640085, 86.91864693540239, 85.92026996369412, 82.92513904856932, 81.92676207686105, 80.92838510515278, 75.93650024661144, 71.94299235977836, 68.94786144465355, 64.95435355782048, 62.957599614403925, 62.957599614403925, 62.957599614403925, 61.95922264269565, 60.96084567098739, 58.964091727570846, 55.96896081244604, 54.97058384073777, 53.972206869029506, 51.97545292561296, 49.97869898219643, 48.98032201048816, 45.98519109536335, 44.98681412365508, 44.98681412365508, 44.98681412365508, 173.76545883943368, 94.90166783087251, 68.94674319179333, 67.94748703384727, 225.6850425482103, 62.9565369696085, 148.81116132208928, 254.62548136230922, 273.56948829373107, 112.86369646227234, 144.81287796416495, 408.28468691039023, 307.4869132950566, 99.89200788650655, 358.3483532040443, 272.56220726684234, 208.68795336530144, 93.88731134638012, 123.84732840559454, 319.3006873197475, 333.39928983072105, 522.0623791469254, 133.82815904015192, 323.44341441226976, 274.50897519121975, 127.83659166835203, 1076.5920016040866, 181.69320324656815, 319.33407090672637, 142.7965700706539, 338.3197788405046, 257.56238372601143, 185.6772122216333, 208.64520972020892, 318.39584585186276, 315.2519285382273, 226.60640109117546, 105.83588560657847, 89.86969161264707, 56.93941650016356, 55.941529375542856, 54.94364225092214, 52.94786800168071, 51.94998087706001, 49.95420662781858, 44.96477100471502, 43.96688388009431, 43.96688388009431, 40.97322250623217, 40.97322250623217, 39.97533538161146, 37.97956113237003, 37.97956113237003, 36.98167400774932, 35.98378688312861, 35.98378688312861, 34.9858997585079, 33.98801263388718, 33.98801263388718, 33.98801263388718, 32.99012550926647, 32.99012550926647, 32.99012550926647, 31.992238384645766, 31.992238384645766, 31.992238384645766, 31.992238384645766, 184.6677116400694, 179.6735024604693, 263.5013228443057, 74.89949952601839, 69.91023072710927, 47.95836825755438, 66.91376497033932, 182.66897101969056, 115.80788328029124, 78.88388768975649, 82.87392859622888, 463.96099888794697, 58.929160381363154, 167.6880160243202, 136.75434813400042, 316.40125553675597, 253.5295087794107, 284.4428003485503, 65.91995177459053, 85.88500097339002, 309.42232075687764, 69.90211996934907, 105.84757781565706, 192.6443704729033, 118.81571969077173, 485.8675830176542, 122.75072938086177, 149.71293517141518, 166.69536252389867, 195.6402765355064, 301.3523533435227, 277.44793780479114, 124.77123314923811, 286.35344391200067, 525.7942517537879, 1076.5920016040866, 149.73497628802198, 279.4203772403636, 148.74246376495427, 326.29825216489274, 340.1955716435207, 394.06087167980746, 225.5615233121571, 191.62532032651535, 1018.837137070273, 287.43287543298777, 173.6810530228234, 162.70499998324613, 157.71588496525646, 118.80078782493705, 106.82691178176185, 85.87262870620526, 80.88351368821559, 67.91181464144245, 65.91616863424659, 61.92487661985486, 57.933584605463125, 56.93576160186519, 52.944469587473456, 51.94664658387551, 48.95317757308172, 48.95317757308172, 47.95535456948378, 46.95753156588585, 45.95970856228792, 41.96841654789619, 41.96841654789619, 41.96841654789619, 41.96841654789619, 39.97277054070032, 35.981478526308585, 35.981478526308585, 34.98365552271065, 33.98583251911271, 97.84599607269539, 159.71178745654345, 70.90477497555118, 99.84240724066744, 130.77071387486308, 162.69791366475957, 286.45167147269996, 130.77530507834007, 352.23163676125046, 161.71714840563425, 89.86430544673367, 135.773750312088, 121.79534689311811, 117.80399075770359, 167.7201515024216, 114.82334501330372, 522.0623791469254, 77.89004896891895, 220.61560008296735, 257.56238372601143, 1076.5920016040866, 141.7757737147002, 169.72798480804485, 235.4304529264491, 277.44793780479114, 323.44341441226976, 273.46123451487244, 318.39584585186276, 303.22650092658967, 289.26487886271696, 106.76653331352415, 102.77749843813196, 101.78023971928391, 98.78846356273978, 91.80765253080344, 74.85425431038661, 68.87070199729831, 65.87892584075416, 61.88989096536198, 60.89263224651393, 52.91456249572954, 46.93101018264125, 44.936492744945156, 44.936492744945156, 43.939234026097104, 42.94197530724906, 42.94197530724906, 39.95019915070491, 38.95294043185686, 37.955681713008815, 37.955681713008815, 36.95842299416076, 35.96116427531272, 35.96116427531272, 34.963905556464674, 34.963905556464674, 33.96664683761662, 32.96938811876857, 327.1615999079797, 81.83953835376383, 174.6026460019891, 146.6590589860752, 432.8109453630561, 556.467231422323, 340.1955716435207, 485.8675830176542, 215.5198913470925, 72.84830745159917, 55.91010908690967, 165.6222939408052, 175.58899403246747, 166.60380680463513, 176.59541583759426, 326.29825216489274, 319.33407090672637, 1076.5920016040866, 762.87795228796, 525.7942517537879, 463.96099888794697, 209.5752651543946, 225.5615233121571, 143.72288261180017, 119.73756962632481, 112.75636933793488, 94.8047114535036, 91.81276847276506, 83.83425385746227, 80.84231087672372, 76.85305356907233, 76.85305356907233, 75.85573924215949, 70.86916760759524, 70.86916760759524, 69.87185328068239, 65.882595973031, 64.88528164611814, 63.887967319205295, 62.89065299229243, 59.898710011553895, 53.9148240500768, 52.91750972316395, 50.92288106933825, 49.9255667424254, 47.9309380885997, 43.94168078094831, 42.94436645403547, 40.94973780020977, 36.960480492558375, 36.960480492558375, 35.963166165645525, 34.965851838732675, 33.968537511819825, 81.84077079905231, 132.7090317449644, 273.32225212089463, 394.06087167980746, 152.65446436747206, 189.58480707577084, 174.58917572219852, 762.87795228796, 79.85358851542883, 338.3197788405046, 186.58638538280687, 182.65869702944505, 556.467231422323, 114.77600443634107, 1076.5920016040866, 163.71928862125972, 110.78422819258287, 171.66134239513818, 175.58899403246747, 156.49143701659267, 117.63263524479284, 107.66883991869031, 102.68694225563902, 98.70142412519802, 89.73400833170575, 78.77383347299296, 75.78469487516222, 72.79555627733144, 67.81365861428019, 66.81727908166992, 64.82452001644943, 63.82814048383917, 62.831760951228915, 61.83538141861866, 59.84262235339815, 58.84624282078789, 55.85710422295714, 53.86434515773663, 52.86796562512638, 51.871586092516125, 51.871586092516125, 50.87520655990588, 49.87882702729562, 48.88244749468537, 47.88606796207512, 43.9005498316341, 42.90417029902385, 41.9077907664136, 38.91865216858284, 100.70131798628935, 97.71659236048922, 69.81440743589275, 123.66684073519882, 93.73745267203122, 106.70557182728032, 94.75199276944905, 762.87795228796, 319.3006873197475, 235.4304529264491, 87.77791313038226, 223.49424684076283, 432.8109453630561, 315.2519285382273, 182.57467174249024, 556.467231422323, 525.7942517537879, 1076.5920016040866], \"Category\": [\"Default\", \"Default\", \"Default\", \"Default\", \"Default\", \"Default\", \"Default\", \"Default\", \"Default\", \"Default\", \"Default\", \"Default\", \"Default\", \"Default\", \"Default\", \"Default\", \"Default\", \"Default\", \"Default\", \"Default\", \"Default\", \"Default\", \"Default\", \"Default\", \"Default\", \"Default\", \"Default\", \"Default\", \"Default\", \"Default\", \"Topic1\", \"Topic1\", \"Topic1\", \"Topic1\", \"Topic1\", \"Topic1\", \"Topic1\", \"Topic1\", \"Topic1\", \"Topic1\", \"Topic1\", \"Topic1\", \"Topic1\", \"Topic1\", \"Topic1\", \"Topic1\", \"Topic1\", \"Topic1\", \"Topic1\", \"Topic1\", \"Topic1\", \"Topic1\", \"Topic1\", \"Topic1\", \"Topic1\", \"Topic1\", \"Topic1\", \"Topic1\", \"Topic1\", \"Topic1\", \"Topic1\", \"Topic1\", \"Topic1\", \"Topic1\", \"Topic1\", \"Topic1\", \"Topic1\", \"Topic1\", \"Topic1\", \"Topic1\", \"Topic1\", \"Topic1\", \"Topic1\", \"Topic1\", \"Topic1\", \"Topic1\", \"Topic1\", \"Topic1\", \"Topic1\", \"Topic1\", \"Topic1\", \"Topic1\", \"Topic1\", \"Topic1\", \"Topic1\", \"Topic1\", \"Topic1\", \"Topic1\", \"Topic1\", \"Topic1\", \"Topic1\", \"Topic1\", \"Topic1\", \"Topic1\", \"Topic1\", \"Topic1\", \"Topic1\", \"Topic2\", \"Topic2\", \"Topic2\", \"Topic2\", \"Topic2\", \"Topic2\", \"Topic2\", \"Topic2\", \"Topic2\", \"Topic2\", \"Topic2\", \"Topic2\", \"Topic2\", \"Topic2\", \"Topic2\", \"Topic2\", \"Topic2\", \"Topic2\", \"Topic2\", \"Topic2\", \"Topic2\", \"Topic2\", \"Topic2\", \"Topic2\", \"Topic2\", \"Topic2\", \"Topic2\", \"Topic2\", \"Topic2\", \"Topic2\", \"Topic2\", \"Topic2\", \"Topic2\", \"Topic2\", \"Topic2\", \"Topic2\", \"Topic2\", \"Topic2\", \"Topic2\", \"Topic2\", \"Topic2\", \"Topic2\", \"Topic2\", \"Topic2\", \"Topic2\", \"Topic2\", \"Topic2\", \"Topic2\", \"Topic2\", \"Topic2\", \"Topic2\", \"Topic2\", \"Topic2\", \"Topic2\", \"Topic2\", \"Topic2\", \"Topic2\", \"Topic2\", \"Topic2\", \"Topic2\", \"Topic2\", \"Topic2\", \"Topic2\", \"Topic2\", \"Topic2\", \"Topic2\", \"Topic2\", \"Topic2\", \"Topic2\", \"Topic2\", \"Topic2\", \"Topic2\", \"Topic2\", \"Topic2\", \"Topic3\", \"Topic3\", \"Topic3\", \"Topic3\", \"Topic3\", \"Topic3\", \"Topic3\", \"Topic3\", \"Topic3\", \"Topic3\", \"Topic3\", \"Topic3\", \"Topic3\", \"Topic3\", \"Topic3\", \"Topic3\", \"Topic3\", \"Topic3\", \"Topic3\", \"Topic3\", \"Topic3\", \"Topic3\", \"Topic3\", \"Topic3\", \"Topic3\", \"Topic3\", \"Topic3\", \"Topic3\", \"Topic3\", \"Topic3\", \"Topic3\", \"Topic3\", \"Topic3\", \"Topic3\", \"Topic3\", \"Topic3\", \"Topic3\", \"Topic3\", \"Topic3\", \"Topic3\", \"Topic3\", \"Topic3\", \"Topic3\", \"Topic3\", \"Topic3\", \"Topic3\", \"Topic3\", \"Topic3\", \"Topic3\", \"Topic3\", \"Topic3\", \"Topic3\", \"Topic3\", \"Topic3\", \"Topic3\", \"Topic3\", \"Topic3\", \"Topic3\", \"Topic4\", \"Topic4\", \"Topic4\", \"Topic4\", \"Topic4\", \"Topic4\", \"Topic4\", \"Topic4\", \"Topic4\", \"Topic4\", \"Topic4\", \"Topic4\", \"Topic4\", \"Topic4\", \"Topic4\", \"Topic4\", \"Topic4\", \"Topic4\", \"Topic4\", \"Topic4\", \"Topic4\", \"Topic4\", \"Topic4\", \"Topic4\", \"Topic4\", \"Topic4\", \"Topic4\", \"Topic4\", \"Topic4\", \"Topic4\", \"Topic4\", \"Topic4\", \"Topic4\", \"Topic4\", \"Topic4\", \"Topic4\", \"Topic4\", \"Topic4\", \"Topic4\", \"Topic4\", \"Topic4\", \"Topic4\", \"Topic4\", \"Topic4\", \"Topic4\", \"Topic4\", \"Topic4\", \"Topic4\", \"Topic4\", \"Topic4\", \"Topic4\", \"Topic4\", \"Topic4\", \"Topic4\", \"Topic5\", \"Topic5\", \"Topic5\", \"Topic5\", \"Topic5\", \"Topic5\", \"Topic5\", \"Topic5\", \"Topic5\", \"Topic5\", \"Topic5\", \"Topic5\", \"Topic5\", \"Topic5\", \"Topic5\", \"Topic5\", \"Topic5\", \"Topic5\", \"Topic5\", \"Topic5\", \"Topic5\", \"Topic5\", \"Topic5\", \"Topic5\", \"Topic5\", \"Topic5\", \"Topic5\", \"Topic5\", \"Topic5\", \"Topic5\", \"Topic5\", \"Topic5\", \"Topic5\", \"Topic5\", \"Topic5\", \"Topic5\", \"Topic5\", \"Topic5\", \"Topic5\", \"Topic5\", \"Topic5\", \"Topic5\", \"Topic5\", \"Topic5\", \"Topic5\", \"Topic5\", \"Topic5\", \"Topic5\", \"Topic5\", \"Topic6\", \"Topic6\", \"Topic6\", \"Topic6\", \"Topic6\", \"Topic6\", \"Topic6\", \"Topic6\", \"Topic6\", \"Topic6\", \"Topic6\", \"Topic6\", \"Topic6\", \"Topic6\", \"Topic6\", \"Topic6\", \"Topic6\", \"Topic6\", \"Topic6\", \"Topic6\", \"Topic6\", \"Topic6\", \"Topic6\", \"Topic6\", \"Topic6\", \"Topic6\", \"Topic6\", \"Topic6\", \"Topic6\", \"Topic6\", \"Topic6\", \"Topic6\", \"Topic6\", \"Topic6\", \"Topic6\", \"Topic6\", \"Topic6\", \"Topic6\", \"Topic6\", \"Topic6\", \"Topic6\", \"Topic6\", \"Topic6\", \"Topic6\", \"Topic6\", \"Topic6\", \"Topic6\", \"Topic6\"], \"logprob\": [30.0, 29.0, 28.0, 27.0, 26.0, 25.0, 24.0, 23.0, 22.0, 21.0, 20.0, 19.0, 18.0, 17.0, 16.0, 15.0, 14.0, 13.0, 12.0, 11.0, 10.0, 9.0, 8.0, 7.0, 6.0, 5.0, 4.0, 3.0, 2.0, 1.0, -4.8138, -5.5963, -5.6404, -5.7686, -5.8213, -6.0648, -6.0764, -6.1119, -6.124, -6.1363, -6.2, -6.2541, -6.2966, -6.3563, -6.3876, -6.3876, -6.3876, -6.4036, -6.4198, -6.4532, -6.5053, -6.5234, -6.5417, -6.5794, -6.6186, -6.6388, -6.702, -6.724, -6.724, -6.724, -5.4068, -5.9982, -6.3112, -6.326, -5.1742, -6.4036, -5.6255, -5.1463, -5.1648, -5.9157, -5.7105, -4.8644, -5.1237, -6.031, -5.0798, -5.3051, -5.5202, -6.0999, -5.9157, -5.2733, -5.2578, -5.0054, -5.8768, -5.349, -5.5004, -5.9256, -5.0586, -5.7946, -5.5963, -5.896, -5.633, -5.7268, -5.8213, -5.8303, -5.7686, -5.7772, -5.8213, -5.5285, -5.6921, -6.1488, -6.1665, -6.1845, -6.2216, -6.2406, -6.2798, -6.3852, -6.4076, -6.4076, -6.4782, -6.4782, -6.5029, -6.5542, -6.5542, -6.5809, -6.6083, -6.6083, -6.6364, -6.6654, -6.6654, -6.6654, -6.6952, -6.6952, -6.6952, -6.726, -6.726, -6.726, -6.726, -4.9825, -5.0215, -4.6948, -5.9152, -5.9872, -6.3417, -6.033, -5.1231, -5.5476, -5.9015, -5.8612, -4.4268, -6.1845, -5.3244, -5.5006, -4.8214, -5.0215, -4.9556, -6.1143, -5.9152, -4.9935, -6.081, -5.7975, -5.4128, -5.7376, -4.8788, -5.7376, -5.6276, -5.567, -5.4824, -5.2503, -5.3016, -5.7376, -5.3478, -5.1044, -4.8121, -5.6702, -5.5006, -5.7033, -5.5006, -5.5006, -5.5098, -5.6381, -5.6811, -3.1749, -4.4405, -4.9444, -5.0097, -5.0408, -5.3243, -5.4306, -5.649, -5.7089, -5.8838, -5.9137, -5.9762, -6.0429, -6.0603, -6.133, -6.1521, -6.2115, -6.2115, -6.2321, -6.2531, -6.2746, -6.3656, -6.3656, -6.3656, -6.3656, -6.4144, -6.5197, -6.5197, -6.5479, -6.5768, -5.5287, -5.0536, -5.8549, -5.539, -5.2831, -5.0795, -4.5544, -5.3076, -4.4097, -5.1336, -5.6726, -5.3327, -5.4494, -5.4784, -5.3076, -5.6036, -4.6228, -5.8692, -5.2994, -5.2359, -4.586, -5.5495, -5.4883, -5.376, -5.3327, -5.3939, -5.44, -5.5184, -4.1558, -4.203, -5.2, -5.2381, -5.2478, -5.2777, -5.351, -5.5553, -5.6386, -5.6831, -5.7456, -5.7618, -5.9024, -6.0225, -6.066, -6.066, -6.0885, -6.1114, -6.1114, -6.1837, -6.2091, -6.235, -6.235, -6.2617, -6.2891, -6.2891, -6.3172, -6.3172, -6.3462, -6.3761, -4.1298, -5.516, -4.9312, -5.1106, -4.2416, -4.0768, -4.5947, -4.3434, -4.9825, -5.7784, -5.9607, -5.2777, -5.2577, -5.3295, -5.3084, -4.975, -5.0445, -4.4838, -4.7138, -4.9675, -5.1021, -5.373, -5.542, -5.6386, -5.0677, -5.1278, -5.3013, -5.3333, -5.4243, -5.4607, -5.5113, -5.5113, -5.5244, -5.5924, -5.5924, -5.6066, -5.6654, -5.6807, -5.6962, -5.712, -5.7607, -5.8661, -5.8848, -5.9232, -5.943, -5.9838, -6.0708, -6.0938, -6.1414, -6.2441, -6.2441, -6.2715, -6.2996, -6.3286, -5.4731, -5.011, -4.3621, -4.1957, -5.076, -5.0349, -5.1367, -4.1888, -5.6807, -4.8445, -5.1917, -5.2702, -4.858, -5.6066, -5.3553, -5.6066, -5.6504, -5.6356, -5.6356, -4.4733, -4.7588, -4.8474, -4.8948, -4.9344, -5.0297, -5.16, -5.1987, -5.239, -5.3099, -5.3248, -5.3551, -5.3706, -5.3863, -5.4023, -5.4351, -5.4519, -5.5041, -5.5404, -5.5591, -5.5782, -5.5782, -5.5976, -5.6174, -5.6376, -5.6582, -5.7452, -5.7682, -5.7917, -5.8658, -4.9756, -5.0297, -5.3398, -4.9651, -5.1857, -5.1728, -5.281, -4.2262, -4.7673, -5.0077, -5.3863, -5.1228, -4.9969, -5.0868, -5.2528, -5.135, -5.281, -5.3398], \"loglift\": [30.0, 29.0, 28.0, 27.0, 26.0, 25.0, 24.0, 23.0, 22.0, 21.0, 20.0, 19.0, 18.0, 17.0, 16.0, 15.0, 14.0, 13.0, 12.0, 11.0, 10.0, 9.0, 8.0, 7.0, 6.0, 5.0, 4.0, 3.0, 2.0, 1.0, 1.3233, 1.3231, 1.3231, 1.323, 1.323, 1.3229, 1.3229, 1.3229, 1.3229, 1.3228, 1.3228, 1.3228, 1.3227, 1.3227, 1.3227, 1.3227, 1.3227, 1.3227, 1.3226, 1.3226, 1.3226, 1.3226, 1.3225, 1.3225, 1.3225, 1.3224, 1.3224, 1.3224, 1.3224, 1.3224, 1.2882, 1.3017, 1.3082, 1.3079, 1.2593, 1.3067, 1.2245, 1.1666, 1.0763, 1.2109, 1.1668, 0.9763, 1.0006, 1.2177, 0.8914, 0.9398, 0.9917, 1.2107, 1.118, 0.8132, 0.7855, 0.5895, 1.0793, 0.7247, 0.7374, 1.0764, -0.1874, 0.8558, 0.4901, 0.9952, 0.3958, 0.5747, 0.8074, 0.6818, 0.3208, 0.3221, 0.6082, 1.6623, 1.6622, 1.6619, 1.6619, 1.6619, 1.6618, 1.6618, 1.6618, 1.6617, 1.6616, 1.6616, 1.6616, 1.6616, 1.6615, 1.6615, 1.6615, 1.6614, 1.6614, 1.6614, 1.6613, 1.6613, 1.6613, 1.6613, 1.6613, 1.6613, 1.6613, 1.6612, 1.6612, 1.6612, 1.6612, 1.6516, 1.6401, 1.5838, 1.6213, 1.6183, 1.6407, 1.6163, 1.522, 1.5532, 1.5833, 1.5742, 1.2861, 1.5918, 1.4062, 1.4339, 1.2743, 1.2957, 1.2466, 1.5499, 1.4845, 1.1245, 1.5246, 1.3932, 1.179, 1.3375, 0.788, 1.305, 1.2164, 1.1696, 1.094, 0.8941, 0.9254, 1.2886, 0.8477, 0.4834, 0.059, 1.1737, 0.7194, 1.1472, 0.5643, 0.5226, 0.3664, 0.796, 0.9161, 1.7513, 1.7512, 1.7511, 1.7511, 1.7511, 1.751, 1.7509, 1.7508, 1.7508, 1.7507, 1.7506, 1.7506, 1.7505, 1.7505, 1.7505, 1.7504, 1.7504, 1.7504, 1.7504, 1.7503, 1.7503, 1.7502, 1.7502, 1.7502, 1.7502, 1.7501, 1.75, 1.75, 1.75, 1.7499, 1.7406, 1.7258, 1.7365, 1.7101, 1.6961, 1.6813, 1.6408, 1.6716, 1.5787, 1.6333, 1.6819, 1.609, 1.6009, 1.6053, 1.4228, 1.5057, 0.9721, 1.6282, 1.1569, 1.0656, 0.2852, 1.349, 1.2302, 1.0153, 0.8944, 0.6798, 0.8016, 0.571, 1.9824, 1.9824, 1.9821, 1.9821, 1.9821, 1.9821, 1.982, 1.9819, 1.9818, 1.9818, 1.9818, 1.9818, 1.9816, 1.9815, 1.9815, 1.9815, 1.9814, 1.9814, 1.9814, 1.9813, 1.9813, 1.9813, 1.9813, 1.9812, 1.9812, 1.9812, 1.9811, 1.9811, 1.9811, 1.9811, 1.9324, 1.9319, 1.759, 1.754, 1.5408, 1.4543, 1.4285, 1.3234, 1.4972, 1.786, 1.8683, 1.4653, 1.4269, 1.4076, 1.3704, 1.0899, 1.042, 0.3874, 0.5018, 0.6203, 0.6108, 1.1347, 0.8921, 1.2462, 1.9997, 1.9997, 1.9996, 1.9996, 1.9996, 1.9995, 1.9995, 1.9995, 1.9995, 1.9994, 1.9994, 1.9994, 1.9994, 1.9994, 1.9994, 1.9994, 1.9993, 1.9992, 1.9992, 1.9992, 1.9991, 1.9991, 1.999, 1.999, 1.9989, 1.9988, 1.9988, 1.9988, 1.9987, 1.9987, 1.9748, 1.9536, 1.8799, 1.6805, 1.7485, 1.573, 1.5536, 1.0268, 1.7918, 1.1842, 1.4321, 1.3749, 0.6731, 1.5031, -0.4842, 1.1479, 1.4947, 1.0716, 1.049, 2.3264, 2.3263, 2.3263, 2.3262, 2.3262, 2.3262, 2.3261, 2.3261, 2.326, 2.326, 2.326, 2.326, 2.326, 2.3259, 2.3259, 2.3259, 2.3259, 2.3258, 2.3258, 2.3258, 2.3258, 2.3258, 2.3258, 2.3257, 2.3257, 2.3257, 2.3256, 2.3256, 2.3255, 2.3255, 2.2649, 2.241, 2.2671, 2.07, 2.1265, 2.0099, 2.0205, 0.9894, 1.3192, 1.3836, 1.9916, 1.3206, 0.7855, 1.0125, 1.3928, 0.3961, 0.3068, -0.4686]}, \"token.table\": {\"Topic\": [1, 6, 1, 2, 3, 1, 5, 1, 2, 3, 4, 6, 6, 1, 2, 4, 5, 6, 2, 3, 2, 5, 4, 1, 5, 2, 5, 2, 3, 4, 1, 3, 5, 1, 1, 1, 4, 5, 6, 2, 4, 4, 2, 4, 4, 3, 3, 3, 5, 6, 3, 4, 5, 1, 2, 5, 5, 1, 2, 3, 5, 1, 2, 5, 6, 5, 1, 2, 4, 1, 2, 3, 3, 3, 5, 4, 5, 2, 3, 5, 3, 5, 1, 4, 2, 6, 1, 3, 4, 5, 4, 2, 3, 1, 1, 5, 6, 2, 5, 1, 3, 4, 5, 6, 4, 1, 3, 5, 1, 5, 6, 3, 3, 1, 1, 5, 2, 2, 5, 1, 2, 3, 5, 6, 1, 3, 3, 4, 5, 1, 1, 5, 5, 4, 4, 5, 1, 2, 4, 6, 1, 6, 1, 2, 5, 1, 6, 1, 3, 2, 3, 6, 2, 1, 1, 1, 2, 3, 1, 2, 3, 6, 2, 5, 6, 3, 4, 5, 6, 2, 1, 2, 1, 2, 2, 1, 2, 3, 4, 5, 6, 2, 3, 4, 3, 3, 1, 1, 2, 3, 5, 6, 2, 6, 2, 6, 1, 2, 3, 4, 5, 6, 4, 6, 1, 4, 5, 1, 3, 4, 5, 6, 1, 3, 2, 3, 3, 3, 4, 3, 4, 3, 4, 6, 2, 3, 4, 5, 6, 2, 3, 1, 3, 3, 3, 2, 4, 1, 6, 1, 2, 3, 1, 1, 6, 6, 1, 3, 5, 6, 2, 2, 6, 1, 3, 6, 3, 5, 2, 3, 4, 5, 5, 5, 4, 3, 1, 3, 4, 2, 2, 3, 4, 5, 5, 4, 6, 4, 5, 1, 4, 5, 6, 1, 6, 1, 2, 4, 6, 4, 1, 2, 4, 6, 3, 1, 2, 3, 4, 2, 1, 6, 2, 3, 5, 6, 3, 2, 6, 6, 6, 4, 3, 5, 6, 5, 4, 6, 3, 5, 2, 3, 1, 6, 2, 6, 2, 6, 2, 4, 5, 1, 3, 5, 6, 2, 5, 6, 4, 4, 4, 2, 2, 2, 3, 6, 3, 6, 3, 6, 2, 3, 4, 4, 4, 1, 3, 1, 2, 3, 2, 1, 3, 5, 2, 3, 5, 1, 3, 4, 6, 1, 2, 6, 6, 6, 6, 1, 1, 2, 2, 2, 2, 6, 3, 4, 6, 2, 4, 4, 1, 2, 3, 6, 4, 1, 3, 4, 1, 2, 3, 2, 3, 4, 6, 2, 3, 1, 2, 4, 5, 4, 1, 2, 6, 1, 3, 6, 1, 2, 4, 6, 2, 3, 5, 1, 3, 4, 6, 1, 2, 3, 4, 6, 1, 2, 3, 4, 1, 3, 4, 3, 5, 5, 1, 1, 3, 5, 1, 3, 6, 1, 3, 6, 1, 3, 1, 2, 5, 2, 1, 2, 3, 1, 3, 4, 5, 4, 5, 6, 5, 6, 1, 4, 3, 5, 6, 6, 1, 3, 4, 1, 4, 5, 2, 1, 2, 3, 5, 6, 1, 3, 1, 3, 3, 5, 5, 2, 3, 5, 6, 1, 2, 3, 4, 5, 6, 5, 4, 1, 3, 1, 1, 3, 4, 1, 2, 1, 2, 3, 4, 5, 6, 1, 2, 6, 2, 3, 4, 2, 4, 1, 5, 5, 2, 3, 6, 2, 3, 2, 3, 4, 5, 6, 2, 2, 6, 1, 5, 1, 2, 4, 2, 5, 2, 1, 2, 4, 2, 5, 6, 2, 3, 4, 5, 6, 1, 1, 4, 6, 1, 3, 6, 5, 5, 5, 3, 2, 2, 2, 4, 2, 4, 5, 1, 6, 1, 3, 4, 1, 2, 5, 3], \"Freq\": [0.9860555985922587, 0.014717247740182965, 0.0037950473614543, 0.9221965088333949, 0.07210589986763169, 0.8948847429763379, 0.10632293975956489, 0.5272107619796729, 0.1965058294651508, 0.162956053702808, 0.06230672641577952, 0.05272107619796729, 1.0024293468777457, 0.5573588254934907, 0.2586436379741035, 0.04007154954528364, 0.08742883537152794, 0.058285890247685296, 1.0002993165555176, 1.0009309790515997, 0.2740693323333938, 0.7257761948828761, 1.0009819386218142, 0.04521169298808985, 0.9569808349145685, 0.024437697500561167, 0.9775079000224467, 0.47936921446349734, 0.425305017343554, 0.09731555481589796, 0.7187765157552238, 0.2827187628637214, 1.00191204414273, 1.000535125465421, 1.000658132164432, 0.3679596839831351, 0.1744636432678658, 0.1903239744740354, 0.2696256305048835, 1.0005381543920093, 0.9992530305698957, 0.9990843034116055, 0.10731511882177297, 0.8942926568481081, 1.001167632485863, 1.0011282609791718, 1.0016768590403333, 1.0014401737322323, 1.001901777759755, 1.0024756117396303, 0.006818535499364869, 0.7977686534256897, 0.1977375294815812, 0.9393622085287866, 0.053171445765780374, 0.008861907627630061, 1.0020599033898456, 0.23915533895224064, 0.5849610317615616, 0.08079572261900023, 0.09695486714280026, 0.14442489026674663, 0.18955766847510497, 0.6047792279920016, 0.06318588949170165, 1.0017820188357036, 0.24383591311309283, 0.4211711226498876, 0.33693689811991007, 0.9071900172044476, 0.0940789647471279, 1.0007525528647898, 1.0010270810462873, 1.0009564737007803, 1.001069236842026, 1.0017791117890262, 1.0019770694544443, 0.28751654287027384, 0.10455147013464504, 0.6098835757854294, 1.001146405750467, 1.001069236842026, 0.9862684856750997, 0.014503948318751467, 0.9254107795384361, 0.07606115996206324, 0.26439770278362107, 0.18090369137826703, 0.4800905655807856, 0.07653617712157451, 1.0009284940661063, 0.076467036295649, 0.9252511391773528, 1.0005149526503139, 0.4742851393195988, 0.16107797184439204, 0.36689982475667077, 0.797049611126039, 0.20474668909659718, 0.04456807264914398, 0.08782531963213668, 0.22808366591032508, 0.3775177918515725, 0.2621651332302587, 1.0010323344306327, 0.11068304450436432, 0.4951609885721562, 0.3961287908577249, 0.9848063915893237, 0.015883974057892318, 1.0031229832983226, 1.0008766686946562, 1.0009564737007803, 1.0009027534025217, 1.0007562026472467, 1.0018340249084683, 1.0004505672769808, 0.8980390371896145, 0.10361988890649398, 0.4898361187746809, 0.2515374663978091, 0.04854231807677018, 0.21182102433499714, 1.0026925352181353, 1.000927953745252, 1.0007525528647898, 0.028638659752629008, 0.33220845313049646, 0.6415059784588898, 1.00029310535991, 0.46534877004130704, 0.5365197584005658, 1.0012954794902862, 1.0021648859453607, 0.9506005597462373, 0.048905495035176196, 1.0008939438259532, 0.6854024384855707, 0.2543317224569099, 0.06034990024401251, 1.0011744029127392, 0.9968596555443442, 0.18932707372443786, 0.6941992703229388, 0.11832942107777365, 1.0004722820678864, 1.0030757281452998, 0.7822486401970977, 0.21902961925518735, 0.7752491983753077, 0.16697675041929705, 0.05963455372117752, 1.0006169959089295, 1.0006422865132798, 1.0006734752572488, 1.00029310535991, 1.0004030264074792, 1.0014832583526763, 0.14307871083257317, 0.7238099489177232, 0.13466231607771595, 1.0027478444538689, 0.872648784139129, 0.05722287109109043, 0.07152858886386304, 0.07202716570619289, 0.5642127980318442, 0.3121177180601692, 0.054020374279644665, 1.0006535364350158, 0.7845882417653021, 0.21669580010660722, 0.16300867254269064, 0.8383303159338376, 1.0004505672769808, 0.25232095555484435, 0.1864980975840154, 0.38762349693932613, 0.03291142898541448, 0.06947968341365279, 0.07313650885647663, 0.6412271584287886, 0.04675614696876584, 0.31393412964742773, 1.0018014357577623, 1.0018130974265342, 1.0011127232156491, 0.22546673446727902, 0.39009323899894305, 0.11810162281619377, 0.13957464514641083, 0.1288381339813023, 0.9170555962211056, 0.08446564702036498, 1.0006535364350158, 1.0028084643228727, 0.17877715415576112, 0.30810530822588617, 0.11221119250202027, 0.2567544235215718, 0.013313192330748168, 0.13313192330748166, 1.0011249669891435, 1.0022653513167217, 0.5978116467383463, 0.10232811971196917, 0.30159866862475126, 0.6502053041871503, 0.12557613170996465, 0.050230452683985856, 0.12557613170996465, 0.050230452683985856, 0.9009729797628508, 0.10010810886253899, 0.9800166625268069, 0.020851418351634187, 1.0004168643177807, 1.0012717875976465, 1.002095113684908, 0.9482245399276317, 0.05352880467333405, 0.8403560870389238, 0.06813698003018301, 0.09084930670691069, 0.2491570904675382, 0.05662661146989505, 0.5436154701109924, 0.06795193376387405, 0.08493991720484256, 0.06676733292682545, 0.9347426609755562, 1.001428188800819, 1.0016202679208002, 1.0005147502117755, 1.0012131373406896, 0.6892614413543218, 0.31257204898626223, 0.9799617027357039, 0.021074445220122664, 0.22674113565260914, 0.7652513328275559, 0.009447547318858714, 1.000608985424469, 0.8946895889913954, 0.1065106653561185, 1.0023792314293818, 0.3505415038635143, 0.06024932097654152, 0.1971795959232268, 0.3943591918464536, 1.0005381543920093, 1.0009628323648159, 1.00245293235217, 0.28022869988476845, 0.7214398443841912, 1.0022002885835801, 0.9913537997807611, 0.010220142265781043, 0.4645724463296586, 0.16923710544866133, 0.15264523236545924, 0.2156943500816272, 1.0018461116000286, 1.0015588465380854, 1.0012081133701694, 1.0009044009064778, 0.028636450331589132, 0.17181870198953478, 0.8018206092844956, 1.0003526939407121, 0.06550741926503933, 0.013101483853007868, 0.14411632238308653, 0.7795382892539681, 1.0015144259131123, 1.0013829547840276, 1.0024756117396303, 1.0014700262596152, 1.0014408629197418, 0.0415885970372145, 0.6423127764636462, 0.10166101497985766, 0.21487441802560825, 1.0008849168898424, 1.0027346357235938, 0.4352808317800834, 0.09394550326188851, 0.39143959692453545, 0.08141943616030338, 1.0014132668389433, 0.03748632739136271, 0.046857909239203396, 0.18743163695681359, 0.7309833841315729, 1.0006812002003203, 0.07798657265067122, 0.6118946469514204, 0.15597314530134243, 0.15597314530134243, 1.0007834799221214, 0.9668204551241614, 0.03452930196872005, 0.16614288302117736, 0.21437791357571273, 0.5681014709756388, 0.05359447839392818, 0.998493994702813, 1.000242609324828, 1.0030250412032886, 1.0026128631471063, 1.0026298587931601, 1.0013512348310896, 0.02979106986870276, 0.02979106986870276, 0.9433838791755874, 1.0009766145960013, 0.823629293513296, 0.17845301359454746, 0.9872395762363937, 0.014103422517662768, 1.000753205981029, 1.0007525528647898, 0.057294764030948915, 0.9453636065106571, 0.9333240053661823, 0.0678781094811769, 1.000242609324828, 1.0030486616650987, 0.32040393551688373, 0.573199701154058, 0.10582148328997995, 0.01582405281453275, 0.33230510910518773, 0.6540608496673537, 1.0028710869718507, 1.0010639993094461, 1.0017535802983832, 1.0028410106445957, 1.0010799351319652, 1.0013512348310896, 1.001246573242532, 1.0003526939407121, 1.0002993165555176, 0.10253148746691794, 0.18227819994118744, 0.7177204122684255, 0.2638466935553546, 0.7387707419549929, 0.08186941241756528, 0.9210308896976094, 0.025045114475901627, 0.9767594645601634, 1.0018774021311234, 1.0019470595353077, 1.0021867028855407, 0.8562774370845992, 0.14501472724819825, 0.31740260568462775, 0.014106782474872345, 0.6700721675564364, 1.0010257374059857, 1.0005545785932666, 1.0005147502117755, 1.0014908845794102, 0.10270888394475526, 0.8858641240235141, 0.012838610493094408, 0.5848842692466699, 0.27594539882406993, 0.08998219526871845, 0.05098991065227379, 0.2699274309046791, 0.6177185438010925, 0.11420006692121037, 1.0024047999095669, 1.00209020166127, 1.0024974362700059, 1.00029310535991, 0.815520215900253, 0.1857125244129289, 1.000242609324828, 1.0015506497865156, 0.9795545675340885, 0.022262603807592922, 0.9342467679898914, 0.06146360315722969, 0.0061463603157229695, 0.3851152646802767, 0.6171124120780337, 1.0018378283753215, 1.000322036383538, 0.6609413202571087, 0.3199237241670047, 0.021093871923099212, 1.0016146312138055, 0.47367165280540585, 0.5047320890549406, 0.023295327187151108, 0.10113739891996919, 0.6795168989935431, 0.2212380601374326, 0.4178093107986254, 0.06174521834462444, 0.5166016601500244, 0.004116347889641629, 0.1358188283528392, 0.8658450307493499, 0.17775148844710964, 0.3340502110471543, 0.41066723192952914, 0.07968170171766983, 1.0017632306163315, 0.2958133063435715, 0.5983496423767696, 0.107568475034026, 0.1316737049717384, 0.4799718923163367, 0.39077357604515905, 0.6274312850618602, 0.16511349606891057, 0.12108323045053443, 0.08806053123675231, 0.47488505091572836, 0.29745547145270895, 0.2296147498933192, 0.7252341168289491, 0.126834666171879, 0.14959986266426753, 1.0026622069372693, 0.7078394298521152, 0.004898542767142666, 0.20818806760356331, 0.007347814150713999, 0.07347814150714, 0.5503281008934575, 0.04946769446233326, 0.343182130332437, 0.05874288717402075, 0.7213058405327027, 0.1680712638134453, 0.11204750920896354, 1.0007525528647898, 1.000926224397186, 1.0018461116000286, 1.000426201926768, 0.39607498107041544, 0.16256808924531976, 0.44336751612359937, 0.4079493923646085, 0.5529980652053582, 0.040794939236460846, 0.6013140830095719, 0.03445028600575672, 0.3664257693339578, 1.000935967913284, 1.0018363947686033, 1.000702746462389, 0.18784378108570277, 0.8139897180380453, 1.0009845910758415, 0.48078545787985305, 0.06129535717990159, 0.45779969893739, 0.2177257594882246, 0.7838127341576085, 0.11341923227783234, 0.8854017487495298, 0.5894327311271075, 0.2659635494110119, 0.145561131772243, 1.0016910211993975, 1.0026776115490648, 1.0011938735319796, 1.0010799351319652, 0.04267237785941557, 0.1386852280431006, 0.8214432737937497, 1.0022335754381977, 0.4065328418176653, 0.5950698119360028, 1.001167632485863, 0.03986582438478836, 0.5752068946948036, 0.3872680083093727, 1.0004955425286275, 0.040070798077656414, 0.6144189038573984, 0.2604601875047667, 0.08014159615531283, 0.006678466346276069, 1.0010850115019343, 1.0004672032423467, 0.10472970831611686, 0.8936935109641972, 1.0012985274951516, 1.0019505766419363, 1.0015798243140714, 0.5673678343010051, 0.43447086410437324, 1.001227412005309, 1.0027070001213436, 0.22106796227854922, 0.2015619656069125, 0.23035653212218574, 0.20249082259127615, 0.08359712859272869, 0.06130456096800104, 1.001738684566067, 1.0021591645030725, 0.8561594025611504, 0.1453114582328558, 1.0006734752572488, 0.7822509788453769, 0.1389043794211417, 0.0804183249280294, 1.0008362217534694, 1.000242609324828, 0.3674671058818888, 0.11620754630452894, 0.30779296048226584, 0.04397042292603798, 0.16017796923056693, 0.0062814889894339965, 0.08759013592010272, 0.8704269757060208, 0.04379506796005136, 0.8950249266223236, 0.106189398073835, 1.0014132668389433, 0.9909691216441785, 0.01083026362452654, 0.5741534842449447, 0.4275611052887886, 1.0021917128808793, 0.13957840290005827, 0.8621019002650658, 1.0025184533825877, 0.040063136602446967, 0.9615152784587272, 0.20528637293329535, 0.05434051048234288, 0.5977456153057717, 0.07849184847449528, 0.06641617947841909, 1.0003526939407121, 0.9564549241605088, 0.04483382457002385, 1.0004017529633151, 1.00191204414273, 0.6824130236731731, 0.24948433123535363, 0.06970885725693704, 0.95837189068265, 0.042912174209670896, 1.0009167070257488, 0.1526897746087809, 0.4198968801741474, 0.4294399910871962, 0.7006068349554619, 0.05702613772893295, 0.24439773312399837, 0.4435078491286747, 0.10476563365244283, 0.19207032836281188, 0.18508595278598233, 0.07682813134512474, 1.0006734752572488, 0.04887613102983784, 0.9530845550818379, 1.0029642236342657, 0.11130545014837077, 0.8904436011869662, 1.0025582381870797, 1.001327195910926, 1.002160682039477, 1.0010242099982192, 1.0010488425506803, 1.001045209616359, 1.0014499703405524, 1.000753205981029, 1.0010323344306327, 0.9612881321722161, 0.040053672173842335, 1.0017680181232398, 0.22641477564673057, 0.7762792307887905, 0.1325734905209984, 0.8690928823043228, 1.0021413070882095, 1.0007924001817516, 1.0002993165555176, 1.002039275477141, 1.0001598517798393], \"Term\": [\"\\u4e00\\u4f4d\", \"\\u4e00\\u4f4d\", \"\\u4e00\\u540d\", \"\\u4e00\\u540d\", \"\\u4e00\\u540d\", \"\\u4e00\\u5b9a\", \"\\u4e00\\u5b9a\", \"\\u4e00\\u76f4\", \"\\u4e00\\u76f4\", \"\\u4e00\\u76f4\", \"\\u4e00\\u76f4\", \"\\u4e00\\u76f4\", \"\\u4e00\\u7c92\", \"\\u4e00\\u8d77\", \"\\u4e00\\u8d77\", \"\\u4e00\\u8d77\", \"\\u4e00\\u8d77\", \"\\u4e00\\u8d77\", \"\\u4e00\\u9593\", \"\\u4e0d\\u96c5\\u7247\", \"\\u4e2d\\u570b\", \"\\u4e2d\\u570b\", \"\\u4e2d\\u6771\", \"\\u4e3b\\u59d4\", \"\\u4e3b\\u59d4\", \"\\u4e3b\\u5e2d\", \"\\u4e3b\\u5e2d\", \"\\u4e8b\\u4ef6\", \"\\u4e8b\\u4ef6\", \"\\u4e8b\\u4ef6\", \"\\u4e8b\\u60c5\", \"\\u4e8b\\u60c5\", \"\\u4eba\\u4e8b\", \"\\u4eba\\u6c23\", \"\\u4eba\\u751f\", \"\\u4eca\\u5929\", \"\\u4eca\\u5929\", \"\\u4eca\\u5929\", \"\\u4eca\\u5929\", \"\\u4ecb\\u5165\", \"\\u4ee5\\u8272\\u5217\", \"\\u4f0a\\u6717\", \"\\u4f4d\\u65bc\", \"\\u4f4d\\u65bc\", \"\\u4fc4\\u7f85\\u65af\", \"\\u4fee\\u6cd5\", \"\\u5077\\u62cd\", \"\\u5152\\u5c11\", \"\\u5167\\u95a3\", \"\\u5168\\u58d8\\u6253\", \"\\u5168\\u7403\", \"\\u5168\\u7403\", \"\\u5168\\u7403\", \"\\u5169\\u4eba\", \"\\u5169\\u4eba\", \"\\u5169\\u4eba\", \"\\u5169\\u5cb8\", \"\\u516c\\u53f8\", \"\\u516c\\u53f8\", \"\\u516c\\u53f8\", \"\\u516c\\u53f8\", \"\\u516c\\u5e03\", \"\\u516c\\u5e03\", \"\\u516c\\u5e03\", \"\\u516c\\u5e03\", \"\\u51fa\\u4efb\", \"\\u51fa\\u73fe\", \"\\u51fa\\u73fe\", \"\\u51fa\\u73fe\", \"\\u5206\\u4eab\", \"\\u5206\\u4eab\", \"\\u522a\\u9664\", \"\\u525d\\u524a\", \"\\u5275\\u610f\", \"\\u5289\\u4e16\\u82b3\", \"\\u52a0\\u5dde\", \"\\u5353\\u69ae\\u6cf0\", \"\\u5354\\u52a9\", \"\\u5354\\u52a9\", \"\\u5354\\u52a9\", \"\\u535a\\u96c5\", \"\\u5370\\u592a\", \"\\u539f\\u4f86\", \"\\u539f\\u4f86\", \"\\u53d7\\u50b7\", \"\\u53d7\\u50b7\", \"\\u53d7\\u5230\", \"\\u53d7\\u5230\", \"\\u53d7\\u5230\", \"\\u53d7\\u5230\", \"\\u53d7\\u56f0\", \"\\u53d7\\u5bb3\\u8005\", \"\\u53d7\\u5bb3\\u8005\", \"\\u53d7\\u8a2a\", \"\\u53f0\\u5317\", \"\\u53f0\\u5317\", \"\\u53f0\\u5317\", \"\\u53f0\\u5e63\", \"\\u53f0\\u5e63\", \"\\u53f0\\u7063\", \"\\u53f0\\u7063\", \"\\u53f0\\u7063\", \"\\u53f0\\u7063\", \"\\u53f0\\u7063\", \"\\u5404\\u5730\", \"\\u5408\\u4f5c\", \"\\u5408\\u4f5c\", \"\\u5408\\u4f5c\", \"\\u5408\\u7167\", \"\\u5408\\u7167\", \"\\u5433\\u5353\\u6e90\", \"\\u5433\\u5b97\\u61b2\", \"\\u5433\\u5d22\", \"\\u5438\\u5f15\", \"\\u544a\\u5225\\u5f0f\", \"\\u548c\\u5e73\", \"\\u548c\\u5f26\", \"\\u54e1\\u5de5\", \"\\u54e1\\u5de5\", \"\\u554f\\u984c\", \"\\u554f\\u984c\", \"\\u554f\\u984c\", \"\\u554f\\u984c\", \"\\u5566\\u5566\\u968a\", \"\\u559c\\u6b61\", \"\\u5641\\u5fc3\", \"\\u570b\\u5bb6\", \"\\u570b\\u5bb6\", \"\\u570b\\u5bb6\", \"\\u570b\\u5f90\\u5de7\", \"\\u570b\\u6c11\\u9ee8\", \"\\u570b\\u6c11\\u9ee8\", \"\\u570b\\u9632\\u90e8\\u9577\", \"\\u5730\\u5340\", \"\\u5730\\u9707\", \"\\u5730\\u9707\", \"\\u5766\\u8a00\", \"\\u5831\\u5c0e\", \"\\u5831\\u5c0e\", \"\\u5831\\u5c0e\", \"\\u5927\\u59d1\", \"\\u5927\\u8c37\", \"\\u5927\\u9678\", \"\\u5927\\u9678\", \"\\u5927\\u9678\", \"\\u592b\\u59bb\", \"\\u5967\\u904b\", \"\\u5973\\u5152\", \"\\u5973\\u5152\", \"\\u5973\\u5b50\", \"\\u5973\\u5b50\", \"\\u5973\\u5b50\", \"\\u5973\\u65b9\", \"\\u597d\\u53cb\", \"\\u597d\\u597d\", \"\\u59ca\\u59ca\", \"\\u5acc\\u72af\", \"\\u5b5f\\u803f\\u5982\", \"\\u5b69\\u5b50\", \"\\u5b69\\u5b50\", \"\\u5b69\\u5b50\", \"\\u5b6b\\u85dd\\u73cd\", \"\\u5b78\\u751f\", \"\\u5b78\\u751f\", \"\\u5b78\\u751f\", \"\\u5b89\\u5168\", \"\\u5b89\\u5168\", \"\\u5b89\\u5168\", \"\\u5b89\\u5168\", \"\\u5bb6\\u4e2d\", \"\\u5bb6\\u4eba\", \"\\u5bb6\\u4eba\", \"\\u5bb6\\u66b4\", \"\\u5bb6\\u66b4\", \"\\u5bb6\\u9577\", \"\\u5c0d\\u6b64\", \"\\u5c0d\\u6b64\", \"\\u5c0d\\u6b64\", \"\\u5c0d\\u6b64\", \"\\u5c0d\\u6b64\", \"\\u5c0d\\u6b64\", \"\\u5c0e\\u81f4\", \"\\u5c0e\\u81f4\", \"\\u5c0e\\u81f4\", \"\\u5c0f\\u59d0\", \"\\u5c11\\u5973\", \"\\u5c71\\u8c6c\", \"\\u5de5\\u4f5c\", \"\\u5de5\\u4f5c\", \"\\u5de5\\u4f5c\", \"\\u5de5\\u4f5c\", \"\\u5de5\\u4f5c\", \"\\u5de5\\u4f5c\\u4eba\\u54e1\", \"\\u5de5\\u4f5c\\u4eba\\u54e1\", \"\\u5de5\\u7a0b\\u5e2b\", \"\\u5de8\\u86cb\", \"\\u5df2\\u7d93\", \"\\u5df2\\u7d93\", \"\\u5df2\\u7d93\", \"\\u5df2\\u7d93\", \"\\u5df2\\u7d93\", \"\\u5df2\\u7d93\", \"\\u5df4\\u52d2\\u65af\\u5766\", \"\\u5df4\\u9ece\", \"\\u5e02\\u9577\", \"\\u5e02\\u9577\", \"\\u5e02\\u9577\", \"\\u5e0c\\u671b\", \"\\u5e0c\\u671b\", \"\\u5e0c\\u671b\", \"\\u5e0c\\u671b\", \"\\u5e0c\\u671b\", \"\\u5ee3\\u544a\", \"\\u5ee3\\u544a\", \"\\u5efa\\u8b70\", \"\\u5efa\\u8b70\", \"\\u5f35\\u5609\\u822a\", \"\\u5f35\\u5c0f\\u71d5\", \"\\u5f37\\u9707\", \"\\u5f71\\u50cf\", \"\\u5f71\\u50cf\", \"\\u5f71\\u7247\", \"\\u5f71\\u7247\", \"\\u5f71\\u7247\", \"\\u5f71\\u97ff\", \"\\u5f71\\u97ff\", \"\\u5f71\\u97ff\", \"\\u5f71\\u97ff\", \"\\u5f71\\u97ff\", \"\\u5f8b\\u5e2b\", \"\\u5f8b\\u5e2b\", \"\\u5f90\\u5de7\", \"\\u6027\\u4fb5\", \"\\u6027\\u9a37\", \"\\u6027\\u9a37\\u64fe\", \"\\u60c5\\u6cc1\", \"\\u60c5\\u6cc1\", \"\\u60f3\\u8981\", \"\\u60f3\\u8981\", \"\\u610f\\u5916\", \"\\u610f\\u5916\", \"\\u610f\\u5916\", \"\\u611a\\u4eba\\u7bc0\", \"\\u611f\\u89ba\", \"\\u611f\\u89ba\", \"\\u61c9\\u63f4\", \"\\u6210\\u70ba\", \"\\u6210\\u70ba\", \"\\u6210\\u70ba\", \"\\u6210\\u70ba\", \"\\u624b\\u8853\", \"\\u627e\\u5230\", \"\\u6295\\u624b\", \"\\u62cd\\u651d\", \"\\u62cd\\u651d\", \"\\u62ff\\u4e0b\", \"\\u6301\\u6709\", \"\\u6301\\u6709\", \"\\u6307\\u51fa\", \"\\u6307\\u51fa\", \"\\u6307\\u51fa\", \"\\u6307\\u51fa\", \"\\u6350\\u6b3e\", \"\\u63a5\\u4efb\", \"\\u641c\\u6551\", \"\\u64bb\\u4f10\", \"\\u653b\\u64ca\", \"\\u653b\\u64ca\", \"\\u653b\\u64ca\", \"\\u653e\\u68c4\", \"\\u653f\\u5e9c\", \"\\u653f\\u5e9c\", \"\\u653f\\u5e9c\", \"\\u653f\\u5e9c\", \"\\u653f\\u7b56\", \"\\u6551\\u63f4\", \"\\u6559\\u7df4\", \"\\u65c5\\u5ba2\", \"\\u65e5\\u5713\", \"\\u65e5\\u672c\", \"\\u65e5\\u672c\", \"\\u65e5\\u672c\", \"\\u65e5\\u672c\", \"\\u660e\\u5fd7\", \"\\u6642\\u523b\\u8868\", \"\\u6642\\u9593\", \"\\u6642\\u9593\", \"\\u6642\\u9593\", \"\\u6642\\u9593\", \"\\u66b4\\u96e8\", \"\\u6700\\u65b0\", \"\\u6700\\u65b0\", \"\\u6700\\u65b0\", \"\\u6700\\u65b0\", \"\\u6703\\u54e1\", \"\\u6709\\u4eba\", \"\\u6709\\u4eba\", \"\\u6709\\u4eba\", \"\\u6709\\u4eba\", \"\\u6709\\u540d\", \"\\u670b\\u53cb\", \"\\u670b\\u53cb\", \"\\u672a\\u4f86\", \"\\u672a\\u4f86\", \"\\u672a\\u4f86\", \"\\u672a\\u4f86\", \"\\u672a\\u6210\\u5e74\", \"\\u672c\\u520a\", \"\\u6731\\u8ed2\\u6d0b\", \"\\u674e\\u591a\\u6167\", \"\\u674e\\u667a\\u51f1\", \"\\u675c\\u62dc\", \"\\u6771\\u68ee\", \"\\u6771\\u68ee\", \"\\u6771\\u68ee\", \"\\u67ef\\u6587\", \"\\u6a5f\\u5834\", \"\\u6a5f\\u5834\", \"\\u6aa2\\u5bdf\\u5b98\", \"\\u6aa2\\u5bdf\\u5b98\", \"\\u6aa2\\u67e5\", \"\\u6aa2\\u8b66\", \"\\u6b4c\\u8ff7\", \"\\u6b4c\\u8ff7\", \"\\u6b63\\u5e38\", \"\\u6b63\\u5e38\", \"\\u6b7b\\u8005\", \"\\u6bd4\\u8cfd\", \"\\u6c11\\u773e\", \"\\u6c11\\u773e\", \"\\u6c11\\u773e\", \"\\u6c11\\u9032\\u9ee8\", \"\\u6c11\\u9032\\u9ee8\", \"\\u6c11\\u9032\\u9ee8\", \"\\u6c34\\u539f\", \"\\u6cbb\\u7642\", \"\\u6cd5\\u6848\", \"\\u6d0b\\u7247\", \"\\u6d2a\\u6c34\", \"\\u6d77\\u4e0a\", \"\\u6d77\\u562f\", \"\\u6d88\\u8cbb\", \"\\u6df7\\u4e82\", \"\\u6f14\\u51fa\", \"\\u6f14\\u51fa\", \"\\u6f14\\u51fa\", \"\\u6f14\\u54e1\", \"\\u6f14\\u54e1\", \"\\u6f14\\u5531\\u6703\", \"\\u6f14\\u5531\\u6703\", \"\\u6f14\\u85dd\\u5708\", \"\\u6f14\\u85dd\\u5708\", \"\\u6fb3\\u6d32\", \"\\u707d\\u60c5\", \"\\u7121\\u4eba\\u6a5f\", \"\\u7167\\u7247\", \"\\u7167\\u7247\", \"\\u7206\\u6599\", \"\\u7206\\u6599\", \"\\u7206\\u6599\", \"\\u7236\\u89aa\", \"\\u7238\\u7238\", \"\\u7247\\u6bb5\", \"\\u7279\\u65af\\u62c9\", \"\\u72af\\u7f6a\", \"\\u72af\\u7f6a\", \"\\u72af\\u7f6a\", \"\\u73fe\\u5728\", \"\\u73fe\\u5728\", \"\\u73fe\\u5728\", \"\\u73fe\\u5728\", \"\\u73fe\\u5834\", \"\\u73fe\\u5834\", \"\\u73fe\\u5834\", \"\\u7403\\u54e1\", \"\\u7403\\u5718\", \"\\u7403\\u8ff7\", \"\\u751f\\u524d\", \"\\u751f\\u6d3b\", \"\\u751f\\u6d3b\", \"\\u7533\\u8acb\", \"\\u7537\\u53cb\", \"\\u7537\\u5b50\", \"\\u7537\\u5b50\", \"\\u7559\\u8a00\", \"\\u7559\\u8a00\", \"\\u7559\\u8a00\", \"\\u7576\\u5730\", \"\\u7576\\u5730\", \"\\u7576\\u5c40\", \"\\u7576\\u5e74\", \"\\u7576\\u6642\", \"\\u7576\\u6642\", \"\\u7576\\u6642\", \"\\u767c\\u5c04\", \"\\u767c\\u6587\", \"\\u767c\\u6587\", \"\\u767c\\u6587\", \"\\u767c\\u73fe\", \"\\u767c\\u73fe\", \"\\u767c\\u73fe\", \"\\u767c\\u751f\", \"\\u767c\\u751f\", \"\\u767c\\u751f\", \"\\u767c\\u751f\", \"\\u767c\\u8072\", \"\\u767c\\u8072\", \"\\u76ee\\u524d\", \"\\u76ee\\u524d\", \"\\u76ee\\u524d\", \"\\u76ee\\u524d\", \"\\u76f4\\u5347\\u6a5f\", \"\\u76f4\\u63a5\", \"\\u76f4\\u63a5\", \"\\u76f4\\u63a5\", \"\\u76f4\\u64ad\", \"\\u76f4\\u64ad\", \"\\u76f4\\u64ad\", \"\\u76f8\\u7576\", \"\\u76f8\\u7576\", \"\\u76f8\\u7576\", \"\\u76f8\\u7576\", \"\\u76f8\\u95dc\", \"\\u76f8\\u95dc\", \"\\u76f8\\u95dc\", \"\\u770b\\u5230\", \"\\u770b\\u5230\", \"\\u770b\\u5230\", \"\\u770b\\u6771\\u68ee\", \"\\u771f\\u7684\", \"\\u771f\\u7684\", \"\\u771f\\u7684\", \"\\u771f\\u7684\", \"\\u771f\\u7684\", \"\\u77e5\\u9053\", \"\\u77e5\\u9053\", \"\\u77e5\\u9053\", \"\\u77e5\\u9053\", \"\\u793e\\u7fa4\", \"\\u793e\\u7fa4\", \"\\u793e\\u7fa4\", \"\\u79c1\\u623f\", \"\\u79d1\\u6280\", \"\\u79d8\\u66f8\\u9577\", \"\\u7a7f\\u8457\", \"\\u7acb\\u59d4\", \"\\u7acb\\u59d4\", \"\\u7acb\\u59d4\", \"\\u7bc0\\u76ee\", \"\\u7bc0\\u76ee\", \"\\u7bc0\\u76ee\", \"\\u7c89\\u7d72\", \"\\u7c89\\u7d72\", \"\\u7c89\\u7d72\", \"\\u7d50\\u5a5a\", \"\\u7d71\\u795e\", \"\\u7d93\\u6b77\", \"\\u7d93\\u6fdf\", \"\\u7d93\\u6fdf\", \"\\u7d9c\\u5408\", \"\\u7db2\\u53cb\", \"\\u7db2\\u53cb\", \"\\u7db2\\u53cb\", \"\\u7db2\\u7d05\", \"\\u7db2\\u7d05\", \"\\u7e3d\\u7d71\", \"\\u7e3d\\u7d71\", \"\\u7f8e\\u570b\", \"\\u7f8e\\u570b\", \"\\u7f8e\\u570b\", \"\\u7fd2\\u8fd1\\u5e73\", \"\\u7fd4\\u5e73\", \"\\u8001\\u516c\", \"\\u806f\\u5408\\u570b\", \"\\u806f\\u76df\", \"\\u806f\\u76df\", \"\\u806f\\u76df\", \"\\u8077\\u68d2\", \"\\u81c9\\u66f8\", \"\\u81c9\\u66f8\", \"\\u822a\\u73ed\", \"\\u82b1\\u84ee\", \"\\u82b1\\u84ee\", \"\\u82b1\\u84ee\", \"\\u82b3\\u8a9e\", \"\\u842c\\u5143\", \"\\u842c\\u5143\", \"\\u842c\\u5143\", \"\\u842c\\u5143\", \"\\u842c\\u5143\", \"\\u842c\\u5b89\", \"\\u845b\\u65af\\u9f4a\", \"\\u85dd\\u4eba\", \"\\u85dd\\u4eba\", \"\\u8655\\u5206\", \"\\u884c\\u653f\\u9662\", \"\\u884c\\u653f\\u9662\\u9577\", \"\\u884c\\u70ba\", \"\\u884c\\u70ba\", \"\\u8868\\u6c7a\", \"\\u8868\\u6f14\", \"\\u8868\\u793a\", \"\\u8868\\u793a\", \"\\u8868\\u793a\", \"\\u8868\\u793a\", \"\\u8868\\u793a\", \"\\u8868\\u793a\", \"\\u88c1\\u54e1\", \"\\u898f\\u6a21\", \"\\u89ba\\u5f97\", \"\\u89ba\\u5f97\", \"\\u89c0\\u773e\", \"\\u8a31\\u591a\", \"\\u8a31\\u591a\", \"\\u8a31\\u591a\", \"\\u8a50\\u9a19\", \"\\u8a72\\u540d\", \"\\u8a8d\\u70ba\", \"\\u8a8d\\u70ba\", \"\\u8a8d\\u70ba\", \"\\u8a8d\\u70ba\", \"\\u8a8d\\u70ba\", \"\\u8a8d\\u70ba\", \"\\u8abf\\u67e5\", \"\\u8abf\\u67e5\", \"\\u8abf\\u67e5\", \"\\u8b49\\u64da\", \"\\u8b49\\u64da\", \"\\u8b66\\u5831\", \"\\u8b66\\u65b9\", \"\\u8b66\\u65b9\", \"\\u8b70\\u54e1\", \"\\u8b70\\u54e1\", \"\\u8cf4\\u6e05\\u5fb7\", \"\\u8cfc\\u8cb7\", \"\\u8cfc\\u8cb7\", \"\\u8cfd\\u4e8b\", \"\\u8d77\\u8a34\", \"\\u8d77\\u8a34\", \"\\u8d85\\u904e\", \"\\u8d85\\u904e\", \"\\u8d85\\u904e\", \"\\u8d85\\u904e\", \"\\u8d85\\u904e\", \"\\u8d95\\u7dca\", \"\\u8eab\\u5206\", \"\\u8eab\\u5206\", \"\\u8eab\\u6750\", \"\\u8ecd\\u4e8b\", \"\\u900f\\u9732\", \"\\u900f\\u9732\", \"\\u900f\\u9732\", \"\\u9019\\u540d\", \"\\u9019\\u540d\", \"\\u901a\\u5831\", \"\\u9020\\u6210\", \"\\u9020\\u6210\", \"\\u9020\\u6210\", \"\\u9031\\u520a\", \"\\u9031\\u520a\", \"\\u9031\\u520a\", \"\\u9032\\u884c\", \"\\u9032\\u884c\", \"\\u9032\\u884c\", \"\\u9032\\u884c\", \"\\u9032\\u884c\", \"\\u9047\\u5230\", \"\\u904a\\u5ba2\", \"\\u904a\\u5ba2\", \"\\u9053\\u5947\", \"\\u9053\\u6b49\", \"\\u9053\\u6b49\", \"\\u9078\\u624b\", \"\\u9078\\u8209\", \"\\u90e8\\u9577\", \"\\u912d\\u9e97\\u541b\", \"\\u919c\\u805e\", \"\\u91ab\\u751f\", \"\\u91ab\\u9662\", \"\\u9280\\u884c\", \"\\u9632\\u885b\", \"\\u9644\\u8fd1\", \"\\u9644\\u8fd1\", \"\\u9662\\u9577\", \"\\u97d3\\u570b\", \"\\u97d3\\u570b\", \"\\u98a8\\u6ce2\", \"\\u98a8\\u6ce2\", \"\\u98db\\u5f48\", \"\\u9910\\u5ef3\", \"\\u99ac\\u4f86\\u897f\\u4e9e\", \"\\u99ac\\u82f1\\u4e5d\", \"\\u9ec3\\u5b50\\u4f7c\"]}, \"R\": 30, \"lambda.step\": 0.01, \"plot.opts\": {\"xlab\": \"PC1\", \"ylab\": \"PC2\"}, \"topic.order\": [6, 2, 3, 5, 4, 1]};\n",
       "\n",
       "function LDAvis_load_lib(url, callback){\n",
       "  var s = document.createElement('script');\n",
       "  s.src = url;\n",
       "  s.async = true;\n",
       "  s.onreadystatechange = s.onload = callback;\n",
       "  s.onerror = function(){console.warn(\"failed to load library \" + url);};\n",
       "  document.getElementsByTagName(\"head\")[0].appendChild(s);\n",
       "}\n",
       "\n",
       "if(typeof(LDAvis) !== \"undefined\"){\n",
       "   // already loaded: just create the visualization\n",
       "   !function(LDAvis){\n",
       "       new LDAvis(\"#\" + \"ldavis_el1316821424878259924431883740\", ldavis_el1316821424878259924431883740_data);\n",
       "   }(LDAvis);\n",
       "}else if(typeof define === \"function\" && define.amd){\n",
       "   // require.js is available: use it to load d3/LDAvis\n",
       "   require.config({paths: {d3: \"https://d3js.org/d3.v5\"}});\n",
       "   require([\"d3\"], function(d3){\n",
       "      window.d3 = d3;\n",
       "      LDAvis_load_lib(\"https://cdn.jsdelivr.net/gh/bmabey/pyLDAvis@3.3.1/pyLDAvis/js/ldavis.v3.0.0.js\", function(){\n",
       "        new LDAvis(\"#\" + \"ldavis_el1316821424878259924431883740\", ldavis_el1316821424878259924431883740_data);\n",
       "      });\n",
       "    });\n",
       "}else{\n",
       "    // require.js not available: dynamically load d3 & LDAvis\n",
       "    LDAvis_load_lib(\"https://d3js.org/d3.v5.js\", function(){\n",
       "         LDAvis_load_lib(\"https://cdn.jsdelivr.net/gh/bmabey/pyLDAvis@3.3.1/pyLDAvis/js/ldavis.v3.0.0.js\", function(){\n",
       "                 new LDAvis(\"#\" + \"ldavis_el1316821424878259924431883740\", ldavis_el1316821424878259924431883740_data);\n",
       "            })\n",
       "         });\n",
       "}\n",
       "</script>"
      ],
      "text/plain": [
       "PreparedData(topic_coordinates=              x         y  topics  cluster       Freq\n",
       "topic                                                \n",
       "5     -0.033579 -0.189455       1        1  26.621270\n",
       "1     -0.195088  0.201606       2        1  18.961226\n",
       "2     -0.222440 -0.133421       3        1  17.353137\n",
       "4      0.090081  0.234008       4        1  13.771441\n",
       "3      0.097503 -0.071802       5        1  13.531514\n",
       "0      0.263523 -0.040935       6        1   9.761411, topic_info=     Term         Freq        Total Category  logprob  loglift\n",
       "2299  黃子佼  1018.000000  1018.000000  Default  30.0000  30.0000\n",
       "4486  以色列   303.000000   303.000000  Default  29.0000  29.0000\n",
       "190    美國   556.000000   556.000000  Default  28.0000  28.0000\n",
       "2118   地震   327.000000   327.000000  Default  27.0000  27.0000\n",
       "48     台灣   762.000000   762.000000  Default  26.0000  26.0000\n",
       "...   ...          ...          ...      ...      ...      ...\n",
       "446    今天    84.702224   315.251929   Topic6  -5.0868   1.0125\n",
       "103    成為    71.749290   182.574672   Topic6  -5.2528   1.3928\n",
       "190    美國    80.716706   556.467231   Topic6  -5.1350   0.3961\n",
       "82     已經    69.756531   525.794252   Topic6  -5.2810   0.3068\n",
       "200    表示    65.771013  1076.592002   Topic6  -5.3398  -0.4686\n",
       "\n",
       "[380 rows x 6 columns], token_table=      Topic      Freq  Term\n",
       "term                       \n",
       "1135      1  0.986056    一位\n",
       "1135      6  0.014717    一位\n",
       "440       1  0.003795    一名\n",
       "440       2  0.922197    一名\n",
       "440       3  0.072106    一名\n",
       "...     ...       ...   ...\n",
       "4881      4  1.002141    飛彈\n",
       "2036      1  1.000792    餐廳\n",
       "239       2  1.000299  馬來西亞\n",
       "5173      5  1.002039   馬英九\n",
       "2299      3  1.000160   黃子佼\n",
       "\n",
       "[593 rows x 3 columns], R=30, lambda_step=0.01, plot_opts={'xlab': 'PC1', 'ylab': 'PC2'}, topic_order=[6, 2, 3, 5, 4, 1])"
      ]
     },
     "execution_count": 86,
     "metadata": {},
     "output_type": "execute_result"
    }
   ],
   "source": [
    "n_top_words = 10\n",
    "topic_word = model.topic_word_\n",
    "\n",
    "for i, topic_dist in enumerate(topic_word):\n",
    "    topic_words = np.array(vocab)[np.argsort(topic_dist)][: -(n_top_words + 1) : -1]\n",
    "    print(\"Topic {}: {}\".format(i, \" \".join(topic_words)))\n",
    "    \n",
    "\n",
    "doc_topic = model.doc_topic_\n",
    "term_freq = tuple(dictionary.cfs.values())\n",
    "doc_len = [sum(v for k, v in doc) for doc in corpus]\n",
    "\n",
    "## LDAvis\n",
    "pyLDAvis.enable_notebook()\n",
    "p = pyLDAvis.prepare(topic_word, doc_topic, doc_len, vocab = vocab, term_frequency = term_freq)\n",
    "p"
   ]
  },
  {
   "cell_type": "code",
   "execution_count": 61,
   "metadata": {},
   "outputs": [],
   "source": [
    "# udn.loc[udn['artCatagory']=='兩岸', \"content\"].to_csv(\"tmp.csv\")\n",
    "udn.loc[udn['artCatagory']=='兩岸', \"words\"].to_csv(\"words.csv\")\n",
    "udn.loc[udn['artCatagory']=='股市', \"words\"].to_csv(\"words_stock.csv\")\n"
   ]
  },
  {
   "cell_type": "code",
   "execution_count": 62,
   "metadata": {},
   "outputs": [],
   "source": [
    "udn.loc[udn['artCatagory']=='兩岸', \"words\"].explode().value_counts().to_csv(\"words_count.csv\")\n",
    "udn.loc[udn['artCatagory']=='股市', \"words\"].explode().value_counts().to_csv(\"words_count_stock.csv\")"
   ]
  },
  {
   "cell_type": "markdown",
   "metadata": {},
   "source": [
    "## 7. 主題分佈的應用，搭配其他文章資訊"
   ]
  },
  {
   "cell_type": "code",
   "execution_count": 88,
   "metadata": {},
   "outputs": [],
   "source": [
    "# 取得每條新聞的主題分佈\n",
    "topics_doc = best_model.get_document_topics(corpus)"
   ]
  },
  {
   "cell_type": "code",
   "execution_count": 92,
   "metadata": {},
   "outputs": [
    {
     "data": {
      "text/plain": [
       "[(0, 0.9969493)]"
      ]
     },
     "execution_count": 92,
     "metadata": {},
     "output_type": "execute_result"
    }
   ],
   "source": [
    "topics_doc[100]"
   ]
  },
  {
   "cell_type": "markdown",
   "metadata": {},
   "source": [
    "透過corpus2csc拿到整份文件的theta(主題分布)"
   ]
  },
  {
   "cell_type": "code",
   "execution_count": 93,
   "metadata": {},
   "outputs": [
    {
     "data": {
      "text/plain": [
       "array([[0.        , 0.        , 0.99731952, 0.        ],\n",
       "       [0.12354392, 0.0522551 , 0.80670851, 0.0174925 ],\n",
       "       [0.03897541, 0.09368271, 0.        , 0.86534852],\n",
       "       ...,\n",
       "       [0.52575082, 0.20815775, 0.        , 0.26429233],\n",
       "       [0.45654896, 0.265356  , 0.        , 0.27584052],\n",
       "       [0.        , 0.56802833, 0.26633996, 0.16227266]])"
      ]
     },
     "execution_count": 93,
     "metadata": {},
     "output_type": "execute_result"
    }
   ],
   "source": [
    "m_theta = corpus2csc(topics_doc).T.toarray()\n",
    "m_theta"
   ]
  },
  {
   "cell_type": "markdown",
   "metadata": {},
   "source": [
    "取最高機率值，視為是該份文件的主題，當作是他的topic_label"
   ]
  },
  {
   "cell_type": "code",
   "execution_count": 94,
   "metadata": {},
   "outputs": [],
   "source": [
    "udn['topic_label'] = m_theta.argmax(axis=1) + 1"
   ]
  },
  {
   "cell_type": "code",
   "execution_count": 95,
   "metadata": {},
   "outputs": [
    {
     "data": {
      "text/plain": [
       "3    498\n",
       "4    274\n",
       "2    185\n",
       "1    177\n",
       "Name: topic_label, dtype: int64"
      ]
     },
     "execution_count": 95,
     "metadata": {},
     "output_type": "execute_result"
    }
   ],
   "source": [
    "udn['topic_label'].value_counts()"
   ]
  },
  {
   "cell_type": "code",
   "execution_count": 96,
   "metadata": {},
   "outputs": [
    {
     "data": {
      "text/html": [
       "<div>\n",
       "<style scoped>\n",
       "    .dataframe tbody tr th:only-of-type {\n",
       "        vertical-align: middle;\n",
       "    }\n",
       "\n",
       "    .dataframe tbody tr th {\n",
       "        vertical-align: top;\n",
       "    }\n",
       "\n",
       "    .dataframe thead th {\n",
       "        text-align: right;\n",
       "    }\n",
       "</style>\n",
       "<table border=\"1\" class=\"dataframe\">\n",
       "  <thead>\n",
       "    <tr style=\"text-align: right;\">\n",
       "      <th></th>\n",
       "      <th>content</th>\n",
       "      <th>artUrl</th>\n",
       "      <th>artCatagory</th>\n",
       "      <th>artDate</th>\n",
       "      <th>words</th>\n",
       "      <th>topic_label</th>\n",
       "    </tr>\n",
       "  </thead>\n",
       "  <tbody>\n",
       "    <tr>\n",
       "      <th>0</th>\n",
       "      <td>我曾經每個月只有賺千元奇軒本名吳奇軒從武打演員到月收入萬不靠著腥羶色炒話題更成為台灣首位千萬...</td>\n",
       "      <td>https://news.ebc.net.tw/news/article/412111</td>\n",
       "      <td>娛樂</td>\n",
       "      <td>2024-04-16 10:11:00</td>\n",
       "      <td>[曾經, 每個, 千元, 奇軒, 本名, 吳奇軒, 武打, 演員, 收入, 不靠, 腥羶, ...</td>\n",
       "      <td>3</td>\n",
       "    </tr>\n",
       "    <tr>\n",
       "      <th>1</th>\n",
       "      <td>南韓女星韓韶禧在被拍到與柳俊烈共同到夏威夷旅遊後火速認愛不過男方前女友惠利的一句真有趣卻意外...</td>\n",
       "      <td>https://news.ebc.net.tw/news/article/412908</td>\n",
       "      <td>娛樂</td>\n",
       "      <td>2024-04-01 07:59:00</td>\n",
       "      <td>[韓女星, 韓韶禧, 柳俊烈, 共同, 夏威夷, 旅遊, 火速, 認愛, 男方, 前女友, ...</td>\n",
       "      <td>3</td>\n",
       "    </tr>\n",
       "    <tr>\n",
       "      <th>2</th>\n",
       "      <td>知名主播李天怡受三立老闆張榮華委託替頑皮世界動物園赴非洲購買野生動物卻浮報價格上億元涉背信罪...</td>\n",
       "      <td>https://news.ebc.net.tw/news/article/412918</td>\n",
       "      <td>娛樂</td>\n",
       "      <td>2024-04-01 08:20:00</td>\n",
       "      <td>[知名, 主播, 李天怡, 受三立, 老闆, 榮華, 委託, 頑皮, 世界, 動物園, 非洲...</td>\n",
       "      <td>4</td>\n",
       "    </tr>\n",
       "    <tr>\n",
       "      <th>3</th>\n",
       "      <td>在大稻埕的預約制咖啡廳品嘗冰拿鐵知名日本藝術家村上隆引起現場一陣歡笑聲他表示好久沒有來台灣放...</td>\n",
       "      <td>https://news.ebc.net.tw/news/article/412950</td>\n",
       "      <td>娛樂</td>\n",
       "      <td>2024-04-01 10:43:00</td>\n",
       "      <td>[大稻, 預約, 咖啡廳, 品嘗冰, 知名, 日本, 藝術家, 村上, 引起, 現場, 一陣...</td>\n",
       "      <td>3</td>\n",
       "    </tr>\n",
       "    <tr>\n",
       "      <th>4</th>\n",
       "      <td>韓國人氣女團日前傳出在台灣進行秘密拍攝行程遭附近網友目擊後消息隨即在網路上傳開甚至連五月天阿...</td>\n",
       "      <td>https://news.ebc.net.tw/news/article/412951</td>\n",
       "      <td>娛樂</td>\n",
       "      <td>2024-04-01 10:51:00</td>\n",
       "      <td>[韓國, 人氣, 女團, 日前, 傳出, 台灣, 進行, 秘密, 拍攝, 行程, 附近, 網...</td>\n",
       "      <td>3</td>\n",
       "    </tr>\n",
       "  </tbody>\n",
       "</table>\n",
       "</div>"
      ],
      "text/plain": [
       "                                             content  \\\n",
       "0  我曾經每個月只有賺千元奇軒本名吳奇軒從武打演員到月收入萬不靠著腥羶色炒話題更成為台灣首位千萬...   \n",
       "1  南韓女星韓韶禧在被拍到與柳俊烈共同到夏威夷旅遊後火速認愛不過男方前女友惠利的一句真有趣卻意外...   \n",
       "2  知名主播李天怡受三立老闆張榮華委託替頑皮世界動物園赴非洲購買野生動物卻浮報價格上億元涉背信罪...   \n",
       "3  在大稻埕的預約制咖啡廳品嘗冰拿鐵知名日本藝術家村上隆引起現場一陣歡笑聲他表示好久沒有來台灣放...   \n",
       "4  韓國人氣女團日前傳出在台灣進行秘密拍攝行程遭附近網友目擊後消息隨即在網路上傳開甚至連五月天阿...   \n",
       "\n",
       "                                        artUrl artCatagory  \\\n",
       "0  https://news.ebc.net.tw/news/article/412111          娛樂   \n",
       "1  https://news.ebc.net.tw/news/article/412908          娛樂   \n",
       "2  https://news.ebc.net.tw/news/article/412918          娛樂   \n",
       "3  https://news.ebc.net.tw/news/article/412950          娛樂   \n",
       "4  https://news.ebc.net.tw/news/article/412951          娛樂   \n",
       "\n",
       "               artDate                                              words  \\\n",
       "0  2024-04-16 10:11:00  [曾經, 每個, 千元, 奇軒, 本名, 吳奇軒, 武打, 演員, 收入, 不靠, 腥羶, ...   \n",
       "1  2024-04-01 07:59:00  [韓女星, 韓韶禧, 柳俊烈, 共同, 夏威夷, 旅遊, 火速, 認愛, 男方, 前女友, ...   \n",
       "2  2024-04-01 08:20:00  [知名, 主播, 李天怡, 受三立, 老闆, 榮華, 委託, 頑皮, 世界, 動物園, 非洲...   \n",
       "3  2024-04-01 10:43:00  [大稻, 預約, 咖啡廳, 品嘗冰, 知名, 日本, 藝術家, 村上, 引起, 現場, 一陣...   \n",
       "4  2024-04-01 10:51:00  [韓國, 人氣, 女團, 日前, 傳出, 台灣, 進行, 秘密, 拍攝, 行程, 附近, 網...   \n",
       "\n",
       "   topic_label  \n",
       "0            3  \n",
       "1            3  \n",
       "2            4  \n",
       "3            3  \n",
       "4            3  "
      ]
     },
     "execution_count": 96,
     "metadata": {},
     "output_type": "execute_result"
    }
   ],
   "source": [
    "udn.head()"
   ]
  },
  {
   "cell_type": "code",
   "execution_count": 97,
   "metadata": {},
   "outputs": [],
   "source": [
    "udn['artDate'] = pd.to_datetime(udn['artDate'])\n"
   ]
  },
  {
   "cell_type": "code",
   "execution_count": 98,
   "metadata": {},
   "outputs": [
    {
     "data": {
      "text/plain": [
       "0       2024-04-16\n",
       "1       2024-04-01\n",
       "2       2024-04-01\n",
       "3       2024-04-01\n",
       "4       2024-04-01\n",
       "           ...    \n",
       "1129    2024-04-25\n",
       "1130    2024-04-25\n",
       "1131    2024-04-25\n",
       "1132    2024-04-25\n",
       "1133    2024-04-25\n",
       "Name: artDate, Length: 1134, dtype: object"
      ]
     },
     "execution_count": 98,
     "metadata": {},
     "output_type": "execute_result"
    }
   ],
   "source": [
    "udn['artDate'].dt.date"
   ]
  },
  {
   "cell_type": "code",
   "execution_count": 99,
   "metadata": {},
   "outputs": [
    {
     "data": {
      "text/plain": [
       "artDate     topic_label\n",
       "2024-04-01  3              0.648148\n",
       "            4              0.277778\n",
       "            1              0.055556\n",
       "            2              0.018519\n",
       "2024-04-02  3              0.673913\n",
       "                             ...   \n",
       "2024-04-24  2              0.080000\n",
       "2024-04-25  3              0.560976\n",
       "            4              0.243902\n",
       "            2              0.121951\n",
       "            1              0.073171\n",
       "Name: topic_label, Length: 97, dtype: float64"
      ]
     },
     "execution_count": 99,
     "metadata": {},
     "output_type": "execute_result"
    }
   ],
   "source": [
    "udn.groupby(udn['artDate'].dt.date)['topic_label'].value_counts(normalize=True)"
   ]
  },
  {
   "cell_type": "code",
   "execution_count": 100,
   "metadata": {},
   "outputs": [
    {
     "data": {
      "text/html": [
       "<div>\n",
       "<style scoped>\n",
       "    .dataframe tbody tr th:only-of-type {\n",
       "        vertical-align: middle;\n",
       "    }\n",
       "\n",
       "    .dataframe tbody tr th {\n",
       "        vertical-align: top;\n",
       "    }\n",
       "\n",
       "    .dataframe thead th {\n",
       "        text-align: right;\n",
       "    }\n",
       "</style>\n",
       "<table border=\"1\" class=\"dataframe\">\n",
       "  <thead>\n",
       "    <tr style=\"text-align: right;\">\n",
       "      <th>topic_label</th>\n",
       "      <th>1</th>\n",
       "      <th>2</th>\n",
       "      <th>3</th>\n",
       "      <th>4</th>\n",
       "    </tr>\n",
       "    <tr>\n",
       "      <th>artDate</th>\n",
       "      <th></th>\n",
       "      <th></th>\n",
       "      <th></th>\n",
       "      <th></th>\n",
       "    </tr>\n",
       "  </thead>\n",
       "  <tbody>\n",
       "    <tr>\n",
       "      <th>2024-04-01</th>\n",
       "      <td>0.055556</td>\n",
       "      <td>0.018519</td>\n",
       "      <td>0.648148</td>\n",
       "      <td>0.277778</td>\n",
       "    </tr>\n",
       "    <tr>\n",
       "      <th>2024-04-02</th>\n",
       "      <td>0.043478</td>\n",
       "      <td>0.086957</td>\n",
       "      <td>0.673913</td>\n",
       "      <td>0.195652</td>\n",
       "    </tr>\n",
       "    <tr>\n",
       "      <th>2024-04-03</th>\n",
       "      <td>0.117647</td>\n",
       "      <td>0.058824</td>\n",
       "      <td>0.235294</td>\n",
       "      <td>0.588235</td>\n",
       "    </tr>\n",
       "    <tr>\n",
       "      <th>2024-04-04</th>\n",
       "      <td>0.250000</td>\n",
       "      <td>0.062500</td>\n",
       "      <td>0.343750</td>\n",
       "      <td>0.343750</td>\n",
       "    </tr>\n",
       "    <tr>\n",
       "      <th>2024-04-05</th>\n",
       "      <td>0.200000</td>\n",
       "      <td>0.080000</td>\n",
       "      <td>0.400000</td>\n",
       "      <td>0.320000</td>\n",
       "    </tr>\n",
       "  </tbody>\n",
       "</table>\n",
       "</div>"
      ],
      "text/plain": [
       "topic_label         1         2         3         4\n",
       "artDate                                            \n",
       "2024-04-01   0.055556  0.018519  0.648148  0.277778\n",
       "2024-04-02   0.043478  0.086957  0.673913  0.195652\n",
       "2024-04-03   0.117647  0.058824  0.235294  0.588235\n",
       "2024-04-04   0.250000  0.062500  0.343750  0.343750\n",
       "2024-04-05   0.200000  0.080000  0.400000  0.320000"
      ]
     },
     "execution_count": 100,
     "metadata": {},
     "output_type": "execute_result"
    }
   ],
   "source": [
    "date_topic = udn.groupby(udn['artDate'].dt.date)['topic_label'].value_counts(normalize=True).unstack()\n",
    "date_topic.head()"
   ]
  },
  {
   "cell_type": "code",
   "execution_count": 101,
   "metadata": {},
   "outputs": [
    {
     "data": {
      "text/plain": [
       "<matplotlib.legend.Legend at 0x1f2d82d9308>"
      ]
     },
     "execution_count": 101,
     "metadata": {},
     "output_type": "execute_result"
    },
    {
     "data": {
      "image/png": "[encoded data removed]",
      "text/plain": [
       "<Figure size 1500x600 with 1 Axes>"
      ]
     },
     "metadata": {},
     "output_type": "display_data"
    }
   ],
   "source": [
    "fig, ax = plt.subplots(figsize=(15, 6))\n",
    "date_topic.plot.bar(ax=ax, stacked=True, color = plt.cm.Set3.colors)\n",
    "ax.legend(loc='lower right')"
   ]
  },
  {
   "cell_type": "markdown",
   "metadata": {},
   "source": [
    "可以看到主題3（中國各產業市場）在 2/15、2/16 被討論的比例很高，可以作為後續探索的目標，<br>\n",
    "大家可以像這樣，透過搭配文章的資訊（例如日期等），讓主題模型的結果做出更多的分析應用。"
   ]
  }
 ],
 "metadata": {
  "kernelspec": {
   "display_name": "py37",
   "language": "python",
   "name": "python3"
  },
  "language_info": {
   "codemirror_mode": {
    "name": "ipython",
    "version": 3
   },
   "file_extension": ".py",
   "mimetype": "text/x-python",
   "name": "python",
   "nbconvert_exporter": "python",
   "pygments_lexer": "ipython3",
   "version": "3.7.9"
  },
  "orig_nbformat": 4
 },
 "nbformat": 4,
 "nbformat_minor": 2
}
